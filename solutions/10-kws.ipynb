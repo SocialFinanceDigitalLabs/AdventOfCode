{
 "cells": [
  {
   "cell_type": "code",
   "execution_count": null,
   "metadata": {},
   "outputs": [],
   "source": [
    "import regex as re\n",
    "import numpy as np\n",
    "import pandas as pd\n",
    "import matplotlib.pyplot as plt"
   ]
  },
  {
   "cell_type": "code",
   "execution_count": null,
   "metadata": {},
   "outputs": [],
   "source": [
    "# Sample data as provided in question\n",
    "data= \"\"\"\n",
    "position=< 9,  1> velocity=< 0,  2>\n",
    "position=< 7,  0> velocity=<-1,  0>\n",
    "position=< 3, -2> velocity=<-1,  1>\n",
    "position=< 6, 10> velocity=<-2, -1>\n",
    "position=< 2, -4> velocity=< 2,  2>\n",
    "position=<-6, 10> velocity=< 2, -2>\n",
    "position=< 1,  8> velocity=< 1, -1>\n",
    "position=< 1,  7> velocity=< 1,  0>\n",
    "position=<-3, 11> velocity=< 1, -2>\n",
    "position=< 7,  6> velocity=<-1, -1>\n",
    "position=<-2,  3> velocity=< 1,  0>\n",
    "position=<-4,  3> velocity=< 2,  0>\n",
    "position=<10, -3> velocity=<-1,  1>\n",
    "position=< 5, 11> velocity=< 1, -2>\n",
    "position=< 4,  7> velocity=< 0, -1>\n",
    "position=< 8, -2> velocity=< 0,  1>\n",
    "position=<15,  0> velocity=<-2,  0>\n",
    "position=< 1,  6> velocity=< 1,  0>\n",
    "position=< 8,  9> velocity=< 0, -1>\n",
    "position=< 3,  3> velocity=<-1,  1>\n",
    "position=< 0,  5> velocity=< 0, -1>\n",
    "position=<-2,  2> velocity=< 2,  0>\n",
    "position=< 5, -2> velocity=< 1,  2>\n",
    "position=< 1,  4> velocity=< 2,  1>\n",
    "position=<-2,  7> velocity=< 2, -2>\n",
    "position=< 3,  6> velocity=<-1, -1>\n",
    "position=< 5,  0> velocity=< 1,  0>\n",
    "position=<-6,  0> velocity=< 2,  0>\n",
    "position=< 5,  9> velocity=< 1, -2>\n",
    "position=<14,  7> velocity=<-2,  0>\n",
    "position=<-3,  6> velocity=< 2, -1>\n",
    "\"\"\".strip().splitlines()"
   ]
  },
  {
   "cell_type": "code",
   "execution_count": null,
   "metadata": {},
   "outputs": [],
   "source": [
    "# We're now going to start storing the data in a file to avoid having to paste into the main document\n",
    "# Make sure you create a file with the name below and save the real problem output there. \n",
    "# If you want to run just the sample data, skip this block\n",
    "with open(\"./10-input.txt\", \"r\") as FILE:\n",
    "    data = FILE.read().strip().splitlines()"
   ]
  },
  {
   "cell_type": "code",
   "execution_count": null,
   "metadata": {},
   "outputs": [],
   "source": [
    "pattern = re.compile(\"position=<\\s*(-?\\d+),\\s*(-?\\d+)> velocity=<\\s*(-?\\d+),\\s*(-?\\d+)>\")\n",
    "input_values = []\n",
    "for d in data:\n",
    "    match = pattern.match(d)\n",
    "    if match:\n",
    "        input_values.append((int(match[1]),int(match[2]),int(match[3]),int(match[4])))\n",
    "    else:\n",
    "        print(\"MISMATCHED LINE\", d)\n",
    "        break\n",
    "input_values[:5]"
   ]
  },
  {
   "cell_type": "code",
   "execution_count": null,
   "metadata": {},
   "outputs": [],
   "source": [
    "def move(time):\n",
    "    \"\"\" Calculate the positions at a specific time. Returns positions and boundary box \"\"\"\n",
    "    positions = [(x+(vx*time),y+(vy*time)) for x,y,vx,vy in input_values]\n",
    "    x_values = [x for x,y in positions]\n",
    "    y_values = [y for x,y in positions]\n",
    "    \n",
    "    return positions, (min(x_values), min(y_values), max(x_values), max(y_values))\n",
    "\n",
    "# Now let's find the smallest boundary box\n",
    "time_sizes = []\n",
    "for time in range(0,100000):\n",
    "    pos, bb = move(time)\n",
    "    time_sizes.append((bb[2]-bb[0])*(bb[3]-bb[1]))\n",
    "    # Minor optimization, if the last three values are all increasing, then we quit\n",
    "    if len(time_sizes)>3 and time_sizes[-1] > time_sizes[-2] and time_sizes[-2] > time_sizes[-3]:\n",
    "        break\n",
    "    \n",
    "smallest_time  = time_sizes.index(min(time_sizes))\n",
    "print(\"Boundary box is smallest at time\", smallest_time)"
   ]
  },
  {
   "cell_type": "markdown",
   "metadata": {},
   "source": [
    "Let's plot the the positions for that time. We need to invert the y-axis for it to make sense (the -y below)"
   ]
  },
  {
   "cell_type": "code",
   "execution_count": null,
   "metadata": {},
   "outputs": [],
   "source": [
    "def plot(time):\n",
    "    positions, bb = move(time)\n",
    "    x_values = [x for x,y in positions]\n",
    "    y_values = [-y for x,y in positions]\n",
    "\n",
    "    fig=plt.figure(figsize=(18, 5))\n",
    "    plt.scatter(x_values, y_values, s=50, alpha=0.5)\n",
    "    plt.show()\n",
    "    \n",
    "plot(smallest_time)"
   ]
  },
  {
   "cell_type": "markdown",
   "metadata": {},
   "source": [
    "# Part 2\n",
    "\n",
    "Ehm... done this. My solution depended on finding this value, but as they ask for it, it seems there might have been an approach that didn't involve finding this time. I'm curious now."
   ]
  },
  {
   "cell_type": "code",
   "execution_count": null,
   "metadata": {},
   "outputs": [],
   "source": [
    "print(\"Boundary box is smallest at time\", smallest_time)"
   ]
  },
  {
   "cell_type": "code",
   "execution_count": null,
   "metadata": {},
   "outputs": [],
   "source": []
  }
 ],
 "metadata": {
  "kernelspec": {
   "display_name": "Python 3",
   "language": "python",
   "name": "python3"
  },
  "language_info": {
   "codemirror_mode": {
    "name": "ipython",
    "version": 3
   },
   "file_extension": ".py",
   "mimetype": "text/x-python",
   "name": "python",
   "nbconvert_exporter": "python",
   "pygments_lexer": "ipython3",
   "version": "3.6.2"
  }
 },
 "nbformat": 4,
 "nbformat_minor": 2
}
