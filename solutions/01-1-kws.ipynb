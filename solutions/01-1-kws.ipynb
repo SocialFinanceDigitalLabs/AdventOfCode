{
 "cells": [
  {
   "cell_type": "markdown",
   "metadata": {},
   "source": [
    "# December 01 - Puzzle 1\n",
    "\n",
    "https://adventofcode.com/2018/day/1\n",
    "\n",
    "In this first puzzle, we need to intepret a string as a set of numbers (either positive or negative), and then sum them all up."
   ]
  },
  {
   "cell_type": "code",
   "execution_count": null,
   "metadata": {},
   "outputs": [],
   "source": [
    "# Paste your input values between the triple double quotes below - these are the sample values from the puzzle\n",
    "input_value = \"\"\"\n",
    "+1\n",
    "-2\n",
    "+3\n",
    "+1 \n",
    "\"\"\""
   ]
  },
  {
   "cell_type": "markdown",
   "metadata": {},
   "source": [
    "We need to split the input values into separate numbers so we can process them. First of all, let's build a list of all the separate lines"
   ]
  },
  {
   "cell_type": "code",
   "execution_count": null,
   "metadata": {},
   "outputs": [],
   "source": [
    "# Split the numbers\n",
    "numbers = input_value.splitlines()\n",
    "\n",
    "# Let's look at the first five lines to make sure it has worked\n",
    "numbers[:5]"
   ]
  },
  {
   "cell_type": "markdown",
   "metadata": {},
   "source": [
    "We have some empties in there, and some extra whitespace. Let's first clean up this list."
   ]
  },
  {
   "cell_type": "code",
   "execution_count": null,
   "metadata": {},
   "outputs": [],
   "source": [
    "# We want to loop over each entry in the list and remove any whitespace using the strip() command\n",
    "# Python has something called a list comprehension that makes this super easy:\n",
    "# https://www.pythonforbeginners.com/basics/list-comprehensions-in-python\n",
    "# This command calls strip() on every item in the numbers and returns a new list with the stripped values\n",
    "numbers = [x.strip() for x in numbers]\n",
    "\n",
    "# Let's look at the first five lines to make sure it has worked\n",
    "numbers[:5]"
   ]
  },
  {
   "cell_type": "markdown",
   "metadata": {},
   "source": [
    "Next we remove any empty items - these are caused by the newline after the triple quotes and any other empty lines we may have pasted in"
   ]
  },
  {
   "cell_type": "code",
   "execution_count": null,
   "metadata": {},
   "outputs": [],
   "source": [
    "# Again we use a list comprehension with a condition to only keep entries that have a length greater than zero\n",
    "numbers = [x for x in numbers if len(x)>0]\n",
    "\n",
    "# Let's look at the first five lines to make sure it has worked\n",
    "numbers[:5]"
   ]
  },
  {
   "cell_type": "markdown",
   "metadata": {},
   "source": [
    "Finally, we really want to work on numbers, not strings, so let's convert the whole thing to integers"
   ]
  },
  {
   "cell_type": "code",
   "execution_count": null,
   "metadata": {},
   "outputs": [],
   "source": [
    "numbers = [int(x) for x in numbers]\n",
    "\n",
    "# Let's look at the first five lines to make sure it has worked\n",
    "numbers[:5]"
   ]
  },
  {
   "cell_type": "code",
   "execution_count": null,
   "metadata": {},
   "outputs": [],
   "source": [
    "# Print a value so we can see what we read\n",
    "print(\"We read {} numbers\".format(len(numbers)))\n",
    "\n",
    "# We can use the sum() function to sum up all the values in the list\n",
    "total = sum(numbers)\n",
    "\n",
    "# Let's print the result\n",
    "print(\"The sum of all the numbers is\", total)"
   ]
  },
  {
   "cell_type": "code",
   "execution_count": null,
   "metadata": {},
   "outputs": [],
   "source": []
  }
 ],
 "metadata": {
  "kernelspec": {
   "display_name": "Python 3",
   "language": "python",
   "name": "python3"
  },
  "language_info": {
   "codemirror_mode": {
    "name": "ipython",
    "version": 3
   },
   "file_extension": ".py",
   "mimetype": "text/x-python",
   "name": "python",
   "nbconvert_exporter": "python",
   "pygments_lexer": "ipython3",
   "version": "3.7.1"
  }
 },
 "nbformat": 4,
 "nbformat_minor": 2
}
