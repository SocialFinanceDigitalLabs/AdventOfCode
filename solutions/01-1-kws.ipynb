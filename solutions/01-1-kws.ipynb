{
 "cells": [
  {
   "cell_type": "markdown",
   "metadata": {},
   "source": [
    "# December 01 - Puzzle 1\n",
    "\n",
    "https://adventofcode.com/2018/day/1\n",
    "\n",
    "In this first puzzle, we need to intepret a string as a set of numbers (either positive or negative), and then sum them all up."
   ]
  },
  {
   "cell_type": "code",
   "execution_count": null,
   "metadata": {},
   "outputs": [],
   "source": [
    "import regex as re\n",
    "\n",
    "# Read text from user\n",
    "input_value = input(\"Please enter the puzzle text here, then press ENTER\")\n",
    "\n",
    "# Split string into separate lines - we will use a regular expression to split on any type of whitespace, including newlines\n",
    "numbers = re.compile(\"\\s+\").split(input_value)\n",
    "\n",
    "# Print a value so we can see what we read\n",
    "print(\"We read {} numbers\".format(len(numbers)))\n",
    "\n",
    "# Now we turn the string representation of the numbers into actual numbers\n",
    "# Python has something called a list comprehension that makes this super easy\n",
    "# https://www.pythonforbeginners.com/basics/list-comprehensions-in-python\n",
    "numbers = [int(n) for n in numbers]\n",
    "\n",
    "# And we can use the same syntax again to add them all up\n",
    "total = sum(n for n in numbers)\n",
    "print(\"The sum of all the numbers is\", total)\n"
   ]
  },
  {
   "cell_type": "code",
   "execution_count": null,
   "metadata": {},
   "outputs": [],
   "source": []
  }
 ],
 "metadata": {
  "kernelspec": {
   "display_name": "Python 3",
   "language": "python",
   "name": "python3"
  },
  "language_info": {
   "codemirror_mode": {
    "name": "ipython",
    "version": 3
   },
   "file_extension": ".py",
   "mimetype": "text/x-python",
   "name": "python",
   "nbconvert_exporter": "python",
   "pygments_lexer": "ipython3",
   "version": "3.7.1"
  }
 },
 "nbformat": 4,
 "nbformat_minor": 2
}
