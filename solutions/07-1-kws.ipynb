{
 "cells": [
  {
   "cell_type": "markdown",
   "metadata": {},
   "source": [
    "# Day 7\n",
    "\n",
    "We need to execute a number of steps in the right order."
   ]
  },
  {
   "cell_type": "code",
   "execution_count": null,
   "metadata": {},
   "outputs": [],
   "source": [
    "import regex as re\n",
    "import numpy as np\n",
    "import pandas as pd"
   ]
  },
  {
   "cell_type": "code",
   "execution_count": null,
   "metadata": {},
   "outputs": [],
   "source": [
    "# Sample data as provided in question\n",
    "data= \"\"\"\n",
    "Step C must be finished before step A can begin.\n",
    "Step C must be finished before step F can begin.\n",
    "Step A must be finished before step B can begin.\n",
    "Step A must be finished before step D can begin.\n",
    "Step B must be finished before step E can begin.\n",
    "Step D must be finished before step E can begin.\n",
    "Step F must be finished before step E can begin.\n",
    "\"\"\".strip().splitlines()"
   ]
  },
  {
   "cell_type": "code",
   "execution_count": null,
   "metadata": {},
   "outputs": [],
   "source": [
    "# We're now going to start storing the data in a file to avoid having to paste into the main document\n",
    "# Make sure you create a file with the name below and save the real problem output there. \n",
    "# If you want to run just the sample data, skip this block\n",
    "with open(\"./07-kws.txt\", \"r\") as FILE:\n",
    "    data = FILE.read().strip().splitlines()"
   ]
  },
  {
   "cell_type": "code",
   "execution_count": null,
   "metadata": {},
   "outputs": [],
   "source": [
    "data[:5]"
   ]
  },
  {
   "cell_type": "code",
   "execution_count": null,
   "metadata": {},
   "outputs": [],
   "source": [
    "pattern = re.compile(\"([A-Z]) must .* step ([A-Z])\")\n",
    "steps = []\n",
    "for line in data:\n",
    "    match = pattern.search(line)\n",
    "    if match:\n",
    "        steps.append(dict(step=match[1], dependant=match[2]))\n",
    "        \n",
    "steps = pd.DataFrame(steps, columns=[\"step\",\"dependant\"])\n",
    "steps.head(5)"
   ]
  },
  {
   "cell_type": "code",
   "execution_count": null,
   "metadata": {},
   "outputs": [],
   "source": [
    "# Now we find if there are any steps that aren't a dependant\n",
    "order = []\n",
    "\n",
    "df = steps\n",
    "while df.shape[0] > 0:\n",
    "    execute_next = df[~df[\"step\"].isin(df[\"dependant\"])][\"step\"].drop_duplicates().sort_values().tolist()\n",
    "    if len(execute_next)>0: execute_next = execute_next[:1]\n",
    "    order += execute_next\n",
    "    df = df[~df[\"step\"].isin(execute_next)]\n",
    "df\n",
    "del df\n",
    "\n",
    "# Final steps\n",
    "order += steps[~steps[\"dependant\"].isin(steps[\"step\"])][\"dependant\"].drop_duplicates().sort_values().tolist()\n",
    "\n",
    "\"\".join(order)"
   ]
  },
  {
   "cell_type": "code",
   "execution_count": null,
   "metadata": {},
   "outputs": [],
   "source": []
  }
 ],
 "metadata": {
  "kernelspec": {
   "display_name": "Python 3",
   "language": "python",
   "name": "python3"
  },
  "language_info": {
   "codemirror_mode": {
    "name": "ipython",
    "version": 3
   },
   "file_extension": ".py",
   "mimetype": "text/x-python",
   "name": "python",
   "nbconvert_exporter": "python",
   "pygments_lexer": "ipython3",
   "version": "3.7.1"
  }
 },
 "nbformat": 4,
 "nbformat_minor": 2
}
