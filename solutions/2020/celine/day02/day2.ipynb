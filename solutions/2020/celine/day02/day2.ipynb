{
 "cells": [
  {
   "cell_type": "code",
   "execution_count": null,
   "metadata": {},
   "outputs": [],
   "source": [
    "import re\n",
    "import pandas as pd"
   ]
  },
  {
   "cell_type": "code",
   "execution_count": null,
   "metadata": {},
   "outputs": [],
   "source": [
    "with open(\"input_day2.txt\", \"r\") as f:\n",
    "    puzzle = [x.strip() for x in f]"
   ]
  },
  {
   "cell_type": "markdown",
   "metadata": {},
   "source": [
    "How many passwords are valid according to their policies?"
   ]
  },
  {
   "cell_type": "code",
   "execution_count": null,
   "metadata": {},
   "outputs": [],
   "source": [
    "# Split strings\n",
    "new = [re.split('\\s|-', s) for s in puzzle]"
   ]
  },
  {
   "cell_type": "code",
   "execution_count": null,
   "metadata": {},
   "outputs": [],
   "source": [
    "# Populate df\n",
    "df = pd.DataFrame(new, columns=['min', 'max', 'letter', 'password'])\n",
    "\n",
    "# Clean letter col (remove colon)\n",
    "df['letter'] = df.letter.str[0]\n",
    "\n",
    "# Turn min/max cols into integers\n",
    "df[['min', 'max']] = df[['min', 'max']].astype('int32')\n",
    "\n",
    "df.head()"
   ]
  },
  {
   "cell_type": "code",
   "execution_count": null,
   "metadata": {},
   "outputs": [],
   "source": [
    "# Verify # of letters\n",
    "\n",
    "# Create function that returns True when condition is met\n",
    "def verify_letter_count(row):\n",
    "    letter_count = str(row['password']).count(str(row['letter']))\n",
    "    if (letter_count<= row['max']) & (letter_count>= row['min']):\n",
    "        return True\n",
    "    else:\n",
    "        return False\n",
    "\n",
    "# Create new col to track True/False\n",
    "df['condition_met'] = df.apply(verify_letter_count, axis=1)"
   ]
  },
  {
   "cell_type": "code",
   "execution_count": null,
   "metadata": {},
   "outputs": [],
   "source": [
    "# Count\n",
    "df['condition_met'].sum()"
   ]
  },
  {
   "cell_type": "markdown",
   "metadata": {},
   "source": [
    "How many passwords are valid according to the new interpretation of the policies?"
   ]
  },
  {
   "cell_type": "code",
   "execution_count": null,
   "metadata": {},
   "outputs": [],
   "source": [
    "# Create new function\n",
    "def verify_letter_placement(row):\n",
    "    # Define variables\n",
    "    condition1 = False\n",
    "    condition2 = False\n",
    "    letter = row['letter']\n",
    "    password = row['password']\n",
    "    position1 = row['min']-1\n",
    "    position2 = row['max']-1\n",
    "   \n",
    "    if password[position1] == letter:\n",
    "        condition1 = True\n",
    "    if password[position2] == letter:\n",
    "        condition2 = True\n",
    "    \n",
    "    if condition1 + condition2 == 1:\n",
    "        return True\n",
    "    else:\n",
    "        return False\n",
    "    \n",
    "# Create new col to track True/False\n",
    "df['condition_met2'] = df.apply(verify_letter_placement, axis=1)"
   ]
  },
  {
   "cell_type": "code",
   "execution_count": null,
   "metadata": {},
   "outputs": [],
   "source": [
    "# Count\n",
    "df['condition_met2'].sum()"
   ]
  }
 ],
 "metadata": {
  "kernelspec": {
   "display_name": "Python 3",
   "language": "python",
   "name": "python3"
  },
  "language_info": {
   "codemirror_mode": {
    "name": "ipython",
    "version": 3
   },
   "file_extension": ".py",
   "mimetype": "text/x-python",
   "name": "python",
   "nbconvert_exporter": "python",
   "pygments_lexer": "ipython3",
   "version": "3.7.0"
  }
 },
 "nbformat": 4,
 "nbformat_minor": 2
}
