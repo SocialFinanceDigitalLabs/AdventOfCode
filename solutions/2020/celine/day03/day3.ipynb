{
 "cells": [
  {
   "cell_type": "code",
   "execution_count": null,
   "metadata": {},
   "outputs": [],
   "source": [
    "import numpy as np"
   ]
  },
  {
   "cell_type": "code",
   "execution_count": null,
   "metadata": {},
   "outputs": [],
   "source": [
    "with open(\"input_day3.txt\", \"r\") as f:\n",
    "    puzzle = [x.strip() for x in f]"
   ]
  },
  {
   "cell_type": "code",
   "execution_count": null,
   "metadata": {},
   "outputs": [],
   "source": [
    "def get_coordinates(old_coordinates, x, y):\n",
    "    new = ['','']\n",
    "    new[0] = old_coordinates[0] + x\n",
    "    new[1] = old_coordinates[1] + y\n",
    "    return new\n",
    "\n",
    "assert get_coordinates([1,2], 3, 1) == [4,3]\n",
    "assert get_coordinates([7,1], 1, 5) == [8,6]"
   ]
  },
  {
   "cell_type": "code",
   "execution_count": null,
   "metadata": {},
   "outputs": [],
   "source": [
    "def adjust_coordinates(coordinates, length):\n",
    "    if coordinates[0] > length-1:\n",
    "        coordinates[0] = coordinates[0] - length\n",
    "    return coordinates\n",
    "\n",
    "assert adjust_coordinates([20, 9], 13) == [7, 9]"
   ]
  },
  {
   "cell_type": "code",
   "execution_count": null,
   "metadata": {},
   "outputs": [],
   "source": [
    "def run(data, x, y):\n",
    "    coordinates = [0,0]\n",
    "    in_map = True\n",
    "    trees = 0\n",
    "    \n",
    "    while in_map:\n",
    "        # Get new coordinates\n",
    "        coordinates = adjust_coordinates(get_coordinates(coordinates, x, y), len(data[0]))\n",
    "        # Check we're still within the map\n",
    "        if coordinates[1] > len(data)-1:\n",
    "            in_map = False\n",
    "            break\n",
    "        else:\n",
    "            # Is there a tree at that spot?\n",
    "            arrival = data[coordinates[1]][coordinates[0]]\n",
    "            if arrival == '#':\n",
    "                trees += 1\n",
    "    return trees"
   ]
  },
  {
   "cell_type": "markdown",
   "metadata": {},
   "source": [
    "Part 1"
   ]
  },
  {
   "cell_type": "code",
   "execution_count": null,
   "metadata": {},
   "outputs": [],
   "source": [
    "run(puzzle, 3, 1)"
   ]
  },
  {
   "cell_type": "markdown",
   "metadata": {},
   "source": [
    "Part 2"
   ]
  },
  {
   "cell_type": "code",
   "execution_count": null,
   "metadata": {},
   "outputs": [],
   "source": [
    "slopes = [[1, 1], [3, 1], [5, 1], [7, 1], [1, 2]]\n",
    "result = 1\n",
    "\n",
    "for slope in slopes:\n",
    "    result = result * run(puzzle, slope[0], slope[1])\n",
    "print(result)"
   ]
  }
 ],
 "metadata": {
  "kernelspec": {
   "display_name": "Python 3",
   "language": "python",
   "name": "python3"
  },
  "language_info": {
   "codemirror_mode": {
    "name": "ipython",
    "version": 3
   },
   "file_extension": ".py",
   "mimetype": "text/x-python",
   "name": "python",
   "nbconvert_exporter": "python",
   "pygments_lexer": "ipython3",
   "version": "3.7.0"
  }
 },
 "nbformat": 4,
 "nbformat_minor": 2
}
