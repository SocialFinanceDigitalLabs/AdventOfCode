{
 "cells": [
  {
   "cell_type": "code",
   "execution_count": 1,
   "metadata": {},
   "outputs": [],
   "source": [
    "rowRange = [0,127]\n",
    "colRange = [0,7]"
   ]
  },
  {
   "cell_type": "code",
   "execution_count": 15,
   "metadata": {},
   "outputs": [],
   "source": [
    "testData = [\n",
    "    {\"code\":\"FBFBBFFRLR\", \"seat\": 357},\n",
    "    {\"code\":\"BFFFBBFRRR\", \"seat\": 567},\n",
    "    {\"code\":\"FFFBBBFRRR\", \"seat\": 119},\n",
    "    {\"code\":\"BBFFBBFRLL\", \"seat\": 820}\n",
    "]"
   ]
  },
  {
   "cell_type": "code",
   "execution_count": 34,
   "metadata": {},
   "outputs": [],
   "source": [
    "def openData(filename):    \n",
    "    with open (filename, \"r\") as dataFile:\n",
    "        data = dataFile.readlines()\n",
    "    \n",
    "    return data\n",
    "\n",
    "class Plane:\n",
    "    def __init__(self):\n",
    "        self.takenSeats = []\n",
    "        self.highest = 0\n",
    "        self.seatList = []\n",
    "        \n",
    "    def showSeats(self):\n",
    "        '''\n",
    "            Will print out all the seats on the plane\n",
    "        '''\n",
    "        for seat in self.takenSeats:\n",
    "            print(seat.seatNumber)\n",
    "            \n",
    "    def getHighestSeat(self):\n",
    "        '''\n",
    "            Finds the highest taken seat on the plane\n",
    "        '''\n",
    "        highest = 0\n",
    "        for seat in self.takenSeats:\n",
    "            if highest < seat.seatNumber:\n",
    "                highest = seat.seatNumber\n",
    "        self.highest = highest\n",
    "    \n",
    "    def setPlaneSeat(self, code):   \n",
    "        '''\n",
    "            Sets a plane's seat as occupied given a binary string\n",
    "        '''\n",
    "        thisSeat = Seat(code)\n",
    "        thisSeat.getSeatNumber()\n",
    "        self.takenSeats.append(thisSeat)\n",
    "    \n",
    "    def validatePlaneSeat(self, item):\n",
    "        '''\n",
    "            Tests a seat is calculated correctly for the test data\n",
    "        '''\n",
    "        thisSeat = Seat(item[\"code\"])\n",
    "        thisSeat.getSeatNumber()\n",
    "        if thisSeat.seatNumber == item[\"seat\"]:\n",
    "            print(\"%s: Pass!\" % (item[\"code\"]))\n",
    "        else:\n",
    "            print(\"%s: Fail!\" % (item[\"code\"]))\n",
    "            print(\"Expected %d, found %d\" % (item[\"seat\"], thisSeat.seatNumber))\n",
    "            \n",
    "    def findEmptySeats(self):\n",
    "        '''\n",
    "           This creates a sorted list of empty seats on the plane. Assumes the highest\n",
    "           seat on the plane is not empty\n",
    "        '''\n",
    "        for seat in self.takenSeats:\n",
    "            self.seatList.append(seat.seatNumber)\n",
    "        emptySeats = sorted(set(range(0, self.highest)) - set(self.seatList))\n",
    "        return self.findSoloSeat(emptySeats)\n",
    "\n",
    "    def findSoloSeat(self, emptySeats):\n",
    "        '''\n",
    "            This should filter out any consecutively empty seats on the plane\n",
    "        '''\n",
    "        gaps = [[s, e] for s, e in zip(emptySeats, emptySeats[1:]) if s+1 < e]\n",
    "        edges = iter(emptySeats[:1] + sum(gaps, []) + emptySeats[-1:])\n",
    "        seatGroups = list(zip(edges, edges))\n",
    "        for group in seatGroups:\n",
    "            if group[0] == group[1]:\n",
    "                return group[1]        \n",
    "        "
   ]
  },
  {
   "cell_type": "code",
   "execution_count": 40,
   "metadata": {},
   "outputs": [],
   "source": [
    "class Seat:\n",
    "    def __init__(self, inputData):\n",
    "        self.rows = self.toBinaryString(inputData[0:7])\n",
    "        self.cols = self.toBinaryString(inputData[7:])\n",
    "        self.seatNumber = 0\n",
    "        \n",
    "    def toBinaryString(self, label):\n",
    "        '''\n",
    "            Changes a seat's code into a binary string\n",
    "        '''\n",
    "        label = label.replace(\"F\",\"0\").replace(\"L\",\"0\")\n",
    "        label = label.replace(\"R\",\"1\").replace(\"B\",\"1\")\n",
    "        return label\n",
    "    \n",
    "    def getSeatNumber(self):\n",
    "        '''\n",
    "            Converts a seat's row and column into a seat number\n",
    "        '''\n",
    "        self.seatNumber = int(self.rows,2)*8 + int(self.cols,2)\n",
    "        "
   ]
  },
  {
   "cell_type": "code",
   "execution_count": 41,
   "metadata": {},
   "outputs": [
    {
     "name": "stdout",
     "output_type": "stream",
     "text": [
      "FBFBBFFRLR: Pass!\n",
      "BFFFBBFRRR: Pass!\n",
      "FFFBBBFRRR: Pass!\n",
      "BBFFBBFRLL: Pass!\n"
     ]
    }
   ],
   "source": [
    "# Run through some test data:\n",
    "testPlane = Plane()\n",
    "for item in testData:\n",
    "    testPlane.validatePlaneSeat(item)\n",
    "    testPlane.setPlaneSeat(item[\"code\"])\n",
    "    "
   ]
  },
  {
   "cell_type": "code",
   "execution_count": 42,
   "metadata": {},
   "outputs": [
    {
     "name": "stdout",
     "output_type": "stream",
     "text": [
      "357\n",
      "567\n",
      "119\n",
      "820\n",
      "----\n",
      "None\n"
     ]
    }
   ],
   "source": [
    "testPlane.showSeats()\n",
    "print(\"----\")\n",
    "print(testPlane.getHighestSeat())"
   ]
  },
  {
   "cell_type": "code",
   "execution_count": 43,
   "metadata": {},
   "outputs": [],
   "source": [
    "# Now, we can go through the real data:\n",
    "realPlane = Plane()\n",
    "realData = openData(\"day5.txt\")\n",
    "for item in realData:\n",
    "    realPlane.setPlaneSeat(item)\n",
    "    \n",
    "realPlane.getHighestSeat()"
   ]
  },
  {
   "cell_type": "code",
   "execution_count": 44,
   "metadata": {},
   "outputs": [
    {
     "data": {
      "text/plain": [
       "592"
      ]
     },
     "execution_count": 44,
     "metadata": {},
     "output_type": "execute_result"
    }
   ],
   "source": [
    "realPlane.findEmptySeats()"
   ]
  },
  {
   "cell_type": "code",
   "execution_count": null,
   "metadata": {},
   "outputs": [],
   "source": []
  }
 ],
 "metadata": {
  "kernelspec": {
   "display_name": "Python 3",
   "language": "python",
   "name": "python3"
  },
  "language_info": {
   "codemirror_mode": {
    "name": "ipython",
    "version": 3
   },
   "file_extension": ".py",
   "mimetype": "text/x-python",
   "name": "python",
   "nbconvert_exporter": "python",
   "pygments_lexer": "ipython3",
   "version": "3.8.3"
  }
 },
 "nbformat": 4,
 "nbformat_minor": 4
}
