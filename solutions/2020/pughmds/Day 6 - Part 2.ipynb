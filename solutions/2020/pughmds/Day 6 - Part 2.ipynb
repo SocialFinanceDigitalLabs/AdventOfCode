{
 "cells": [
  {
   "cell_type": "code",
   "execution_count": 16,
   "metadata": {},
   "outputs": [],
   "source": [
    "testData = \"\"\"\n",
    "abc\n",
    "\n",
    "a\n",
    "b\n",
    "c\n",
    "\n",
    "ab\n",
    "ac\n",
    "\n",
    "a\n",
    "a\n",
    "a\n",
    "a\n",
    "\n",
    "b\n",
    "\"\"\""
   ]
  },
  {
   "cell_type": "code",
   "execution_count": 54,
   "metadata": {},
   "outputs": [],
   "source": [
    "def parseData(textInput):\n",
    "    # Each group is split by two newlines\n",
    "    groups = textInput.split(\"\\n\\n\")\n",
    "    for num, g in enumerate(groups):\n",
    "        groups[num] = g.split(\"\\n\") # Split group's answers into a list\n",
    "        groups[num] = list(filter(None, groups[num])) # Get rid of any stray empty elements\n",
    "        \n",
    "        if len(groups[num]) > 1:\n",
    "            # If there's more than one person in the group, we find the intersection of the sets of characters\n",
    "            for idx, item in enumerate(groups[num]):\n",
    "                groups[num][idx] = set(item)\n",
    "            groups[num] = set(''.join(sorted(set.intersection(*groups[num]))))\n",
    "        else:\n",
    "            # Otherwise, we just turn the one answer into a set of characters\n",
    "            groups[num] = set (''.join (groups[num]).replace (',', '') ) \n",
    "    return groups\n",
    "\n",
    "def openFile(filename):\n",
    "    with open (filename, \"r\") as dataFile:\n",
    "        data = parseData(dataFile.read())\n",
    "        \n",
    "    return data\n",
    "\n",
    "def countSets(groupData):\n",
    "    count = 0\n",
    "    for g in groupData:\n",
    "        count += len(g)\n",
    "    return count"
   ]
  },
  {
   "cell_type": "code",
   "execution_count": 55,
   "metadata": {},
   "outputs": [
    {
     "name": "stdout",
     "output_type": "stream",
     "text": [
      "6\n"
     ]
    }
   ],
   "source": [
    "#Test Run\n",
    "groupData = parseData(testData)\n",
    "groupCount = countSets(groupData)\n",
    "print(groupCount)"
   ]
  },
  {
   "cell_type": "code",
   "execution_count": 56,
   "metadata": {},
   "outputs": [
    {
     "name": "stdout",
     "output_type": "stream",
     "text": [
      "3437\n"
     ]
    }
   ],
   "source": [
    "#Real Run\n",
    "groupData = openFile(\"day6.txt\")\n",
    "groupCount = countSets(groupData)\n",
    "print(groupCount)"
   ]
  },
  {
   "cell_type": "code",
   "execution_count": null,
   "metadata": {},
   "outputs": [],
   "source": []
  }
 ],
 "metadata": {
  "kernelspec": {
   "display_name": "Python 3",
   "language": "python",
   "name": "python3"
  },
  "language_info": {
   "codemirror_mode": {
    "name": "ipython",
    "version": 3
   },
   "file_extension": ".py",
   "mimetype": "text/x-python",
   "name": "python",
   "nbconvert_exporter": "python",
   "pygments_lexer": "ipython3",
   "version": "3.8.3"
  }
 },
 "nbformat": 4,
 "nbformat_minor": 4
}
