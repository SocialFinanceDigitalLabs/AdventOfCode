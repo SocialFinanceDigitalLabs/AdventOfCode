{
 "cells": [
  {
   "cell_type": "code",
   "execution_count": 1,
   "metadata": {},
   "outputs": [],
   "source": [
    "import itertools\n",
    "import math"
   ]
  },
  {
   "cell_type": "code",
   "execution_count": 2,
   "metadata": {},
   "outputs": [],
   "source": [
    "testData = [\n",
    "    1721,\n",
    "    979,\n",
    "    366,\n",
    "    299,\n",
    "    675,\n",
    "    1456\n",
    "]"
   ]
  },
  {
   "cell_type": "code",
   "execution_count": 6,
   "metadata": {},
   "outputs": [],
   "source": [
    "def getCombinations(numberList, numberToChoose):\n",
    "    return list(itertools.combinations(numberList, numberToChoose))\n",
    "\n",
    "def findTarget(numbersToCheck, target):\n",
    "    for group in numbersToCheck:\n",
    "        if sum(group) == target:\n",
    "            return math.prod(group)\n",
    "    return -1\n",
    "\n",
    "def splitInput(filename):\n",
    "  inputValues = []\n",
    "  with open(filename, 'r') as fileStream:\n",
    "    fileText = fileStream.read()\n",
    "    inputStrings = fileText.split('\\n')\n",
    "    inputValues = list(map(int, inputStrings))\n",
    "\n",
    "  return inputValues"
   ]
  },
  {
   "cell_type": "code",
   "execution_count": 7,
   "metadata": {},
   "outputs": [
    {
     "name": "stdout",
     "output_type": "stream",
     "text": [
      "Test passed!\n"
     ]
    }
   ],
   "source": [
    "resultList = getCombinations(testData,2)\n",
    "testResult = findTarget(resultList, 2020)\n",
    "if testResult == 514579:\n",
    "    print(\"Test passed!\")\n",
    "else:\n",
    "    print(\"Test failed!\")"
   ]
  },
  {
   "cell_type": "code",
   "execution_count": 8,
   "metadata": {},
   "outputs": [
    {
     "name": "stdout",
     "output_type": "stream",
     "text": [
      "[1826, 1895, 1427, 1931, 1651, 1638, 1507, 1999, 1886, 1824, 1902, 1995, 1945, 1735, 1823, 1595, 1936, 1476, 2010, 1833, 1932, 1772, 1791, 1814, 1783, 1957, 1901, 1600, 1502, 1521, 1812, 1974, 1880, 1790, 1672, 1541, 1807, 426, 1858, 1699, 1964, 1996, 1983, 1498, 1863, 1976, 1492, 1930, 1838, 1941, 1764, 1929, 1897, 2009, 1853, 1753, 1759, 1860, 1952, 1988, 1727, 1751, 1943, 1830, 1645, 1907, 1857, 1714, 1798, 1944, 1868, 1630, 959, 2003, 1987, 1890, 1962, 1928, 1872, 1912, 1709, 1809, 1650, 1980, 1737, 1898, 1817, 1736, 1991, 1788, 1776, 1845, 1854, 1963, 1554, 1949, 1576, 1819, 1960, 699, 1990, 1757, 1698, 1596, 304, 1982, 1477, 1961, 1636, 1619, 1946, 1876, 1592, 1848, 1707, 1958, 1874, 1867, 52, 1881, 1665, 1463, 1799, 1979, 677, 1710, 1869, 1639, 1787, 1633, 1956, 1457, 1581, 2005, 1782, 1904, 1910, 62, 1593, 1695, 1915, 1922, 1797, 1715, 1981, 1925, 1893, 1562, 1789, 2008, 1939, 1669, 1992, 1652, 117, 1609, 1686, 1953, 2007, 599, 1547, 1959, 1691, 1520, 1444, 1641, 887, 1579, 1778, 1977, 1768, 1942, 1713, 1603, 1926, 1855, 1655, 1673, 1887, 1994, 1839, 1725, 928, 1771, 1761, 1971, 1571, 1806, 1821, 1624, 1701, 1436, 1748, 1921, 1617, 2004, 1792, 1732, 1740, 1831]\n"
     ]
    }
   ],
   "source": [
    "inputData = splitInput('day1.txt')\n",
    "print(inputData)"
   ]
  },
  {
   "cell_type": "code",
   "execution_count": 9,
   "metadata": {},
   "outputs": [],
   "source": [
    "resultList = getCombinations(inputData,2)\n",
    "testResult = findTarget(resultList, 2020)"
   ]
  },
  {
   "cell_type": "code",
   "execution_count": 10,
   "metadata": {},
   "outputs": [
    {
     "name": "stdout",
     "output_type": "stream",
     "text": [
      "121396\n"
     ]
    }
   ],
   "source": [
    "print(testResult)"
   ]
  },
  {
   "cell_type": "code",
   "execution_count": 11,
   "metadata": {},
   "outputs": [],
   "source": [
    "resultList = getCombinations(inputData,3)\n",
    "testResult = findTarget(resultList, 2020)"
   ]
  },
  {
   "cell_type": "code",
   "execution_count": 12,
   "metadata": {},
   "outputs": [
    {
     "name": "stdout",
     "output_type": "stream",
     "text": [
      "73616634\n"
     ]
    }
   ],
   "source": [
    "print(testResult)"
   ]
  },
  {
   "cell_type": "code",
   "execution_count": null,
   "metadata": {},
   "outputs": [],
   "source": []
  }
 ],
 "metadata": {
  "kernelspec": {
   "display_name": "Python 3",
   "language": "python",
   "name": "python3"
  },
  "language_info": {
   "codemirror_mode": {
    "name": "ipython",
    "version": 3
   },
   "file_extension": ".py",
   "mimetype": "text/x-python",
   "name": "python",
   "nbconvert_exporter": "python",
   "pygments_lexer": "ipython3",
   "version": "3.8.3"
  }
 },
 "nbformat": 4,
 "nbformat_minor": 4
}
