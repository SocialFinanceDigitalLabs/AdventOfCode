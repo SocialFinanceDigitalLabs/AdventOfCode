{
 "cells": [
  {
   "cell_type": "code",
   "execution_count": 1,
   "metadata": {},
   "outputs": [],
   "source": [
    "import re\n",
    "import math"
   ]
  },
  {
   "cell_type": "code",
   "execution_count": 2,
   "metadata": {},
   "outputs": [],
   "source": [
    "testSlope = [\n",
    "    \"..##.......\",\n",
    "    \"#...#...#..\",\n",
    "    \".#....#..#.\",\n",
    "    \"..#.#...#.#\",\n",
    "    \".#...##..#.\",\n",
    "    \"..#.##.....\",\n",
    "    \".#.#.#....#\",\n",
    "    \".#........#\",\n",
    "    \"#.##...#...\",\n",
    "    \"#...##....#\",\n",
    "    \".#..#...#.#\"\n",
    "]\n",
    "\n",
    "startPoint = [0,0]\n",
    "runSlope = [[3,1],[1,1],[5,1],[7,1],[1,2]]\n",
    "slopeWidth = len(testSlope[0])\n",
    "endY = len(testSlope)"
   ]
  },
  {
   "cell_type": "code",
   "execution_count": 5,
   "metadata": {},
   "outputs": [],
   "source": [
    "def getTreeCoordinates(slopeMap):\n",
    "    treeCoordinates = []\n",
    "    for num, row in enumerate(slopeMap):\n",
    "        trees = [m.start() for m in re.finditer('#', row)]\n",
    "        for tree in trees:\n",
    "            treeCoordinates.append([tree,num])\n",
    "            \n",
    "    return treeCoordinates\n",
    "    \n",
    "def getTobogganRun(slope, endY):\n",
    "    coordinates = []\n",
    "    for y in range(endY):\n",
    "        x = (y * slope)\n",
    "        coordinates.append([x,y])\n",
    "    return coordinates\n",
    "\n",
    "def determineSlope(runSlope, startPoint):\n",
    "    return (runSlope[0] - startPoint[0]) / (runSlope[1] - startPoint[1])\n",
    "\n",
    "def countTrees(runCoordinates, treeMap, slopeWidth):\n",
    "    treeCount = 0\n",
    "    for tree in treeMap:\n",
    "        for position in runCoordinates:\n",
    "            if tree[0] == position[0] % slopeWidth and tree[1] == position[1]:\n",
    "                treeCount += 1\n",
    "                \n",
    "    return treeCount\n",
    "\n",
    "\n",
    "def splitInput(filename):\n",
    "  with open(filename, 'r') as fileStream:\n",
    "    fileText = fileStream.read()\n",
    "    inputStrings = fileText.split('\\n')\n",
    "\n",
    "  return inputStrings\n",
    "    \n"
   ]
  },
  {
   "cell_type": "code",
   "execution_count": 6,
   "metadata": {},
   "outputs": [
    {
     "name": "stdout",
     "output_type": "stream",
     "text": [
      "7\n"
     ]
    }
   ],
   "source": [
    "# Validate test\n",
    "\n",
    "foundTrees = getTreeCoordinates(testSlope)\n",
    "slope = determineSlope(runSlope[0], startPoint)\n",
    "runCoordinates = getTobogganRun(slope, endY)\n",
    "\n",
    "print(countTrees(runCoordinates, foundTrees, slopeWidth))"
   ]
  },
  {
   "cell_type": "code",
   "execution_count": 7,
   "metadata": {},
   "outputs": [
    {
     "name": "stdout",
     "output_type": "stream",
     "text": [
      "244\n"
     ]
    }
   ],
   "source": [
    "# Part 1 run\n",
    "realSlope = splitInput(\"day3-part1.txt\")\n",
    "slopeWidth = len(realSlope[0])\n",
    "endY = len(realSlope)\n",
    "foundTrees = getTreeCoordinates(realSlope)\n",
    "slope = determineSlope(runSlope[0], startPoint)\n",
    "runCoordinates = getTobogganRun(slope, endY)\n",
    "\n",
    "print(countTrees(runCoordinates, foundTrees, slopeWidth))"
   ]
  },
  {
   "cell_type": "code",
   "execution_count": 8,
   "metadata": {},
   "outputs": [
    {
     "name": "stdout",
     "output_type": "stream",
     "text": [
      "[[2, 0], [3, 0], [0, 1], [4, 1], [8, 1], [1, 2], [6, 2], [9, 2], [2, 3], [4, 3], [8, 3], [10, 3], [1, 4], [5, 4], [6, 4], [9, 4], [2, 5], [4, 5], [5, 5], [1, 6], [3, 6], [5, 6], [10, 6], [1, 7], [10, 7], [0, 8], [2, 8], [3, 8], [7, 8], [0, 9], [4, 9], [5, 9], [10, 9], [1, 10], [4, 10], [8, 10], [10, 10]]\n",
      "[[0.0, 0], [3.0, 1], [6.0, 2], [9.0, 3], [12.0, 4], [15.0, 5], [18.0, 6], [21.0, 7], [24.0, 8], [27.0, 9], [30.0, 10]]\n",
      "7\n",
      "[[2, 0], [3, 0], [0, 1], [4, 1], [8, 1], [1, 2], [6, 2], [9, 2], [2, 3], [4, 3], [8, 3], [10, 3], [1, 4], [5, 4], [6, 4], [9, 4], [2, 5], [4, 5], [5, 5], [1, 6], [3, 6], [5, 6], [10, 6], [1, 7], [10, 7], [0, 8], [2, 8], [3, 8], [7, 8], [0, 9], [4, 9], [5, 9], [10, 9], [1, 10], [4, 10], [8, 10], [10, 10]]\n",
      "[[0.0, 0], [1.0, 1], [2.0, 2], [3.0, 3], [4.0, 4], [5.0, 5], [6.0, 6], [7.0, 7], [8.0, 8], [9.0, 9], [10.0, 10]]\n",
      "2\n",
      "[[2, 0], [3, 0], [0, 1], [4, 1], [8, 1], [1, 2], [6, 2], [9, 2], [2, 3], [4, 3], [8, 3], [10, 3], [1, 4], [5, 4], [6, 4], [9, 4], [2, 5], [4, 5], [5, 5], [1, 6], [3, 6], [5, 6], [10, 6], [1, 7], [10, 7], [0, 8], [2, 8], [3, 8], [7, 8], [0, 9], [4, 9], [5, 9], [10, 9], [1, 10], [4, 10], [8, 10], [10, 10]]\n",
      "[[0.0, 0], [5.0, 1], [10.0, 2], [15.0, 3], [20.0, 4], [25.0, 5], [30.0, 6], [35.0, 7], [40.0, 8], [45.0, 9], [50.0, 10]]\n",
      "3\n",
      "[[2, 0], [3, 0], [0, 1], [4, 1], [8, 1], [1, 2], [6, 2], [9, 2], [2, 3], [4, 3], [8, 3], [10, 3], [1, 4], [5, 4], [6, 4], [9, 4], [2, 5], [4, 5], [5, 5], [1, 6], [3, 6], [5, 6], [10, 6], [1, 7], [10, 7], [0, 8], [2, 8], [3, 8], [7, 8], [0, 9], [4, 9], [5, 9], [10, 9], [1, 10], [4, 10], [8, 10], [10, 10]]\n",
      "[[0.0, 0], [7.0, 1], [14.0, 2], [21.0, 3], [28.0, 4], [35.0, 5], [42.0, 6], [49.0, 7], [56.0, 8], [63.0, 9], [70.0, 10]]\n",
      "4\n",
      "[[2, 0], [3, 0], [0, 1], [4, 1], [8, 1], [1, 2], [6, 2], [9, 2], [2, 3], [4, 3], [8, 3], [10, 3], [1, 4], [5, 4], [6, 4], [9, 4], [2, 5], [4, 5], [5, 5], [1, 6], [3, 6], [5, 6], [10, 6], [1, 7], [10, 7], [0, 8], [2, 8], [3, 8], [7, 8], [0, 9], [4, 9], [5, 9], [10, 9], [1, 10], [4, 10], [8, 10], [10, 10]]\n",
      "[[0.0, 0], [0.5, 1], [1.0, 2], [1.5, 3], [2.0, 4], [2.5, 5], [3.0, 6], [3.5, 7], [4.0, 8], [4.5, 9], [5.0, 10]]\n",
      "2\n"
     ]
    },
    {
     "data": {
      "text/plain": [
       "336"
      ]
     },
     "execution_count": 8,
     "metadata": {},
     "output_type": "execute_result"
    }
   ],
   "source": [
    "# Part 2 Test Run\n",
    "slopeWidth = len(testSlope[0])\n",
    "endY = len(testSlope)\n",
    "treesHit = []\n",
    "for num, thisRunSlope in enumerate(runSlope):\n",
    "    foundTrees = getTreeCoordinates(testSlope)\n",
    "    print(foundTrees)\n",
    "    slope = determineSlope(thisRunSlope, startPoint)\n",
    "    runCoordinates = getTobogganRun(slope, endY)\n",
    "    print(runCoordinates)\n",
    "\n",
    "    trees = countTrees(runCoordinates, foundTrees, slopeWidth)\n",
    "    print(trees)\n",
    "    treesHit.append(trees)\n",
    "    \n",
    "math.prod(treesHit)"
   ]
  },
  {
   "cell_type": "code",
   "execution_count": 9,
   "metadata": {},
   "outputs": [
    {
     "name": "stdout",
     "output_type": "stream",
     "text": [
      "[3, 1]\n",
      "244\n",
      "[1, 1]\n",
      "90\n",
      "[5, 1]\n",
      "97\n",
      "[7, 1]\n",
      "92\n",
      "[1, 2]\n",
      "48\n",
      "[244, 90, 97, 92, 48]\n"
     ]
    },
    {
     "data": {
      "text/plain": [
       "9406609920"
      ]
     },
     "execution_count": 9,
     "metadata": {},
     "output_type": "execute_result"
    }
   ],
   "source": [
    "# Part 2 Real run\n",
    "slopeWidth = len(realSlope[0])\n",
    "endY = len(realSlope)\n",
    "treesHit = []\n",
    "for num, thisRunSlope in enumerate(runSlope):\n",
    "    print(thisRunSlope)\n",
    "    realSlope = splitInput(\"day3-part1.txt\")\n",
    "    slopeWidth = len(realSlope[0])\n",
    "    endY = len(realSlope)\n",
    "    foundTrees = getTreeCoordinates(realSlope)\n",
    "    slope = determineSlope(thisRunSlope, startPoint)\n",
    "    runCoordinates = getTobogganRun(slope, endY)\n",
    "    trees = countTrees(runCoordinates, foundTrees, slopeWidth)\n",
    "    print(trees)\n",
    "    \n",
    "    treesHit.append(trees)\n",
    "    \n",
    "print(treesHit)\n",
    "math.prod(treesHit)\n"
   ]
  },
  {
   "cell_type": "code",
   "execution_count": null,
   "metadata": {},
   "outputs": [],
   "source": []
  }
 ],
 "metadata": {
  "kernelspec": {
   "display_name": "Python 3",
   "language": "python",
   "name": "python3"
  },
  "language_info": {
   "codemirror_mode": {
    "name": "ipython",
    "version": 3
   },
   "file_extension": ".py",
   "mimetype": "text/x-python",
   "name": "python",
   "nbconvert_exporter": "python",
   "pygments_lexer": "ipython3",
   "version": "3.8.3"
  }
 },
 "nbformat": 4,
 "nbformat_minor": 4
}
