{
 "cells": [
  {
   "cell_type": "code",
   "execution_count": 3,
   "metadata": {},
   "outputs": [],
   "source": [
    "testData = \"\"\"\n",
    "abc\n",
    "\n",
    "a\n",
    "b\n",
    "c\n",
    "\n",
    "ab\n",
    "ac\n",
    "\n",
    "a\n",
    "a\n",
    "a\n",
    "a\n",
    "\n",
    "b\n",
    "\"\"\""
   ]
  },
  {
   "cell_type": "code",
   "execution_count": 4,
   "metadata": {},
   "outputs": [],
   "source": [
    "def parseData(textInput):\n",
    "    # Each group is split by two newline characters\n",
    "    groups = textInput.split(\"\\n\\n\")\n",
    "    for num, g in enumerate(groups):\n",
    "        # Combine all groups into one long string of characters\n",
    "        groups[num] = g.replace(\"\\n\",\"\")\n",
    "        # Turn into a set to leave only unique characters in each group\n",
    "        groups[num] = set (''.join (groups[num]).replace (',', '') ) \n",
    "    return groups\n",
    "\n",
    "def openFile(filename):\n",
    "    with open (filename, \"r\") as dataFile:\n",
    "        data = parseData(dataFile.read())\n",
    "        \n",
    "    return data\n",
    "\n",
    "def countSets(groupData):\n",
    "    count = 0\n",
    "    for g in groupData:\n",
    "        count += len(g)\n",
    "    return count"
   ]
  },
  {
   "cell_type": "code",
   "execution_count": 5,
   "metadata": {},
   "outputs": [
    {
     "name": "stdout",
     "output_type": "stream",
     "text": [
      "11\n"
     ]
    }
   ],
   "source": [
    "#Test Run\n",
    "groupData = parseData(testData)\n",
    "groupCount = countSets(groupData)\n",
    "print(groupCount)"
   ]
  },
  {
   "cell_type": "code",
   "execution_count": 6,
   "metadata": {},
   "outputs": [
    {
     "name": "stdout",
     "output_type": "stream",
     "text": [
      "6630\n"
     ]
    }
   ],
   "source": [
    "#Real Run\n",
    "groupData = openFile(\"day6.txt\")\n",
    "groupCount = countSets(groupData)\n",
    "print(groupCount)"
   ]
  },
  {
   "cell_type": "code",
   "execution_count": null,
   "metadata": {},
   "outputs": [],
   "source": []
  }
 ],
 "metadata": {
  "kernelspec": {
   "display_name": "Python 3",
   "language": "python",
   "name": "python3"
  },
  "language_info": {
   "codemirror_mode": {
    "name": "ipython",
    "version": 3
   },
   "file_extension": ".py",
   "mimetype": "text/x-python",
   "name": "python",
   "nbconvert_exporter": "python",
   "pygments_lexer": "ipython3",
   "version": "3.8.3"
  }
 },
 "nbformat": 4,
 "nbformat_minor": 4
}
