{
 "cells": [
  {
   "cell_type": "code",
   "execution_count": 3,
   "metadata": {},
   "outputs": [],
   "source": [
    "# Probably don't need a class here, but it helps me keep things neater.\n",
    "class Passwords:\n",
    "    def __init__(self, low, high):\n",
    "        self.low = low\n",
    "        self.high = high\n",
    "        self.possible_answers = 0\n",
    "    \n",
    "    def getStartDigit(self, num):\n",
    "        try:\n",
    "            return int(str(self.low)[num])\n",
    "        except:\n",
    "            return -1\n",
    "    \n",
    "    def getEndDigit(self, num):\n",
    "        try:\n",
    "            return int(str(self.high)[num])\n",
    "        except:\n",
    "            return -1\n",
    "        \n",
    "    def getLowNumber(self):\n",
    "        return int(self.low)\n",
    "    \n",
    "    def getHighNumber(self):\n",
    "        return int(self.high)\n",
    "    \n",
    "    def checkSizeRequirement(self, num):\n",
    "        digits = [int(x) for x in str(num)]\n",
    "        if digits[0] <= digits[1] <= digits[2] <= digits[3] <= digits[4] <= digits[5]:\n",
    "            return True\n",
    "        else:\n",
    "            return False\n",
    "        \n",
    "    def checkDuplicateRequirement(self, num):\n",
    "        digits = [int(x) for x in str(num)]\n",
    "        if len(digits) == len(set(digits)):\n",
    "            return False\n",
    "        else:\n",
    "            return True"
   ]
  },
  {
   "cell_type": "code",
   "execution_count": null,
   "metadata": {},
   "outputs": [],
   "source": [
    "passwordCombinations = Passwords(183564,657474)\n",
    "\n",
    "for testnumber in range(passwordCombinations.getLowNumber(), passwordCombinations.getHighNumber()):\n",
    "    if passwordCombinations.checkSizeRequirement(testnumber) and passwordCombinations.checkDuplicateRequirement(testnumber):\n",
    "        print(testnumber)\n",
    "        passwordCombinations.possible_answers += 1\n",
    "    else:\n",
    "        continue"
   ]
  },
  {
   "cell_type": "code",
   "execution_count": 2,
   "metadata": {},
   "outputs": [
    {
     "name": "stdout",
     "output_type": "stream",
     "text": [
      "1610\n"
     ]
    }
   ],
   "source": [
    "print(passwordCombinations.possible_answers)"
   ]
  },
  {
   "cell_type": "code",
   "execution_count": null,
   "metadata": {},
   "outputs": [],
   "source": []
  }
 ],
 "metadata": {
  "kernelspec": {
   "display_name": "Python 3",
   "language": "python",
   "name": "python3"
  },
  "language_info": {
   "codemirror_mode": {
    "name": "ipython",
    "version": 3
   },
   "file_extension": ".py",
   "mimetype": "text/x-python",
   "name": "python",
   "nbconvert_exporter": "python",
   "pygments_lexer": "ipython3",
   "version": "3.7.0"
  }
 },
 "nbformat": 4,
 "nbformat_minor": 2
}
