{
 "cells": [
  {
   "cell_type": "code",
   "execution_count": 1,
   "metadata": {},
   "outputs": [],
   "source": [
    "import math\n",
    "\n",
    "def calculate_fuel(mass):\n",
    "    \n",
    "    return math.floor(mass / 3) - 2"
   ]
  },
  {
   "cell_type": "code",
   "execution_count": 2,
   "metadata": {},
   "outputs": [
    {
     "name": "stdout",
     "output_type": "stream",
     "text": [
      "[47383, 36252, 25743, 26060, 36713, 42136, 38476, 44423, 44209, 27533, 39554, 30100, 44706, 34197, 42867, 36402, 16718, 24177, 33009, 48442, 45134, 32506, 36619, 47437, 26340, 32306, 24174, 28662, 36529, 38661, 35997, 37642, 28397, 37579, 43210, 31836, 30266, 35682, 29900, 31217, 20036, 39582, 31436, 19879, 38554, 46438, 23576, 18921, 24911, 23092, 30740, 48456, 34437, 18379, 19454, 18289, 17472, 31795, 22628, 30284, 24895, 25785, 17163, 26456, 23733, 34495, 31353, 24026, 48101, 22458, 43317, 28911, 49633, 41125, 49189, 45440, 39367, 45507, 22116, 23580, 49187, 35753, 40809, 23227, 40707, 31355, 36732, 16846, 19276, 46442, 37744, 32241, 22836, 24876, 42315, 46314, 29435, 33823, 43241, 31270]\n"
     ]
    }
   ],
   "source": [
    "module_masses = []\n",
    "with open('Day01-input.txt', 'r') as modules:\n",
    "    for module in modules:\n",
    "        fuel = calculate_fuel(int(module))\n",
    "        module_masses.append(fuel)\n",
    "        \n",
    "print(module_masses)"
   ]
  },
  {
   "cell_type": "code",
   "execution_count": 3,
   "metadata": {},
   "outputs": [
    {
     "name": "stdout",
     "output_type": "stream",
     "text": [
      "3318632\n"
     ]
    }
   ],
   "source": [
    "print(sum(module_masses))"
   ]
  },
  {
   "cell_type": "code",
   "execution_count": null,
   "metadata": {},
   "outputs": [],
   "source": []
  }
 ],
 "metadata": {
  "kernelspec": {
   "display_name": "Python 3",
   "language": "python",
   "name": "python3"
  },
  "language_info": {
   "codemirror_mode": {
    "name": "ipython",
    "version": 3
   },
   "file_extension": ".py",
   "mimetype": "text/x-python",
   "name": "python",
   "nbconvert_exporter": "python",
   "pygments_lexer": "ipython3",
   "version": "3.7.0"
  }
 },
 "nbformat": 4,
 "nbformat_minor": 2
}
