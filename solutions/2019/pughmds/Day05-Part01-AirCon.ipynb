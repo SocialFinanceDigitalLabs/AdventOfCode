{
 "cells": [
  {
   "cell_type": "code",
   "execution_count": 26,
   "metadata": {},
   "outputs": [],
   "source": [
    "'''\n",
    "This passes all my tests, but chokes on the input for some reason as there's a value\n",
    "in the instruction that really shouldn't be there.  Therefore, I think this works as\n",
    "it should, but I think my input may be suspect? Either that or I am misunderstanding\n",
    "some aspect of the puzzle. I've stepped through it manually, and am getting the correct\n",
    "results here...\n",
    "'''\n",
    "\n",
    "import json"
   ]
  },
  {
   "cell_type": "code",
   "execution_count": 48,
   "metadata": {},
   "outputs": [],
   "source": [
    "class OpcodeMachine:\n",
    "    def __init__(self, instructions):\n",
    "        self.instructions = instructions\n",
    "        self.position = 0\n",
    "        \n",
    "    def detectInstructionSize(self, num):\n",
    "        '''\n",
    "        Each instruction has a certain size associated with it\n",
    "        I store these here...\n",
    "        '''\n",
    "        if num >= 1 and num <= 2:\n",
    "            return 4\n",
    "        elif num >= 3 and num <= 4:\n",
    "            return 2\n",
    "        elif num == 99:\n",
    "            return 1\n",
    "        else:\n",
    "            print(\"Unexpected instruction value\")\n",
    "            print(self.instructions[self.position:self.position+4])\n",
    "            return None\n",
    "        \n",
    "    def runMachine(self):\n",
    "        '''\n",
    "        Runs through the instructions\n",
    "        '''\n",
    "        while self.position < len(self.instructions):\n",
    "            print(\"[Size] {}\".format(len(self.instructions)))\n",
    "            \n",
    "            # We change the instruction to a string so we can capture the last two digits\n",
    "            instr_value = int(str(self.instructions[self.position]).zfill(5)[-2:])\n",
    "            instruction_size = self.detectInstructionSize(instr_value)\n",
    "\n",
    "            try:\n",
    "                instruction = self.instructions[self.position:self.position + instruction_size]\n",
    "            except:\n",
    "                print(\"I've choked on the above instruction!\")\n",
    "            print(\"[POS]: {}\".format(self.position))\n",
    "            \n",
    "            # Run the instruction and increment the position to the next one\n",
    "            self.processInstruction(instruction)\n",
    "            self.position += instruction_size\n",
    "            \n",
    "    def getValue(self, mode, value):\n",
    "        '''\n",
    "        These are the two \"modes\" that we're told we need to support\n",
    "        0: Get value at address\n",
    "        1: Use value directly\n",
    "        '''\n",
    "        if mode == \"0\":\n",
    "            num = self.instructions[value]\n",
    "        else:\n",
    "            num = value\n",
    "            \n",
    "        return num\n",
    "        \n",
    "    def processInstruction(self, instruction):\n",
    "        '''\n",
    "            This is the list of possible operations available\n",
    "        '''\n",
    "        code = str(instruction[0]).zfill(5)\n",
    "        \n",
    "        if int(code[-2:]) == 1:\n",
    "            # Add\n",
    "            firstnum = self.getValue(code[2], instruction[1])\n",
    "            secondnum = self.getValue(code[1], instruction[2])\n",
    "            \n",
    "            result = firstnum + secondnum\n",
    "            \n",
    "            self.instructions[int(instruction[3])] = int(result)\n",
    "        elif int(code[-2:]) == 2:\n",
    "            # Multiply\n",
    "            firstnum = self.getValue(code[2], instruction[1])\n",
    "            secondnum = self.getValue(code[1], instruction[2])\n",
    "            \n",
    "            result = firstnum * secondnum\n",
    "            \n",
    "            self.instructions[int(instruction[3])] = int(result)\n",
    "        elif int(code[-2:]) == 3:\n",
    "            # Input\n",
    "            value = input(\"Please enter input:\")\n",
    "            self.instructions[instruction[1]] = int(value)\n",
    "        elif int(code[-2:]) == 4:\n",
    "            # Output\n",
    "            # The instructions were a bit vague as to whether I output the value\n",
    "            # or the value at the address. It is impossible that this is zero the first\n",
    "            # time with my input, so I have to take it as the value and not the address\n",
    "            #value = self.instructions[instruction[1]]\n",
    "            value = instruction[1]\n",
    "            print(\"--> Output: {}\".format(value))"
   ]
  },
  {
   "cell_type": "code",
   "execution_count": 49,
   "metadata": {},
   "outputs": [],
   "source": [
    "def load_data():\n",
    "    # Open input, break up into a list.\n",
    "    with open('Day05-input.txt', 'r') as valuesfile:\n",
    "        intcode = valuesfile.read()\n",
    "\n",
    "    # Loop through and convert each element into an integer\n",
    "    intcode = [int(i) for i in intcode.split(',') if i.isdigit()]\n",
    "    return intcode"
   ]
  },
  {
   "cell_type": "code",
   "execution_count": 50,
   "metadata": {},
   "outputs": [
    {
     "name": "stdout",
     "output_type": "stream",
     "text": [
      "[Size] 5\n",
      "[POS]: 0\n",
      "[Size] 5\n",
      "[POS]: 4\n",
      "[1002, 4, 3, 4, 99]\n"
     ]
    }
   ],
   "source": [
    "'''\n",
    "Do a test program to make sure things are working\n",
    "'''\n",
    "\n",
    "intcode = [1002, 4, 3, 4, 33]\n",
    "testMachine = OpcodeMachine(intcode)\n",
    "testMachine.runMachine()\n",
    "print(testMachine.instructions)"
   ]
  },
  {
   "cell_type": "code",
   "execution_count": 51,
   "metadata": {},
   "outputs": [
    {
     "name": "stdout",
     "output_type": "stream",
     "text": [
      "[Size] 5\n",
      "[POS]: 0\n",
      "[Size] 5\n",
      "[POS]: 4\n",
      "[1101, 100, -1, 4, 99]\n"
     ]
    }
   ],
   "source": [
    "'''\n",
    "Second test:\n",
    "'''\n",
    "\n",
    "intcode = [1101,100,-1,4,0]\n",
    "testMachine = OpcodeMachine(intcode)\n",
    "testMachine.runMachine()\n",
    "print(testMachine.instructions)"
   ]
  },
  {
   "cell_type": "code",
   "execution_count": 52,
   "metadata": {},
   "outputs": [
    {
     "name": "stdout",
     "output_type": "stream",
     "text": [
      "[Size] 11\n",
      "[POS]: 0\n",
      "[Size] 11\n",
      "[POS]: 4\n",
      "[Size] 11\n",
      "[POS]: 8\n",
      "--> Output: 10\n",
      "[Size] 11\n",
      "[POS]: 10\n",
      "[-100, 100, -1, 10, 2, 1, 2, 0, 104, 10, 99]\n"
     ]
    }
   ],
   "source": [
    "'''\n",
    "Third test:\n",
    "'''\n",
    "\n",
    "intcode = [1101, 100, -1 , 10, 2, 1, 2, 0, 104, 10, 0]\n",
    "testMachine = OpcodeMachine(intcode)\n",
    "testMachine.runMachine()\n",
    "print(testMachine.instructions)"
   ]
  },
  {
   "cell_type": "code",
   "execution_count": 53,
   "metadata": {},
   "outputs": [
    {
     "name": "stdout",
     "output_type": "stream",
     "text": [
      "[Size] 19\n",
      "[POS]: 0\n",
      "Please enter input:1\n",
      "[Size] 19\n",
      "[POS]: 2\n",
      "[Size] 19\n",
      "[POS]: 6\n",
      "[Size] 19\n",
      "[POS]: 10\n",
      "--> Output: 0\n",
      "[Size] 19\n",
      "[POS]: 12\n",
      "[Size] 19\n",
      "[POS]: 16\n",
      "--> Output: 0\n",
      "[Size] 19\n",
      "[POS]: 18\n",
      "[-120, 0, 1101, 10, 10, 0, 1102, 50, 30, 0, 4, 0, 1101, -123, 3, 0, 4, 0, 99]\n"
     ]
    }
   ],
   "source": [
    "'''\n",
    "Fourth test:\n",
    "'''\n",
    "\n",
    "intcode = [103, 0, 1101, 10, 10, 0, 1102, 50, 30, 0, 4, 0, 1101, -123, 3, 0, 4, 0, 99]\n",
    "testMachine = OpcodeMachine(intcode)\n",
    "testMachine.runMachine()\n",
    "print(testMachine.instructions)"
   ]
  },
  {
   "cell_type": "code",
   "execution_count": 54,
   "metadata": {},
   "outputs": [
    {
     "name": "stdout",
     "output_type": "stream",
     "text": [
      "[Size] 669\n",
      "[POS]: 0\n",
      "Please enter input:1\n",
      "[Size] 669\n",
      "[POS]: 2\n",
      "[Size] 669\n",
      "[POS]: 6\n",
      "[Size] 669\n",
      "[POS]: 10\n",
      "--> Output: 0\n",
      "[Size] 669\n",
      "[POS]: 12\n",
      "[Size] 669\n",
      "[POS]: 16\n",
      "[Size] 669\n",
      "Unexpected instruction value\n",
      "[224, 102, 8, 223]\n",
      "I've choked on the above instruction!\n",
      "[POS]: 20\n"
     ]
    },
    {
     "ename": "TypeError",
     "evalue": "unsupported operand type(s) for +=: 'int' and 'NoneType'",
     "output_type": "error",
     "traceback": [
      "\u001b[0;31m---------------------------------------------------------------------------\u001b[0m",
      "\u001b[0;31mTypeError\u001b[0m                                 Traceback (most recent call last)",
      "\u001b[0;32m<ipython-input-54-b35c654cb6e1>\u001b[0m in \u001b[0;36m<module>\u001b[0;34m()\u001b[0m\n\u001b[1;32m      1\u001b[0m \u001b[0mdata\u001b[0m \u001b[0;34m=\u001b[0m \u001b[0mload_data\u001b[0m\u001b[0;34m(\u001b[0m\u001b[0;34m)\u001b[0m\u001b[0;34m\u001b[0m\u001b[0m\n\u001b[1;32m      2\u001b[0m \u001b[0mthisMachine\u001b[0m \u001b[0;34m=\u001b[0m \u001b[0mOpcodeMachine\u001b[0m\u001b[0;34m(\u001b[0m\u001b[0mdata\u001b[0m\u001b[0;34m)\u001b[0m\u001b[0;34m\u001b[0m\u001b[0m\n\u001b[0;32m----> 3\u001b[0;31m \u001b[0mthisMachine\u001b[0m\u001b[0;34m.\u001b[0m\u001b[0mrunMachine\u001b[0m\u001b[0;34m(\u001b[0m\u001b[0;34m)\u001b[0m\u001b[0;34m\u001b[0m\u001b[0m\n\u001b[0m",
      "\u001b[0;32m<ipython-input-48-9020bedd03d4>\u001b[0m in \u001b[0;36mrunMachine\u001b[0;34m(self)\u001b[0m\n\u001b[1;32m     27\u001b[0m             \u001b[0mprint\u001b[0m\u001b[0;34m(\u001b[0m\u001b[0;34m\"[POS]: {}\"\u001b[0m\u001b[0;34m.\u001b[0m\u001b[0mformat\u001b[0m\u001b[0;34m(\u001b[0m\u001b[0mself\u001b[0m\u001b[0;34m.\u001b[0m\u001b[0mposition\u001b[0m\u001b[0;34m)\u001b[0m\u001b[0;34m)\u001b[0m\u001b[0;34m\u001b[0m\u001b[0m\n\u001b[1;32m     28\u001b[0m             \u001b[0mself\u001b[0m\u001b[0;34m.\u001b[0m\u001b[0mprocessInstruction\u001b[0m\u001b[0;34m(\u001b[0m\u001b[0minstruction\u001b[0m\u001b[0;34m)\u001b[0m\u001b[0;34m\u001b[0m\u001b[0m\n\u001b[0;32m---> 29\u001b[0;31m             \u001b[0mself\u001b[0m\u001b[0;34m.\u001b[0m\u001b[0mposition\u001b[0m \u001b[0;34m+=\u001b[0m \u001b[0minstruction_size\u001b[0m\u001b[0;34m\u001b[0m\u001b[0m\n\u001b[0m\u001b[1;32m     30\u001b[0m \u001b[0;34m\u001b[0m\u001b[0m\n\u001b[1;32m     31\u001b[0m     \u001b[0;32mdef\u001b[0m \u001b[0mgetValue\u001b[0m\u001b[0;34m(\u001b[0m\u001b[0mself\u001b[0m\u001b[0;34m,\u001b[0m \u001b[0mmode\u001b[0m\u001b[0;34m,\u001b[0m \u001b[0mvalue\u001b[0m\u001b[0;34m)\u001b[0m\u001b[0;34m:\u001b[0m\u001b[0;34m\u001b[0m\u001b[0m\n",
      "\u001b[0;31mTypeError\u001b[0m: unsupported operand type(s) for +=: 'int' and 'NoneType'"
     ]
    }
   ],
   "source": [
    "data = load_data()\n",
    "thisMachine = OpcodeMachine(data)\n",
    "thisMachine.runMachine()"
   ]
  }
 ],
 "metadata": {
  "kernelspec": {
   "display_name": "Python 3",
   "language": "python",
   "name": "python3"
  },
  "language_info": {
   "codemirror_mode": {
    "name": "ipython",
    "version": 3
   },
   "file_extension": ".py",
   "mimetype": "text/x-python",
   "name": "python",
   "nbconvert_exporter": "python",
   "pygments_lexer": "ipython3",
   "version": "3.7.0"
  }
 },
 "nbformat": 4,
 "nbformat_minor": 2
}
