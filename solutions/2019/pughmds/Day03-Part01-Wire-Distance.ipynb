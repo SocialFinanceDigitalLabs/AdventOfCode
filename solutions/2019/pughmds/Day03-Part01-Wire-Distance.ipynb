{
 "cells": [
  {
   "cell_type": "code",
   "execution_count": null,
   "metadata": {},
   "outputs": [],
   "source": [
    "# This does not work, so...not a real solution. Oh well!"
   ]
  },
  {
   "cell_type": "code",
   "execution_count": null,
   "metadata": {},
   "outputs": [],
   "source": [
    "import math"
   ]
  },
  {
   "cell_type": "code",
   "execution_count": null,
   "metadata": {},
   "outputs": [],
   "source": [
    "class Point:\n",
    "    def __init__(self, x, y):\n",
    "        self.x = x\n",
    "        self.y = y\n",
    "        \n",
    "    def calculateManhattan(self, goal):\n",
    "        distance = abs(self.x - goal.x) + abs(self.y - goal.y)\n",
    "        return distance\n",
    "    \n",
    "    def output(self):\n",
    "        return [self.x, self.y]"
   ]
  },
  {
   "cell_type": "code",
   "execution_count": null,
   "metadata": {},
   "outputs": [],
   "source": [
    "class Segment:\n",
    "    def __init__(self, a, b):\n",
    "        self.a = a\n",
    "        self.b = b\n",
    "\n",
    "    def isBetween(self, c):\n",
    "        a, b = self.a, self.b             \n",
    "\n",
    "        return ((b.x - a.x) * (c.y - a.y) == (c.x - a.x) * (b.y - a.y) and \n",
    "                abs(cmp(a.x, c.x) + cmp(b.x, c.x)) <= 1 and\n",
    "                abs(cmp(a.y, c.y) + cmp(b.y, c.y)) <= 1)\n",
    "    \n",
    "    def checkIntersection(self, othersegment):\n",
    "        #def checkForIntersection(line1_start, line1_end, line2_start, line2_end):\n",
    "        try:\n",
    "            px = ((self.a.x * self.b.y - self.a.y * self.b.x) * (othersegment.a.x - othersegment.b.x) - (self.a.x - self.b.x) * (othersegment.a.y * othersegment.b.y - othersegment.a.y * othersegment.b.x)) / ((self.a.x - self.b.x) * (othersegment.a.y - othersegment.b.y) - (self.a.y - self.b.y) * (othersegment.a.x - othersegment.b.x))\n",
    "            py = ((self.a.x * self.b.y - self.a.y * self.b.y) * (othersegment.a.y - othersegment.b.y) - (self.a.y - self.b.y) * (othersegment.a.x * othersegment.b.y - othersegment.a.y * othersegment.b.x)) / ((self.a.x - self.b.x) * (othersegment.a.y - othersegment.b.y) - (self.a.y - self.b.y) * (othersegment.a.x - othersegment.b.x))\n",
    "        except Exception as e:\n",
    "            print(e)\n",
    "            # No intersection found\n",
    "            return False\n",
    "        possiblei = Point(px, py)\n",
    "\n",
    "        if self.isBetween(possiblei) and othersegment.isBetween(possiblei):\n",
    "            return Point(px, py)\n",
    "        else:\n",
    "            return False\n",
    "        \n",
    "    def output(self):\n",
    "        return [self.a.output(), self.b.output()]"
   ]
  },
  {
   "cell_type": "code",
   "execution_count": null,
   "metadata": {},
   "outputs": [],
   "source": [
    "class Wire:\n",
    "    def __init__(self, vectors):\n",
    "        self.vectors = vectors\n",
    "        self.createCoordinates()\n",
    "    \n",
    "    def createCoordinates(self):\n",
    "        currentpoint = Point(0,0)\n",
    "        self.points = [currentpoint]\n",
    "        position = 0\n",
    "        \n",
    "        for vector in self.vectors:\n",
    "            nextpoint = Point(0,0)\n",
    "            if vector['direction'] == 'R':\n",
    "                nextpoint.x = currentpoint.x + vector['distance']\n",
    "            elif vector['direction'] == 'L':\n",
    "                nextpoint.x = currentpoint.x - vector['distance']\n",
    "            elif vector['direction'] == 'U':\n",
    "                nextpoint.y = currentpoint.y + vector['distance']\n",
    "            else:\n",
    "                nextpoint.y = currentpoint.y - vector['distance']\n",
    "            self.points.append(nextpoint)\n",
    "            currentpoint = nextpoint\n",
    "    \n",
    "    def findIntersections(self, otherwire):\n",
    "        intersections = list()\n",
    "        for idx_wire1, start_wire1 in enumerate(self.points):\n",
    "            if idx_wire1 < len(self.points) - 1:\n",
    "                end_wire1 = self.points[idx_wire1 + 1]\n",
    "            else:\n",
    "                continue\n",
    "                \n",
    "            seg1 = Segment(start_wire1, end_wire1)\n",
    "            \n",
    "\n",
    "            for idx_wire2, start_wire2 in enumerate(otherwire.points):\n",
    "                if idx_wire2 < len(otherwire.points) - 1:\n",
    "                    end_wire2 = otherwire.points[idx_wire2 + 1]\n",
    "                else:\n",
    "                    continue\n",
    "\n",
    "                seg2 = Segment(start_wire2, end_wire2)\n",
    "                \n",
    "                print(\"Testing {} and {}:\".format(seg1.output(), seg2.output()))\n",
    "                \n",
    "                ipoint = seg1.checkIntersection(seg2)\n",
    "                \n",
    "                if not ipoint:\n",
    "                    print(\"No intersection\")\n",
    "                    continue\n",
    "                print(\"Intersects at: {}\".format(ipoint.output()))\n",
    "                print(\"----------------\")\n",
    "                intersections.append(ipoint)\n",
    "        return intersections\n",
    "    \n",
    "    def output(self):\n",
    "        return [ x.output() for x in self.points ]"
   ]
  },
  {
   "cell_type": "code",
   "execution_count": null,
   "metadata": {},
   "outputs": [],
   "source": [
    "def cmp(a,b):\n",
    "    return (a > b) - (a < b)\n",
    "\n",
    "def findClosestIntersection(intersections):\n",
    "    shortest_distance = False\n",
    "    closest_coordinate = False\n",
    "    for coordinate in intersections:\n",
    "        distance = math.sqrt(((0-coordinate.x)**2)+((0-coordinate.y)**2))\n",
    "        if not shortest_distance:\n",
    "            shortest_distance = distance\n",
    "            closest_coordinate = coordinate\n",
    "        elif distance < shortest_distance:\n",
    "            shortest_distance = distance\n",
    "            closest_coordinate = coordinate\n",
    "        else:\n",
    "            continue\n",
    "    return closest_coordinate"
   ]
  },
  {
   "cell_type": "code",
   "execution_count": null,
   "metadata": {},
   "outputs": [],
   "source": [
    "tangled_mess = list()\n",
    "with open('Day03-input.txt') as f:\n",
    "  for line in f:\n",
    "    thisline = line.strip('\\n').split(',')\n",
    "    for idx, vectorstring in enumerate(thisline):\n",
    "        vector = {\n",
    "            'direction': vectorstring[0],\n",
    "            'distance': int(vectorstring[1:])\n",
    "        }\n",
    "        thisline[idx] = vector\n",
    "    \n",
    "    thiswire = Wire(thisline)\n",
    "    tangled_mess.append(thiswire)\n",
    "\n",
    "# print(tangled_mess)"
   ]
  },
  {
   "cell_type": "code",
   "execution_count": null,
   "metadata": {},
   "outputs": [],
   "source": [
    "intersections = tangled_mess[0].findIntersections(tangled_mess[1])\n",
    "print(intersections)"
   ]
  },
  {
   "cell_type": "code",
   "execution_count": null,
   "metadata": {},
   "outputs": [],
   "source": [
    "closest = findClosestIntersection(intersections)\n",
    "print(closest.x, closest.y)"
   ]
  },
  {
   "cell_type": "code",
   "execution_count": null,
   "metadata": {},
   "outputs": [],
   "source": [
    "mdistance = closest.calculateManhattan(Point(0, 0))\n",
    "print(mdistance)"
   ]
  },
  {
   "cell_type": "code",
   "execution_count": null,
   "metadata": {},
   "outputs": [],
   "source": []
  }
 ],
 "metadata": {
  "kernelspec": {
   "display_name": "Python 3",
   "language": "python",
   "name": "python3"
  },
  "language_info": {
   "codemirror_mode": {
    "name": "ipython",
    "version": 3
   },
   "file_extension": ".py",
   "mimetype": "text/x-python",
   "name": "python",
   "nbconvert_exporter": "python",
   "pygments_lexer": "ipython3",
   "version": "3.7.0"
  }
 },
 "nbformat": 4,
 "nbformat_minor": 2
}
