{
 "cells": [
  {
   "cell_type": "code",
   "execution_count": 27,
   "metadata": {},
   "outputs": [],
   "source": [
    "import json"
   ]
  },
  {
   "cell_type": "code",
   "execution_count": 28,
   "metadata": {},
   "outputs": [],
   "source": [
    "#1) We need to count through that dictionary.\n",
    "#     a) Direct orbits - Count up the keys in the dictionary   *\n",
    "#     b) Indirect orbits - Loop over each object, and find our way to the center *\n",
    "#     \n",
    "#2) We don't know where the center is.\n",
    "#    - One object that is listed as a parent, that doesn't have its own parent  *"
   ]
  },
  {
   "cell_type": "code",
   "execution_count": 29,
   "metadata": {},
   "outputs": [],
   "source": [
    "# This is where we store the entire system read from the input in a structured way\n",
    "class CelestialSystem:\n",
    "    def __init__(self):\n",
    "        self.objects = {}\n",
    "        self.direct_orbits = 0\n",
    "        self.indirect_orbits = 0\n",
    "    \n",
    "    # Direct orbits should be counting up the connections in the input file\n",
    "    # But Removing the entry we did for the center of mass\n",
    "    def getDirectOrbits(self):\n",
    "        self.direct_orbits = len(self.objects) - 1\n",
    "    \n",
    "    # This is a bit more difficult as we need to loop over the objects\n",
    "    # and find out how many steps they are from the center, only counting\n",
    "    # after we get past the direct orbit.\n",
    "    \n",
    "    # NOTE: this seems to catch BOTH direct and indirect orbits at the moment...\n",
    "    def getIndirectOrbits(self):\n",
    "        currentIndex = None\n",
    "        \n",
    "        # For each item, we need to work our way to the centre\n",
    "        for item in self.objects:\n",
    "            currentIndex = item    # Where we are now\n",
    "            thispath_count = 0     # Start counting fresh with each new object\n",
    "            \n",
    "            # Continue forever until we reach the centre of mass (COM)\n",
    "            while self.objects[currentIndex][\"COM\"] is not None:\n",
    "                # Chaing the pointer to show where we are now\n",
    "                currentIndex = self.objects[currentIndex][\"COM\"]\n",
    "                \n",
    "                # We've stepped forward\n",
    "                thispath_count += 1      \n",
    "            \n",
    "            # At the end of each successful path journey, add the total orbits to the overall total\n",
    "            self.indirect_orbits += thispath_count\n",
    "            \n",
    "    def getIndirectOrbitsFor(self, item):\n",
    "        path = list()\n",
    "        currentIndex = item    # Where we are now\n",
    "        thispath_count = 0     # Start counting fresh with each new object\n",
    "\n",
    "        path.append(item)\n",
    "        \n",
    "        # Continue forever until we reach the centre of mass (COM)\n",
    "        currentItem = self.objects[currentIndex]['COM']\n",
    "        while currentItem is not None:\n",
    "            # Chaing the pointer to show where we are now\n",
    "            currentIndex = self.objects[currentIndex]['COM']\n",
    "            currentItem = self.objects[currentIndex]['COM']\n",
    "            path.append(currentIndex)\n",
    "            # We've stepped forward\n",
    "            thispath_count += 1      \n",
    "\n",
    "        return path\n",
    "    \n",
    "    # Find the center of mass for the whole system...just in case it isn't named \"COM\"\n",
    "    def findCentre(self):\n",
    "        # Loop over all the objects\n",
    "        for item in self.objects:\n",
    "            parent_object = self.objects[item][\"COM\"]\n",
    "            # If the parent object is in the list, it isn't the COM\n",
    "            if parent_object in self.objects:\n",
    "                continue\n",
    "            else:\n",
    "                # This must be the center of mass as it isn't in the list.\n",
    "                # Add it to the list so we know when to stop.\n",
    "                self.objects[parent_object] = {\"COM\": None}\n",
    "                break\n",
    "    \n",
    "    # Originally was supposed to return the sum of direct and indirect orbits, but not needed as currently written\n",
    "    def getOrbitTotals(self):\n",
    "        return self.indirect_orbits\n",
    "    \n",
    "    def shortestPath(self, start, finish):\n",
    "        startpath = self.getIndirectOrbitsFor(start)\n",
    "        finishpath = self.getIndirectOrbitsFor(finish)\n",
    "        path = list(set(startpath) - set(finishpath)) + list(set(finishpath) - set(startpath))\n",
    "        return path\n",
    "        \n",
    "    \n",
    "    # Just a function to group all of the steps needed\n",
    "    def analyse(self):\n",
    "        self.findCentre()  \n",
    "        self.getDirectOrbits() \n",
    "        self.getIndirectOrbits()  \n",
    "                "
   ]
  },
  {
   "cell_type": "code",
   "execution_count": 30,
   "metadata": {},
   "outputs": [
    {
     "name": "stdout",
     "output_type": "stream",
     "text": [
      "['SAN', 'I', 'K', 'E', 'J', 'YOU']\n",
      "4\n"
     ]
    }
   ],
   "source": [
    "'''\n",
    "We want to test our system, and what better way than to use the sample input from the website \n",
    "where we already know the answer: 42\n",
    "'''\n",
    "\n",
    "# Setup our system\n",
    "testSystem = CelestialSystem()\n",
    "\n",
    "# Test data:\n",
    "testinput = [\"COM)B\", \"B)C\", \"C)D\", \"D)E\", \"E)F\", \"B)G\", \"G)H\", \"D)I\", \"E)J\", \"J)K\", \"K)L\", \"K)YOU\", \"I)SAN\"]\n",
    "\n",
    "# Let's loop over the data and put it into a more testable format\n",
    "for line in testinput:\n",
    "    objects = line.replace('\\n','').split(')')\n",
    "\n",
    "    # Add each item in the list we're inputting into the overall list as a dictionary of its own.\n",
    "    testSystem.objects[objects[1]] = {}\n",
    "    testSystem.objects[objects[1]][\"COM\"] = objects[0]\n",
    "\n",
    "testSystem.findCentre()\n",
    "solution = testSystem.shortestPath('SAN','YOU')\n",
    "print(solution)\n",
    "\n",
    "# Subtract 2 because we don't want to count us or santa\n",
    "print(len(solution) - 2)\n"
   ]
  },
  {
   "cell_type": "code",
   "execution_count": 31,
   "metadata": {},
   "outputs": [
    {
     "name": "stdout",
     "output_type": "stream",
     "text": [
      "['9H6', '5JZ', 'L74', 'R46', 'ZLH', 'G1C', 'SN4', 'BW2', 'QQD', 'D6R', 'SAN', 'PWC', 'BFP', '8KQ', 'TG1', '6WP', '8SX', 'R63', 'V5J', '1LX', '1F6', '6CK', 'HCJ', 'C7K', 'J8D', 'DFB', 'XDY', 'TSD', 'MS5', '8SP', '2X7', 'HVX', 'WTB', 'H87', '6DB', 'SLS', 'X5L', '3JN', 'D3M', 'GQM', 'H3K', 'GTJ', 'DKP', '9JR', 'GKX', 'VX8', 'Q3L', 'NPH', 'B42', '34D', 'FK4', 'H93', 'HFB', 'K6X', '1GP', 'YGQ', 'WXY', '74Z', 'W87', 'SR9', '7TF', 'KY9', 'NK4', 'LR9', 'LRM', 'RSN', 'KG4', 'GGM', 'KXX', '91X', '4Z9', 'MTV', 'DY4', '61B', 'C6B', 'HXZ', 'K8W', 'QGR', 'XYJ', '8X5', 'X79', '7WN', 'MFP', '2KK', 'TC7', '86B', 'T3Z', 'D8Y', 'HPP', '68P', 'BQ7', 'P5Q', 'VF4', '751', 'MTR', 'V68', 'F87', 'HRL', 'DNZ', 'CVY', '73R', 'SL7', 'JYD', 'J92', 'K2Y', 'GFD', 'YF5', 'DTX', 'HFV', 'XKP', 'F3S', 'WSN', 'JJQ', 'KSC', '941', 'TYN', '6NJ', 'N9V', '8Z5', 'NDS', '9C8', 'VCM', 'Z9K', 'Y11', 'SY5', 'S1X', 'B6T', 'N3Y', 'TDQ', '538', 'PD6', 'S95', 'H3M', 'V5F', 'WSY', '9MB', 'G7H', 'VXS', 'J37', '8BZ', '5X5', 'HTR', 'M9H', '1WV', 'ZQD', 'HQF', 'YSH', 'XF3', '43R', 'TW3', 'XZV', 'TKQ', 'PHP', 'PHQ', 'BY5', 'MZD', 'Z45', 'LLF', 'X7G', 'SF9', 'PBH', 'D9Z', 'B75', 'DWH', 'H9S', 'C7Z', 'GYV', '83M', 'NKT', '997', 'X84', '41H', '9X1', '7PN', 'PHM', 'VCD', 'N5T', 'XRN', '4LH', 'TSZ', '2NR', '83R', '5QP', 'VFZ', '41J', 'TDM', 'RP6', 'DS4', 'CWY', 'YTP', '1P1', 'H8K', '98H', 'LL2', '625', '6RF', 'L7F', '1S8', '73C', '5LD', 'ZN9', 'NQK', '9LV', '1GD', 'YQQ', 'FQT', 'XF9', 'TX5', '1S6', '86H', 'X7B', 'D1L', 'MJW', 'FQ9', 'GYS', 'L3J', 'GHN', 'YCP', 'LGF', '7N9', 'M9Z', '83X', 'WQ1', '5N8', '1H6', '5KF', '7MV', '9F4', 'N1W', 'FKD', 'MB5', '2SV', 'DQM', 'YRQ', 'KWG', 'VLT', 'HLS', '31H', '7KG', 'VV7', 'TJV', 'CBK', '5TL', 'BKW', 'GX2', '3JW', 'FFX', 'ML4', '3QJ', 'C3B', 'QHT', 'XB1', 'V6Q', 'SG8', 'NKZ', 'YTN', 'H9D', 'C5Q', 'RRS', 'BQL', 'P7X', 'D47', '6G1', 'X15', 'XH1', 'LRG', 'S8X', '8S9', 'F25', '94Y', 'SF1', 'F57', 'FCT', '1TW', 'XQF', 'CT5', 'H8H', 'D8H', 'DRJ', 'KHR', '49Q', '4VJ', 'DSJ', 'KSV', 'RJC', 'RMS', '3XT', '2HP', 'DYW', 'Z4N', 'XH6', 'KVS', '3YS', '53F', '6G9', 'HZR', 'Y7T', 'ZKM', '4D9', 'GVG', 'QZV', 'ZJR', '5QL', 'XFH', 'Q9X', 'ZMY', 'P72', '5SK', 'L8D', 'K8H', 'ZT7', 'TP2', 'MQT', '765', 'BXJ', 'CG3', 'YVT', 'FTT', 'C72', 'FXV', 'QW4', '425', '1XP', 'H8N', 'KW1', 'M93', 'S5M', '4JY', 'S74', 'SF8', 'TXX', 'J6B', 'FXR', 'B9F', '3SP', 'SYR', 'PP5', '6VV', 'R16', 'LCW', '9SQ', 'R56', 'RWQ', 'NMC', '6L7', 'RFQ', '9QR', '3P6', 'QT5', '928', '1PM', 'MJ7', 'MFD', 'GZV', 'Z5V', 'GVW', 'XZ2', 'PQG', 'FH5', '8HG', 'VB3', 'M26', 'G2T', '96V', 'Q92', 'WD2', 'GCC', 'HYQ', 'VHN', 'BL1', 'P91', '9B6', 'WF6', 'VKP', 'P7Y', 'PG1', 'CHX', 'HT5', 'GYT', '3RG', 'FM8', 'T3H', '126', 'V3C', 'DPL', 'HHH', 'W1S', 'LHK', 'N9W', 'MFG', 'W52', '8FB', 'R2V', 'SR2', 'JNP', 'JQM', 'Z32', '7VV', 'XP3', 'YFL', 'LF3', '3YK', '6Q4', '4TS', 'T5N', 'HX4', 'WSS', 'D7G', 'ZHP', '8J6', '9JS', 'QF5', 'GQ2', 'HWT', '1KW', '3CM', '148', 'SZQ', '8RK', '36Q', 'YFD', '2DS', 'BDB', 'GYG', 'CDH', 'Q83', '2ZF', '91M', '3ZK', '7LV', 'N4P', 'YRX', 'KSP', 'ZW2', '3BZ', 'H6G', '377', 'GDF', 'XWJ', '86Z', 'DZV', '7B9', 'MRG', '5HK', 'GVT', 'K71', '4FX', 'MKW', 'YHV', '22S', 'KNB', 'K5Y', 'GGH', 'S6Q', 'T5L', 'W1P', '3KD', 'CDQ', '4YL', '3NM', 'JG3', '3L1', 'XDR', 'SXF', '4VD', '5JQ', 'MHM', 'F3J', 'KX7', '2LK', '4N9', 'QFX', '1PS', '8TT', 'YOU', '3QM', 'FQJ', 'BX9', 'MT2', 'JRB', 'RB7', 'PFD', '4T7', '8BD', 'YW5', 'VJS', '6ZK', 'TNF', 'FXD', 'V7L', 'LQJ', 'CJS', 'VDX', 'GXD', 'G4H', '1M3', 'VNG', 'FLB', 'KDQ', '5Y3', 'BLB', 'GF8', '5TJ', 'Q7Y', 'SWY', 'F1S', 'HDP', 'XM2', 'YHY', 'K4V', 'QW6', '4DR', 'B11', '73D', 'T8N', 'G7L', 'T99', 'ZC5', '8N6']\n",
      "517\n"
     ]
    }
   ],
   "source": [
    "'''\n",
    "This is working out the orbits with the real data\n",
    "'''\n",
    "\n",
    "# Setup our system\n",
    "thisSystem = CelestialSystem()\n",
    "\n",
    "# Open the file that has inputs\n",
    "with open('Day06-input.txt') as f:\n",
    "    # Let's loop over the data and put it into a more testable format\n",
    "    for line in f:\n",
    "        objects = line.replace('\\n','').split(')')\n",
    "\n",
    "        # Add each item in the list we're inputting into the overall list as a dictionary of its own.\n",
    "        thisSystem.objects[objects[1]] = {}\n",
    "        thisSystem.objects[objects[1]][\"COM\"] = objects[0]  \n",
    "        \n",
    "        \n",
    "thisSystem.findCentre()\n",
    "solution = thisSystem.shortestPath('SAN','YOU')\n",
    "print(solution)\n",
    "\n",
    "# Subtract 2 because we don't want to count us or santa\n",
    "print(len(solution) - 2)"
   ]
  }
 ],
 "metadata": {
  "kernelspec": {
   "display_name": "Python 3",
   "language": "python",
   "name": "python3"
  },
  "language_info": {
   "codemirror_mode": {
    "name": "ipython",
    "version": 3
   },
   "file_extension": ".py",
   "mimetype": "text/x-python",
   "name": "python",
   "nbconvert_exporter": "python",
   "pygments_lexer": "ipython3",
   "version": "3.7.0"
  }
 },
 "nbformat": 4,
 "nbformat_minor": 2
}
