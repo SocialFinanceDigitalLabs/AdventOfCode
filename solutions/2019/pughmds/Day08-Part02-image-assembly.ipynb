{
 "cells": [
  {
   "cell_type": "code",
   "execution_count": 92,
   "metadata": {},
   "outputs": [],
   "source": [
    "import numpy as np"
   ]
  },
  {
   "cell_type": "code",
   "execution_count": 93,
   "metadata": {},
   "outputs": [],
   "source": [
    "with open(\"Day08-input.txt\") as image:\n",
    "    imagedata = image.read()"
   ]
  },
  {
   "cell_type": "code",
   "execution_count": 94,
   "metadata": {},
   "outputs": [],
   "source": [
    "image_dimensions = {\n",
    "    \"height\": 6,\n",
    "    \"width\": 25\n",
    "}"
   ]
  },
  {
   "cell_type": "code",
   "execution_count": 95,
   "metadata": {},
   "outputs": [],
   "source": [
    "class Image:\n",
    "    def __init__(self, imagedata, w, h):\n",
    "        self.imagedata = imagedata\n",
    "        self.width = w\n",
    "        self.height = h\n",
    "        self.imagearray = np.array([*imagedata])\n",
    "        self.layercount = int(len(self.imagearray) / w / h)\n",
    "        self.layerarray = self.imagearray.reshape((self.layercount, self.height, self.width))\n",
    "        self.validationLayer = None\n",
    "        self.imageArray = None\n",
    "        \n",
    "    def getLayerCount(self, layer, valueToFind):\n",
    "        count = np.count_nonzero(layer == str(valueToFind))\n",
    "        return count\n",
    "    \n",
    "    def printLayer(self, layerid):\n",
    "        print(self.layerarray[layerid])\n",
    "        \n",
    "    def printImage(self):\n",
    "        print(self.layerarray)\n",
    "            \n",
    "    def findLowestCount(self, valueToFind):\n",
    "        smallestLayer = 0\n",
    "        lowestCount = None\n",
    "        for idx, layer in enumerate(self.layerarray):\n",
    "            count = self.getLayerCount(layer, valueToFind)\n",
    "            if lowestCount is None or count < lowestCount:\n",
    "                lowestCount = count\n",
    "                smallestLayer = idx\n",
    "        \n",
    "        return smallestLayer\n",
    "    \n",
    "    def validateImage(self):\n",
    "        # First, find the layer with the least amount of zeroes\n",
    "        self.validationLayer = self.findLowestCount(0)\n",
    "        \n",
    "        # Next, we count the number of ones there\n",
    "        ones = self.getLayerCount(self.layerarray[self.validationLayer], 1)\n",
    "        \n",
    "        # Next, we count the number of twos there\n",
    "        twos = self.getLayerCount(self.layerarray[self.validationLayer], 2)\n",
    "        \n",
    "        # Finally, we multiply them together\n",
    "        return ones * twos\n",
    "    \n",
    "    def processImage(self):\n",
    "        '''\n",
    "            Cycle through the image layers, dealing with transparencies\n",
    "        '''\n",
    "        resultingImage = None\n",
    "        for checklayer in self.layerarray:\n",
    "            if resultingImage is None:\n",
    "                resultingImage = checklayer\n",
    "            else:\n",
    "                # Numpy can do this easily by creating an array of booleans where the transparencies are\n",
    "                # and replacing only those wit the new layer\n",
    "                resultingImage = np.where(np.array(resultingImage) == '2', checklayer, resultingImage) \n",
    "        self.imageArray = resultingImage\n",
    "                                    \n",
    "    def displayImage(self):\n",
    "        '''\n",
    "            Let's make this a little more readable...\n",
    "        '''\n",
    "        for row in self.imageArray:\n",
    "            listrow = row.tolist()\n",
    "            stringrow = ''.join(listrow).replace(\"0\",\"▓\").replace(\"1\", \" \")\n",
    "            print(stringrow)\n",
    "    "
   ]
  },
  {
   "cell_type": "code",
   "execution_count": 96,
   "metadata": {},
   "outputs": [
    {
     "name": "stdout",
     "output_type": "stream",
     "text": [
      "[['0' '1']\n",
      " ['1' '0']]\n",
      "▓ \n",
      " ▓\n"
     ]
    }
   ],
   "source": [
    "'''\n",
    "    TEST 1: This was the image example on the website\n",
    "'''\n",
    "\n",
    "testImage = Image(\"0222112222120000\", 2, 2)\n",
    "testImage.processImage()\n",
    "print(testImage.imageArray)\n",
    "testImage.displayImage()"
   ]
  },
  {
   "cell_type": "code",
   "execution_count": 97,
   "metadata": {},
   "outputs": [
    {
     "name": "stdout",
     "output_type": "stream",
     "text": [
      "[['0' '1' '1' '0' '0' '0' '1' '1' '0' '0' '1' '1' '1' '1' '0' '0' '1' '1'\n",
      "  '0' '0' '1' '1' '1' '1' '0']\n",
      " ['1' '0' '0' '1' '0' '1' '0' '0' '1' '0' '1' '0' '0' '0' '0' '1' '0' '0'\n",
      "  '1' '0' '1' '0' '0' '0' '0']\n",
      " ['1' '0' '0' '0' '0' '1' '0' '0' '0' '0' '1' '1' '1' '0' '0' '1' '0' '0'\n",
      "  '0' '0' '1' '1' '1' '0' '0']\n",
      " ['1' '0' '0' '0' '0' '1' '0' '1' '1' '0' '1' '0' '0' '0' '0' '1' '0' '1'\n",
      "  '1' '0' '1' '0' '0' '0' '0']\n",
      " ['1' '0' '0' '1' '0' '1' '0' '0' '1' '0' '1' '0' '0' '0' '0' '1' '0' '0'\n",
      "  '1' '0' '1' '0' '0' '0' '0']\n",
      " ['0' '1' '1' '0' '0' '0' '1' '1' '1' '0' '1' '1' '1' '1' '0' '0' '1' '1'\n",
      "  '1' '0' '1' '1' '1' '1' '0']]\n",
      "▓  ▓▓▓  ▓▓    ▓▓  ▓▓    ▓\n",
      " ▓▓ ▓ ▓▓ ▓ ▓▓▓▓ ▓▓ ▓ ▓▓▓▓\n",
      " ▓▓▓▓ ▓▓▓▓   ▓▓ ▓▓▓▓   ▓▓\n",
      " ▓▓▓▓ ▓  ▓ ▓▓▓▓ ▓  ▓ ▓▓▓▓\n",
      " ▓▓ ▓ ▓▓ ▓ ▓▓▓▓ ▓▓ ▓ ▓▓▓▓\n",
      "▓  ▓▓▓   ▓    ▓▓   ▓    ▓\n"
     ]
    }
   ],
   "source": [
    "thisImage = Image(imagedata, image_dimensions[\"width\"], image_dimensions[\"height\"])\n",
    "thisImage.processImage()\n",
    "print(thisImage.imageArray)\n",
    "thisImage.displayImage()"
   ]
  }
 ],
 "metadata": {
  "kernelspec": {
   "display_name": "Python 3",
   "language": "python",
   "name": "python3"
  },
  "language_info": {
   "codemirror_mode": {
    "name": "ipython",
    "version": 3
   },
   "file_extension": ".py",
   "mimetype": "text/x-python",
   "name": "python",
   "nbconvert_exporter": "python",
   "pygments_lexer": "ipython3",
   "version": "3.7.0"
  }
 },
 "nbformat": 4,
 "nbformat_minor": 2
}
