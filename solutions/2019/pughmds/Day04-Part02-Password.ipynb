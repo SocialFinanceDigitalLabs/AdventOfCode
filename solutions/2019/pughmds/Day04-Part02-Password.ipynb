{
 "cells": [
  {
   "cell_type": "code",
   "execution_count": 1,
   "metadata": {},
   "outputs": [],
   "source": [
    "# Probably don't need classes here, but it helps me keep things more organised:\n",
    "# This is for the number itself and the tests we need to do on it.\n",
    "class Number:\n",
    "    def __init__(self, num):\n",
    "        self.num = num\n",
    "\n",
    "    def checkSizeRequirement(self):\n",
    "        digits = [int(x) for x in str(self.num)]\n",
    "        if digits[0] <= digits[1] <= digits[2] <= digits[3] <= digits[4] <= digits[5]:\n",
    "            return True\n",
    "        else:\n",
    "            return False\n",
    "        \n",
    "    def checkDuplicateRequirement(self):\n",
    "        digits = [int(x) for x in str(self.num)]\n",
    "        \n",
    "        if len(digits) == len(set(digits)):\n",
    "            return False\n",
    "        \n",
    "        digitcount = list()\n",
    "        for d in set(digits):\n",
    "            count = 0\n",
    "            for test in digits:\n",
    "                if test == d:\n",
    "                    count += 1\n",
    "            digitcount.append(count)\n",
    "            #print(\"{} [{}] --> {}\".format(num, d, count))\n",
    "            \n",
    "        if 2 not in digitcount:\n",
    "            return False\n",
    "                \n",
    "        return True\n",
    "    \n",
    "    def getDigit(self, digit):\n",
    "        try:\n",
    "            return int(str(self.num)[digit])\n",
    "        except:\n",
    "            return -1"
   ]
  },
  {
   "cell_type": "code",
   "execution_count": 2,
   "metadata": {},
   "outputs": [],
   "source": [
    "# Probably don't need classes here, but it helps me keep things more organised:\n",
    "# This is for the password we're trying to work out, the range, and navigating within that range\n",
    "class Passwords:\n",
    "    def __init__(self, low, high):\n",
    "        self.low = Number(low)\n",
    "        self.high = Number(high)\n",
    "        self.possible_answer_count = 0\n",
    "        self.possible_answers = list()\n",
    "\n",
    "    def getStartDigit(self, num):\n",
    "        try:\n",
    "            return self.low.getDigit(num)\n",
    "        except:\n",
    "            return -1\n",
    "    \n",
    "    def getEndDigit(self, num):\n",
    "        try:\n",
    "            return self.high.getDigit(num)\n",
    "        except:\n",
    "            return -1        \n",
    "        \n",
    "    def getLowNumber(self):\n",
    "        return int(self.low.num)\n",
    "    \n",
    "    def getHighNumber(self):\n",
    "        return int(self.high.num)"
   ]
  },
  {
   "cell_type": "code",
   "execution_count": 3,
   "metadata": {},
   "outputs": [],
   "source": [
    "passwordCombinations = Passwords(183564,657474)\n",
    "\n",
    "# Loop over the range of numbers and look for answers!\n",
    "for testnumber in range(passwordCombinations.getLowNumber(), passwordCombinations.getHighNumber()):\n",
    "    thisnumber = Number(testnumber)\n",
    "    if thisnumber.checkSizeRequirement() and thisnumber.checkDuplicateRequirement():\n",
    "        passwordCombinations.possible_answer_count += 1\n",
    "        passwordCombinations.possible_answers.append(testnumber)\n",
    "    else:\n",
    "        continue"
   ]
  },
  {
   "cell_type": "code",
   "execution_count": null,
   "metadata": {},
   "outputs": [],
   "source": [
    "print(passwordCombinations.possible_answers)"
   ]
  },
  {
   "cell_type": "code",
   "execution_count": 5,
   "metadata": {},
   "outputs": [
    {
     "name": "stdout",
     "output_type": "stream",
     "text": [
      "1104\n"
     ]
    }
   ],
   "source": [
    "print(passwordCombinations.possible_answer_count)"
   ]
  }
 ],
 "metadata": {
  "kernelspec": {
   "display_name": "Python 3",
   "language": "python",
   "name": "python3"
  },
  "language_info": {
   "codemirror_mode": {
    "name": "ipython",
    "version": 3
   },
   "file_extension": ".py",
   "mimetype": "text/x-python",
   "name": "python",
   "nbconvert_exporter": "python",
   "pygments_lexer": "ipython3",
   "version": "3.7.0"
  }
 },
 "nbformat": 4,
 "nbformat_minor": 2
}
