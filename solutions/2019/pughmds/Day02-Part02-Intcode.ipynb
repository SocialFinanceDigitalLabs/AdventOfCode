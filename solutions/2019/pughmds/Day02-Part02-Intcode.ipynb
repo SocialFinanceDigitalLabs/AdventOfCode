{
 "cells": [
  {
   "cell_type": "code",
   "execution_count": 7,
   "metadata": {},
   "outputs": [],
   "source": [
    "import sys\n",
    "\n",
    "valid_inputs = [1,2,99]"
   ]
  },
  {
   "cell_type": "code",
   "execution_count": 8,
   "metadata": {},
   "outputs": [],
   "source": [
    "def process(instruction, firstvalue, secondvalue, intcode):\n",
    "    '''\n",
    "        This is the list of possible operations available\n",
    "    '''\n",
    "    if instruction == 1:\n",
    "        result = firstvalue + secondvalue\n",
    "    elif instruction == 2:\n",
    "        result = firstvalue * secondvalue\n",
    "    else:\n",
    "        result = 0\n",
    "    return result\n",
    "        \n",
    "\n",
    "def recordvalue(value, result_index, intcode):\n",
    "    '''\n",
    "        This records the result in the correct place in the list\n",
    "        I separated this in case it got more complicated\n",
    "    '''\n",
    "    intcode[result_index] = value\n",
    "    return intcode\n",
    "        \n",
    "        "
   ]
  },
  {
   "cell_type": "code",
   "execution_count": 9,
   "metadata": {},
   "outputs": [],
   "source": [
    "def test_run(noun, verb, intcode):\n",
    "    '''\n",
    "        Test a run with a given noun and verb\n",
    "    '''\n",
    "    intcode = set_starting_point(intcode, noun, verb)\n",
    "    \n",
    "    # Each instruction is in clusters of four, so we need to loop over these in groups of four.\n",
    "    for idx, s in enumerate(intcode[::4]):\n",
    "        if s == 99:\n",
    "            return intcode[0]\n",
    "        elif s in valid_inputs:\n",
    "            firstidx = intcode[(idx*4)+1]\n",
    "            secondidx = intcode[(idx*4)+2]\n",
    "            value = process(s, intcode[firstidx], intcode[secondidx], intcode)\n",
    "            intcode = recordvalue(value, intcode[(idx*4)+3], intcode)\n",
    "    return intcode[0]\n",
    "\n",
    "def set_starting_point(intcode, noun, verb):\n",
    "    '''\n",
    "        Reset program to correct starting point\n",
    "    '''\n",
    "    intcode[1] = noun\n",
    "    intcode[2] = verb\n",
    "    return intcode"
   ]
  },
  {
   "cell_type": "code",
   "execution_count": 10,
   "metadata": {},
   "outputs": [],
   "source": [
    "def load_data():\n",
    "    # Open input, break up into a list.\n",
    "    with open('Day02-input.txt', 'r') as valuesfile:\n",
    "        intcode = valuesfile.read()\n",
    "\n",
    "    # Loop through and convert each element into an integer\n",
    "    intcode = [int(i) for i in intcode.split(',') if i.isdigit()]\n",
    "    return intcode"
   ]
  },
  {
   "cell_type": "code",
   "execution_count": 13,
   "metadata": {},
   "outputs": [
    {
     "name": "stdout",
     "output_type": "stream",
     "text": [
      "FOUND IT!\n"
     ]
    }
   ],
   "source": [
    "# Need the result 19,690,720\n",
    "broken = False\n",
    "intcode = load_data()\n",
    "for i in range(1,99):\n",
    "    for j in range(1,99):\n",
    "        # We need to pass the values instead of the list\n",
    "        result = test_run(i, j, [*intcode])\n",
    "        if result == 19690720:\n",
    "            print(\"FOUND IT!\")\n",
    "            broken = True\n",
    "            break\n",
    "    if broken:\n",
    "        break\n",
    "if not broken:\n",
    "    print(\"Could not find it!\")"
   ]
  },
  {
   "cell_type": "code",
   "execution_count": 14,
   "metadata": {},
   "outputs": [
    {
     "name": "stdout",
     "output_type": "stream",
     "text": [
      "noun: 37, verb: 49, answer: 3749\n"
     ]
    }
   ],
   "source": [
    "print(\"noun: {}, verb: {}, answer: {}\".format(i,j,(100*i)+j))"
   ]
  },
  {
   "cell_type": "code",
   "execution_count": null,
   "metadata": {},
   "outputs": [],
   "source": []
  },
  {
   "cell_type": "code",
   "execution_count": null,
   "metadata": {},
   "outputs": [],
   "source": []
  }
 ],
 "metadata": {
  "kernelspec": {
   "display_name": "Python 3",
   "language": "python",
   "name": "python3"
  },
  "language_info": {
   "codemirror_mode": {
    "name": "ipython",
    "version": 3
   },
   "file_extension": ".py",
   "mimetype": "text/x-python",
   "name": "python",
   "nbconvert_exporter": "python",
   "pygments_lexer": "ipython3",
   "version": "3.7.0"
  }
 },
 "nbformat": 4,
 "nbformat_minor": 2
}
