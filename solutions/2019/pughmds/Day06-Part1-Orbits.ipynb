{
 "cells": [
  {
   "cell_type": "code",
   "execution_count": 1,
   "metadata": {},
   "outputs": [],
   "source": [
    "import json"
   ]
  },
  {
   "cell_type": "code",
   "execution_count": 7,
   "metadata": {},
   "outputs": [],
   "source": [
    "#1) We need to count through that dictionary.\n",
    "#     a) Direct orbits - Count up the keys in the dictionary   *\n",
    "#     b) Indirect orbits - Loop over each object, and find our way to the center *\n",
    "#     \n",
    "#2) We don't know where the center is.\n",
    "#    - One object that is listed as a parent, that doesn't have its own parent  *"
   ]
  },
  {
   "cell_type": "code",
   "execution_count": 3,
   "metadata": {},
   "outputs": [],
   "source": [
    "# This is where we store the entire system read from the input in a structured way\n",
    "class CelestialSystem:\n",
    "    def __init__(self):\n",
    "        self.objects = {}\n",
    "        self.direct_orbits = 0\n",
    "        self.indirect_orbits = 0\n",
    "    \n",
    "    # Direct orbits should be counting up the connections in the input file\n",
    "    # But Removing the entry we did for the center of mass\n",
    "    def getDirectOrbits(self):\n",
    "        self.direct_orbits = len(self.objects) - 1\n",
    "    \n",
    "    # This is a bit more difficult as we need to loop over the objects\n",
    "    # and find out how many steps they are from the center, only counting\n",
    "    # after we get past the direct orbit.\n",
    "    \n",
    "    # NOTE: this seems to catch BOTH direct and indirect orbits at the moment...\n",
    "    def getIndirectOrbits(self):\n",
    "        currentIndex = None\n",
    "        \n",
    "        # For each item, we need to work our way to the centre\n",
    "        for item in self.objects:\n",
    "            currentIndex = item    # Where we are now\n",
    "            thispath_count = 0     # Start counting fresh with each new object\n",
    "            \n",
    "            # Continue forever until we reach the centre of mass (COM)\n",
    "            while self.objects[currentIndex][\"COM\"] is not None:\n",
    "                # Chaing the pointer to show where we are now\n",
    "                currentIndex = self.objects[currentIndex][\"COM\"]\n",
    "                \n",
    "                # We've stepped forward\n",
    "                thispath_count += 1      \n",
    "            \n",
    "            # At the end of each successful path journey, add the total orbits to the overall total\n",
    "            self.indirect_orbits += thispath_count\n",
    "    \n",
    "    # Find the center of mass for the whole system...just in case it isn't named \"COM\"\n",
    "    def findCentre(self):\n",
    "        # Loop over all the objects\n",
    "        for item in self.objects:\n",
    "            parent_object = self.objects[item][\"COM\"]\n",
    "            # If the parent object is in the list, it isn't the COM\n",
    "            if parent_object in self.objects:\n",
    "                continue\n",
    "            else:\n",
    "                # This must be the center of mass as it isn't in the list.\n",
    "                # Add it to the list so we know when to stop.\n",
    "                self.objects[parent_object] = {\"COM\": None}\n",
    "                break\n",
    "    \n",
    "    # Originally was supposed to return the sum of direct and indirect orbits, but not needed as currently written\n",
    "    def getOrbitTotals(self):\n",
    "        return self.indirect_orbits\n",
    "    \n",
    "    # Just a function to group all of the steps needed\n",
    "    def analyse(self):\n",
    "        self.findCentre()  \n",
    "        self.getDirectOrbits() \n",
    "        self.getIndirectOrbits()  \n",
    "                "
   ]
  },
  {
   "cell_type": "code",
   "execution_count": 4,
   "metadata": {},
   "outputs": [
    {
     "name": "stdout",
     "output_type": "stream",
     "text": [
      "42\n"
     ]
    }
   ],
   "source": [
    "'''\n",
    "We want to test our system, and what better way than to use the sample input from the website \n",
    "where we already know the answer: 42\n",
    "'''\n",
    "\n",
    "# Setup our system\n",
    "testSystem = CelestialSystem()\n",
    "\n",
    "# Test data:\n",
    "testinput = [\"COM)B\", \"B)C\", \"C)D\", \"D)E\", \"E)F\", \"B)G\", \"G)H\", \"D)I\", \"E)J\", \"J)K\", \"K)L\"]\n",
    "\n",
    "# Let's loop over the data and put it into a more testable format\n",
    "for line in testinput:\n",
    "    objects = line.replace('\\n','').split(')')\n",
    "\n",
    "    # Add each item in the list we're inputting into the overall list as a dictionary of its own.\n",
    "    testSystem.objects[objects[1]] = {}\n",
    "    testSystem.objects[objects[1]][\"COM\"] = objects[0]\n",
    "\n",
    "testSystem.analyse()\n",
    "\n",
    "print(testSystem.getOrbitTotals())"
   ]
  },
  {
   "cell_type": "code",
   "execution_count": 5,
   "metadata": {},
   "outputs": [],
   "source": [
    "'''\n",
    "This is working out the orbits with the real data\n",
    "'''\n",
    "\n",
    "# Setup our system\n",
    "thisSystem = CelestialSystem()\n",
    "\n",
    "# Open the file that has inputs\n",
    "with open('Day06-input.txt') as f:\n",
    "    # Let's loop over the data and put it into a more testable format\n",
    "    for line in f:\n",
    "        objects = line.replace('\\n','').split(')')\n",
    "\n",
    "        # Add each item in the list we're inputting into the overall list as a dictionary of its own.\n",
    "        thisSystem.objects[objects[1]] = {}\n",
    "        thisSystem.objects[objects[1]][\"COM\"] = objects[0]  \n",
    "        \n",
    "        \n",
    "thisSystem.analyse()\n",
    "print(thisSystem.indirect_orbits)"
   ]
  },
  {
   "cell_type": "code",
   "execution_count": null,
   "metadata": {},
   "outputs": [],
   "source": []
  }
 ],
 "metadata": {
  "kernelspec": {
   "display_name": "Python 3",
   "language": "python",
   "name": "python3"
  },
  "language_info": {
   "codemirror_mode": {
    "name": "ipython",
    "version": 3
   },
   "file_extension": ".py",
   "mimetype": "text/x-python",
   "name": "python",
   "nbconvert_exporter": "python",
   "pygments_lexer": "ipython3",
   "version": "3.7.0"
  }
 },
 "nbformat": 4,
 "nbformat_minor": 2
}
