{
 "cells": [
  {
   "cell_type": "code",
   "execution_count": 1,
   "metadata": {},
   "outputs": [],
   "source": [
    "import numpy as np"
   ]
  },
  {
   "cell_type": "code",
   "execution_count": 2,
   "metadata": {},
   "outputs": [],
   "source": [
    "with open(\"Day08-input.txt\") as image:\n",
    "    imagedata = image.read()"
   ]
  },
  {
   "cell_type": "code",
   "execution_count": 3,
   "metadata": {},
   "outputs": [],
   "source": [
    "image_dimensions = {\n",
    "    \"height\": 6,\n",
    "    \"width\": 25\n",
    "}"
   ]
  },
  {
   "cell_type": "code",
   "execution_count": 34,
   "metadata": {},
   "outputs": [],
   "source": [
    "class Image:\n",
    "    def __init__(self, imagedata, w, h):\n",
    "        self.imagedata = imagedata\n",
    "        self.width = w\n",
    "        self.height = h\n",
    "        self.imagearray = np.array([*imagedata])\n",
    "        self.layercount = int(len(self.imagearray) / w / h)\n",
    "        self.layerarray = self.imagearray.reshape((self.layercount, self.height, self.width))\n",
    "        self.validationLayer = None\n",
    "        \n",
    "    def getLayerCount(self, layer, valueToFind):\n",
    "        count = np.count_nonzero(layer == str(valueToFind))\n",
    "        return count\n",
    "    \n",
    "    def printLayer(self, layerid):\n",
    "        print(self.layerarray[layerid])\n",
    "        \n",
    "    def printImage(self):\n",
    "        print(self.layerarray)\n",
    "            \n",
    "    def findLowestCount(self, valueToFind):\n",
    "        smallestLayer = 0\n",
    "        lowestCount = None\n",
    "        for idx, layer in enumerate(self.layerarray):\n",
    "            count = self.getLayerCount(layer, valueToFind)\n",
    "            if lowestCount is None or count < lowestCount:\n",
    "                lowestCount = count\n",
    "                smallestLayer = idx\n",
    "        \n",
    "        return smallestLayer\n",
    "    \n",
    "    def validateImage(self):\n",
    "        # First, find the layer with the least amount of zeroes\n",
    "        self.validationLayer = self.findLowestCount(0)\n",
    "        \n",
    "        # Next, we count the number of ones there\n",
    "        ones = self.getLayerCount(self.layerarray[self.validationLayer], 1)\n",
    "        \n",
    "        # Next, we count the number of twos there\n",
    "        twos = self.getLayerCount(self.layerarray[self.validationLayer], 2)\n",
    "        \n",
    "        # Finally, we multiply them together\n",
    "        return ones * twos\n",
    "                       \n",
    "    "
   ]
  },
  {
   "cell_type": "code",
   "execution_count": 35,
   "metadata": {},
   "outputs": [
    {
     "name": "stdout",
     "output_type": "stream",
     "text": [
      "[Entire Image]\n",
      "[[['1' '2' '3']\n",
      "  ['4' '5' '6']]\n",
      "\n",
      " [['7' '8' '9']\n",
      "  ['0' '1' '2']]]\n",
      "-------\n",
      "[Validation Layer]\n",
      "[['1' '2' '3']\n",
      " ['4' '5' '6']]\n",
      "[Validation Code] 1\n",
      "--> This seems to be working properly...\n"
     ]
    }
   ],
   "source": [
    "'''\n",
    "    TEST 1\n",
    "    Try the test data given on the website to see if we get the same structure as before\n",
    "    Since there is only 1 one and 1 two in this layer, the validation code should be 1 x 1 = 1\n",
    "'''\n",
    "thisImage = Image(\"123456789012\", 3, 2)\n",
    "print(\"[Entire Image]\")\n",
    "thisImage.printImage()\n",
    "answer = thisImage.validateImage()\n",
    "print(\"-------\")\n",
    "print(\"[Validation Layer]\")\n",
    "thisImage.printLayer(thisImage.validationLayer)\n",
    "print(\"[Validation Code] {}\".format(answer))\n",
    "\n",
    "if answer == 1:\n",
    "    print(\"--> This seems to be working properly...\")\n",
    "else:\n",
    "    print(\"--> something is wrong...\")"
   ]
  },
  {
   "cell_type": "code",
   "execution_count": 37,
   "metadata": {},
   "outputs": [
    {
     "name": "stdout",
     "output_type": "stream",
     "text": [
      "[Entire Image]\n",
      "[[['0' '1' '1' '1' '2']\n",
      "  ['1' '2' '1' '2' '2']]\n",
      "\n",
      " [['1' '0' '1' '2' '1']\n",
      "  ['2' '0' '2' '1' '2']]\n",
      "\n",
      " [['0' '2' '1' '0' '2']\n",
      "  ['2' '1' '2' '0' '0']]\n",
      "\n",
      " [['2' '1' '2' '0' '2']\n",
      "  ['0' '1' '2' '1' '2']]\n",
      "\n",
      " [['0' '1' '2' '1' '1']\n",
      "  ['2' '0' '2' '1' '0']]]\n",
      "-------\n",
      "[Validation Layer]\n",
      "[['0' '1' '1' '1' '2']\n",
      " ['1' '2' '1' '2' '2']]\n",
      "[Validation Code] 20\n",
      "--> This seems to be working properly...\n"
     ]
    }
   ],
   "source": [
    "'''\n",
    "    TEST 2\n",
    "    Try a slightly more difficult image to see if we get what is expected\n",
    "    We should get the second layer as a validation one and it has 5 ones and 4 twos.\n",
    "    5 x 4 = 20\n",
    "'''\n",
    "thisImage = Image(\"01112121221012120212021022120021202012120121120210\", 5, 2)\n",
    "print(\"[Entire Image]\")\n",
    "thisImage.printImage()\n",
    "answer = thisImage.validateImage()\n",
    "print(\"-------\")\n",
    "print(\"[Validation Layer]\")\n",
    "thisImage.printLayer(thisImage.validationLayer)\n",
    "print(\"[Validation Code] {}\".format(answer))\n",
    "\n",
    "if answer == 20:\n",
    "    print(\"--> This seems to be working properly...\")\n",
    "else:\n",
    "    print(\"--> something is wrong...\")"
   ]
  },
  {
   "cell_type": "code",
   "execution_count": 38,
   "metadata": {},
   "outputs": [
    {
     "name": "stdout",
     "output_type": "stream",
     "text": [
      "Number of ones multiplied by the number of twos in the validation layer:\n",
      "2210\n",
      "[Validation Layer]:\n",
      "[['2' '2' '2' '2' '2' '2' '2' '1' '2' '2' '2' '2' '2' '1' '2' '2' '2' '1'\n",
      "  '2' '2' '2' '2' '2' '2' '2']\n",
      " ['2' '2' '1' '2' '2' '2' '2' '2' '2' '2' '2' '1' '2' '2' '2' '2' '2' '2'\n",
      "  '2' '2' '2' '2' '2' '2' '1']\n",
      " ['2' '2' '2' '2' '2' '2' '2' '2' '2' '2' '1' '2' '2' '2' '2' '2' '2' '2'\n",
      "  '2' '2' '2' '2' '2' '2' '2']\n",
      " ['2' '2' '2' '2' '1' '2' '1' '2' '2' '0' '2' '2' '2' '2' '1' '2' '2' '2'\n",
      "  '2' '2' '1' '2' '2' '2' '0']\n",
      " ['2' '2' '2' '2' '2' '1' '1' '2' '1' '1' '2' '2' '2' '2' '2' '2' '2' '2'\n",
      "  '0' '2' '2' '2' '2' '2' '2']\n",
      " ['2' '2' '2' '2' '2' '2' '2' '2' '1' '2' '2' '2' '2' '2' '2' '2' '2' '2'\n",
      "  '1' '2' '2' '2' '2' '2' '2']]\n"
     ]
    }
   ],
   "source": [
    "thisImage = Image(imagedata, image_dimensions[\"width\"], image_dimensions[\"height\"])\n",
    "answer = thisImage.validateImage()\n",
    "print(\"Number of ones multiplied by the number of twos in the validation layer:\")\n",
    "print(answer)\n",
    "print(\"[Validation Layer]:\")\n",
    "thisImage.printLayer(thisImage.validationLayer)"
   ]
  },
  {
   "cell_type": "code",
   "execution_count": null,
   "metadata": {},
   "outputs": [],
   "source": []
  }
 ],
 "metadata": {
  "kernelspec": {
   "display_name": "Python 3",
   "language": "python",
   "name": "python3"
  },
  "language_info": {
   "codemirror_mode": {
    "name": "ipython",
    "version": 3
   },
   "file_extension": ".py",
   "mimetype": "text/x-python",
   "name": "python",
   "nbconvert_exporter": "python",
   "pygments_lexer": "ipython3",
   "version": "3.7.0"
  }
 },
 "nbformat": 4,
 "nbformat_minor": 2
}
