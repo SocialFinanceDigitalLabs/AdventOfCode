{
 "cells": [
  {
   "cell_type": "code",
   "execution_count": 6,
   "metadata": {},
   "outputs": [],
   "source": [
    "import sys\n",
    "\n",
    "valid_inputs = [1,2,99]"
   ]
  },
  {
   "cell_type": "code",
   "execution_count": 7,
   "metadata": {},
   "outputs": [],
   "source": [
    "def process(instruction, firstvalue, secondvalue, intcode):\n",
    "    '''\n",
    "        This is the list of possible operations available\n",
    "    '''\n",
    "    if instruction == 1:\n",
    "        result = firstvalue + secondvalue\n",
    "        print(\"{} + {} = {}\".format(firstvalue, secondvalue, result))\n",
    "    elif instruction == 2:\n",
    "        result = firstvalue * secondvalue\n",
    "        print(\"{} x {} = {}\".format(firstvalue, secondvalue, result))\n",
    "    else:\n",
    "        result = 0\n",
    "    return result\n",
    "        \n",
    "\n",
    "def recordvalue(value, result_index, intcode):\n",
    "    '''\n",
    "        This records the result in the correct place in the list\n",
    "        I separated this in case it got more complicated\n",
    "    '''\n",
    "    \n",
    "    print(\"Recording value: {} at position: {}\".format(value, result_index))\n",
    "    intcode[result_index] = value\n",
    "    return intcode\n",
    "        \n",
    "        "
   ]
  },
  {
   "cell_type": "code",
   "execution_count": 8,
   "metadata": {},
   "outputs": [
    {
     "name": "stdout",
     "output_type": "stream",
     "text": [
      "[1, 0, 0, 3, 1, 1, 2, 3, 1, 3, 4, 3, 1, 5, 0, 3, 2, 9, 1, 19, 1, 19, 6, 23, 2, 6, 23, 27, 2, 27, 9, 31, 1, 5, 31, 35, 1, 35, 10, 39, 2, 39, 9, 43, 1, 5, 43, 47, 2, 47, 10, 51, 1, 51, 6, 55, 1, 5, 55, 59, 2, 6, 59, 63, 2, 63, 6, 67, 1, 5, 67, 71, 1, 71, 9, 75, 2, 75, 10, 79, 1, 79, 5, 83, 1, 10, 83, 87, 1, 5, 87, 91, 2, 13, 91, 95, 1, 95, 10, 99, 2, 99, 13, 103, 1, 103, 5, 107, 1, 107, 13, 111, 2, 111, 9, 115, 1, 6, 115, 119, 2, 119, 6, 123, 1, 123, 6, 127, 1, 127, 9, 131, 1, 6, 131, 135, 1, 135, 2, 139, 1, 139, 10, 0, 99, 2, 0, 14, 0]\n"
     ]
    }
   ],
   "source": [
    "# Open input, break up into a list.\n",
    "with open('Day02-input.txt', 'r') as valuesfile:\n",
    "    intcode = valuesfile.read()\n",
    "\n",
    "# Loop through and convert each element into an integer\n",
    "intcode = [int(i) for i in intcode.split(',') if i.isdigit()]\n",
    "print(intcode)"
   ]
  },
  {
   "cell_type": "code",
   "execution_count": 9,
   "metadata": {},
   "outputs": [],
   "source": [
    "# Reset program to correct starting point\n",
    "intcode[1] = 12\n",
    "intcode[2] = 2"
   ]
  },
  {
   "cell_type": "code",
   "execution_count": 10,
   "metadata": {},
   "outputs": [
    {
     "name": "stdout",
     "output_type": "stream",
     "text": [
      "1 + 2 = 3\n",
      "Recording value: 3 at position: 3\n",
      "12 + 2 = 14\n",
      "Recording value: 14 at position: 3\n",
      "14 + 1 = 15\n",
      "Recording value: 15 at position: 3\n",
      "1 + 1 = 2\n",
      "Recording value: 2 at position: 3\n",
      "3 x 12 = 36\n",
      "Recording value: 36 at position: 19\n",
      "36 + 2 = 38\n",
      "Recording value: 38 at position: 23\n",
      "2 x 38 = 76\n",
      "Recording value: 76 at position: 27\n",
      "76 x 3 = 228\n",
      "Recording value: 228 at position: 31\n",
      "1 + 228 = 229\n",
      "Recording value: 229 at position: 35\n",
      "229 + 4 = 233\n",
      "Recording value: 233 at position: 39\n",
      "233 x 3 = 699\n",
      "Recording value: 699 at position: 43\n",
      "1 + 699 = 700\n",
      "Recording value: 700 at position: 47\n",
      "700 x 4 = 2800\n",
      "Recording value: 2800 at position: 51\n",
      "2800 + 2 = 2802\n",
      "Recording value: 2802 at position: 55\n",
      "1 + 2802 = 2803\n",
      "Recording value: 2803 at position: 59\n",
      "2 x 2803 = 5606\n",
      "Recording value: 5606 at position: 63\n",
      "5606 x 2 = 11212\n",
      "Recording value: 11212 at position: 67\n",
      "1 + 11212 = 11213\n",
      "Recording value: 11213 at position: 71\n",
      "11213 + 3 = 11216\n",
      "Recording value: 11216 at position: 75\n",
      "11216 x 4 = 44864\n",
      "Recording value: 44864 at position: 79\n",
      "44864 + 1 = 44865\n",
      "Recording value: 44865 at position: 83\n",
      "4 + 44865 = 44869\n",
      "Recording value: 44869 at position: 87\n",
      "1 + 44869 = 44870\n",
      "Recording value: 44870 at position: 91\n",
      "5 x 44870 = 224350\n",
      "Recording value: 224350 at position: 95\n",
      "224350 + 4 = 224354\n",
      "Recording value: 224354 at position: 99\n",
      "224354 x 5 = 1121770\n",
      "Recording value: 1121770 at position: 103\n",
      "1121770 + 1 = 1121771\n",
      "Recording value: 1121771 at position: 107\n",
      "1121771 + 5 = 1121776\n",
      "Recording value: 1121776 at position: 111\n",
      "1121776 x 3 = 3365328\n",
      "Recording value: 3365328 at position: 115\n",
      "2 + 3365328 = 3365330\n",
      "Recording value: 3365330 at position: 119\n",
      "3365330 x 2 = 6730660\n",
      "Recording value: 6730660 at position: 123\n",
      "6730660 + 2 = 6730662\n",
      "Recording value: 6730662 at position: 127\n",
      "6730662 + 3 = 6730665\n",
      "Recording value: 6730665 at position: 131\n",
      "2 + 6730665 = 6730667\n",
      "Recording value: 6730667 at position: 135\n",
      "6730667 + 2 = 6730669\n",
      "Recording value: 6730669 at position: 139\n",
      "6730669 + 4 = 6730673\n",
      "Recording value: 6730673 at position: 0\n",
      "done!\n",
      "Incorrect Command 0 at index 148! Exiting!\n"
     ]
    }
   ],
   "source": [
    "# Each instruction is in clusters of four, so we need to loop over these in groups of four.\n",
    "for idx, s in enumerate(intcode[::4]):\n",
    "    if s == 99:\n",
    "        print(\"done!\")\n",
    "    elif s in valid_inputs:\n",
    "        firstidx = intcode[(idx*4)+1]\n",
    "        secondidx = intcode[(idx*4)+2]\n",
    "        value = process(s, intcode[firstidx], intcode[secondidx], intcode)\n",
    "        intcode = recordvalue(value, intcode[(idx*4)+3], intcode)\n",
    "    else:\n",
    "        print(\"Incorrect Command {} at index {}! Exiting!\".format(s, (idx*4)))\n",
    "        break"
   ]
  },
  {
   "cell_type": "code",
   "execution_count": 6,
   "metadata": {},
   "outputs": [
    {
     "name": "stdout",
     "output_type": "stream",
     "text": [
      "[6730673, 12, 2, 2, 1, 1, 2, 3, 1, 3, 4, 3, 1, 5, 0, 3, 2, 9, 1, 36, 1, 19, 6, 38, 2, 6, 23, 76, 2, 27, 9, 228, 1, 5, 31, 229, 1, 35, 10, 233, 2, 39, 9, 699, 1, 5, 43, 700, 2, 47, 10, 2800, 1, 51, 6, 2802, 1, 5, 55, 2803, 2, 6, 59, 5606, 2, 63, 6, 11212, 1, 5, 67, 11213, 1, 71, 9, 11216, 2, 75, 10, 44864, 1, 79, 5, 44865, 1, 10, 83, 44869, 1, 5, 87, 44870, 2, 13, 91, 224350, 1, 95, 10, 224354, 2, 99, 13, 1121770, 1, 103, 5, 1121771, 1, 107, 13, 1121776, 2, 111, 9, 3365328, 1, 6, 115, 3365330, 2, 119, 6, 6730660, 1, 123, 6, 6730662, 1, 127, 9, 6730665, 1, 6, 131, 6730667, 1, 135, 2, 6730669, 1, 139, 10, 0, 99, 2, 0, 14, 0]\n"
     ]
    }
   ],
   "source": [
    "print(intcode)"
   ]
  },
  {
   "cell_type": "code",
   "execution_count": null,
   "metadata": {},
   "outputs": [],
   "source": []
  },
  {
   "cell_type": "code",
   "execution_count": null,
   "metadata": {},
   "outputs": [],
   "source": []
  }
 ],
 "metadata": {
  "kernelspec": {
   "display_name": "Python 3",
   "language": "python",
   "name": "python3"
  },
  "language_info": {
   "codemirror_mode": {
    "name": "ipython",
    "version": 3
   },
   "file_extension": ".py",
   "mimetype": "text/x-python",
   "name": "python",
   "nbconvert_exporter": "python",
   "pygments_lexer": "ipython3",
   "version": "3.7.0"
  }
 },
 "nbformat": 4,
 "nbformat_minor": 2
}
