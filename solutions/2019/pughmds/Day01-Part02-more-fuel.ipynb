{
 "cells": [
  {
   "cell_type": "code",
   "execution_count": 1,
   "metadata": {},
   "outputs": [],
   "source": [
    "import math\n",
    "\n",
    "def calculate_fuel(mass):\n",
    "    fuel = math.floor(mass / 3) - 2\n",
    "    if fuel < 0:\n",
    "        # Extra is too small to require more fuel\n",
    "        return 0\n",
    "    elif (math.floor(mass / 3) - 2 > 2):\n",
    "        # Drat, need more fule!\n",
    "        fuel = fuel + calculate_fuel(fuel)\n",
    "        return fuel\n",
    "    else:\n",
    "        #print(\"Tiny bit more\")\n",
    "        return fuel"
   ]
  },
  {
   "cell_type": "code",
   "execution_count": 2,
   "metadata": {},
   "outputs": [
    {
     "name": "stdout",
     "output_type": "stream",
     "text": [
      "[71047, 54349, 38585, 39060, 55040, 63175, 57685, 66604, 66283, 41270, 59303, 45120, 67028, 51267, 64271, 54574, 25049, 36238, 49486, 72634, 67670, 48730, 54900, 71127, 39484, 48428, 36234, 42965, 54766, 57964, 53968, 56433, 42565, 56338, 64785, 47726, 45370, 53494, 44822, 46796, 30027, 59345, 47126, 29792, 57802, 69629, 35336, 28353, 37338, 34611, 46081, 72655, 51627, 27541, 29153, 27407, 26180, 47663, 33915, 45396, 37315, 38650, 25717, 39655, 35572, 51713, 47003, 36008, 72119, 33659, 64946, 43337, 74420, 61658, 73753, 68131, 59024, 68230, 33148, 35343, 73750, 53601, 61183, 34812, 61031, 47005, 55069, 25244, 28888, 69634, 56588, 48333, 34225, 37287, 63445, 69442, 44124, 50706, 64830, 46876]\n"
     ]
    }
   ],
   "source": [
    "module_masses = []\n",
    "with open('Day01-input.txt', 'r') as modules:\n",
    "    for module in modules:\n",
    "        fuel = calculate_fuel(int(module))\n",
    "        module_masses.append(fuel)\n",
    "        \n",
    "print(module_masses)"
   ]
  },
  {
   "cell_type": "code",
   "execution_count": 3,
   "metadata": {},
   "outputs": [
    {
     "name": "stdout",
     "output_type": "stream",
     "text": [
      "4975084\n"
     ]
    }
   ],
   "source": [
    "print(sum(module_masses))"
   ]
  },
  {
   "cell_type": "code",
   "execution_count": null,
   "metadata": {},
   "outputs": [],
   "source": []
  }
 ],
 "metadata": {
  "kernelspec": {
   "display_name": "Python 3",
   "language": "python",
   "name": "python3"
  },
  "language_info": {
   "codemirror_mode": {
    "name": "ipython",
    "version": 3
   },
   "file_extension": ".py",
   "mimetype": "text/x-python",
   "name": "python",
   "nbconvert_exporter": "python",
   "pygments_lexer": "ipython3",
   "version": "3.7.0"
  }
 },
 "nbformat": 4,
 "nbformat_minor": 2
}
