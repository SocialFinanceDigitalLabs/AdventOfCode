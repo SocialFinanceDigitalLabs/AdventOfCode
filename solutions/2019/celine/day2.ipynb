{
 "cells": [
  {
   "cell_type": "code",
   "execution_count": null,
   "metadata": {},
   "outputs": [],
   "source": [
    "with open(\"input_day2.txt\", \"r\") as infile: \n",
    "    puzzle = infile.read().strip()\n",
    "    puzzle = [int(x) for x in puzzle.split(\",\")]"
   ]
  },
  {
   "cell_type": "markdown",
   "metadata": {},
   "source": [
    "### Part 1"
   ]
  },
  {
   "cell_type": "code",
   "execution_count": null,
   "metadata": {},
   "outputs": [],
   "source": [
    "# Replace two positions before running programme\n",
    "puzzle[1] = 12\n",
    "puzzle[2] = 2"
   ]
  },
  {
   "cell_type": "code",
   "execution_count": null,
   "metadata": {},
   "outputs": [],
   "source": [
    "def Calcul(puzzle):  \n",
    "    position0 = 0\n",
    "    position1 = 1\n",
    "    position2 = 2\n",
    "    position3 = 3\n",
    "    opcode = puzzle[0]\n",
    "    while opcode != 99:\n",
    "        if opcode == 1:\n",
    "            value = puzzle[puzzle[position1]] + puzzle[puzzle[position2]]\n",
    "        if opcode == 2:\n",
    "            value = puzzle[puzzle[position1]] * puzzle[puzzle[position2]]\n",
    "        puzzle[puzzle[position3]] = value\n",
    "        position0 += 4\n",
    "        position1 = position0+1\n",
    "        position2 = position1+1\n",
    "        position3 = position2+1\n",
    "        opcode = puzzle[position0]\n",
    "    return puzzle[0]"
   ]
  },
  {
   "cell_type": "code",
   "execution_count": null,
   "metadata": {},
   "outputs": [],
   "source": [
    "Calcul(puzzle)"
   ]
  },
  {
   "cell_type": "markdown",
   "metadata": {},
   "source": [
    "### Part 2"
   ]
  },
  {
   "cell_type": "code",
   "execution_count": null,
   "metadata": {},
   "outputs": [],
   "source": [
    "for i in range(100):\n",
    "    for j in range(100):\n",
    "        data = list(puzzle)\n",
    "        data[1], data[2] = i, j\n",
    "        if Calcul(data) == 19690720:\n",
    "            noun = i\n",
    "            verb = j\n",
    "            print(100*noun + verb)"
   ]
  }
 ],
 "metadata": {
  "kernelspec": {
   "display_name": "Python 3",
   "language": "python",
   "name": "python3"
  },
  "language_info": {
   "codemirror_mode": {
    "name": "ipython",
    "version": 3
   },
   "file_extension": ".py",
   "mimetype": "text/x-python",
   "name": "python",
   "nbconvert_exporter": "python",
   "pygments_lexer": "ipython3",
   "version": "3.7.0"
  }
 },
 "nbformat": 4,
 "nbformat_minor": 2
}
