{
 "cells": [
  {
   "cell_type": "code",
   "execution_count": null,
   "metadata": {},
   "outputs": [],
   "source": [
    "contents = list()\n",
    "with open(\"input_day1.txt\", \"r\") as infile: \n",
    "    contents = infile.read().strip()\n",
    "    contents = contents.split(\"\\n\")\n",
    "puzzle = []\n",
    "for line in contents:\n",
    "    line = int(line)\n",
    "    puzzle.append(line)"
   ]
  },
  {
   "cell_type": "markdown",
   "metadata": {},
   "source": [
    "### Part 1"
   ]
  },
  {
   "cell_type": "code",
   "execution_count": null,
   "metadata": {},
   "outputs": [],
   "source": [
    "# Calculate fuel needed\n",
    "fuel_total = 0\n",
    "for module in puzzle:\n",
    "    fuel_module = int(module/3) - 2\n",
    "    fuel_total += fuel_module\n",
    "fuel_total"
   ]
  },
  {
   "cell_type": "markdown",
   "metadata": {},
   "source": [
    "### Part 2"
   ]
  },
  {
   "cell_type": "code",
   "execution_count": null,
   "metadata": {},
   "outputs": [],
   "source": [
    "# Calculate fuel needed\n",
    "fuel_total = 0\n",
    "for module in puzzle:\n",
    "    fuel_module = 0\n",
    "    weight = module\n",
    "    while weight > 6: # 6 because we can't let the fuel go into negatives\n",
    "        fuel = int(weight/3) - 2\n",
    "        fuel_module += fuel\n",
    "        weight = fuel\n",
    "    fuel_total += fuel_module\n",
    "        \n",
    "fuel_total"
   ]
  }
 ],
 "metadata": {
  "kernelspec": {
   "display_name": "Python 3",
   "language": "python",
   "name": "python3"
  },
  "language_info": {
   "codemirror_mode": {
    "name": "ipython",
    "version": 3
   },
   "file_extension": ".py",
   "mimetype": "text/x-python",
   "name": "python",
   "nbconvert_exporter": "python",
   "pygments_lexer": "ipython3",
   "version": "3.7.0"
  }
 },
 "nbformat": 4,
 "nbformat_minor": 2
}
