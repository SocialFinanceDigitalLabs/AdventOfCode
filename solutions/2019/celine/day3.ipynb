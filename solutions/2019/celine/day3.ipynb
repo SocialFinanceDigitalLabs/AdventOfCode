{
 "cells": [
  {
   "cell_type": "code",
   "execution_count": null,
   "metadata": {},
   "outputs": [],
   "source": [
    "with open('input_day3.txt', 'r') as infile:\n",
    "    puzzle = infile.read().strip().split('\\n')"
   ]
  },
  {
   "cell_type": "code",
   "execution_count": null,
   "metadata": {},
   "outputs": [],
   "source": [
    "path1 = puzzle[0].split(',')\n",
    "path2 = puzzle[1].split(',')"
   ]
  },
  {
   "cell_type": "markdown",
   "metadata": {},
   "source": [
    "### Part 1"
   ]
  },
  {
   "cell_type": "code",
   "execution_count": null,
   "metadata": {},
   "outputs": [],
   "source": [
    "def draw(instructions):\n",
    "    position = (0,0)\n",
    "    path = set()\n",
    "    for instruction in instructions:\n",
    "        if instruction[0] == 'U':\n",
    "            x,y = 0,1\n",
    "        if instruction[0] == 'D':\n",
    "            x,y = 0,-1   \n",
    "        if instruction[0] == 'R':\n",
    "            x,y = 1,0\n",
    "        if instruction[0] == 'L':\n",
    "            x,y = -1,0\n",
    "        for step in range(int(instruction[1:])):\n",
    "            position = (position[0]+x, position[1]+y)\n",
    "            path.add(position)\n",
    "    return path\n",
    "\n",
    "def solve(cable1, cable2):\n",
    "    path1, path2 = draw(cable1), draw(cable2)\n",
    "    crosspoints = path1.intersection(path2)\n",
    "    cross = {abs(x) + abs(y) for (x,y) in crosspoints}\n",
    "    minimum = min(cross)\n",
    "    return minimum"
   ]
  },
  {
   "cell_type": "code",
   "execution_count": null,
   "metadata": {},
   "outputs": [],
   "source": [
    "answer = solve(path1, path2)\n",
    "print(answer)"
   ]
  },
  {
   "cell_type": "markdown",
   "metadata": {},
   "source": [
    "### Part 2"
   ]
  },
  {
   "cell_type": "code",
   "execution_count": null,
   "metadata": {},
   "outputs": [],
   "source": [
    "def draw(instructions):\n",
    "    position = (0,0)\n",
    "    path = {}\n",
    "    steps = 0\n",
    "    for instruction in instructions:\n",
    "        if instruction[0] == 'U':\n",
    "            x,y = 0,1\n",
    "        if instruction[0] == 'D':\n",
    "            x,y = 0,-1   \n",
    "        if instruction[0] == 'R':\n",
    "            x,y = 1,0\n",
    "        if instruction[0] == 'L':\n",
    "            x,y = -1,0\n",
    "        for step in range(int(instruction[1:])):\n",
    "            position = (position[0]+x, position[1]+y)\n",
    "            steps+=1\n",
    "            if position not in path:\n",
    "                path[position] = steps\n",
    "    return path\n",
    "\n",
    "def solve(cable1, cable2):\n",
    "    path1, path2 = draw(cable1), draw(cable2)\n",
    "    positions1 = set(path1.keys())\n",
    "    positions2 = set(path2.keys())\n",
    "    crosspoints = positions1.intersection(positions2)\n",
    "    cross = {crosspoint: path1[crosspoint]+path2[crosspoint] for crosspoint in crosspoints}\n",
    "    minimum = min(cross.values())\n",
    "    return minimum"
   ]
  },
  {
   "cell_type": "code",
   "execution_count": null,
   "metadata": {},
   "outputs": [],
   "source": [
    "solve(path1, path2)"
   ]
  }
 ],
 "metadata": {
  "kernelspec": {
   "display_name": "Python 3",
   "language": "python",
   "name": "python3"
  },
  "language_info": {
   "codemirror_mode": {
    "name": "ipython",
    "version": 3
   },
   "file_extension": ".py",
   "mimetype": "text/x-python",
   "name": "python",
   "nbconvert_exporter": "python",
   "pygments_lexer": "ipython3",
   "version": "3.7.0"
  }
 },
 "nbformat": 4,
 "nbformat_minor": 2
}
