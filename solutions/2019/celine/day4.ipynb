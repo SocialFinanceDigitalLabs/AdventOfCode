{
 "cells": [
  {
   "cell_type": "code",
   "execution_count": null,
   "metadata": {},
   "outputs": [],
   "source": [
    "import pandas as pd"
   ]
  },
  {
   "cell_type": "code",
   "execution_count": null,
   "metadata": {},
   "outputs": [],
   "source": [
    "puzzle = [372037,905157]\n",
    "\n",
    "df = pd.DataFrame(list(range(puzzle[0], puzzle[1]+1)), columns=['password'])\n",
    "df = df.reset_index()"
   ]
  },
  {
   "cell_type": "code",
   "execution_count": null,
   "metadata": {},
   "outputs": [],
   "source": [
    "# Turn password integers into list\n",
    "def password_list(series):\n",
    "    password = [int(figure) for figure in str(series)]\n",
    "    return password\n",
    "\n",
    "df.password = df.password.apply(password_list)"
   ]
  },
  {
   "cell_type": "markdown",
   "metadata": {},
   "source": [
    "### Part 1"
   ]
  },
  {
   "cell_type": "code",
   "execution_count": null,
   "metadata": {},
   "outputs": [],
   "source": [
    "# Define criteria for password\n",
    "\n",
    "def six(series):\n",
    "    if len(series) == 6 and series[0] != 0:\n",
    "        return True\n",
    "    else:\n",
    "        return False\n",
    "\n",
    "def pair(series):\n",
    "    for i in range(len(series)-1):\n",
    "        if series[i] == series[i+1]:\n",
    "            return True\n",
    "    return False\n",
    "\n",
    "def never_decrease(series):\n",
    "    for i in range(len(series)-1):\n",
    "        if series[i] > series[i+1]:\n",
    "            return False\n",
    "    return True"
   ]
  },
  {
   "cell_type": "code",
   "execution_count": null,
   "metadata": {},
   "outputs": [],
   "source": [
    "# Apply def to dataframe and find password candidates\n",
    "\n",
    "df['six'] = df.password.apply(six)\n",
    "df['pair'] = df.password.apply(pair)\n",
    "df['never_decrease'] = df.password.apply(never_decrease)\n",
    "\n",
    "condition = (df.six == True) & (df.pair == True) & (df.never_decrease == True)\n",
    "candidates = df[condition].shape[0]\n",
    "candidates"
   ]
  },
  {
   "cell_type": "markdown",
   "metadata": {},
   "source": [
    "### Part 2"
   ]
  },
  {
   "cell_type": "code",
   "execution_count": null,
   "metadata": {},
   "outputs": [],
   "source": [
    "def pair_only(series):\n",
    "    for i in range(len(series)-1):\n",
    "        if series[i] == series[i+1]:\n",
    "            if i == 0:\n",
    "                if series[i+1] != series[i+2]:\n",
    "                    return True\n",
    "            elif i == 4:\n",
    "                if series[i] != series[i-1]:\n",
    "                    return True\n",
    "            else:\n",
    "                if series[i] != series[i-1] and series[i+1] != series[i+2]:\n",
    "                    return True\n",
    "    return False"
   ]
  },
  {
   "cell_type": "code",
   "execution_count": null,
   "metadata": {},
   "outputs": [],
   "source": [
    "# Apply def to dataframe and find password candidates\n",
    "\n",
    "df['six'] = df.password.apply(six)\n",
    "df['pair'] = df.password.apply(pair_only)\n",
    "df['never_decrease'] = df.password.apply(never_decrease)\n",
    "\n",
    "condition = (df.six == True) & (df.pair == True) & (df.never_decrease == True)\n",
    "candidates = df[condition].shape[0]\n",
    "candidates"
   ]
  }
 ],
 "metadata": {
  "kernelspec": {
   "display_name": "Python 3",
   "language": "python",
   "name": "python3"
  },
  "language_info": {
   "codemirror_mode": {
    "name": "ipython",
    "version": 3
   },
   "file_extension": ".py",
   "mimetype": "text/x-python",
   "name": "python",
   "nbconvert_exporter": "python",
   "pygments_lexer": "ipython3",
   "version": "3.7.0"
  }
 },
 "nbformat": 4,
 "nbformat_minor": 2
}
