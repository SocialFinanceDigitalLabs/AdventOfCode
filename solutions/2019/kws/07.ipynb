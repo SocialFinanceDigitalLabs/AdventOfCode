{
 "cells": [
  {
   "cell_type": "markdown",
   "metadata": {},
   "source": [
    "# Day 7\n",
    "\n",
    "This builds on [day 5](./05.ipynb) \n",
    "\n",
    "\n",
    " "
   ]
  },
  {
   "cell_type": "code",
   "execution_count": null,
   "metadata": {},
   "outputs": [],
   "source": [
    "%load_ext autoreload\n",
    "%autoreload 2"
   ]
  },
  {
   "cell_type": "code",
   "execution_count": null,
   "metadata": {},
   "outputs": [],
   "source": [
    "from aoc.day07 import IntCodeComputer"
   ]
  },
  {
   "cell_type": "code",
   "execution_count": null,
   "metadata": {},
   "outputs": [],
   "source": [
    "# The example program uses an input instruction to ask for a single number. \n",
    "# The program will then output 999 if the input value is below 8, output 1000 if \n",
    "# the input value is equal to 8, or output 1001 if the input value is greater than 8.\n",
    "computer = IntCodeComputer([3,21,1008,21,8,20,1005,20,22,107,8,21,20,1006,20,31,\n",
    "                            1106,0,36,98,0,0,1002,21,125,20,4,20,1105,1,46,104,\n",
    "                            999,1105,1,46,1101,1000,1,20,4,20,1105,1,46,98,99])\n",
    "computer.run()"
   ]
  },
  {
   "cell_type": "code",
   "execution_count": null,
   "metadata": {},
   "outputs": [],
   "source": [
    "def computer_chain(memory, inputs, computers=5):\n",
    "    # Always input 0 on the first run\n",
    "    outputs = [0]\n",
    "\n",
    "    def input_value():\n",
    "        value = inputs.pop(0)\n",
    "        return value\n",
    "\n",
    "    def output_value(value):\n",
    "        return outputs.append(value)   \n",
    "\n",
    "    def create_computer():\n",
    "        computer = IntCodeComputer(list(memory), debug=False)\n",
    "        computer.input_value = input_value\n",
    "        computer.output_value = output_value\n",
    "        return computer\n",
    "    \n",
    "    for c in range(0, computers):\n",
    "        inputs.insert(1, outputs.pop())\n",
    "        create_computer().run()\n",
    "\n",
    "    \n",
    "    return outputs"
   ]
  },
  {
   "cell_type": "code",
   "execution_count": null,
   "metadata": {},
   "outputs": [],
   "source": [
    "def find_max(memory):\n",
    "    import numpy as np\n",
    "    from collections import Counter\n",
    "    from tqdm import trange\n",
    "    max_v = -1\n",
    "    setting = None\n",
    "    \n",
    "    # Each wheel has 5 combinations. Therefore we have 5**5 possible\n",
    "    for i in trange(0, 5**5):\n",
    "        v = \"{:05}\".format(int(np.base_repr(i, 5)))\n",
    "        v = [int(i) for i in v]\n",
    "        if max(Counter(v).values()) > 1:\n",
    "            continue\n",
    "        o = computer_chain(memory, list(v))[0]\n",
    "        if o > max_v:\n",
    "            setting = v\n",
    "            max_v = o\n",
    "    \n",
    "    return max_v, setting"
   ]
  },
  {
   "cell_type": "code",
   "execution_count": null,
   "metadata": {},
   "outputs": [],
   "source": [
    "# 43210\n",
    "prog = [3,15,3,16,1002,16,10,16,1,16,15,15,4,15,99,0,0]\n",
    "display(computer_chain(prog, [4,3,2,1,0]))\n",
    "find_max(prog)"
   ]
  },
  {
   "cell_type": "code",
   "execution_count": null,
   "metadata": {},
   "outputs": [],
   "source": [
    "# 54321\n",
    "prog = [3,23,3,24,1002,24,10,24,1002,23,-1,23,101,5,23,23,1,24,23,23,4,23,99,0,0]\n",
    "display(computer_chain(prog, [0,1,2,3,4]))\n",
    "find_max(prog)"
   ]
  },
  {
   "cell_type": "code",
   "execution_count": null,
   "metadata": {},
   "outputs": [],
   "source": [
    "# 65210\n",
    "prog = [3,31,3,32,1002,32,10,32,1001,31,-2,31,1007,31,0,33,1002,33,7,33,1,33,31,\n",
    "        31,1,32,31,31,4,31,99,0,0,0]\n",
    "display(computer_chain(prog, [1,0,4,3,2]))\n",
    "find_max(prog)"
   ]
  },
  {
   "cell_type": "code",
   "execution_count": null,
   "metadata": {},
   "outputs": [],
   "source": [
    "with open(\"07-input.txt\", \"rt\") as FILE:\n",
    "    data = FILE.read()\n",
    "    data = data.split(\",\")\n",
    "    data = [int(d) for d in data]\n",
    "data[:8]"
   ]
  },
  {
   "cell_type": "code",
   "execution_count": null,
   "metadata": {},
   "outputs": [],
   "source": [
    "find_max(data)"
   ]
  },
  {
   "cell_type": "markdown",
   "metadata": {},
   "source": [
    "## Part 2"
   ]
  },
  {
   "cell_type": "code",
   "execution_count": null,
   "metadata": {},
   "outputs": [],
   "source": [
    "def piped_computer_chain(memory, inputs, computers=5):\n",
    "    def create_computer():\n",
    "        computer = IntCodeComputer(list(memory),debug=False)\n",
    "\n",
    "        def input_value():\n",
    "            if len(computer.in_pipe) == 0:\n",
    "                return None\n",
    "            else:\n",
    "                return computer.in_pipe.pop(0)\n",
    "\n",
    "        def output_value(value):\n",
    "            return computer.out_pipe.append(value)  \n",
    "        \n",
    "        computer.input_value = input_value\n",
    "        computer.output_value = output_value\n",
    "        return computer\n",
    "    \n",
    "    comps = []\n",
    "    for c in range(computers):\n",
    "        computer = create_computer()\n",
    "        computer.in_pipe = [inputs[c]]\n",
    "        comps.append(computer)\n",
    "\n",
    "    # Hook em all up\n",
    "    for c in range(computers-1):\n",
    "        comps[c].out_pipe = comps[c+1].in_pipe\n",
    "        \n",
    "    # Create loop\n",
    "    comps[-1].out_pipe = comps[0].in_pipe \n",
    "    \n",
    "    # Starting value\n",
    "    comps[0].in_pipe.append(0)\n",
    "\n",
    "    # Final Output\n",
    "    output = comps[-1].out_pipe\n",
    "\n",
    "    while len(comps)>0:\n",
    "        for c in comps:\n",
    "            exit = c.run()\n",
    "            if (exit == -1):\n",
    "                comps.remove(c)\n",
    "                \n",
    "        \n",
    "    return output"
   ]
  },
  {
   "cell_type": "code",
   "execution_count": null,
   "metadata": {},
   "outputs": [],
   "source": [
    "def piped_find_max(memory):\n",
    "    import numpy as np\n",
    "    from collections import Counter\n",
    "    from tqdm import trange\n",
    "    max_v = -1\n",
    "    setting = None\n",
    "    \n",
    "    # Each wheel has 5 combinations. Therefore we have 5**5 possible\n",
    "    for i in trange(5**5):\n",
    "        v = \"{:05}\".format(int(np.base_repr(i, 5)))\n",
    "        v = [5+int(i) for i in v]\n",
    "        if max(Counter(v).values()) > 1:\n",
    "            continue\n",
    "        o = piped_computer_chain(memory, list(v))[0]\n",
    "        if o > max_v:\n",
    "            setting = v\n",
    "            max_v = o\n",
    "    \n",
    "    return max_v, setting"
   ]
  },
  {
   "cell_type": "code",
   "execution_count": null,
   "metadata": {},
   "outputs": [],
   "source": [
    "prog = [3,26,1001,26,-4,26,3,27,1002,27,2,27,1,27,26,27,4,27,1001,28,-1,28,1005,28,6,99,0,0,5]\n",
    "display(piped_computer_chain(prog, [9,8,7,6,5]))\n",
    "piped_find_max(prog)"
   ]
  },
  {
   "cell_type": "code",
   "execution_count": null,
   "metadata": {},
   "outputs": [],
   "source": [
    "prog = [3,52,1001,52,-5,52,3,53,1,52,56,54,1007,54,5,55,1005,55,26,1001,54,\n",
    "        -5,54,1105,1,12,1,53,54,53,1008,54,0,55,1001,55,1,55,2,53,55,53,4,\n",
    "        53,1001,56,-1,56,1005,56,6,99,0,0,0,0,10]\n",
    "display(piped_computer_chain(prog, [9, 7, 8, 5, 6]))\n",
    "piped_find_max(prog)"
   ]
  },
  {
   "cell_type": "code",
   "execution_count": null,
   "metadata": {},
   "outputs": [],
   "source": [
    "piped_find_max(data)"
   ]
  },
  {
   "cell_type": "code",
   "execution_count": null,
   "metadata": {},
   "outputs": [],
   "source": []
  }
 ],
 "metadata": {
  "kernelspec": {
   "display_name": "Python 3",
   "language": "python",
   "name": "python3"
  },
  "language_info": {
   "codemirror_mode": {
    "name": "ipython",
    "version": 3
   },
   "file_extension": ".py",
   "mimetype": "text/x-python",
   "name": "python",
   "nbconvert_exporter": "python",
   "pygments_lexer": "ipython3",
   "version": "3.7.5"
  }
 },
 "nbformat": 4,
 "nbformat_minor": 4
}
