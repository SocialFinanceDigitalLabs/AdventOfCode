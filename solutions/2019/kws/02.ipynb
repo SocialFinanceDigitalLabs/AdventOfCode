{
 "cells": [
  {
   "cell_type": "code",
   "execution_count": null,
   "metadata": {},
   "outputs": [],
   "source": []
  },
  {
   "cell_type": "code",
   "execution_count": null,
   "metadata": {},
   "outputs": [],
   "source": [
    "def add(a, b, result, memory):\n",
    "    memory[result] = memory[a] + memory[b]\n",
    "    return True\n",
    "    \n",
    "def multiply(a, b, result, memory):\n",
    "    memory[result] = memory[a] * memory[b]\n",
    "    return True\n",
    "\n",
    "def stop(a, b, result, memory):\n",
    "    return False\n",
    "\n",
    "operations = {\n",
    "    1: add,\n",
    "    2: multiply,\n",
    "    99: stop\n",
    "    }\n",
    "\n",
    "def execute(opco, a=None, b=None, result=None, memory=None):\n",
    "    operation = operations[opco]\n",
    "    return operation(a, b, result, memory)\n",
    "    \n",
    "def run(memory):\n",
    "    pointer = 0\n",
    "    memory = list(memory)\n",
    "    while True:\n",
    "        running = execute(*memory[pointer:pointer+4], memory)\n",
    "        if not running:\n",
    "            break\n",
    "        pointer += 4\n",
    "    return memory\n",
    "        \n",
    "       \n",
    "\n",
    "assert run([1,0,0,0,99]) == [2,0,0,0,99]\n",
    "assert run([2,4,4,5,99,0]) == [2,4,4,5,99,9801]\n",
    "assert run([1,1,1,4,99,5,6,0,99]) == [30,1,1,4,2,5,6,0,99]\n"
   ]
  },
  {
   "cell_type": "code",
   "execution_count": null,
   "metadata": {},
   "outputs": [],
   "source": [
    "with open(\"02-input.txt\", \"rt\") as FILE:\n",
    "    data = FILE.read()\n",
    "    data = data.split(\",\")\n",
    "    data = [int(d) for d in data]\n",
    "data[:8]"
   ]
  },
  {
   "cell_type": "code",
   "execution_count": null,
   "metadata": {},
   "outputs": [],
   "source": [
    "# replace position 1 with the value 12 and replace position 2 with the value 2\n",
    "data[1] = 12\n",
    "data[2] = 2\n",
    "output = run(data)\n",
    "output[0]"
   ]
  },
  {
   "cell_type": "markdown",
   "metadata": {},
   "source": [
    "## Part 2"
   ]
  },
  {
   "cell_type": "code",
   "execution_count": null,
   "metadata": {},
   "outputs": [],
   "source": [
    "# This is the value you are supposed to calculate\n",
    "target_output = 19690720"
   ]
  },
  {
   "cell_type": "code",
   "execution_count": null,
   "metadata": {},
   "outputs": [],
   "source": [
    "for noun in range(0, 99):\n",
    "    for verb in range(0, 99):\n",
    "        data[1] = noun\n",
    "        data[2] = verb\n",
    "        output = run(data)\n",
    "        if output[0] == target_output:\n",
    "            print(noun, verb, output[0])\n",
    "            print(\"The puzzle output is\", (100*noun) + verb)\n",
    "            break\n",
    "        "
   ]
  },
  {
   "cell_type": "code",
   "execution_count": null,
   "metadata": {},
   "outputs": [],
   "source": []
  }
 ],
 "metadata": {
  "kernelspec": {
   "display_name": "Python 3",
   "language": "python",
   "name": "python3"
  },
  "language_info": {
   "codemirror_mode": {
    "name": "ipython",
    "version": 3
   },
   "file_extension": ".py",
   "mimetype": "text/x-python",
   "name": "python",
   "nbconvert_exporter": "python",
   "pygments_lexer": "ipython3",
   "version": "3.7.0"
  }
 },
 "nbformat": 4,
 "nbformat_minor": 2
}
