{
 "cells": [
  {
   "cell_type": "code",
   "execution_count": null,
   "metadata": {},
   "outputs": [],
   "source": [
    "import math\n",
    "import copy"
   ]
  },
  {
   "cell_type": "code",
   "execution_count": null,
   "metadata": {},
   "outputs": [],
   "source": [
    "sample1 = \"\"\"\n",
    ".#..#\n",
    ".....\n",
    "#####\n",
    "....#\n",
    "...##\n",
    "\"\"\"\n",
    "sample1 = [l for l in sample1.splitlines() if len(l)>0]\n",
    "sample1"
   ]
  },
  {
   "cell_type": "code",
   "execution_count": null,
   "metadata": {},
   "outputs": [],
   "source": [
    "def find_asteroids(data):\n",
    "    asteroids = []\n",
    "    for y, line in enumerate(data):\n",
    "        for x, char in enumerate(line):\n",
    "            if char == \"#\":\n",
    "                asteroids.append(dict(pos=(x,y)))\n",
    "    return asteroids\n",
    "        \n",
    "def calculate_distance(point, asteroids):\n",
    "    for a in asteroids:\n",
    "        dx = point[0] - a[\"pos\"][0]\n",
    "        dy = point[1] - a[\"pos\"][1]\n",
    "        l = math.sqrt(dx**2 + dy**2)\n",
    "        a[\"dist\"] = (dx,dy,l)\n",
    "        \n",
    "        d = math.gcd(dx, dy)\n",
    "        if d>0:\n",
    "            a[\"angle\"] = (int(dx/d), int(dy/d))\n",
    "    return asteroids\n",
    "\n",
    "def filter_visible(asteroids):\n",
    "    asteroids = sorted(asteroids, key=lambda x: x[\"dist\"][2], reverse=True)\n",
    "    angle_dict = {}\n",
    "    for a in asteroids:\n",
    "        if \"angle\" in a:\n",
    "            angle_dict[a[\"angle\"]] = a\n",
    "    return angle_dict\n",
    "        \n",
    "def find_visible(asteroids):\n",
    "    for a in asteroids:\n",
    "        x = calculate_distance(a[\"pos\"], copy.deepcopy(asteroids))\n",
    "        x = filter_visible(x)\n",
    "        a[\"visible\"] = len(x)\n",
    "\n",
    "    \n",
    "    return asteroids, max(asteroids, key=lambda x: x[\"visible\"])   \n"
   ]
  },
  {
   "cell_type": "code",
   "execution_count": null,
   "metadata": {},
   "outputs": [],
   "source": [
    "asteroids = find_asteroids(sample1)\n",
    "asteroids = calculate_distance((4,4), asteroids)\n",
    "asteroids = filter_visible(asteroids)\n",
    "\n",
    "aster = {a[\"pos\"]: a for a in asteroids.values()}\n",
    "\n",
    "for x in range(0,5):\n",
    "    line = \"\"\n",
    "    for y in range(0,5):\n",
    "        p = aster.get((x,y))\n",
    "        line += \"#\" if p is not None else \".\"\n",
    "    print(line)\n",
    "        \n",
    "        "
   ]
  },
  {
   "cell_type": "code",
   "execution_count": null,
   "metadata": {},
   "outputs": [],
   "source": [
    "asteroids = find_asteroids(sample1)\n",
    "asteroids = find_visible(asteroids)\n",
    "asteroids[1]"
   ]
  },
  {
   "cell_type": "code",
   "execution_count": null,
   "metadata": {},
   "outputs": [],
   "source": [
    "sample2 = \"\"\"\n",
    "......#.#.\n",
    "#..#.#....\n",
    "..#######.\n",
    ".#.#.###..\n",
    ".#..#.....\n",
    "..#....#.#\n",
    "#..#....#.\n",
    ".##.#..###\n",
    "##...#..#.\n",
    ".#....####\n",
    "\"\"\"\n",
    "sample2 = [l for l in sample2.splitlines() if len(l)>0]\n",
    "asteroids = find_asteroids(sample2)\n",
    "asteroids = find_visible(asteroids)\n",
    "asteroids[1]"
   ]
  },
  {
   "cell_type": "code",
   "execution_count": null,
   "metadata": {},
   "outputs": [],
   "source": [
    "sample3 = \"\"\"\n",
    "#.#...#.#.\n",
    ".###....#.\n",
    ".#....#...\n",
    "##.#.#.#.#\n",
    "....#.#.#.\n",
    ".##..###.#\n",
    "..#...##..\n",
    "..##....##\n",
    "......#...\n",
    ".####.###.\n",
    "\"\"\"\n",
    "sample3 = [l for l in sample3.splitlines() if len(l)>0]\n",
    "asteroids = find_asteroids(sample3)\n",
    "asteroids = find_visible(asteroids)\n",
    "asteroids[1]"
   ]
  },
  {
   "cell_type": "code",
   "execution_count": null,
   "metadata": {},
   "outputs": [],
   "source": [
    "sample5 = \"\"\"\n",
    ".#..##.###...#######\n",
    "##.############..##.\n",
    ".#.######.########.#\n",
    ".###.#######.####.#.\n",
    "#####.##.#.##.###.##\n",
    "..#####..#.#########\n",
    "####################\n",
    "#.####....###.#.#.##\n",
    "##.#################\n",
    "#####.##.###..####..\n",
    "..######..##.#######\n",
    "####.##.####...##..#\n",
    ".#####..#.######.###\n",
    "##...#.##########...\n",
    "#.##########.#######\n",
    ".####.#.###.###.#.##\n",
    "....##.##.###..#####\n",
    ".#.#.###########.###\n",
    "#.#.#.#####.####.###\n",
    "###.##.####.##.#..##\n",
    "\"\"\"\n",
    "sample5 = [l for l in sample5.splitlines() if len(l)>0]\n",
    "asteroids = find_asteroids(sample5)\n",
    "asteroids = find_visible(asteroids)\n",
    "asteroids[1]"
   ]
  },
  {
   "cell_type": "code",
   "execution_count": null,
   "metadata": {},
   "outputs": [],
   "source": [
    "with open(\"10-input.txt\", \"rt\") as FILE:\n",
    "    data = FILE.readlines()\n",
    "    \n",
    "data = [d.strip() for d in data]\n",
    "asteroids = find_asteroids(data)\n",
    "asteroids = find_visible(asteroids)\n",
    "asteroids[1]"
   ]
  },
  {
   "cell_type": "markdown",
   "metadata": {},
   "source": [
    "# Part 2"
   ]
  },
  {
   "cell_type": "code",
   "execution_count": null,
   "metadata": {},
   "outputs": [],
   "source": [
    "sample_p2 = \"\"\"\n",
    ".#....#####...#..\n",
    "##...##.#####..##\n",
    "##...#...#.#####.\n",
    "..#.........###..\n",
    "..#.#.....#....##\n",
    "\"\"\"\n",
    "sample_p2 = [l for l in sample_p2.splitlines() if len(l)>0]\n"
   ]
  },
  {
   "cell_type": "code",
   "execution_count": null,
   "metadata": {},
   "outputs": [],
   "source": [
    "\n",
    "def plot(point, asteroids):\n",
    "    x_min = min(asteroids, key=lambda a: a[\"pos\"][0])[\"pos\"][0]\n",
    "    x_max = max(asteroids, key=lambda a: a[\"pos\"][0])[\"pos\"][0]\n",
    "    y_min = min(asteroids, key=lambda a: a[\"pos\"][1])[\"pos\"][1]\n",
    "    y_max = max(asteroids, key=lambda a: a[\"pos\"][1])[\"pos\"][1]\n",
    "    \n",
    "    a_dict = {a[\"pos\"]: ix for ix, a in enumerate(asteroids)}\n",
    "    \n",
    "    for y in range(y_min, y_max+1):\n",
    "        line = \"\"\n",
    "        for x in range(x_min, x_max+1):\n",
    "            pos = (x,y)\n",
    "            a = a_dict.get(pos)\n",
    "            if pos == point:\n",
    "                line += \"X\"\n",
    "            else:\n",
    "                line += \"#\" if a is not None else \".\"\n",
    "        print (line)\n",
    "        \n",
    "plot((8, 3), find_asteroids(sample_p2))"
   ]
  },
  {
   "cell_type": "code",
   "execution_count": null,
   "metadata": {},
   "outputs": [],
   "source": [
    "from math import asin, acos, sqrt, degrees\n",
    "\n",
    "def degrees_to(x, y):\n",
    "    l = sqrt(x**2 + y**2)\n",
    "    d = degrees(asin(x/l))\n",
    "    if x > 0 and y < 0:\n",
    "        d = 90+d\n",
    "    elif x < 0 and y < 0:\n",
    "        d = 270 + d\n",
    "    elif x < 0 and y >= 0:\n",
    "        d = 360 + d\n",
    "    return d\n",
    "    \n",
    "\n",
    "def sort_by_angle(point, data):\n",
    "    asteroids = find_asteroids(data)\n",
    "    asteroids = calculate_distance(point, asteroids)\n",
    "    \n",
    "    asteroids = [a for a in asteroids if a.get(\"angle\") is not None]\n",
    "    \n",
    "    for a in asteroids:\n",
    "        A = a.get(\"angle\")\n",
    "        a[\"angle\"] = (A[0], A[1], degrees_to(-A[0], A[1]))\n",
    "    visible = filter_visible(asteroids)\n",
    "    for v in visible.values():\n",
    "        v[\"visible\"] = True\n",
    "        \n",
    "    asteroids.sort(key=lambda a: a[\"angle\"][2])\n",
    "    return asteroids\n",
    "\n",
    "def plot_d(asteroids):\n",
    "    x_min = min(asteroids, key=lambda a: a[\"pos\"][0])[\"pos\"][0]\n",
    "    x_max = max(asteroids, key=lambda a: a[\"pos\"][0])[\"pos\"][0]\n",
    "    y_min = min(asteroids, key=lambda a: a[\"pos\"][1])[\"pos\"][1]\n",
    "    y_max = max(asteroids, key=lambda a: a[\"pos\"][1])[\"pos\"][1]\n",
    "    \n",
    "    a_dict = {a[\"pos\"]: ix for ix, a in enumerate(asteroids)}\n",
    "    \n",
    "    for y in range(y_min, y_max+1):\n",
    "        line = \"\"\n",
    "        for x in range(x_min, x_max+1):\n",
    "            pos = (x,y)\n",
    "            a = a_dict.get(pos)\n",
    "            line += \"{:02}\".format(a) if a is not None else \"..\"\n",
    "        print (line)\n",
    "    \n",
    "asteroids = sort_by_angle((8,3), sample_p2)\n",
    "asteroids[:5]"
   ]
  },
  {
   "cell_type": "code",
   "execution_count": null,
   "metadata": {},
   "outputs": [],
   "source": [
    "asteroids = sort_by_angle((11,13), sample5)\n",
    "# We have more than 200 visible asteroids, so we only need to consider the current visible set\n",
    "visible = [a for a in asteroids if a.get(\"visible\") is not None]\n",
    "visible[199]"
   ]
  },
  {
   "cell_type": "code",
   "execution_count": null,
   "metadata": {},
   "outputs": [],
   "source": [
    "asteroids = sort_by_angle((31,20), data)\n",
    "# We have more than 200 visible asteroids, so we only need to consider the current visible set\n",
    "visible = [a for a in asteroids if a.get(\"visible\") is not None]\n",
    "visible[199]"
   ]
  },
  {
   "cell_type": "code",
   "execution_count": null,
   "metadata": {},
   "outputs": [],
   "source": []
  }
 ],
 "metadata": {
  "kernelspec": {
   "display_name": "Python 3",
   "language": "python",
   "name": "python3"
  },
  "language_info": {
   "codemirror_mode": {
    "name": "ipython",
    "version": 3
   },
   "file_extension": ".py",
   "mimetype": "text/x-python",
   "name": "python",
   "nbconvert_exporter": "python",
   "pygments_lexer": "ipython3",
   "version": "3.7.5"
  }
 },
 "nbformat": 4,
 "nbformat_minor": 4
}
