{
 "cells": [
  {
   "cell_type": "markdown",
   "metadata": {},
   "source": [
    "# Day 16"
   ]
  },
  {
   "cell_type": "code",
   "execution_count": null,
   "metadata": {},
   "outputs": [],
   "source": [
    "def do_phase_calculation(value, base_pattern=[0, 1, 0, -1]):\n",
    "    total = \"\"\n",
    "    for ix, digit in enumerate(value):\n",
    "        pattern = []\n",
    "        for d in base_pattern:\n",
    "            for i in range(ix+1):\n",
    "                pattern.append(d)\n",
    "                \n",
    "        while len(pattern) < len(value)+1:\n",
    "            pattern += pattern\n",
    "\n",
    "        pattern = pattern[1:]\n",
    "        \n",
    "        sums = 0\n",
    "        for ix, v in enumerate(value):\n",
    "            v = int(v) * pattern[ix]\n",
    "            sums += v\n",
    "        sums=str(sums)[-1]\n",
    "        total += sums\n",
    "    return total\n",
    "            \n",
    "def do_n_phases(value, phases):\n",
    "    for n in range(phases):\n",
    "        value = do_phase_calculation(value)\n",
    "    \n",
    "    return value\n",
    "\n",
    "do_n_phases(\"12345678\", 4)"
   ]
  },
  {
   "cell_type": "code",
   "execution_count": null,
   "metadata": {},
   "outputs": [],
   "source": [
    "print(do_n_phases(\"80871224585914546619083218645595\", 100)[:8])\n",
    "print(do_n_phases(\"19617804207202209144916044189917\", 100)[:8])\n",
    "print(do_n_phases(\"69317163492948606335995924319873\", 100)[:8])"
   ]
  },
  {
   "cell_type": "code",
   "execution_count": null,
   "metadata": {},
   "outputs": [],
   "source": [
    "with open(\"16-input.txt\", \"rt\") as FILE:\n",
    "    value = FILE.read().strip()\n",
    "value"
   ]
  },
  {
   "cell_type": "code",
   "execution_count": null,
   "metadata": {},
   "outputs": [],
   "source": [
    "do_n_phases(value, 100)[:8]"
   ]
  },
  {
   "cell_type": "markdown",
   "metadata": {},
   "source": [
    "# Part 2\n",
    "\n",
    "We need to optimize slightly or it will take too long to run"
   ]
  },
  {
   "cell_type": "code",
   "execution_count": null,
   "metadata": {},
   "outputs": [],
   "source": []
  }
 ],
 "metadata": {
  "kernelspec": {
   "display_name": "Python 3",
   "language": "python",
   "name": "python3"
  },
  "language_info": {
   "codemirror_mode": {
    "name": "ipython",
    "version": 3
   },
   "file_extension": ".py",
   "mimetype": "text/x-python",
   "name": "python",
   "nbconvert_exporter": "python",
   "pygments_lexer": "ipython3",
   "version": "3.7.5"
  }
 },
 "nbformat": 4,
 "nbformat_minor": 4
}
