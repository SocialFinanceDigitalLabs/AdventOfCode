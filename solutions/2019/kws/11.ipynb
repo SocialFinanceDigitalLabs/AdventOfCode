{
 "cells": [
  {
   "cell_type": "code",
   "execution_count": null,
   "metadata": {},
   "outputs": [],
   "source": [
    "from aoc.day09 import IntCodeComputer\n",
    "import numpy as np"
   ]
  },
  {
   "cell_type": "code",
   "execution_count": null,
   "metadata": {},
   "outputs": [],
   "source": [
    "class Robot():\n",
    "    def __init__(self, space, debug=False):\n",
    "        self.space = space\n",
    "        self.x = self.y = 0\n",
    "        self.heading = 0\n",
    "        self.debug = debug\n",
    "        \n",
    "    def get_colour(self):\n",
    "        return space.get((self.x, self.y), 0)\n",
    "    \n",
    "    def paint(self, colour):\n",
    "        assert colour == 0 or colour == 1\n",
    "        space[(self.x, self.y)] = colour\n",
    "        if self.debug:\n",
    "            print(\"Painted {},{} the colour {}\".format(self.x, self.y, colour))\n",
    "        \n",
    "    def turn(self, direction):\n",
    "        assert direction == 0 or direction == 1\n",
    "        \n",
    "        # 0 - left ; 1 - right\n",
    "        if direction == 0:\n",
    "            self.heading = self.heading - 90\n",
    "        else:\n",
    "            self.heading = self.heading + 90\n",
    "        \n",
    "        while self.heading < 0:\n",
    "            self.heading += 360\n",
    "    \n",
    "        while self.heading >= 360:\n",
    "            self.heading -= 360\n",
    "\n",
    "        if self.debug:\n",
    "            print(\"Turned direction {} now heading {}\".format(direction, self.heading))\n",
    "\n",
    "        self.move(1)\n",
    "\n",
    "        \n",
    "    def move(self, distance=1):\n",
    "        assert self.heading == 0 or\\\n",
    "               self.heading == 90 or\\\n",
    "               self.heading == 180 or\\\n",
    "               self.heading == 270\n",
    "\n",
    "        if self.heading == 0:\n",
    "            self.y += distance\n",
    "        elif self.heading == 90:\n",
    "            self.x += distance\n",
    "        elif self.heading == 180:\n",
    "            self.y -= distance\n",
    "        elif self.heading == 270:\n",
    "            self.x -= distance\n",
    "            \n",
    "        if self.debug:\n",
    "            print(\"Moved {} now at {},{}\".format(distance, self.x, self.y))\n",
    "\n",
    "            \n",
    "            \n",
    "        \n",
    "        "
   ]
  },
  {
   "cell_type": "code",
   "execution_count": null,
   "metadata": {},
   "outputs": [],
   "source": [
    "with open(\"11-input.txt\", \"rt\") as FILE:\n",
    "    data = FILE.read()\n",
    "    data = data.split(\",\")\n",
    "    data = [int(d) for d in data]\n",
    "data[:8]"
   ]
  },
  {
   "cell_type": "code",
   "execution_count": null,
   "metadata": {},
   "outputs": [],
   "source": [
    "space = {}\n",
    "robot = Robot(space)\n",
    "\n",
    "def input_value():\n",
    "    return robot.get_colour()\n",
    "\n",
    "outputs = []\n",
    "def output_value(value):\n",
    "    outputs.append(value)\n",
    "    if len(outputs) >= 2:\n",
    "        robot.paint(outputs.pop(0))\n",
    "        robot.turn(outputs.pop(0))\n",
    "    \n",
    "    \n",
    "computer = IntCodeComputer(list(data), debug=False)\n",
    "computer.input_value = input_value\n",
    "computer.output_value = output_value\n",
    "\n",
    "computer.run()"
   ]
  },
  {
   "cell_type": "code",
   "execution_count": null,
   "metadata": {},
   "outputs": [],
   "source": [
    "len(space)"
   ]
  },
  {
   "cell_type": "markdown",
   "metadata": {},
   "source": [
    "# Part 2"
   ]
  },
  {
   "cell_type": "code",
   "execution_count": null,
   "metadata": {},
   "outputs": [],
   "source": [
    "space = {(0,0): 1}\n",
    "robot = Robot(space)\n",
    "\n",
    "computer = IntCodeComputer(list(data), debug=False)\n",
    "computer.input_value = input_value\n",
    "computer.output_value = output_value\n",
    "\n",
    "computer.run()"
   ]
  },
  {
   "cell_type": "code",
   "execution_count": null,
   "metadata": {},
   "outputs": [],
   "source": []
  },
  {
   "cell_type": "code",
   "execution_count": null,
   "metadata": {},
   "outputs": [],
   "source": [
    "min(space.keys(), key=lambda x: x[1])"
   ]
  },
  {
   "cell_type": "code",
   "execution_count": null,
   "metadata": {},
   "outputs": [],
   "source": [
    "min_x = min(space.keys(), key=lambda x: x[0])[0]\n",
    "max_x = max(space.keys(), key=lambda x: x[0])[0]\n",
    "min_y = min(space.keys(), key=lambda x: x[1])[1]\n",
    "max_y = max(space.keys(), key=lambda x: x[1])[1]\n",
    "\n",
    "image_rows = []\n",
    "for y in range(max_y, min_y-1, -1):\n",
    "    image_col = []\n",
    "    image_rows.append(image_col)\n",
    "    for x in range(min_x, max_x+1):\n",
    "        image_col.append(space.get((x,y), 0))\n",
    "        \n",
    "\n",
    "from matplotlib import pyplot as plt\n",
    "plt.imshow(image_rows)\n",
    "plt.show()"
   ]
  },
  {
   "cell_type": "code",
   "execution_count": null,
   "metadata": {},
   "outputs": [],
   "source": []
  }
 ],
 "metadata": {
  "kernelspec": {
   "display_name": "Python 3",
   "language": "python",
   "name": "python3"
  },
  "language_info": {
   "codemirror_mode": {
    "name": "ipython",
    "version": 3
   },
   "file_extension": ".py",
   "mimetype": "text/x-python",
   "name": "python",
   "nbconvert_exporter": "python",
   "pygments_lexer": "ipython3",
   "version": "3.7.5"
  }
 },
 "nbformat": 4,
 "nbformat_minor": 4
}
