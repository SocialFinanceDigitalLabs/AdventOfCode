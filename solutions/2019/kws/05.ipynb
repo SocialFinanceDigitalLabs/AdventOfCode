{
 "cells": [
  {
   "cell_type": "markdown",
   "metadata": {},
   "source": [
    "# Day 5\n",
    "\n",
    "This builds on [day 2](./02.ipynb) but adds several new modes. \n",
    "\n",
    " * New Input and Output functions\n",
    " * Variable parameter operations\n",
    " * Parameter modes\n",
    " * Immediate mode operations\n",
    " \n",
    " \n",
    "We will change our operation spec to take current memory pointer and memory and then return the new memory pointer. Return a negative number for an exit code.\n",
    "\n",
    "\n",
    "\n",
    " "
   ]
  },
  {
   "cell_type": "code",
   "execution_count": null,
   "metadata": {},
   "outputs": [],
   "source": [
    "# First we need to support parameter mode\n",
    "def parse_operation(oper):\n",
    "    value = \"{:05}\".format(oper)\n",
    "    assert int(value) == oper\n",
    "    assert len(value) == 5\n",
    "    \n",
    "    a = int(value[0])\n",
    "    b = int(value[1])\n",
    "    c = int(value[2])\n",
    "    op = int(value[3:])\n",
    "    \n",
    "    return dict(op=op, a=a, b=b, c=c)\n",
    "    \n",
    "assert parse_operation(1002) == dict(op=2, a=0, b=1, c=0)\n"
   ]
  },
  {
   "cell_type": "code",
   "execution_count": null,
   "metadata": {},
   "outputs": [],
   "source": [
    "def test_oper(oper, memory, ptr=0):\n",
    "    op = parse_operation(memory[ptr])\n",
    "    return oper(ptr, op['a'], op['b'], op['c'], memory), memory"
   ]
  },
  {
   "cell_type": "code",
   "execution_count": null,
   "metadata": {},
   "outputs": [],
   "source": [
    "def add(ptr, ma, mb, mc, memory):\n",
    "    a = memory[ptr+1]\n",
    "    b = memory[ptr+2]\n",
    "    c = memory[ptr+3]\n",
    "    \n",
    "    if mc == 0:\n",
    "        a = memory[a]\n",
    "    \n",
    "    if mb == 0:\n",
    "        b = memory[b]\n",
    "    \n",
    "    # Output is always in position mode\n",
    "    memory[c] = a + b\n",
    "    \n",
    "    return ptr+4\n",
    "\n",
    "assert test_oper(add, [1001,4,3,4,0]) == (4, [1001, 4, 3, 4, 3])"
   ]
  },
  {
   "cell_type": "code",
   "execution_count": null,
   "metadata": {},
   "outputs": [],
   "source": [
    "def multiply(ptr, ma, mb, mc, memory):\n",
    "    a = memory[ptr+1]\n",
    "    b = memory[ptr+2]\n",
    "    c = memory[ptr+3]\n",
    "\n",
    "    if mc == 0:\n",
    "        a = memory[a]\n",
    "    \n",
    "    if mb == 0:\n",
    "        b = memory[b]\n",
    "        \n",
    "    # Output is always in position mode\n",
    "    memory[c] = a * b\n",
    "    \n",
    "    return ptr+4\n",
    "\n",
    "test_oper(multiply, [1002,4,3,4,33]) == (4, [1002,4,3,4,99])"
   ]
  },
  {
   "cell_type": "markdown",
   "metadata": {},
   "source": [
    "First, you'll need to add two new instructions:\n",
    "\n",
    "* Opcode 3 takes a single integer as input and saves it to the position given by its only parameter. For example, the instruction 3,50 would take an input value and store it at address 50.\n",
    "* Opcode 4 outputs the value of its only parameter. For example, the instruction 4,50 would output the value at address 50."
   ]
  },
  {
   "cell_type": "code",
   "execution_count": null,
   "metadata": {},
   "outputs": [],
   "source": [
    "def user_input(ptr, ma, mb, mc, memory):\n",
    "    value = int(input())\n",
    "    memory[memory[ptr+1]] = value\n",
    "    return ptr+2\n"
   ]
  },
  {
   "cell_type": "code",
   "execution_count": null,
   "metadata": {},
   "outputs": [],
   "source": [
    "def user_output(ptr, ma, mb, mc, memory):\n",
    "    a = memory[ptr+1]\n",
    "    if mc == 0:\n",
    "        a = memory[a]\n",
    "\n",
    "    print(\"OUTPUT:\", a)\n",
    "    return ptr+2  "
   ]
  },
  {
   "cell_type": "code",
   "execution_count": null,
   "metadata": {},
   "outputs": [],
   "source": [
    "def stop(ptr, ma, mb, mc, memory):\n",
    "    return -1\n",
    "\n",
    "test_oper(stop, [1002,4,3,4,99]) == (-1, [1002,4,3,4,99])"
   ]
  },
  {
   "cell_type": "code",
   "execution_count": null,
   "metadata": {},
   "outputs": [],
   "source": [
    "operations = {\n",
    "    1: add,\n",
    "    2: multiply,\n",
    "    3: user_input,\n",
    "    4: user_output,\n",
    "    99: stop\n",
    "    }\n",
    "\n",
    "def execute(ptr, memory):\n",
    "    op = parse_operation(memory[ptr])\n",
    "#     print(ptr, op, memory[:20])\n",
    "    operation = operations[op['op']]\n",
    "    return operation(ptr, op['a'], op['b'], op['c'], memory)\n",
    "    \n",
    "def run(memory):\n",
    "    pointer = 0\n",
    "    memory = list(memory)\n",
    "    while True:\n",
    "        pointer = execute(pointer, memory)\n",
    "        if pointer < 0:\n",
    "            break\n",
    "        \n",
    "    return pointer, memory\n",
    "        \n",
    "       \n",
    "run([1002,4,3,4,33])\n",
    "assert run([1002,4,3,4,33]) == (-1, [1002, 4, 3, 4, 99])\n"
   ]
  },
  {
   "cell_type": "code",
   "execution_count": null,
   "metadata": {},
   "outputs": [],
   "source": [
    "with open(\"05-input.txt\", \"rt\") as FILE:\n",
    "    data = FILE.read()\n",
    "    data = data.split(\",\")\n",
    "    data = [int(d) for d in data]\n",
    "data[:8]"
   ]
  },
  {
   "cell_type": "code",
   "execution_count": null,
   "metadata": {},
   "outputs": [],
   "source": [
    "output = run(data)"
   ]
  },
  {
   "cell_type": "markdown",
   "metadata": {},
   "source": [
    "## Part 2\n",
    "\n",
    "Your computer is only missing a few opcodes:\n",
    "\n",
    "* Opcode 5 is jump-if-true: if the first parameter is non-zero, it sets the instruction pointer to the value from the second parameter. Otherwise, it does nothing.\n",
    "\n",
    "* Opcode 6 is jump-if-false: if the first parameter is zero, it sets the instruction pointer to the value from the second parameter. Otherwise, it does nothing.\n",
    "\n",
    "* Opcode 7 is less than: if the first parameter is less than the second parameter, it stores 1 in the position given by the third parameter. Otherwise, it stores 0.\n",
    "\n",
    "* Opcode 8 is equals: if the first parameter is equal to the second parameter, it stores 1 in the position given by the third parameter. Otherwise, it stores 0.\n"
   ]
  },
  {
   "cell_type": "code",
   "execution_count": null,
   "metadata": {},
   "outputs": [],
   "source": [
    "def jump_if_true(ptr, ma, mb, mc, memory):\n",
    "    a = memory[ptr+1]\n",
    "    b = memory[ptr+2]\n",
    "    if mc == 0:\n",
    "        a = memory[a]\n",
    "    if mb == 0:\n",
    "        b = memory[b]\n",
    "    \n",
    "    if a == 0:\n",
    "        return ptr+3\n",
    "    else:\n",
    "        return b\n",
    "    \n",
    "def jump_if_false(ptr, ma, mb, mc, memory):\n",
    "    a = memory[ptr+1]\n",
    "    b = memory[ptr+2]\n",
    "    if mc == 0:\n",
    "        a = memory[a]\n",
    "    if mb == 0:\n",
    "        b = memory[b]\n",
    "    \n",
    "    if a == 0:\n",
    "        return b\n",
    "    else:\n",
    "        return ptr+3\n",
    "\n",
    "def less_than(ptr, ma, mb, mc, memory):\n",
    "    a = memory[ptr+1]\n",
    "    b = memory[ptr+2]\n",
    "    c = memory[ptr+3]\n",
    "    if mc == 0:\n",
    "        a = memory[a]\n",
    "    if mb == 0:\n",
    "        b = memory[b]\n",
    "\n",
    "    if a < b:\n",
    "        memory[c] = 1\n",
    "    else:\n",
    "        memory[c] = 0\n",
    "\n",
    "    return ptr+4\n",
    "    \n",
    "def equals(ptr, ma, mb, mc, memory):\n",
    "    a = memory[ptr+1]\n",
    "    b = memory[ptr+2]\n",
    "    c = memory[ptr+3]\n",
    "    if mc == 0:\n",
    "        a = memory[a]\n",
    "    if mb == 0:\n",
    "        b = memory[b]\n",
    "\n",
    "    if a == b:\n",
    "        memory[c] = 1\n",
    "    else:\n",
    "        memory[c] = 0\n",
    "        \n",
    "    return ptr+4\n"
   ]
  },
  {
   "cell_type": "code",
   "execution_count": null,
   "metadata": {},
   "outputs": [],
   "source": [
    "operations = {\n",
    "    1: add,\n",
    "    2: multiply,\n",
    "    3: user_input,\n",
    "    4: user_output,\n",
    "    5: jump_if_true,\n",
    "    6: jump_if_false,\n",
    "    7: less_than,\n",
    "    8: equals,\n",
    "    99: stop\n",
    "}"
   ]
  },
  {
   "cell_type": "code",
   "execution_count": null,
   "metadata": {},
   "outputs": [],
   "source": [
    "# Taking the input 8 - this should return 1, otherwise 0\n",
    "run([3,9,8,9,10,9,4,9,99,-1,8])"
   ]
  },
  {
   "cell_type": "code",
   "execution_count": null,
   "metadata": {},
   "outputs": [],
   "source": [
    "# 3,9,7,9,10,9,4,9,99,-1,8 - Using position mode, consider whether the input is less than 8; \n",
    "# output 1 (if it is) or 0 (if it is not).\n",
    "\n",
    "run([3,9,7,9,10,9,4,9,99,-1,8])"
   ]
  },
  {
   "cell_type": "code",
   "execution_count": null,
   "metadata": {},
   "outputs": [],
   "source": [
    "# 3,3,1108,-1,8,3,4,3,99 - Using immediate mode, consider whether the input is equal to 8; \n",
    "# output 1 (if it is) or 0 (if it is not).\n",
    "\n",
    "run([3,3,1108,-1,8,3,4,3,99])"
   ]
  },
  {
   "cell_type": "code",
   "execution_count": null,
   "metadata": {},
   "outputs": [],
   "source": [
    "# 3,3,1107,-1,8,3,4,3,99 - Using immediate mode, consider whether the input is less than 8; \n",
    "# output 1 (if it is) or 0 (if it is not).\n",
    "\n",
    "run([3,3,1107,-1,8,3,4,3,99])"
   ]
  },
  {
   "cell_type": "code",
   "execution_count": null,
   "metadata": {},
   "outputs": [],
   "source": [
    "# Here are some jump tests that take an input, then output 0 if the input was zero or 1 if the input was non-zero:\n",
    "\n",
    "# 3,12,6,12,15,1,13,14,13,4,13,99,-1,0,1,9 (using position mode)\n",
    "# 3,3,1105,-1,9,1101,0,0,12,4,12,99,1 (using immediate mode)\n",
    "\n",
    "run([3,12,6,12,15,1,13,14,13,4,13,99,-1,0,1,9])"
   ]
  },
  {
   "cell_type": "code",
   "execution_count": null,
   "metadata": {},
   "outputs": [],
   "source": [
    "run([3,3,1105,-1,9,1101,0,0,12,4,12,99,1])"
   ]
  },
  {
   "cell_type": "code",
   "execution_count": null,
   "metadata": {},
   "outputs": [],
   "source": [
    "# The above example program uses an input instruction to ask for a single number. \n",
    "# The program will then output 999 if the input value is below 8, output 1000 if \n",
    "# the input value is equal to 8, or output 1001 if the input value is greater than 8.\n",
    "\n",
    "a = run([3,21,1008,21,8,20,1005,20,22,107,8,21,20,1006,20,31,1106,0,36,98,0,0,1002,\n",
    "         21,125,20,4,20,1105,1,46,104,999,1105,1,46,1101,1000,1,20,4,20,1105,1,46,98,99])"
   ]
  },
  {
   "cell_type": "code",
   "execution_count": null,
   "metadata": {},
   "outputs": [],
   "source": [
    "output = run(data)"
   ]
  },
  {
   "cell_type": "code",
   "execution_count": null,
   "metadata": {},
   "outputs": [],
   "source": []
  }
 ],
 "metadata": {
  "kernelspec": {
   "display_name": "Python 3",
   "language": "python",
   "name": "python3"
  },
  "language_info": {
   "codemirror_mode": {
    "name": "ipython",
    "version": 3
   },
   "file_extension": ".py",
   "mimetype": "text/x-python",
   "name": "python",
   "nbconvert_exporter": "python",
   "pygments_lexer": "ipython3",
   "version": "3.7.1"
  }
 },
 "nbformat": 4,
 "nbformat_minor": 2
}
