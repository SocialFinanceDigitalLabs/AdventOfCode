{
 "cells": [
  {
   "cell_type": "markdown",
   "metadata": {},
   "source": [
    "# Day 6"
   ]
  },
  {
   "cell_type": "code",
   "execution_count": null,
   "metadata": {},
   "outputs": [],
   "source": [
    "class SpaceThing:\n",
    "    def __init__(self, name, orbits=None):\n",
    "        self.name = name\n",
    "        self.orbits = orbits\n",
    "        \n",
    "    def count_orbits(self):\n",
    "        if self.orbits is None:\n",
    "            return 0\n",
    "        else:\n",
    "            return 1 + self.orbits.count_orbits()\n",
    "        \n",
    "    def get_path(self):\n",
    "        \"\"\" This is for part 2 \"\"\"\n",
    "        path = []\n",
    "        path.append(self.name)\n",
    "        if self.orbits is not None:\n",
    "            path += self.orbits.get_path()\n",
    "        return path"
   ]
  },
  {
   "cell_type": "code",
   "execution_count": null,
   "metadata": {},
   "outputs": [],
   "source": [
    "def parse_input(values):\n",
    "    lookup = dict()\n",
    "    for v in values:\n",
    "        if v.strip() == \"\":\n",
    "            continue\n",
    "        dominant, satellite = v.split(')')\n",
    "        dominant = lookup.get(dominant, SpaceThing(dominant))\n",
    "        satellite = lookup.get(satellite, SpaceThing(satellite))\n",
    "        satellite.orbits = dominant\n",
    "\n",
    "        \n",
    "        lookup[dominant.name] = dominant\n",
    "        lookup[satellite.name] = satellite\n",
    "    return lookup\n",
    "\n",
    "def count_orbits(things):\n",
    "    import numpy as np\n",
    "    things = [t.count_orbits() for t in things]\n",
    "    return np.sum(things)"
   ]
  },
  {
   "cell_type": "code",
   "execution_count": null,
   "metadata": {},
   "outputs": [],
   "source": [
    "sample_input = \"\"\"\n",
    "COM)B\n",
    "B)C\n",
    "C)D\n",
    "D)E\n",
    "E)F\n",
    "B)G\n",
    "G)H\n",
    "D)I\n",
    "E)J\n",
    "J)K\n",
    "K)L\n",
    "\"\"\"\n",
    "sample_input = sample_input.split('\\n')\n",
    "sample = parse_input(sample_input)\n",
    "sample_checksum = count_orbits(sample.values())\n",
    "assert sample_checksum == 42"
   ]
  },
  {
   "cell_type": "code",
   "execution_count": null,
   "metadata": {},
   "outputs": [],
   "source": [
    "with open('06-input.txt') as FILE:\n",
    "    input_values = FILE.readlines()\n",
    "    input_values = [v.strip() for v in input_values]\n",
    "\n",
    "input_things = parse_input(input_values)\n",
    "input_checksum = count_orbits(input_things.values())\n",
    "input_checksum"
   ]
  },
  {
   "cell_type": "markdown",
   "metadata": {},
   "source": [
    "## Part 2"
   ]
  },
  {
   "cell_type": "code",
   "execution_count": null,
   "metadata": {},
   "outputs": [],
   "source": [
    "def find_path_to(from_thing, to_thing):\n",
    "    path1 = from_thing.get_path()\n",
    "    path2 = to_thing.get_path()\n",
    "    for t in path1:\n",
    "        if t in path2:\n",
    "            break\n",
    "\n",
    "    path = path1[:path1.index(t)] + [t] + path2[path2.index(t)-1::-1]\n",
    "    return path\n",
    "\n"
   ]
  },
  {
   "cell_type": "code",
   "execution_count": null,
   "metadata": {},
   "outputs": [],
   "source": [
    "sample_input = \"\"\"\n",
    "COM)B\n",
    "B)C\n",
    "C)D\n",
    "D)E\n",
    "E)F\n",
    "B)G\n",
    "G)H\n",
    "D)I\n",
    "E)J\n",
    "J)K\n",
    "K)L\n",
    "K)YOU\n",
    "I)SAN\n",
    "\"\"\"\n",
    "sample_input = sample_input.split('\\n')\n",
    "sample = parse_input(sample_input)\n",
    "sample_path = find_path_to(sample['YOU'], sample['SAN'])\n",
    "\n",
    "# We're counting gaps, so we have to take away 1 from the length\n",
    "# The second is that we're counting transfers between the parents, so take away another 2\n",
    "assert len(sample_path) - 3 == 4\n",
    "sample_path"
   ]
  },
  {
   "cell_type": "code",
   "execution_count": null,
   "metadata": {},
   "outputs": [],
   "source": [
    "path = find_path_to(input_things['YOU'], input_things['SAN'])\n",
    "len(path) - 3"
   ]
  },
  {
   "cell_type": "code",
   "execution_count": null,
   "metadata": {},
   "outputs": [],
   "source": []
  }
 ],
 "metadata": {
  "kernelspec": {
   "display_name": "Python 3",
   "language": "python",
   "name": "python3"
  },
  "language_info": {
   "codemirror_mode": {
    "name": "ipython",
    "version": 3
   },
   "file_extension": ".py",
   "mimetype": "text/x-python",
   "name": "python",
   "nbconvert_exporter": "python",
   "pygments_lexer": "ipython3",
   "version": "3.7.5"
  }
 },
 "nbformat": 4,
 "nbformat_minor": 4
}
