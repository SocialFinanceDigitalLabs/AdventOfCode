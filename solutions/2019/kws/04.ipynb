{
 "cells": [
  {
   "cell_type": "code",
   "execution_count": null,
   "metadata": {},
   "outputs": [],
   "source": [
    "def test_sequence(value):\n",
    "    \"\"\" Number must have two consecutive digits \"\"\"\n",
    "    value = str(value)\n",
    "    for i in range(0, len(value)-1):\n",
    "        if value[i] == value[i+1]:\n",
    "            return True\n",
    "        \n",
    "    return False\n",
    "\n",
    "assert test_sequence(111111)\n",
    "assert not test_sequence(123456)\n",
    "assert test_sequence(123455)\n",
    "assert test_sequence(113456)\n",
    "\n"
   ]
  },
  {
   "cell_type": "code",
   "execution_count": null,
   "metadata": {},
   "outputs": [],
   "source": [
    "def test_increasing(value):\n",
    "    \"\"\" Each digit must be larger than or equal to the preceeding one \"\"\"\n",
    "    value = str(value)\n",
    "    value = [int(c) for c in value]\n",
    "    for i in range(0, len(value)-1):\n",
    "        if value[i] > value[i+1]:\n",
    "            return False\n",
    "\n",
    "    return True\n",
    "    \n",
    "assert test_increasing(111111)\n",
    "assert test_increasing(123456)\n",
    "assert not test_increasing(123454)\n"
   ]
  },
  {
   "cell_type": "code",
   "execution_count": null,
   "metadata": {},
   "outputs": [],
   "source": [
    "def test_all(value):\n",
    "    return test_sequence(value) and test_increasing(value)\n",
    "\n",
    "assert test_all(111111)\n",
    "assert not test_all(223450)\n",
    "assert not test_all(123789)\n",
    "assert not test_all(109166)\n"
   ]
  },
  {
   "cell_type": "code",
   "execution_count": null,
   "metadata": {},
   "outputs": [],
   "source": [
    "with open(\"04-input.txt\", \"rt\") as FILE:\n",
    "    value = FILE.read()\n",
    "    \n",
    "value = value.split(\"-\")\n",
    "value = [int(v) for v in value]\n",
    "\n",
    "values = []\n",
    "for v in range(value[0], value[1]+1):\n",
    "    if test_all(v):\n",
    "        values.append(v)\n",
    "        \n",
    "len(values)"
   ]
  },
  {
   "cell_type": "markdown",
   "metadata": {},
   "source": [
    "# Part 2"
   ]
  },
  {
   "cell_type": "code",
   "execution_count": null,
   "metadata": {},
   "outputs": [],
   "source": [
    "def test_must_have_double(value):\n",
    "    \"\"\" Must have at least one pair of digits \"\"\"\n",
    "    value = str(value)\n",
    "    for v in set(value):\n",
    "        if \"{0}{0}\".format(v[0]) in value and \"{0}{0}{0}\".format(v[0]) not in value:\n",
    "            return True\n",
    "        \n",
    "    return False\n",
    "\n",
    "def test_all_part2(value):\n",
    "    return test_all(value) and test_must_have_double(value)\n",
    "\n",
    "assert test_must_have_double(112233)\n",
    "assert not test_must_have_double(123444)\n",
    "assert test_must_have_double(111122)\n",
    "\n",
    "assert test_all_part2(112233)\n",
    "assert not test_all_part2(123444)\n",
    "assert test_all_part2(111122)\n"
   ]
  },
  {
   "cell_type": "code",
   "execution_count": null,
   "metadata": {},
   "outputs": [],
   "source": [
    "values = []\n",
    "for v in range(value[0], value[1]+1):\n",
    "    if test_all_part2(v):\n",
    "        values.append(v)\n",
    "        \n",
    "len(values)"
   ]
  },
  {
   "cell_type": "code",
   "execution_count": null,
   "metadata": {},
   "outputs": [],
   "source": []
  }
 ],
 "metadata": {
  "kernelspec": {
   "display_name": "Python 3",
   "language": "python",
   "name": "python3"
  },
  "language_info": {
   "codemirror_mode": {
    "name": "ipython",
    "version": 3
   },
   "file_extension": ".py",
   "mimetype": "text/x-python",
   "name": "python",
   "nbconvert_exporter": "python",
   "pygments_lexer": "ipython3",
   "version": "3.6.7"
  }
 },
 "nbformat": 4,
 "nbformat_minor": 2
}
