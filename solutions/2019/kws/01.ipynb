{
 "cells": [
  {
   "cell_type": "markdown",
   "metadata": {},
   "source": [
    "# Advent of Code - Day 1\n",
    "\n",
    "https://adventofcode.com/2019/day/1\n",
    "\n"
   ]
  },
  {
   "cell_type": "code",
   "execution_count": null,
   "metadata": {},
   "outputs": [],
   "source": [
    "import os\n",
    "import math\n",
    "import numpy as np"
   ]
  },
  {
   "cell_type": "markdown",
   "metadata": {},
   "source": [
    "## Part 1"
   ]
  },
  {
   "cell_type": "code",
   "execution_count": null,
   "metadata": {},
   "outputs": [],
   "source": [
    "# Example data\n",
    "\n",
    "# A module of mass 14 requires 2 fuel. This fuel requires no further fuel (2 divided by 3 and rounded down is 0, which would call for a negative fuel), so the total fuel required is still just 2.\n",
    "# At first, a module of mass 1969 requires 654 fuel. Then, this fuel requires 216 more fuel (654 / 3 - 2). 216 then requires 70 more fuel, which requires 21 fuel, which requires 5 fuel, which requires no further fuel. So, the total fuel required for a module of mass 1969 is 654 + 216 + 70 + 21 + 5 = 966.\n",
    "# The fuel required by a module of mass 100756 and its fuel is: 33583 + 11192 + 3728 + 1240 + 411 + 135 + 43 + 12 + 2 = 50346.\n",
    "modules = [14, 1969, 100756]"
   ]
  },
  {
   "cell_type": "code",
   "execution_count": null,
   "metadata": {},
   "outputs": [],
   "source": [
    "# Read input - the mass of the modules\n",
    "\n",
    "modules = []\n",
    "with open(\"01-input.txt\", \"rt\") as FILE:\n",
    "    modules = FILE.readlines()\n",
    "    modules = [int(m) for m in modules]\n",
    "    \n",
    "modules[:5]"
   ]
  },
  {
   "cell_type": "code",
   "execution_count": null,
   "metadata": {},
   "outputs": [],
   "source": [
    "# Calculate the fuel\n",
    "\n",
    "fuel = [math.floor(m/3) - 2 for m in modules]\n",
    "fuel[:5]"
   ]
  },
  {
   "cell_type": "code",
   "execution_count": null,
   "metadata": {},
   "outputs": [],
   "source": [
    "# Sum the fuel\n",
    "\n",
    "np.sum(fuel)"
   ]
  },
  {
   "cell_type": "markdown",
   "metadata": {},
   "source": [
    "## Part 2"
   ]
  },
  {
   "cell_type": "code",
   "execution_count": null,
   "metadata": {},
   "outputs": [],
   "source": [
    "def add_additional_fuel(last_fuel):\n",
    "    new_fuel = []\n",
    "    for m in last_fuel:\n",
    "        fuel_required = math.floor(m/3) - 2\n",
    "        if fuel_required < 0:\n",
    "            fuel_required = 0\n",
    "        new_fuel.append(fuel_required)\n",
    "    return new_fuel\n",
    "\n",
    "# Init Loop\n",
    "new_fuel = fuel\n",
    "total_new_fuel = np.sum(new_fuel)\n",
    "fuel_sums = list(fuel)\n",
    "\n",
    "while total_new_fuel > 0:\n",
    "    new_fuel = add_additional_fuel(new_fuel)\n",
    "    display(new_fuel[:5])\n",
    "    total_new_fuel = np.sum(new_fuel)\n",
    "    fuel_sums = [sum(x) for x in zip(fuel_sums, new_fuel)]\n",
    "\n",
    "fuel_sums[:5]\n",
    "        "
   ]
  },
  {
   "cell_type": "code",
   "execution_count": null,
   "metadata": {},
   "outputs": [],
   "source": [
    "np.sum(fuel_sums)"
   ]
  },
  {
   "cell_type": "code",
   "execution_count": null,
   "metadata": {},
   "outputs": [],
   "source": []
  }
 ],
 "metadata": {
  "kernelspec": {
   "display_name": "Python 3",
   "language": "python",
   "name": "python3"
  },
  "language_info": {
   "codemirror_mode": {
    "name": "ipython",
    "version": 3
   },
   "file_extension": ".py",
   "mimetype": "text/x-python",
   "name": "python",
   "nbconvert_exporter": "python",
   "pygments_lexer": "ipython3",
   "version": "3.7.5"
  }
 },
 "nbformat": 4,
 "nbformat_minor": 4
}
