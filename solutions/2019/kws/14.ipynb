{
 "cells": [
  {
   "cell_type": "code",
   "execution_count": null,
   "metadata": {},
   "outputs": [],
   "source": [
    "class Material():\n",
    "    def __init__(self, value):\n",
    "        n, v = value.split(\" \")\n",
    "        self.num = int(n)\n",
    "        self.val = v\n",
    "    def __str__(self):\n",
    "        return \"{} {}\".format(self.num, self.val)\n",
    "    def __repr__(self):\n",
    "        return \"{} {}\".format(self.num, self.val)\n",
    "        \n",
    "assert Material(\"10 FUEL\").num == 10\n",
    "assert Material(\"10 FUEL\").val == \"FUEL\""
   ]
  },
  {
   "cell_type": "code",
   "execution_count": null,
   "metadata": {},
   "outputs": [],
   "source": [
    "class Materials(dict):\n",
    "    from copy import deepcopy\n",
    "    def __init__(self, values):\n",
    "        for output, inputs in values:\n",
    "            self[output.val] = dict(output=output, inputs=inputs)\n",
    "        self[\"ORE\"] = dict(output=Material(\"1 ORE\"), inputs=[])\n",
    "    \n",
    "    def find_chain(self, m):\n",
    "        material = self.get(m)\n",
    "        if material == None:\n",
    "            return None\n",
    "        \n",
    "        material = deepcopy(material)\n",
    "        \n",
    "        for i in material.inputs:\n",
    "            input_material = self.find_chain(i.val)"
   ]
  },
  {
   "cell_type": "code",
   "execution_count": null,
   "metadata": {},
   "outputs": [],
   "source": [
    "class Store:\n",
    "    \n",
    "    def __init__(self, materials):\n",
    "        from collections import Counter\n",
    "        self.materials = materials\n",
    "        self.available = Counter()\n",
    "        self.made = Counter()\n",
    "    \n",
    "    def get(self, material, amount):\n",
    "#         print(\"Getting {} of {}\".format(amount, material))\n",
    "        element = material[\"output\"].val\n",
    "        self.available.subtract({element: amount})\n",
    "        while self.available[element] < 0:\n",
    "            self.make(**material, amount=-self.available[element])\n",
    "            \n",
    "    def make(self, output, inputs, amount):\n",
    "#         print(\"Making {} of {} - target {}\".format(output.num, output.val, amount))\n",
    "        import math\n",
    "        \n",
    "        target = math.ceil(amount/output.num)\n",
    "        \n",
    "        for inpt in inputs:\n",
    "            material = self.materials[inpt.val]\n",
    "            self.get(material, target*inpt.num)\n",
    "        \n",
    "        self.available.update({output.val: target*output.num})\n",
    "        self.made.update({output.val: target*output.num})"
   ]
  },
  {
   "cell_type": "code",
   "execution_count": null,
   "metadata": {},
   "outputs": [],
   "source": [
    "def parse_input(value):\n",
    "    inputs, output = value.split(\"=>\")\n",
    "    inputs = inputs.split(\",\")\n",
    "    inputs = [Material(i.strip()) for i in inputs]\n",
    "    output = Material(output.strip())\n",
    "    \n",
    "    return output, inputs\n",
    "\n",
    "output, inputs = parse_input(\"9 ORE => 2 A\")\n",
    "assert output.num == 2\n",
    "assert output.val == \"A\"\n",
    "assert len(inputs) == 1\n",
    "assert inputs[0].num == 9\n",
    "assert inputs[0].val == \"ORE\"\n",
    "\n",
    "output, inputs = parse_input(\"9 ORE, 5 GOLD => 2 A\")\n",
    "assert len(inputs) == 2\n",
    "assert inputs[0].num == 9\n",
    "assert inputs[0].val == \"ORE\"\n",
    "assert inputs[1].num == 5\n",
    "assert inputs[1].val == \"GOLD\"\n"
   ]
  },
  {
   "cell_type": "code",
   "execution_count": null,
   "metadata": {},
   "outputs": [],
   "source": [
    "def parse_sample(value):\n",
    "    value = value.splitlines()\n",
    "    value = [parse_input(l) for l in value if len(l)>0]\n",
    "    return Materials(value)\n",
    "\n",
    "def make_fuel(materials, amount=1):\n",
    "    fuel = materials['FUEL']\n",
    "    store = Store(materials)\n",
    "    store.get(fuel, amount)\n",
    "    return store.made"
   ]
  },
  {
   "cell_type": "code",
   "execution_count": null,
   "metadata": {},
   "outputs": [],
   "source": [
    "sample1 = parse_sample(\"\"\"\n",
    "10 ORE => 10 A\n",
    "1 ORE => 1 B\n",
    "7 A, 1 B => 1 C\n",
    "7 A, 1 C => 1 D\n",
    "7 A, 1 D => 1 E\n",
    "7 A, 1 E => 1 FUEL\n",
    "\"\"\")\n",
    "\n",
    "# 31 Ore\n",
    "make_fuel(sample1)"
   ]
  },
  {
   "cell_type": "code",
   "execution_count": null,
   "metadata": {},
   "outputs": [],
   "source": [
    "sample2 = parse_sample(\"\"\"\n",
    "9 ORE => 2 A\n",
    "8 ORE => 3 B\n",
    "7 ORE => 5 C\n",
    "3 A, 4 B => 1 AB\n",
    "5 B, 7 C => 1 BC\n",
    "4 C, 1 A => 1 CA\n",
    "2 AB, 3 BC, 4 CA => 1 FUEL\n",
    "\"\"\")\n",
    "\n",
    "# 165 Ore\n",
    "make_fuel(sample2)"
   ]
  },
  {
   "cell_type": "code",
   "execution_count": null,
   "metadata": {},
   "outputs": [],
   "source": [
    "sample3 = parse_sample(\"\"\"\n",
    "157 ORE => 5 NZVS\n",
    "165 ORE => 6 DCFZ\n",
    "44 XJWVT, 5 KHKGT, 1 QDVJ, 29 NZVS, 9 GPVTF, 48 HKGWZ => 1 FUEL\n",
    "12 HKGWZ, 1 GPVTF, 8 PSHF => 9 QDVJ\n",
    "179 ORE => 7 PSHF\n",
    "177 ORE => 5 HKGWZ\n",
    "7 DCFZ, 7 PSHF => 2 XJWVT\n",
    "165 ORE => 2 GPVTF\n",
    "3 DCFZ, 7 NZVS, 5 HKGWZ, 10 PSHF => 8 KHKGT\n",
    "\"\"\")\n",
    "\n",
    "# 13312 Ore\n",
    "make_fuel(sample3)"
   ]
  },
  {
   "cell_type": "code",
   "execution_count": null,
   "metadata": {},
   "outputs": [],
   "source": [
    "sample4 = parse_sample(\"\"\"\n",
    "2 VPVL, 7 FWMGM, 2 CXFTF, 11 MNCFX => 1 STKFG\n",
    "17 NVRVD, 3 JNWZP => 8 VPVL\n",
    "53 STKFG, 6 MNCFX, 46 VJHF, 81 HVMC, 68 CXFTF, 25 GNMV => 1 FUEL\n",
    "22 VJHF, 37 MNCFX => 5 FWMGM\n",
    "139 ORE => 4 NVRVD\n",
    "144 ORE => 7 JNWZP\n",
    "5 MNCFX, 7 RFSQX, 2 FWMGM, 2 VPVL, 19 CXFTF => 3 HVMC\n",
    "5 VJHF, 7 MNCFX, 9 VPVL, 37 CXFTF => 6 GNMV\n",
    "145 ORE => 6 MNCFX\n",
    "1 NVRVD => 8 CXFTF\n",
    "1 VJHF, 6 MNCFX => 4 RFSQX\n",
    "176 ORE => 6 VJHF\n",
    "\"\"\")\n",
    "\n",
    "# 180697 Ore\n",
    "make_fuel(sample4)"
   ]
  },
  {
   "cell_type": "code",
   "execution_count": null,
   "metadata": {},
   "outputs": [],
   "source": [
    "sample5 = parse_sample(\"\"\"\n",
    "171 ORE => 8 CNZTR\n",
    "7 ZLQW, 3 BMBT, 9 XCVML, 26 XMNCP, 1 WPTQ, 2 MZWV, 1 RJRHP => 4 PLWSL\n",
    "114 ORE => 4 BHXH\n",
    "14 VRPVC => 6 BMBT\n",
    "6 BHXH, 18 KTJDG, 12 WPTQ, 7 PLWSL, 31 FHTLT, 37 ZDVW => 1 FUEL\n",
    "6 WPTQ, 2 BMBT, 8 ZLQW, 18 KTJDG, 1 XMNCP, 6 MZWV, 1 RJRHP => 6 FHTLT\n",
    "15 XDBXC, 2 LTCX, 1 VRPVC => 6 ZLQW\n",
    "13 WPTQ, 10 LTCX, 3 RJRHP, 14 XMNCP, 2 MZWV, 1 ZLQW => 1 ZDVW\n",
    "5 BMBT => 4 WPTQ\n",
    "189 ORE => 9 KTJDG\n",
    "1 MZWV, 17 XDBXC, 3 XCVML => 2 XMNCP\n",
    "12 VRPVC, 27 CNZTR => 2 XDBXC\n",
    "15 KTJDG, 12 BHXH => 5 XCVML\n",
    "3 BHXH, 2 VRPVC => 7 MZWV\n",
    "121 ORE => 7 VRPVC\n",
    "7 XCVML => 6 RJRHP\n",
    "5 BHXH, 4 VRPVC => 5 LTCX\n",
    "\"\"\")\n",
    "\n",
    "# 2210736 Ore\n",
    "make_fuel(sample5)"
   ]
  },
  {
   "cell_type": "code",
   "execution_count": null,
   "metadata": {},
   "outputs": [],
   "source": [
    "with open(\"14-input.txt\", \"rt\") as FILE:\n",
    "    data = FILE.read()\n",
    "materials = parse_sample(data)\n",
    "make_fuel(materials)"
   ]
  },
  {
   "cell_type": "markdown",
   "metadata": {},
   "source": [
    "# Part 2"
   ]
  },
  {
   "cell_type": "code",
   "execution_count": null,
   "metadata": {},
   "outputs": [],
   "source": [
    "def find_cycle(materials, total_ore = 1000000000000):\n",
    "    from tqdm import tqdm, trange\n",
    "    import numpy as np\n",
    "    import math\n",
    "\n",
    "    residuals = 1\n",
    "    \n",
    "    production_cyles = []\n",
    "\n",
    "    store = Store(materials)\n",
    "    fuel = materials['FUEL']\n",
    "    iteration = 1\n",
    "    while residuals > 0:\n",
    "        store.get(fuel, 1)\n",
    "        available_list = list(store.available.values())\n",
    "        production_cyles.append(dict(store.made))\n",
    "        residuals = np.sum(available_list)\n",
    "        if iteration % 1000 == 0:\n",
    "            print(iteration, residuals, available_list)\n",
    "        iteration += 1\n",
    "\n",
    "    print(iteration-1, residuals, available_list)\n",
    "    \n",
    "    ore_per_cycle = production_cyles[-1][\"ORE\"]\n",
    "    fuel_per_cycle = production_cyles[-1][\"FUEL\"]\n",
    "    \n",
    "    cycles = math.floor(total_ore / ore_per_cycle)\n",
    "    \n",
    "    fuel_in_cycles = fuel_per_cycle * cycles\n",
    "    ore_in_cycles = ore_per_cycle * cycles\n",
    "    \n",
    "    print(cycles, fuel_in_cycles, ore_in_cycles)\n",
    "    \n",
    "    ore_remaining = total_ore - ore_in_cycles\n",
    "    \n",
    "    for ix,store in enumerate(production_cyles):\n",
    "        if ore_remaining - store['ORE'] <= 0:\n",
    "            print(fuel_in_cycles+production_cyles[ix-1][\"FUEL\"])\n",
    "            break\n",
    "    \n",
    "#     return ore_per_cycle, total_ore-(cycles*ore_per_cycle)\n",
    "\n",
    "find_cycle(sample1)  \n",
    "find_cycle(sample2)"
   ]
  },
  {
   "cell_type": "code",
   "execution_count": null,
   "metadata": {},
   "outputs": [],
   "source": [
    "find_cycle(sample3)"
   ]
  },
  {
   "cell_type": "code",
   "execution_count": null,
   "metadata": {},
   "outputs": [],
   "source": [
    "find_cycle(sample4)"
   ]
  },
  {
   "cell_type": "code",
   "execution_count": null,
   "metadata": {},
   "outputs": [],
   "source": [
    "find_cycle(sample5)"
   ]
  },
  {
   "cell_type": "markdown",
   "metadata": {},
   "source": [
    "# Part 2 - Attempt 2\n",
    "\n",
    "It doesn't always converge in a reasonable time - let's use a search algorithm instead"
   ]
  },
  {
   "cell_type": "code",
   "execution_count": null,
   "metadata": {},
   "outputs": [],
   "source": [
    "def fuel_search(materials, total_ore = 1000000000000):\n",
    "    from scipy.optimize import minimize_scalar\n",
    "    import math\n",
    "    \n",
    "    def search_function(x):\n",
    "        x = math.ceil(x)\n",
    "        diff = total_ore - make_fuel(materials, x)[\"ORE\"]\n",
    "        # If we run out of ore, produce a huge difference\n",
    "        if diff < 0:\n",
    "            diff = 1e100\n",
    "\n",
    "        return diff\n",
    "    \n",
    "    x = minimize_scalar(search_function, method='brent')\n",
    "    print(x)\n",
    "    print(\"Fuel made\", math.ceil(x.x))\n",
    "    \n",
    "fuel_search(sample3)"
   ]
  },
  {
   "cell_type": "code",
   "execution_count": null,
   "metadata": {},
   "outputs": [],
   "source": [
    "fuel_search(sample4)"
   ]
  },
  {
   "cell_type": "code",
   "execution_count": null,
   "metadata": {},
   "outputs": [],
   "source": [
    "fuel_search(sample5)"
   ]
  },
  {
   "cell_type": "code",
   "execution_count": null,
   "metadata": {},
   "outputs": [],
   "source": [
    "fuel_search(materials)"
   ]
  }
 ],
 "metadata": {
  "kernelspec": {
   "display_name": "Python 3",
   "language": "python",
   "name": "python3"
  },
  "language_info": {
   "codemirror_mode": {
    "name": "ipython",
    "version": 3
   },
   "file_extension": ".py",
   "mimetype": "text/x-python",
   "name": "python",
   "nbconvert_exporter": "python",
   "pygments_lexer": "ipython3",
   "version": "3.7.5"
  }
 },
 "nbformat": 4,
 "nbformat_minor": 4
}
