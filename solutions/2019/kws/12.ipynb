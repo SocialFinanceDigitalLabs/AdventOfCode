{
 "cells": [
  {
   "cell_type": "code",
   "execution_count": null,
   "metadata": {},
   "outputs": [],
   "source": [
    "import numpy as np\n",
    "import copy\n",
    "from tqdm import trange"
   ]
  },
  {
   "cell_type": "code",
   "execution_count": null,
   "metadata": {},
   "outputs": [],
   "source": [
    "def gravity(m1, m2):\n",
    "    shift = [0,0,0]\n",
    "    for a in range(0,3):\n",
    "        p1 = m1[\"pos\"][a]\n",
    "        p2 = m2[\"pos\"][a]\n",
    "        \n",
    "        if p1<p2:\n",
    "            shift[a] = 1\n",
    "        elif p2<p1:\n",
    "            shift[a] = -1\n",
    "\n",
    "    m1[\"velocity\"] = np.add(m1[\"velocity\"], shift)\n",
    "    m2[\"velocity\"] = np.add(m2[\"velocity\"], np.multiply(shift, -1))\n",
    "            \n",
    "def velocity(moon):\n",
    "    moon[\"pos\"] = np.add(moon[\"pos\"], moon[\"velocity\"])\n",
    "    \n",
    "def energy(moon):\n",
    "    p = np.sum(np.abs(moon[\"pos\"]))\n",
    "    k = np.sum(np.abs(moon[\"velocity\"]))\n",
    "    moon[\"energy\"] = k*p\n",
    "\n",
    "def print_debug(moons, i):\n",
    "    print(\"Iteration\", i)\n",
    "    e = 0\n",
    "    for m in moons:\n",
    "        print(\"  p={:3},{:3},{:3} v={:3},{:3},{:3} E={}\".format(*m[\"pos\"],*m[\"velocity\"], m.get(\"energy\",0)) )\n",
    "        e += m.get(\"energy\",0)\n",
    "    print(\"  E: {}\".format(e))\n",
    "    \n",
    "    \n",
    "def model(moons, iterations, debug=None):\n",
    "    moons = copy.deepcopy(moons)\n",
    "    for i in range(0, iterations):\n",
    "        for a in range(0, len(moons)):\n",
    "            for b in range(a+1, len(moons)):\n",
    "                gravity(moons[a], moons[b])\n",
    "\n",
    "        for a in range(0, len(moons)):\n",
    "            velocity(moons[a])\n",
    "            energy(moons[a])\n",
    "            \n",
    "        \n",
    "        if debug is not None and (i+1)%debug==0:\n",
    "            print_debug(moons, i+1)\n",
    "\n",
    "    print_debug(moons, \"END\")\n",
    "\n",
    "        \n",
    "def create_moon(x,y,z):\n",
    "    return {\n",
    "        \"pos\": [x,y,z],\n",
    "        \"velocity\": [0,0,0]\n",
    "    }\n"
   ]
  },
  {
   "cell_type": "code",
   "execution_count": null,
   "metadata": {},
   "outputs": [],
   "source": [
    "import re\n",
    "def parse_moon(value):\n",
    "    m = re.search(\"x=(.*?), y=(.*?), z=(.*?)>\",value)\n",
    "    (x,y,z) = m.groups()\n",
    "    return {\n",
    "        \"pos\": [int(x),int(y),int(z)],\n",
    "        \"velocity\": [0,0,0]\n",
    "    }\n",
    "    "
   ]
  },
  {
   "cell_type": "code",
   "execution_count": null,
   "metadata": {},
   "outputs": [],
   "source": [
    "sample1 = \"\"\"\n",
    "<x=-1, y=0, z=2>\n",
    "<x=2, y=-10, z=-7>\n",
    "<x=4, y=-8, z=8>\n",
    "<x=3, y=5, z=-1>\n",
    "\"\"\".splitlines()\n",
    "sample1 = [parse_moon(x) for x in sample1 if len(x)>0]\n",
    "model(sample1, 10, debug=1)"
   ]
  },
  {
   "cell_type": "code",
   "execution_count": null,
   "metadata": {},
   "outputs": [],
   "source": [
    "sample2 = \"\"\"\n",
    "<x=-8, y=-10, z=0>\n",
    "<x=5, y=5, z=10>\n",
    "<x=2, y=-7, z=3>\n",
    "<x=9, y=-8, z=-3>\n",
    "\"\"\".splitlines()\n",
    "sample2 = [parse_moon(x) for x in sample2 if len(x)>0]\n",
    "model(sample2, 100, debug=10)"
   ]
  },
  {
   "cell_type": "code",
   "execution_count": null,
   "metadata": {},
   "outputs": [],
   "source": [
    "with open(\"12-input.txt\", \"rt\") as FILE:\n",
    "    data = FILE.read().splitlines()\n",
    "data = [parse_moon(x) for x in data if len(x)>0]\n",
    "model(data, 1000)"
   ]
  },
  {
   "cell_type": "markdown",
   "metadata": {},
   "source": [
    "# Part 2"
   ]
  },
  {
   "cell_type": "code",
   "execution_count": null,
   "metadata": {},
   "outputs": [],
   "source": [
    "def model_repeat(moons, iterations, debug=None):\n",
    "    initial = moons\n",
    "    moons = copy.deepcopy(moons)\n",
    "\n",
    "    for i in trange(0, iterations):\n",
    "        for a in range(0, len(moons)):\n",
    "            for b in range(a+1, len(moons)):\n",
    "                gravity(moons[a], moons[b])\n",
    "\n",
    "        for a in range(0, len(moons)):\n",
    "            velocity(moons[a])\n",
    "            energy(moons[a])\n",
    "        \n",
    "        if debug is not None and (i+1)%debug==0:\n",
    "            print_debug(moons, i+1)\n",
    "            \n",
    "        e = np.sum([np.abs(m[\"velocity\"]) for m in moons])\n",
    "        if (e == 0):\n",
    "            if list(moons[0][\"pos\"]) == list(initial[0][\"pos\"]):\n",
    "                print(i+1, moons)\n",
    "                return\n",
    "\n",
    "        \n",
    "\n"
   ]
  },
  {
   "cell_type": "code",
   "execution_count": null,
   "metadata": {},
   "outputs": [],
   "source": [
    "model_repeat(sample1, 10000)"
   ]
  },
  {
   "cell_type": "markdown",
   "metadata": {},
   "source": [
    "# Part 2 - Take 2\n",
    "\n",
    "I had to look this one up... :-(\n",
    "\n",
    "Basically, each dimension only depends on itself - we can therefore consider each dimension separately and find when each dimension loops. We then simply need to find the LCM of all the dimensions' periods."
   ]
  },
  {
   "cell_type": "code",
   "execution_count": null,
   "metadata": {},
   "outputs": [],
   "source": [
    "def check_match(initial, moons, d):\n",
    "    for m in range(0, len(moons)):\n",
    "        if moons[m][\"pos\"][d] != initial[m][\"pos\"][d]:\n",
    "            return False\n",
    "        if moons[m][\"velocity\"][d] != initial[m][\"velocity\"][d]:\n",
    "            return False\n",
    "    return True\n",
    "    \n",
    "def find_cycles(moons, iterations, debug=None):\n",
    "    initial = moons\n",
    "    moons = copy.deepcopy(moons)\n",
    "\n",
    "    cycles = [None, None, None]\n",
    "\n",
    "    for i in range(0,iterations):\n",
    "        for a in range(0, len(moons)):\n",
    "            for b in range(a+1, len(moons)):\n",
    "                gravity(moons[a], moons[b])\n",
    "\n",
    "        for a in range(0, len(moons)):\n",
    "            velocity(moons[a])            \n",
    "            \n",
    "\n",
    "        for d in range(0,3):\n",
    "            if cycles[d]:\n",
    "                continue\n",
    "            if check_match(initial, moons, d):\n",
    "                cycles[d] = i+1\n",
    "                print(\"Found cycle for d={}: {}\".format(d, i))\n",
    "                count = sum(1 for e in cycles if e)\n",
    "                if count >= 3:\n",
    "                    return cycles \n",
    "\n",
    "                          \n",
    "        if debug is not None and (i+1)%debug==0:\n",
    "            print_debug(moons, i+1)\n",
    "    \n",
    "    \n"
   ]
  },
  {
   "cell_type": "code",
   "execution_count": null,
   "metadata": {},
   "outputs": [],
   "source": [
    "cycles = find_cycles(sample1, 100000000)\n",
    "np.lcm.reduce(cycles)"
   ]
  },
  {
   "cell_type": "code",
   "execution_count": null,
   "metadata": {},
   "outputs": [],
   "source": [
    "cycles = find_cycles(sample2, 100000000)\n",
    "np.lcm.reduce(cycles)"
   ]
  },
  {
   "cell_type": "code",
   "execution_count": null,
   "metadata": {},
   "outputs": [],
   "source": [
    "cycles = find_cycles(data, 100000000)\n",
    "np.lcm.reduce(cycles)"
   ]
  },
  {
   "cell_type": "code",
   "execution_count": null,
   "metadata": {},
   "outputs": [],
   "source": []
  }
 ],
 "metadata": {
  "kernelspec": {
   "display_name": "Python 3",
   "language": "python",
   "name": "python3"
  },
  "language_info": {
   "codemirror_mode": {
    "name": "ipython",
    "version": 3
   },
   "file_extension": ".py",
   "mimetype": "text/x-python",
   "name": "python",
   "nbconvert_exporter": "python",
   "pygments_lexer": "ipython3",
   "version": "3.7.5"
  }
 },
 "nbformat": 4,
 "nbformat_minor": 4
}
