{
 "cells": [
  {
   "cell_type": "markdown",
   "metadata": {},
   "source": [
    "# Day 18\n"
   ]
  },
  {
   "cell_type": "code",
   "execution_count": null,
   "metadata": {},
   "outputs": [],
   "source": [
    "def print_map(area_map):\n",
    "    min_coords = min(area_map.keys())\n",
    "    max_coords = max(area_map.keys())\n",
    "    for y in range(min_coords[1], max_coords[1]+1):\n",
    "        for x in range(min_coords[0], max_coords[0]+1):\n",
    "            print(area_map[(x,y)].get(\"char\", \"\"), end=\"\")\n",
    "        print(\"\")\n",
    "    \n",
    "def parse_map(value, debug=False):\n",
    "    area_map = dict()\n",
    "    value = value.strip().splitlines()\n",
    "    for y, line in enumerate(value):\n",
    "        for x, char in enumerate(line):\n",
    "            if debug:\n",
    "                print(char, end=\"\")\n",
    "            pos = (x,y)\n",
    "            tile = dict(pos=pos, char=char)\n",
    "            if char == \"#\":\n",
    "                tile[\"type\"] = \"wall\"\n",
    "            elif char in \"@1234\":\n",
    "                tile[\"type\"] = \"me\"\n",
    "            elif char == \".\":\n",
    "                tile[\"type\"] = \"corridor\"\n",
    "            elif char.islower():\n",
    "                tile[\"type\"] = \"key\"\n",
    "                tile[\"door\"] = char.upper()\n",
    "            elif char.isupper():\n",
    "                tile[\"type\"] = \"door\"\n",
    "                tile[\"key\"] = char.lower()\n",
    "            area_map[(x,y)] = tile\n",
    "        if debug:\n",
    "            print(\"\")\n",
    "    return area_map\n",
    "        \n",
    "def find_item(area_map, item):\n",
    "    for p in area_map.values():\n",
    "        if p['char'] == item:\n",
    "            return p\n",
    "\n",
    "def set_dist_if_not_wall(area_map, point, dist, parent):\n",
    "    item = area_map.get(point, {})\n",
    "    if item.get(\"type\") != \"wall\" and item.get(\"type\") != \"door\":\n",
    "        item.setdefault(\"dist\", dist)\n",
    "        item.setdefault(\"path\", parent.get(\"path\",\"\") + item[\"char\"])\n",
    "\n",
    "def find_accessible_key(area_map, item):\n",
    "    from copy import deepcopy\n",
    "    import re\n",
    "\n",
    "    area_map = deepcopy(area_map)\n",
    "    area_map[item[\"pos\"]] = item\n",
    "\n",
    "    path_keys = re.sub(r'[^a-z@]', \"\", item.get(\"path\", \"\"))\n",
    "    keys = set(path_keys) | set(path_keys.upper()) | set(\"@\")\n",
    "\n",
    "    for v in area_map.values():\n",
    "        if v is not item and \"dist\" in v:\n",
    "            del v[\"dist\"]\n",
    "            del v[\"path\"]\n",
    "            \n",
    "            if \"keys\" in v:\n",
    "                del v[\"keys\"]\n",
    "\n",
    "        if v[\"char\"] in keys:\n",
    "            v[\"char\"] = \".\"\n",
    "            v[\"type\"] = \"corridor\"\n",
    "    \n",
    "    i = item.setdefault(\"dist\", 0)\n",
    "    while True:\n",
    "        found = 0\n",
    "        for p in area_map.values():\n",
    "            if p.get(\"dist\") == i:\n",
    "                if p.get(\"type\") != \"key\":\n",
    "                    found += 1\n",
    "                    x,y = p[\"pos\"]\n",
    "                    set_dist_if_not_wall(area_map, (x+1,y), i+1, p)\n",
    "                    set_dist_if_not_wall(area_map, (x-1,y), i+1, p)\n",
    "                    set_dist_if_not_wall(area_map, (x,y+1), i+1, p)\n",
    "                    set_dist_if_not_wall(area_map, (x,y-1), i+1, p)\n",
    "        \n",
    "        if found == 0:\n",
    "            break\n",
    "            \n",
    "        i += 1\n",
    "        \n",
    "    keys = []\n",
    "    for p in area_map.values():\n",
    "        if p[\"type\"] == \"key\" and p.get(\"path\") is not None:\n",
    "            keys.append(p)\n",
    "    \n",
    "    return keys\n",
    "\n",
    "\n"
   ]
  },
  {
   "cell_type": "code",
   "execution_count": null,
   "metadata": {},
   "outputs": [],
   "source": [
    "def set_distances(area_map, distances, point, distance, path=\"\"):\n",
    "    item = area_map.get(point)\n",
    "    path = path + item[\"char\"]\n",
    "    x,y = point\n",
    "    if item is not None and item[\"type\"] != \"wall\":\n",
    "        d = distances.get(point, {\"dist\": 1e10})\n",
    "        m = min(distance, d[\"dist\"])\n",
    "        if m == distance:\n",
    "            distances[point] = dict(dist=m, \n",
    "                                    path=path[1:],\n",
    "                                    rpath=path[-2::-1],\n",
    "                                    doors={d for d in path if d.isupper()}, \n",
    "                                    keys={d.upper() for d in path if d.islower()}\n",
    "                                   )\n",
    "            set_distances(area_map, distances, (x+1,y), m+1, path)\n",
    "            set_distances(area_map, distances, (x-1,y), m+1, path)\n",
    "            set_distances(area_map, distances, (x,y+1), m+1, path)\n",
    "            set_distances(area_map, distances, (x,y-1), m+1, path)\n",
    "        \n",
    "def find_paths_from_key(area_map, key):\n",
    "    item = find_item(area_map, key)\n",
    "    distances = dict()\n",
    "    set_distances(area_map, distances, item[\"pos\"], 0)\n",
    "    return distances\n",
    "\n",
    "def find_all_key_paths(area_map):\n",
    "    # Find all keys\n",
    "    keys = set()\n",
    "    for k in area_map.values():\n",
    "        if k[\"type\"] in [\"me\",\"key\"]:\n",
    "            keys.add(k[\"char\"])\n",
    "            \n",
    "    temp_keys = set(keys)\n",
    "    all_paths = dict()\n",
    "    while len(temp_keys)>0:\n",
    "        for start in sorted(temp_keys):\n",
    "            distances = find_paths_from_key(area_map, start)\n",
    "            \n",
    "            temp_keys.remove(start) \n",
    "            \n",
    "            for end in sorted(temp_keys):\n",
    "                pos = find_item(area_map, end)[\"pos\"]\n",
    "                d = distances.get(pos)\n",
    "                if d is None:\n",
    "                    print(\"{} not reachable from {}\".format(end, start))\n",
    "                else:\n",
    "                    all_paths[start+end] = d\n",
    "\n",
    "                    d = dict(d)\n",
    "                    rpath = d[\"rpath\"]\n",
    "                    d[\"rpath\"] = d[\"path\"]\n",
    "                    d[\"path\"] = rpath\n",
    "                    all_paths[end+start] = d\n",
    "\n",
    "#     print(all_paths)\n",
    "    return all_paths\n",
    "\n",
    "    \n",
    "\n",
    "    "
   ]
  },
  {
   "cell_type": "code",
   "execution_count": null,
   "metadata": {},
   "outputs": [],
   "source": [
    "def dijsktra(area_map, start, approximate=False, prune_size=200000, prune_pct=0.1, solution_limit=100, debug_step=1e4):\n",
    "    import heapq, math, time, collections\n",
    "    from IPython.display import clear_output\n",
    "\n",
    "\n",
    "    vertices = find_all_key_paths(area_map)\n",
    "    print(\"Calculated {} distances\".format(len(vertices)))\n",
    "    \n",
    "    # Build all the lower case letters for path calculations (the keys are two letters - so this is a trick) \n",
    "    start = set(start)\n",
    "    keys = set()\n",
    "    for k in vertices.keys():\n",
    "        keys |= set(k)  \n",
    "    keys = keys - start\n",
    "    \n",
    "    dist = dict()\n",
    "    q = []\n",
    "    \n",
    "    heapq.heappush(q, (0, start, \"\", frozenset()))\n",
    "    \n",
    "    seen = dict()\n",
    "    \n",
    "    found = []\n",
    "    lengths = [math.inf]\n",
    "    iterations = 0 \n",
    "    start_time = time.time()\n",
    "    max_steps_seen = []\n",
    "\n",
    "    while q:\n",
    "        iterations += 1 \n",
    "        que_item = heapq.heappop(q)\n",
    "        d, u_set, p, seen_keys = que_item\n",
    "        key_length = len(seen_keys)\n",
    "        \n",
    "        if (key_length>len(max_steps_seen)):\n",
    "            max_steps_seen.append(dict(iterations=iterations, time=time.time()-start_time, steps=len(seen_keys)))\n",
    "        \n",
    "        if iterations % debug_step == 0:\n",
    "            clear_output(wait = True)\n",
    "            print(iterations, len(q), len(seen_keys), len(found), min(lengths))\n",
    "\n",
    "            if len(q) == 0:\n",
    "                print(\"Emtpy q\")\n",
    "            else:\n",
    "                # Sort queue\n",
    "                sorted_queue = dict()\n",
    "                for q_item in q:\n",
    "                    sorted_queue.setdefault(len(q_item[3]), []).append(q_item)\n",
    "                for k in range(len(keys)+1):\n",
    "                    v = len(sorted_queue.get(k,[]))\n",
    "                    print(\"{:2d} - {:6d} times ({:3.0f}%)\".format(k, v, 100*v/len(q)))\n",
    "\n",
    "                for step in max_steps_seen:\n",
    "                    print(step)\n",
    "                print(\"\\n\".join(found[-10:]))\n",
    "\n",
    "                if prune_size is not None and len(q)>=prune_size:\n",
    "                    print(\"Reducing q\", len(q), end=\"\")\n",
    "                    q = []\n",
    "                    for q1 in sorted_queue.values():\n",
    "                        q_len = len(q1)\n",
    "                        if q_len == 0:\n",
    "                            continue\n",
    "\n",
    "                        q += heapq.nsmallest(math.ceil(q_len*prune_pct), q1)\n",
    "                    print(\" to \", len(q))\n",
    "        \n",
    "        if len(keys) == len(seen_keys):\n",
    "            lengths.append(d)\n",
    "            found.append(\"FOUND iter={} d={} p={} keys={}\".format(iterations, d, p, sorted(seen_keys)))\n",
    "            if len(lengths) > solution_limit:\n",
    "                return lengths, found\n",
    "        \n",
    "        for u in u_set:\n",
    "            for key in keys-set(u):\n",
    "                path = vertices.get(u+key)\n",
    "                if path is not None:\n",
    "                    if len(path[\"doors\"] - seen_keys) > 0:\n",
    "                        continue\n",
    "\n",
    "                    seen_u = seen.get((key, seen_keys))\n",
    "                    dist = d+path[\"dist\"]\n",
    "\n",
    "                    if approximate:\n",
    "                        if seen_u is not None:\n",
    "                            continue\n",
    "                    elif seen_u is not None and seen_u<dist:\n",
    "                        continue\n",
    "\n",
    "                    seen[(key, seen_keys)] = dist\n",
    "                    heapq.heappush(q, (dist, u_set-set(u)|set(key), p+key, frozenset(seen_keys | path[\"keys\"])))\n",
    "\n",
    "\n",
    "    return lengths, found"
   ]
  },
  {
   "cell_type": "code",
   "execution_count": null,
   "metadata": {
    "collapsed": true,
    "jupyter": {
     "outputs_hidden": true,
     "source_hidden": true
    }
   },
   "outputs": [],
   "source": [
    "sample1 = \"\"\"\n",
    "#########\n",
    "#b.A.@.a#\n",
    "#########\n",
    "\"\"\"\n",
    "area_map = parse_map(sample1, debug=True)\n",
    "assert len(area_map) == 27, len(area_map)\n",
    "assert area_map[(3,1)][\"char\"] == \"A\"\n",
    "\n",
    "item = find_item(area_map, \"@\")\n",
    "assert item is not None\n",
    "assert item[\"pos\"] == (5,1)\n",
    "\n",
    "print(area_map.keys())\n",
    "\n",
    "d = dijsktra(area_map, '@', approximate=False)\n",
    "print(min(d[0]))\n",
    "print(d[1])"
   ]
  },
  {
   "cell_type": "code",
   "execution_count": null,
   "metadata": {
    "jupyter": {
     "source_hidden": true
    }
   },
   "outputs": [],
   "source": [
    "sample2 = \"\"\"\n",
    "########################\n",
    "#f.D.E.e.C.b.A.@.a.B.c.#\n",
    "######################.#\n",
    "#d.....................#\n",
    "########################\n",
    "\"\"\"\n",
    "area_map = parse_map(sample2, debug=True)\n",
    "d = dijsktra(area_map, '@')\n",
    "print(min(d[0]))\n",
    "print(d[1])"
   ]
  },
  {
   "cell_type": "code",
   "execution_count": null,
   "metadata": {
    "jupyter": {
     "source_hidden": true
    }
   },
   "outputs": [],
   "source": [
    "sample3 = \"\"\"\n",
    "########################\n",
    "#...............b.C.D.f#\n",
    "#.######################\n",
    "#.....@.a.B.c.d.A.e.F.g#\n",
    "########################\n",
    "\"\"\"\n",
    "area_map = parse_map(sample3, debug=True)\n",
    "d = dijsktra(area_map, '@')\n",
    "print(min(d[0]))\n",
    "print(d[1])"
   ]
  },
  {
   "cell_type": "code",
   "execution_count": null,
   "metadata": {
    "jupyter": {
     "source_hidden": true
    }
   },
   "outputs": [],
   "source": [
    "sample4 = \"\"\"\n",
    "#################\n",
    "#i.G..c...e..H.p#\n",
    "########.########\n",
    "#j.A..b...f..D.o#\n",
    "########@########\n",
    "#k.E..a...g..B.n#\n",
    "########.########\n",
    "#l.F..d...h..C.m#\n",
    "#################\n",
    "\"\"\"\n",
    "area_map = parse_map(sample4, debug=True)\n",
    "# search_path(area_map)\n",
    "d = dijsktra(area_map, '@', approximate=False)\n",
    "print(min(d[0]))\n",
    "print(d[1])"
   ]
  },
  {
   "cell_type": "code",
   "execution_count": null,
   "metadata": {
    "jupyter": {
     "source_hidden": true
    }
   },
   "outputs": [],
   "source": [
    "sample5 = \"\"\"\n",
    "########################\n",
    "#@..............ac.GI.b#\n",
    "###d#e#f################\n",
    "###A#B#C################\n",
    "###g#h#i################\n",
    "########################\n",
    "\"\"\"\n",
    "area_map = parse_map(sample5, debug=True)\n",
    "# search_path(area_map)\n",
    "d = dijsktra(area_map, '@', approximate=True)\n",
    "print(min(d[0]))\n",
    "print(d[1])"
   ]
  },
  {
   "cell_type": "code",
   "execution_count": null,
   "metadata": {
    "jupyter": {
     "source_hidden": true
    }
   },
   "outputs": [],
   "source": [
    "with open(\"18-input.txt\", \"rt\") as FILE:\n",
    "    data = FILE.read().strip()\n",
    "    \n",
    "area_map = parse_map(data, debug=True)\n",
    "d = dijsktra(area_map, '@', approximate=True)\n",
    "print(min(d[0]))\n",
    "print(d[1])"
   ]
  },
  {
   "cell_type": "markdown",
   "metadata": {},
   "source": [
    "# Part 2"
   ]
  },
  {
   "cell_type": "code",
   "execution_count": null,
   "metadata": {
    "jupyter": {
     "source_hidden": true
    }
   },
   "outputs": [],
   "source": [
    "def fix_starting_points(area_map):\n",
    "    item = find_item(area_map, '@')\n",
    "    x, y = item[\"pos\"]\n",
    "    for p in [(x,y),(x-1,y),(x+1,y),(x,y-1),(x,y+1)]:\n",
    "        area_map[p] = dict(pos=p, char='#', type='wall')\n",
    "    \n",
    "    for p_ix, p in enumerate([(x-1,y-1),(x+1,y-1),(x-1,y+1),(x+1,y+1)]):\n",
    "        area_map[p] = dict(pos=p, char=str(p_ix+1), type='me')\n",
    "        \n"
   ]
  },
  {
   "cell_type": "code",
   "execution_count": null,
   "metadata": {
    "collapsed": true,
    "jupyter": {
     "outputs_hidden": true,
     "source_hidden": true
    }
   },
   "outputs": [],
   "source": [
    "sample2_1 = \"\"\"\n",
    "#######\n",
    "#a.#Cd#\n",
    "##...##\n",
    "##.@.##\n",
    "##...##\n",
    "#cB#Ab#\n",
    "#######\n",
    "\"\"\"\n",
    "area_map = parse_map(sample2_1, debug=False)\n",
    "fix_starting_points(area_map)\n",
    "print_map(area_map)\n",
    "d = dijsktra(area_map, set(\"1234\"), approximate=False)\n",
    "print(min(d[0]))\n",
    "print(d[1])"
   ]
  },
  {
   "cell_type": "code",
   "execution_count": null,
   "metadata": {
    "collapsed": true,
    "jupyter": {
     "outputs_hidden": true,
     "source_hidden": true
    }
   },
   "outputs": [],
   "source": [
    "sample2_2 = \"\"\"\n",
    "###############\n",
    "#d.ABC.#.....a#\n",
    "######1#2######\n",
    "###############\n",
    "######4#3######\n",
    "#b.....#.....c#\n",
    "###############\n",
    "\"\"\"\n",
    "area_map = parse_map(sample2_2, debug=False)\n",
    "# fix_starting_points(area_map)\n",
    "print_map(area_map)\n",
    "d = dijsktra(area_map, set(\"1234\"), approximate=False)\n",
    "print(min(d[0]))\n",
    "print(d[1])"
   ]
  },
  {
   "cell_type": "code",
   "execution_count": null,
   "metadata": {
    "collapsed": true,
    "jupyter": {
     "outputs_hidden": true,
     "source_hidden": true
    }
   },
   "outputs": [],
   "source": [
    "sample2_3 = \"\"\"\n",
    "#############\n",
    "#DcBa.#.GhKl#\n",
    "#.###1#2#I###\n",
    "#e#d#####j#k#\n",
    "###C#4#3###J#\n",
    "#fEbA.#.FgHi#\n",
    "#############\n",
    "\"\"\"\n",
    "area_map = parse_map(sample2_3, debug=False)\n",
    "# fix_starting_points(area_map)\n",
    "print_map(area_map)\n",
    "d = dijsktra(area_map, set(\"1234\"), approximate=False)\n",
    "print(min(d[0]))\n",
    "print(d[1])"
   ]
  },
  {
   "cell_type": "code",
   "execution_count": null,
   "metadata": {},
   "outputs": [],
   "source": [
    "import math\n",
    "sample2_4 = \"\"\"\n",
    "#############\n",
    "#g#f.D#..h#l#\n",
    "#F###e#E###.#\n",
    "#dCba1#2BcIJ#\n",
    "#############\n",
    "#nK.L4#3G...#\n",
    "#M###N#H###.#\n",
    "#o#m..#i#jk.#\n",
    "#############\n",
    "\"\"\"\n",
    "area_map = parse_map(sample2_4, debug=False)\n",
    "# fix_starting_points(area_map)\n",
    "print_map(area_map)\n",
    "d = dijsktra(area_map, set(\"1234\"), approximate=True, prune_size=None, prune_pct=0.1, solution_limit=10)\n",
    "print(min(d[0]))\n",
    "print(\"\\n\".join(d[1]))"
   ]
  },
  {
   "cell_type": "code",
   "execution_count": null,
   "metadata": {},
   "outputs": [],
   "source": [
    "area_map = parse_map(data, debug=False)\n",
    "fix_starting_points(area_map)\n",
    "print_map(area_map)\n",
    "d = dijsktra(area_map, set(\"1234\"), approximate=True, prune_size=None, prune_pct=0.1, solution_limit=1)\n",
    "print(min(d[0]))\n",
    "# print(d[1])"
   ]
  }
 ],
 "metadata": {
  "kernelspec": {
   "display_name": "Python 3",
   "language": "python",
   "name": "python3"
  },
  "language_info": {
   "codemirror_mode": {
    "name": "ipython",
    "version": 3
   },
   "file_extension": ".py",
   "mimetype": "text/x-python",
   "name": "python",
   "nbconvert_exporter": "python",
   "pygments_lexer": "ipython3",
   "version": "3.7.5"
  }
 },
 "nbformat": 4,
 "nbformat_minor": 4
}
