{
 "cells": [
  {
   "cell_type": "markdown",
   "metadata": {},
   "source": [
    "# Day 8"
   ]
  },
  {
   "cell_type": "code",
   "execution_count": null,
   "metadata": {},
   "outputs": [],
   "source": [
    "with open(\"08-input.txt\", \"rt\") as FILE:\n",
    "    data = FILE.read().strip()\n",
    "    data = [int(d) for d in data]\n",
    "len(data)"
   ]
  },
  {
   "cell_type": "code",
   "execution_count": null,
   "metadata": {},
   "outputs": [],
   "source": [
    "# Images are 25 wide by 6 tall - total of 150 pixels each\n",
    "image_len = 25 * 6\n",
    "\n",
    "chunks = [data[i:i+image_len] for i in range(0,len(data),image_len)]\n",
    "\n",
    "len(chunks), len(chunks[0]), len(chunks[-1])"
   ]
  },
  {
   "cell_type": "code",
   "execution_count": null,
   "metadata": {},
   "outputs": [],
   "source": [
    "from collections import Counter\n",
    "\n",
    "# Let's count digits\n",
    "chunk_data = []\n",
    "for c in chunks:\n",
    "    cntr = Counter(c)\n",
    "    chunk_data.append(dict(chunk=c, counter=cntr))\n",
    "    \n",
    "# Sort chunk_data\n",
    "chunk_data.sort(key=lambda x: x[\"counter\"][0])"
   ]
  },
  {
   "cell_type": "code",
   "execution_count": null,
   "metadata": {},
   "outputs": [],
   "source": [
    "# Layer with fewest zeros should now be on top\n",
    "# Sum ones and twos\n",
    "\n",
    "counter = chunk_data[0][\"counter\"]\n",
    "counter[1] * counter[2]"
   ]
  },
  {
   "cell_type": "markdown",
   "metadata": {},
   "source": [
    "# Part 2"
   ]
  },
  {
   "cell_type": "code",
   "execution_count": null,
   "metadata": {},
   "outputs": [],
   "source": [
    "import numpy as np\n",
    "final_image = np.zeros(image_len)\n",
    "for pos in range(image_len):\n",
    "    # Find all non-transparent pixels\n",
    "    pixel_view = [c[pos] for c in chunks if c[pos] < 2]\n",
    "    final_image[pos] = pixel_view[0]\n",
    "    \n",
    "final_image"
   ]
  },
  {
   "cell_type": "code",
   "execution_count": null,
   "metadata": {},
   "outputs": [],
   "source": [
    "# Draw image\n",
    "image_width = 25\n",
    "image_rows = [final_image[i:i+image_width] for i in range(0,len(final_image),image_width)]\n",
    "image_rows"
   ]
  },
  {
   "cell_type": "code",
   "execution_count": null,
   "metadata": {},
   "outputs": [],
   "source": [
    "for r in image_rows:\n",
    "    row = \"\"\n",
    "    for p in r:\n",
    "        row += \"■\" if p == 0 else \"□\"\n",
    "    print(row)"
   ]
  },
  {
   "cell_type": "code",
   "execution_count": null,
   "metadata": {},
   "outputs": [],
   "source": [
    "from matplotlib import pyplot as plt\n",
    "plt.imshow(image_rows)\n",
    "plt.show()"
   ]
  }
 ],
 "metadata": {
  "kernelspec": {
   "display_name": "Python 3",
   "language": "python",
   "name": "python3"
  },
  "language_info": {
   "codemirror_mode": {
    "name": "ipython",
    "version": 3
   },
   "file_extension": ".py",
   "mimetype": "text/x-python",
   "name": "python",
   "nbconvert_exporter": "python",
   "pygments_lexer": "ipython3",
   "version": "3.7.5"
  }
 },
 "nbformat": 4,
 "nbformat_minor": 4
}
