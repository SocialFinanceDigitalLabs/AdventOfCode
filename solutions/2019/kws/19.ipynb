{
 "cells": [
  {
   "cell_type": "code",
   "execution_count": null,
   "metadata": {},
   "outputs": [],
   "source": [
    "from aoc.day09 import IntCodeComputer\n",
    "import collections"
   ]
  },
  {
   "cell_type": "code",
   "execution_count": null,
   "metadata": {},
   "outputs": [],
   "source": [
    "with open(\"19-input.txt\", \"rt\") as FILE:\n",
    "    data = FILE.read()\n",
    "    data = data.split(\",\")\n",
    "    data = [int(d) for d in data]\n",
    "data[:8]"
   ]
  },
  {
   "cell_type": "code",
   "execution_count": null,
   "metadata": {},
   "outputs": [],
   "source": [
    "class Map:\n",
    "    def __init__(self):\n",
    "        self.map = dict()\n",
    "        self.coords = None\n",
    "        self.coords_list = None\n",
    "        \n",
    "    def set_coords(self, coords):\n",
    "        self.coords = coords\n",
    "        self.coords_list = list(coords)\n",
    "        \n",
    "    def output_value(self, value):\n",
    "        self.map[self.coords] = value\n",
    "        \n",
    "    def input_value(self):\n",
    "        return self.coords_list.pop(0)\n",
    "        \n",
    "    def print_map(self):\n",
    "        x_min, y_min = min(self.map.keys())\n",
    "        x_max, y_max = max(self.map.keys())\n",
    "        for y in range(y_min, y_max+1):\n",
    "            for x in range(x_min, x_max+1):\n",
    "                value = self.map.get((x,y))\n",
    "                print(\"#\" if value == 1 else \".\" , end=\"\")\n",
    "            print()"
   ]
  },
  {
   "cell_type": "code",
   "execution_count": null,
   "metadata": {},
   "outputs": [],
   "source": [
    "tractor_map = Map()\n",
    "for x in range(50):\n",
    "    for y in range(50):\n",
    "        tractor_map.set_coords((x,y))\n",
    "        computer = IntCodeComputer(list(data), debug=False)\n",
    "        computer.output_value = tractor_map.output_value\n",
    "        computer.input_value = tractor_map.input_value\n",
    "        computer.run()\n",
    "\n",
    "print(collections.Counter(tractor_map.map.values()))\n",
    "\n",
    "tractor_map.print_map()"
   ]
  },
  {
   "cell_type": "markdown",
   "metadata": {},
   "source": [
    "# Part 2"
   ]
  },
  {
   "cell_type": "code",
   "execution_count": null,
   "metadata": {},
   "outputs": [],
   "source": [
    "def calculate_position(x, y):\n",
    "    tractor_map = Map()\n",
    "    tractor_map.set_coords((x,y))\n",
    "    computer = IntCodeComputer(list(data), debug=False)\n",
    "    computer.output_value = tractor_map.output_value\n",
    "    computer.input_value = tractor_map.input_value\n",
    "    computer.run()\n",
    "    return tractor_map.map[(x,y)]\n",
    "    \n",
    "\n",
    "y = 0\n",
    "x_min = 0\n",
    "while True:\n",
    "    \n",
    "    x=x_min\n",
    "    while x >= 0 and x-x_min < 10:\n",
    "        value = calculate_position(x,y)\n",
    "        if value == 1:\n",
    "            x_min = x\n",
    "            x = -1\n",
    "        else:\n",
    "            x += 1\n",
    "\n",
    "\n",
    "    if y>100:\n",
    "        value = calculate_position(x_min+99,y-99)\n",
    "        if value == 1:\n",
    "            print(x_min, y-99, x_min*10000 + y-99)\n",
    "            break\n",
    "\n",
    "    y += 1\n",
    "        \n",
    "    \n",
    "    "
   ]
  },
  {
   "cell_type": "code",
   "execution_count": null,
   "metadata": {},
   "outputs": [],
   "source": [
    "tractor_map = Map()\n",
    "\n",
    "x_start = 667\n",
    "y_start = 1097\n",
    "\n",
    "\n",
    "for x in range(x_start-5, x_start+105):\n",
    "    for y in range(y_start-5, y_start+105):\n",
    "        tractor_map.set_coords((x,y))\n",
    "        computer = IntCodeComputer(list(data), debug=False)\n",
    "        computer.output_value = tractor_map.output_value\n",
    "        computer.input_value = tractor_map.input_value\n",
    "        computer.run()"
   ]
  },
  {
   "cell_type": "code",
   "execution_count": null,
   "metadata": {},
   "outputs": [],
   "source": [
    "class bcolors:\n",
    "    HEADER = '\\033[95m'\n",
    "    OKBLUE = '\\033[94m'\n",
    "    OKGREEN = '\\033[92m'\n",
    "    WARNING = '\\033[93m'\n",
    "    FAIL = '\\033[91m'\n",
    "    ENDC = '\\033[0m'\n",
    "    BOLD = '\\033[1m'\n",
    "    UNDERLINE = '\\033[4m'\n",
    "\n",
    "    \n",
    "x_min, y_min = min(tractor_map.map.keys())\n",
    "x_max, y_max = max(tractor_map.map.keys())\n",
    "in_box = False\n",
    "print(bcolors.FAIL, end=\"\")\n",
    "for y in range(y_min, y_max+1):\n",
    "    for x in range(x_min, x_max+1):\n",
    "        if x>=x_start and x<=x_start+99 and y>=y_start and y<=y_start+99:\n",
    "            if not in_box:\n",
    "                print(bcolors.OKBLUE, end=\"\")\n",
    "            in_box = True\n",
    "        else:\n",
    "            if in_box:\n",
    "                print(bcolors.FAIL, end=\"\")\n",
    "            in_box = False\n",
    "        value = tractor_map.map.get((x,y))\n",
    "        print(\"#\" if value == 1 else \".\" , end=\"\")\n",
    "    print()"
   ]
  },
  {
   "cell_type": "code",
   "execution_count": null,
   "metadata": {},
   "outputs": [],
   "source": []
  }
 ],
 "metadata": {
  "kernelspec": {
   "display_name": "Python 3",
   "language": "python",
   "name": "python3"
  },
  "language_info": {
   "codemirror_mode": {
    "name": "ipython",
    "version": 3
   },
   "file_extension": ".py",
   "mimetype": "text/x-python",
   "name": "python",
   "nbconvert_exporter": "python",
   "pygments_lexer": "ipython3",
   "version": "3.7.5"
  }
 },
 "nbformat": 4,
 "nbformat_minor": 4
}
