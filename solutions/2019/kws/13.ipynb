{
 "cells": [
  {
   "cell_type": "code",
   "execution_count": null,
   "metadata": {},
   "outputs": [],
   "source": [
    "from aoc.day09 import IntCodeComputer\n",
    "import numpy as np"
   ]
  },
  {
   "cell_type": "code",
   "execution_count": null,
   "metadata": {},
   "outputs": [],
   "source": [
    "class Game():\n",
    "    def __init__(self):\n",
    "        self.space = {}\n",
    "        self.buffer = []\n",
    "        \n",
    "    def receive_output(self, value):\n",
    "        self.buffer.append(value)\n",
    "        if len(self.buffer)>=3:\n",
    "            x = self.buffer.pop(0)\n",
    "            y = self.buffer.pop(0)\n",
    "            t = self.buffer.pop(0)\n",
    "            self.space[(x,y)] = t\n"
   ]
  },
  {
   "cell_type": "code",
   "execution_count": null,
   "metadata": {},
   "outputs": [],
   "source": [
    "with open(\"13-input.txt\", \"rt\") as FILE:\n",
    "    data = FILE.read()\n",
    "    data = data.split(\",\")\n",
    "    data = [int(d) for d in data]\n",
    "data[:8]"
   ]
  },
  {
   "cell_type": "code",
   "execution_count": null,
   "metadata": {},
   "outputs": [],
   "source": [
    "game = Game()\n",
    "\n",
    "computer = IntCodeComputer(list(data), debug=False)\n",
    "computer.output_value = game.receive_output\n",
    "\n",
    "computer.run()"
   ]
  },
  {
   "cell_type": "code",
   "execution_count": null,
   "metadata": {},
   "outputs": [],
   "source": [
    "from collections import Counter\n",
    "cntr = Counter(game.space.values())\n",
    "cntr[2]"
   ]
  },
  {
   "cell_type": "markdown",
   "metadata": {},
   "source": [
    "# Part 2"
   ]
  },
  {
   "cell_type": "code",
   "execution_count": null,
   "metadata": {},
   "outputs": [],
   "source": [
    "class Game2():\n",
    "\n",
    "    WALL = 1\n",
    "    BLOCK = 2\n",
    "    PADDLE = 3\n",
    "    BALL = 4\n",
    "\n",
    "    def __init__(self):\n",
    "        self.space = {}\n",
    "        self.buffer = []\n",
    "        self.score = 0\n",
    "        \n",
    "    def receive_output(self, value):\n",
    "        self.buffer.append(value)\n",
    "        if len(self.buffer)>=3:\n",
    "            x = self.buffer.pop(0)\n",
    "            y = self.buffer.pop(0)\n",
    "            t = self.buffer.pop(0)\n",
    "            \n",
    "            pos = (x,y)\n",
    "            if pos == (-1, 0):\n",
    "                print(\"Score\", t)\n",
    "                self.score = t\n",
    "            else:\n",
    "                self.space[pos] = t\n",
    "                \n",
    "    \n",
    "    def send_input(self):\n",
    "        bx, by = self.find_object(Game2.BALL)\n",
    "        px, py = self.find_object(Game2.PADDLE)\n",
    "        if bx<px:\n",
    "            return -1\n",
    "        elif bx>px:\n",
    "            return 1\n",
    "        else:\n",
    "            return 0\n",
    "        \n",
    "    def find_object(self, value):\n",
    "        for pos, item in self.space.items():\n",
    "            if item == value:\n",
    "                return pos\n",
    "            \n",
    "        return None\n",
    "        "
   ]
  },
  {
   "cell_type": "code",
   "execution_count": null,
   "metadata": {},
   "outputs": [],
   "source": [
    "game = Game2()\n",
    "\n",
    "cheatcode = list(data)\n",
    "cheatcode[0] = 2\n",
    "\n",
    "computer = IntCodeComputer(cheatcode, debug=False)\n",
    "computer.output_value = game.receive_output\n",
    "computer.input_value = game.send_input\n",
    "\n",
    "computer.run()"
   ]
  },
  {
   "cell_type": "code",
   "execution_count": null,
   "metadata": {},
   "outputs": [],
   "source": [
    "game.score"
   ]
  },
  {
   "cell_type": "code",
   "execution_count": null,
   "metadata": {},
   "outputs": [],
   "source": []
  }
 ],
 "metadata": {
  "kernelspec": {
   "display_name": "Python 3",
   "language": "python",
   "name": "python3"
  },
  "language_info": {
   "codemirror_mode": {
    "name": "ipython",
    "version": 3
   },
   "file_extension": ".py",
   "mimetype": "text/x-python",
   "name": "python",
   "nbconvert_exporter": "python",
   "pygments_lexer": "ipython3",
   "version": "3.7.5"
  }
 },
 "nbformat": 4,
 "nbformat_minor": 4
}
