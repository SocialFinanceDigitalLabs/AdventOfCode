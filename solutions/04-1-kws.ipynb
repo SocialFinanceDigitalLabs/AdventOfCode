{
 "cells": [
  {
   "cell_type": "markdown",
   "metadata": {},
   "source": [
    "# December 04\n",
    "\n",
    "Today's puzzle is very similar to the problem John and Rikk has recently worked on. \n",
    "\n",
    "We need to build a timeline of states, where a Elf is either awake or asleep. "
   ]
  },
  {
   "cell_type": "code",
   "execution_count": null,
   "metadata": {},
   "outputs": [],
   "source": [
    "import regex as re\n",
    "import numpy as np\n",
    "import pandas as pd"
   ]
  },
  {
   "cell_type": "code",
   "execution_count": null,
   "metadata": {},
   "outputs": [],
   "source": [
    "# Sample data as provided in question\n",
    "data= \"\"\"\n",
    "[1518-11-01 00:00] Guard #10 begins shift\n",
    "[1518-11-01 00:05] falls asleep\n",
    "[1518-11-01 00:25] wakes up\n",
    "[1518-11-01 00:30] falls asleep\n",
    "[1518-11-01 00:55] wakes up\n",
    "[1518-11-01 23:58] Guard #99 begins shift\n",
    "[1518-11-02 00:40] falls asleep\n",
    "[1518-11-02 00:50] wakes up\n",
    "[1518-11-03 00:05] Guard #10 begins shift\n",
    "[1518-11-03 00:24] falls asleep\n",
    "[1518-11-03 00:29] wakes up\n",
    "[1518-11-04 00:02] Guard #99 begins shift\n",
    "[1518-11-04 00:36] falls asleep\n",
    "[1518-11-04 00:46] wakes up\n",
    "[1518-11-05 00:03] Guard #99 begins shift\n",
    "[1518-11-05 00:45] falls asleep\n",
    "[1518-11-05 00:55] wakes up\n",
    "\"\"\".strip().splitlines()"
   ]
  },
  {
   "cell_type": "code",
   "execution_count": null,
   "metadata": {},
   "outputs": [],
   "source": [
    "# We're now going to start storing the data in a file to avoid having to paste into the main document\n",
    "# Make sure you create a file with the name below and save the real problem output there. \n",
    "# If you want to run just the sample data, skip this block\n",
    "with open(\"./04-kws.txt\", \"r\") as FILE:\n",
    "    data = FILE.read().strip().splitlines()"
   ]
  },
  {
   "cell_type": "code",
   "execution_count": null,
   "metadata": {},
   "outputs": [],
   "source": [
    "data[:5]"
   ]
  },
  {
   "cell_type": "markdown",
   "metadata": {},
   "source": [
    "In the real data the 'events' are not sorted, so before we do anything else, we need to sort the list. The wonderful thing about ISO8601 order date format is that the dates sort alphanumerically. Keep that in mind whenever putting a date in filenames!\n",
    "\n",
    "So to put this in chronological order, we simply need to sort the list."
   ]
  },
  {
   "cell_type": "code",
   "execution_count": null,
   "metadata": {},
   "outputs": [],
   "source": [
    "data.sort()\n",
    "data"
   ]
  },
  {
   "cell_type": "code",
   "execution_count": null,
   "metadata": {},
   "outputs": [],
   "source": [
    "guard_on_duty = None\n",
    "\n",
    "sleep_times = dict()\n",
    "\n",
    "pattern_guard_change = re.compile(\".*Guard #(\\d+) begins shift\")\n",
    "pattern_date = re.compile(\"\\[(\\d\\d\\d\\d-\\d\\d-\\d\\d) (\\d\\d):(\\d\\d)\\].*\")\n",
    "for line in data:\n",
    "    # Check if the current line is a guard change\n",
    "    match = pattern_guard_change.match(line)\n",
    "    if match:\n",
    "        guard_on_duty = match[1]\n",
    "        continue\n",
    "        \n",
    "    # If not a guard change, then it has to be an awake or sleep line\n",
    "    match = pattern_date.match(line)\n",
    "    date = match[1]\n",
    "    minutes = int(match[3])\n",
    "    \n",
    "    date_key = \"{}|{}\".format(date,guard_on_duty)\n",
    "    sleep_array = sleep_times.get(date_key, np.zeros(60))\n",
    "        \n",
    "    # If instead it's a guard that falls asleep\n",
    "    if \"asleep\" in line:\n",
    "        sleep_array[minutes:] = 1\n",
    "    elif \"wakes up\" in line:\n",
    "        sleep_array[minutes:] = 0\n",
    "        \n",
    "    sleep_times[date_key] = sleep_array\n",
    "\n",
    "df_sleep = pd.DataFrame.from_dict(sleep_times,orient=\"index\")\n",
    "\n",
    "# Split date and elf into separate index columns\n",
    "df_sleep[\"date\"] = df_sleep.index.map(lambda x: x.split(\"|\")[0])\n",
    "df_sleep[\"elf\"] = df_sleep.index.map(lambda x: x.split(\"|\")[1])\n",
    "df_sleep = df_sleep.set_index([\"date\",\"elf\"])\n",
    "\n",
    "df_sleep"
   ]
  },
  {
   "cell_type": "markdown",
   "metadata": {},
   "source": [
    "First we want to find the elf that falls asleep the most"
   ]
  },
  {
   "cell_type": "code",
   "execution_count": null,
   "metadata": {},
   "outputs": [],
   "source": [
    "total_sleep = df_sleep.groupby('elf').sum().sum(axis=1).sort_values(ascending=False)\n",
    "total_sleep"
   ]
  },
  {
   "cell_type": "code",
   "execution_count": null,
   "metadata": {},
   "outputs": [],
   "source": [
    "elf_with_max_sleep = total_sleep.head(1).keys()[0]\n",
    "elf_with_max_sleep"
   ]
  },
  {
   "cell_type": "code",
   "execution_count": null,
   "metadata": {},
   "outputs": [],
   "source": [
    "total_by_minute = df_sleep.groupby('elf').sum().reset_index()\n",
    "total_by_minute"
   ]
  },
  {
   "cell_type": "code",
   "execution_count": null,
   "metadata": {},
   "outputs": [],
   "source": [
    "df_elf = total_by_minute[total_by_minute[\"elf\"] == elf_with_max_sleep]\n",
    "del df_elf[\"elf\"]\n",
    "df_elf"
   ]
  },
  {
   "cell_type": "code",
   "execution_count": null,
   "metadata": {},
   "outputs": [],
   "source": [
    "# Find the max minute \n",
    "df_elf_by_minute = df_elf.transpose()\n",
    "df_elf_by_minute.columns = ['minutes_asleep']\n",
    "df_elf_by_minute = df_elf_by_minute.sort_values(by='minutes_asleep', ascending=False)\n",
    "df_elf_by_minute"
   ]
  },
  {
   "cell_type": "code",
   "execution_count": null,
   "metadata": {},
   "outputs": [],
   "source": [
    "\n",
    "df_elf_by_minute[\"solution\"] = df_elf_by_minute.index.astype(int) * int(elf_with_max_sleep)\n",
    "df_elf_by_minute.head(1)"
   ]
  },
  {
   "cell_type": "markdown",
   "metadata": {},
   "source": [
    "# Part 2\n",
    "\n",
    "We now how to find the most common minute for each each"
   ]
  },
  {
   "cell_type": "code",
   "execution_count": null,
   "metadata": {},
   "outputs": [],
   "source": [
    "# Find the most number of times an elf has been asleep on a particular minute\n",
    "df_most_times_asleep = df_sleep.groupby('elf').sum().max(axis=1).sort_values(ascending=False)\n",
    "df_most_times_asleep"
   ]
  },
  {
   "cell_type": "code",
   "execution_count": null,
   "metadata": {},
   "outputs": [],
   "source": [
    "most_minutes = df_most_times_asleep.head(1).values[0]\n",
    "elf = df_most_times_asleep.index[0]\n",
    "\n",
    "\"Elf {} was asleep {} times on a single minute\".format(elf, most_minutes)"
   ]
  },
  {
   "cell_type": "code",
   "execution_count": null,
   "metadata": {},
   "outputs": [],
   "source": [
    "df_sleep_by_minute = df_sleep.groupby(\"elf\").sum().reset_index()\n",
    "df_sleep_by_minute = df_sleep_by_minute[df_sleep_by_minute[\"elf\"] == elf]\n",
    "del df_sleep_by_minute[\"elf\"]\n",
    "df_sleep_by_minute"
   ]
  },
  {
   "cell_type": "code",
   "execution_count": null,
   "metadata": {},
   "outputs": [],
   "source": [
    "df_sleep_by_minute2 = df_sleep_by_minute.transpose()\n",
    "df_sleep_by_minute2.columns=[\"minutes_asleep\"]\n",
    "df_sleep_by_minute2[\"solution\"] = df_sleep_by_minute2.index.astype(int) * int(elf)\n",
    "df_sleep_by_minute2[df_sleep_by_minute2[\"minutes_asleep\"] == most_minutes]"
   ]
  },
  {
   "cell_type": "code",
   "execution_count": null,
   "metadata": {},
   "outputs": [],
   "source": []
  }
 ],
 "metadata": {
  "kernelspec": {
   "display_name": "Python 3",
   "language": "python",
   "name": "python3"
  },
  "language_info": {
   "codemirror_mode": {
    "name": "ipython",
    "version": 3
   },
   "file_extension": ".py",
   "mimetype": "text/x-python",
   "name": "python",
   "nbconvert_exporter": "python",
   "pygments_lexer": "ipython3",
   "version": "3.7.1"
  }
 },
 "nbformat": 4,
 "nbformat_minor": 2
}
