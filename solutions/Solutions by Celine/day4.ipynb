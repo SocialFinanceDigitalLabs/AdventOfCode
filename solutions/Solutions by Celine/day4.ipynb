{
 "cells": [
  {
   "cell_type": "markdown",
   "metadata": {},
   "source": [
    "This first part is just cleaning out the list to get something nicer"
   ]
  },
  {
   "cell_type": "code",
   "execution_count": 27,
   "metadata": {},
   "outputs": [
    {
     "data": {
      "text/plain": [
       "'[1518-07-26 23:50] Guard #487 begins shift'"
      ]
     },
     "execution_count": 27,
     "metadata": {},
     "output_type": "execute_result"
    }
   ],
   "source": [
    "with open(\"input_day4.txt\", \"r\") as infile:\n",
    "    contents = infile.read().strip()\n",
    "contents = contents.split(\"\\n\")\n",
    "contents[1]"
   ]
  },
  {
   "cell_type": "code",
   "execution_count": 28,
   "metadata": {},
   "outputs": [
    {
     "data": {
      "text/plain": [
       "[datetime.datetime(1518, 10, 3, 0, 47), 'falls asleep']"
      ]
     },
     "execution_count": 28,
     "metadata": {},
     "output_type": "execute_result"
    }
   ],
   "source": [
    "import datetime\n",
    "\n",
    "logs = list()\n",
    "\n",
    "for line in contents: \n",
    "    date = datetime.datetime.strptime(line[0:18],  \"[%Y-%m-%d %H:%M]\")\n",
    "    action = line[19:]\n",
    "    logs.append([date, action]) # We create a list of lists with two elements: a date object and the action associated\n",
    "    \n",
    "logs[0]"
   ]
  },
  {
   "cell_type": "code",
   "execution_count": 29,
   "metadata": {},
   "outputs": [],
   "source": [
    "logs.sort()"
   ]
  },
  {
   "cell_type": "code",
   "execution_count": 30,
   "metadata": {},
   "outputs": [],
   "source": [
    "# We add the ID of the guard at the beginning of each line for clarity\n",
    "guard_id = 0\n",
    "ix = 0\n",
    "while ix < len(logs):\n",
    "    if 'Guard' in logs[ix][1]:\n",
    "        guard_id = int(logs[ix][1][7:-13])\n",
    "    logs[ix] = [guard_id] + logs[ix]\n",
    "    ix += 1 "
   ]
  },
  {
   "cell_type": "markdown",
   "metadata": {},
   "source": [
    "# Part 1"
   ]
  },
  {
   "cell_type": "code",
   "execution_count": 31,
   "metadata": {},
   "outputs": [],
   "source": [
    "id_list = list()\n",
    "\n",
    "for log in logs:\n",
    "    if int(log[0]) not in id_list:\n",
    "        id_list.append(int(log[0])) # We create a list of all the guard IDs"
   ]
  },
  {
   "cell_type": "code",
   "execution_count": 32,
   "metadata": {},
   "outputs": [],
   "source": [
    "sleepers = list()\n",
    "\n",
    "for guard in id_list:\n",
    "    ix = 0\n",
    "    sleeping = 0\n",
    "    while ix < len(logs):\n",
    "        if guard in logs[ix]:\n",
    "            if 'wakes' in logs[ix][2]:\n",
    "                if sleeping == 0:\n",
    "                    sleeping = (logs[ix][1] - logs[ix-1][1])\n",
    "                else:\n",
    "                    sleeping += (logs[ix][1] - logs[ix-1][1])\n",
    "        ix += 1\n",
    "    if sleeping != 0:\n",
    "        sleepers.append([sleeping, guard]) # We create a list of lists of 2 elements: total sleeping time, guard ID"
   ]
  },
  {
   "cell_type": "code",
   "execution_count": 33,
   "metadata": {},
   "outputs": [
    {
     "data": {
      "text/plain": [
       "2917"
      ]
     },
     "execution_count": 33,
     "metadata": {},
     "output_type": "execute_result"
    }
   ],
   "source": [
    "target_guard = max(sleepers)[1]\n",
    "target_guard"
   ]
  },
  {
   "cell_type": "markdown",
   "metadata": {},
   "source": [
    "We know now that the guard that sleeps the most in total is #2917!"
   ]
  },
  {
   "cell_type": "markdown",
   "metadata": {},
   "source": [
    "Now, we build a series of functions that feed into each other: function #2 uses function #1, function #3 uses function #2."
   ]
  },
  {
   "cell_type": "code",
   "execution_count": 42,
   "metadata": {},
   "outputs": [],
   "source": [
    "def sleeptimes(guard):\n",
    "    \"\"\"Gives a list of all the minutes where the guard fell asleep / awoke: [minute slept, minute awoke]\"\"\"\n",
    "    ix = 0\n",
    "    sleep_log = list()\n",
    "    sleep = 0\n",
    "    awake = 0\n",
    "\n",
    "    while ix < len(logs):\n",
    "        if guard == logs[ix][0]:\n",
    "            if 'wakes' in logs[ix][2]:\n",
    "                sleep = logs[ix-1][1].minute\n",
    "                awake = logs[ix][1].minute\n",
    "                sleep_log.append([sleep, awake]) \n",
    "        ix += 1\n",
    "    \n",
    "    return sleep_log"
   ]
  },
  {
   "cell_type": "code",
   "execution_count": 43,
   "metadata": {},
   "outputs": [],
   "source": [
    "import numpy as np\n",
    "\n",
    "def totalsleep(guard):\n",
    "    \"\"\"Gives a list of 60 elements, where each element represents the number of times the guard was sleeping during that minute\"\"\"\n",
    "    \n",
    "    minutes = np.zeros(60) # We create a list of 60 zeros that represent each minute of the midnight hour\n",
    "    sleep_log = sleeptimes(guard)\n",
    "    \n",
    "    for log in sleep_log:\n",
    "        minutes[log[0]:log[1]] += 1 # Each time the guard is asleep during a certain minute, we increment this minute\n",
    "    \n",
    "    return minutes"
   ]
  },
  {
   "cell_type": "code",
   "execution_count": 44,
   "metadata": {},
   "outputs": [],
   "source": [
    "def maxminute(guard):\n",
    "    \"\"\"Gives the minute during which the guard was most asleep and the number of times associated under the form\\\n",
    "    (guard ID, index of minute, number of times asleep)\"\"\"\n",
    "    \n",
    "    minutes = totalsleep(guard)\n",
    "    m = max(minutes)\n",
    "    m_ix = 0\n",
    "    \n",
    "    for ix, value in enumerate(minutes):\n",
    "        if value == m:\n",
    "            m_ix = ix # We find the index of the minute with the highest occurence of sleeping\n",
    "            \n",
    "    return(guard, m_ix, m)"
   ]
  },
  {
   "cell_type": "code",
   "execution_count": 45,
   "metadata": {},
   "outputs": [
    {
     "data": {
      "text/plain": [
       "(2917, 25, 14.0)"
      ]
     },
     "execution_count": 45,
     "metadata": {},
     "output_type": "execute_result"
    }
   ],
   "source": [
    "maxminute(target_guard)"
   ]
  },
  {
   "cell_type": "code",
   "execution_count": 47,
   "metadata": {},
   "outputs": [
    {
     "data": {
      "text/plain": [
       "72925"
      ]
     },
     "execution_count": 47,
     "metadata": {},
     "output_type": "execute_result"
    }
   ],
   "source": [
    "maxminute(target_guard)[0] * maxminute(target_guard)[1]"
   ]
  },
  {
   "cell_type": "markdown",
   "metadata": {},
   "source": [
    "# Part 2"
   ]
  },
  {
   "cell_type": "code",
   "execution_count": 48,
   "metadata": {},
   "outputs": [],
   "source": [
    "# We create a list of the 'maxminute's for each guard\n",
    "\n",
    "max_minutes = list()\n",
    "\n",
    "for guard in id_list:\n",
    "    max_minutes.append(maxminute(guard))"
   ]
  },
  {
   "cell_type": "code",
   "execution_count": 54,
   "metadata": {},
   "outputs": [],
   "source": [
    "minute_times = 0\n",
    "minute_id = 0\n",
    "guard_id = 0\n",
    "\n",
    "# We want to identify the minute with the max occurence amongst all the guards\n",
    "\n",
    "for minute in max_minutes:\n",
    "    if minute[2] > minute_times:\n",
    "        minute_times = minute[2] # We stock the max occurence\n",
    "        minute_id = minute[1] # We stock the corresponding minute\n",
    "        guard_id = minute[0] # We stock the corresponding guard id"
   ]
  },
  {
   "cell_type": "code",
   "execution_count": 55,
   "metadata": {
    "scrolled": true
   },
   "outputs": [
    {
     "data": {
      "text/plain": [
       "49137"
      ]
     },
     "execution_count": 55,
     "metadata": {},
     "output_type": "execute_result"
    }
   ],
   "source": [
    "guard_id * minute_id # Our answer!"
   ]
  }
 ],
 "metadata": {
  "kernelspec": {
   "display_name": "Python 3",
   "language": "python",
   "name": "python3"
  }
 },
 "nbformat": 4,
 "nbformat_minor": 2
}
