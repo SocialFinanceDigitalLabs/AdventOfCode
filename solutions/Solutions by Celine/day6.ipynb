{
 "cells": [
  {
   "cell_type": "code",
   "execution_count": 64,
   "metadata": {
    "scrolled": true
   },
   "outputs": [],
   "source": [
    "with open(\"input_day6.txt\", \"r\") as infile:\n",
    "    contents = infile.read().strip()\n",
    "contents = contents.split(\"\\n\")"
   ]
  },
  {
   "cell_type": "code",
   "execution_count": 65,
   "metadata": {},
   "outputs": [],
   "source": [
    "# We clean up the data to only get a list of (x,y) coordinates\n",
    "\n",
    "coordinates = list()\n",
    "x=0\n",
    "y=0\n",
    "\n",
    "for line in contents:\n",
    "    line = line.split(\", \")\n",
    "    x = int(line[0])\n",
    "    y = int(line[1])\n",
    "    coordinates.append((x,y))"
   ]
  },
  {
   "cell_type": "markdown",
   "metadata": {},
   "source": [
    "# Part 1"
   ]
  },
  {
   "cell_type": "code",
   "execution_count": 66,
   "metadata": {},
   "outputs": [],
   "source": [
    "# We determine the max and min for (x,y) that will give us the outer boundaries of our grid\n",
    "\n",
    "xmax = max(coordinates)[0]\n",
    "xmin = min(coordinates)[0]\n",
    "ymax = max([y for (x,y) in coordinates])\n",
    "ymin = min([y for (x,y) in coordinates])"
   ]
  },
  {
   "cell_type": "code",
   "execution_count": 67,
   "metadata": {},
   "outputs": [],
   "source": [
    "grid = dict()\n",
    "infinite = list()\n",
    "\n",
    "for y in range(ymin,ymax+1):\n",
    "    for x in range(xmin,xmax+1):\n",
    "        # We go through every point in our grid\n",
    "        \n",
    "        if (x,y) not in coordinates: # We only look at points that are not in the list of coordinates to compare to\n",
    "            min1 = 0\n",
    "            min2 = 0\n",
    "            coord = 0\n",
    "            \n",
    "            for coordinate in coordinates:\n",
    "                if min1 == 0:\n",
    "                    min1 = abs(x - coordinate[0]) + abs(y - coordinate[1])\n",
    "                elif abs(x - coordinate[0]) + abs(y - coordinate[1]) <= min1:\n",
    "                    min2 = int(min1)\n",
    "                    min1 = abs(x - coordinate[0]) + abs(y - coordinate[1]) # We stock the smallest Manhattan distance...\n",
    "                    coord = coordinate # ... and the coordinate associated with it\n",
    "            \n",
    "            if min1 != min2:\n",
    "                if (x == xmin) or (x == xmax) or (y == ymin) or (y == ymax):\n",
    "                    infinite.append(coord) # We list the coordinates that \"own\" points along the border of the grid\n",
    "                    # which means the area is infinite\n",
    "                if coord not in grid:\n",
    "                    grid[coord] = 1\n",
    "                else:\n",
    "                    grid[coord] += 1 # We count the number of points owned by the coordinate"
   ]
  },
  {
   "cell_type": "code",
   "execution_count": 68,
   "metadata": {},
   "outputs": [],
   "source": [
    "for coordinate in infinite:\n",
    "    if coordinate in grid:\n",
    "        del grid[coordinate] # We take out the coordinate owning 'infinite' areas"
   ]
  },
  {
   "cell_type": "code",
   "execution_count": 69,
   "metadata": {},
   "outputs": [
    {
     "data": {
      "text/plain": [
       "3882"
      ]
     },
     "execution_count": 69,
     "metadata": {},
     "output_type": "execute_result"
    }
   ],
   "source": [
    "max(grid.values())+1 # We look for the largest zone\n",
    "# We add +1 to count the coordinate itself (we had only counted the points around it)"
   ]
  },
  {
   "cell_type": "markdown",
   "metadata": {},
   "source": [
    "# Part 2"
   ]
  },
  {
   "cell_type": "code",
   "execution_count": 70,
   "metadata": {},
   "outputs": [],
   "source": [
    "sum_distances = dict()\n",
    "\n",
    "for y in range(ymin,ymax+1):\n",
    "    for x in range(xmin,xmax+1):\n",
    "        sum_distance = 0\n",
    "        for coordinate in coordinates:\n",
    "            distance = abs(x - coordinate[0]) + abs(y - coordinate[1])\n",
    "            sum_distance += distance # For each (x,y) within our grid, we sum all the Manhattan distances to the coordinates\n",
    "        sum_distances[(x,y)] = sum_distance # We stock the sum of distances in a dict"
   ]
  },
  {
   "cell_type": "code",
   "execution_count": 71,
   "metadata": {},
   "outputs": [],
   "source": [
    "size = 0\n",
    "\n",
    "for distance in sum_distances.values():\n",
    "    if distance < 10000:\n",
    "        size += 1 # We count the number of points that have a total distance under 10,000"
   ]
  },
  {
   "cell_type": "code",
   "execution_count": 72,
   "metadata": {},
   "outputs": [
    {
     "data": {
      "text/plain": [
       "43852"
      ]
     },
     "execution_count": 72,
     "metadata": {},
     "output_type": "execute_result"
    }
   ],
   "source": [
    "size"
   ]
  }
 ],
 "metadata": {
  "kernelspec": {
   "display_name": "Python 3",
   "language": "python",
   "name": "python3"
  },
  "language_info": {
   "codemirror_mode": {
    "name": "ipython",
    "version": 3
   },
   "file_extension": ".py",
   "mimetype": "text/x-python",
   "name": "python",
   "nbconvert_exporter": "python",
   "pygments_lexer": "ipython3",
   "version": "3.7.0"
  }
 },
 "nbformat": 4,
 "nbformat_minor": 2
}
