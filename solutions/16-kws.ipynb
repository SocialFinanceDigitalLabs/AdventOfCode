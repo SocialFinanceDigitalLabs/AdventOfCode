{
 "cells": [
  {
   "cell_type": "code",
   "execution_count": null,
   "metadata": {},
   "outputs": [],
   "source": [
    "import regex as re"
   ]
  },
  {
   "cell_type": "markdown",
   "metadata": {},
   "source": [
    "# Implement opcodes"
   ]
  },
  {
   "cell_type": "code",
   "execution_count": null,
   "metadata": {},
   "outputs": [],
   "source": [
    "# Addition\n",
    "def addr(reg, A, B, C):\n",
    "    reg[C] = reg[A] + reg[B]\n",
    "    \n",
    "def addi(reg, A, B, C):\n",
    "    reg[C] = reg[A] + B\n",
    "\n",
    "# Multiplication\n",
    "def mulr(reg, A, B, C):\n",
    "    reg[C] = reg[A] * reg[B]\n",
    "    \n",
    "def muli(reg, A, B, C):\n",
    "    reg[C] = reg[A] * B\n",
    "    \n",
    "# Bitwise-AND\n",
    "def banr(reg, A, B, C):\n",
    "    reg[C] = reg[A] & reg[B]\n",
    "    \n",
    "def bani(reg, A, B, C):\n",
    "    reg[C] = reg[A] & B\n",
    "    \n",
    "# Bitwise-OR\n",
    "def borr(reg, A, B, C):\n",
    "    reg[C] = reg[A] | reg[B]\n",
    "    \n",
    "def bori(reg, A, B, C):\n",
    "    reg[C] = reg[A] | B\n",
    "    \n",
    "# Assignment\n",
    "def setr(reg, A, B, C):\n",
    "    reg[C] = reg[A]\n",
    "    \n",
    "def seti(reg, A, B, C):\n",
    "    reg[C] = A\n",
    "    \n",
    "# Greater-than testing\n",
    "def gtir(reg, A, B, C):\n",
    "    if A > reg[B]: reg[C] = 1\n",
    "    else: reg[C] = 0\n",
    "\n",
    "def gtri(reg, A, B, C):\n",
    "    if reg[A] > B: reg[C] = 1\n",
    "    else: reg[C] = 0\n",
    "\n",
    "def gtrr(reg, A, B, C):\n",
    "    if reg[A] > reg[B]: reg[C] = 1\n",
    "    else: reg[C] = 0\n",
    "        \n",
    "# Equality testing\n",
    "def eqir(reg, A, B, C):\n",
    "    if A == reg[B]: reg[C] = 1\n",
    "    else: reg[C] = 0\n",
    "\n",
    "def eqri(reg, A, B, C):\n",
    "    if reg[A] == B: reg[C] = 1\n",
    "    else: reg[C] = 0\n",
    "\n",
    "def eqrr(reg, A, B, C):\n",
    "    if reg[A] == reg[B]: reg[C] = 1\n",
    "    else: reg[C] = 0\n",
    "        \n",
    "# Store a list of all the opcodes\n",
    "opcodes = [\n",
    "    addr, addi, mulr, muli,\n",
    "    banr, bani, borr, bori,\n",
    "    setr, seti,\n",
    "    gtir, gtri, gtrr,\n",
    "    eqir, eqri, eqrr\n",
    "]\n",
    "\n",
    "# Also create a lookup by name since we're going to need this\n",
    "opcodes_by_name = { f.__name__: f for f in opcodes }\n"
   ]
  },
  {
   "cell_type": "code",
   "execution_count": null,
   "metadata": {},
   "outputs": [],
   "source": [
    "\n",
    "def test(before, sample, after):\n",
    "    \"\"\" \n",
    "        Tests a program sample to see which opcodes produces the observed output. \n",
    "        Returns possible opcodes by name.\n",
    "    \"\"\"\n",
    "    valid = []\n",
    "    for op in opcodes:\n",
    "        reg = before.copy()\n",
    "        op(reg, *sample[1:])\n",
    "        if (reg == after):\n",
    "            valid.append(op.__name__)\n",
    "    return valid\n"
   ]
  },
  {
   "cell_type": "code",
   "execution_count": null,
   "metadata": {},
   "outputs": [],
   "source": [
    "test([3,2,1,1], [9,2,1,2], [3,2,2,1])"
   ]
  },
  {
   "cell_type": "code",
   "execution_count": null,
   "metadata": {},
   "outputs": [],
   "source": [
    "with open(\"./16-input.txt\", \"r\") as FILE:\n",
    "    data = FILE.read()\n",
    "    \n",
    "# pattern = re.compile(r\"BEFORE: [(.*)]\\s+(\\d+ \\d+ \\d+ \\d+)\\s+AFTER: [(.*)]\", re.MULTILINE)\n",
    "pattern = re.compile(r\"Before:\\s+\\[(.*)\\]\\s+(\\d+ \\d+ \\d+ \\d+)\\s+After:\\s+\\[(.*)\\]\", re.MULTILINE)\n",
    "\n",
    "matches = pattern.findall(data)\n",
    "\n",
    "count = 0\n",
    "print(len(matches),\"samples read\")\n",
    "for m in matches:\n",
    "    before = [int(n.strip()) for n in m[0].split(',')]\n",
    "    sample = [int(n.strip()) for n in m[1].split(' ')]\n",
    "    after = [int(n.strip()) for n in m[2].split(',')]\n",
    "    \n",
    "    ops = test(before, sample, after)\n",
    "    if len(ops) >= 3: \n",
    "        count+=1\n",
    "    \n",
    "print(count, \"samples matched 3 or more operations\")\n",
    "    \n"
   ]
  },
  {
   "cell_type": "markdown",
   "metadata": {},
   "source": [
    "# Part 2\n",
    "\n",
    "Using the same approach, we now want to narrow down what the opcode is for each operation"
   ]
  },
  {
   "cell_type": "code",
   "execution_count": null,
   "metadata": {},
   "outputs": [],
   "source": [
    "operations = dict()\n",
    "\n",
    "for m in matches:\n",
    "    before = [int(n.strip()) for n in m[0].split(',')]\n",
    "    sample = [int(n.strip()) for n in m[1].split(' ')]\n",
    "    after = [int(n.strip()) for n in m[2].split(',')]\n",
    "    \n",
    "    ops = test(before, sample, after)\n",
    "    \n",
    "    opcode = sample[0]\n",
    "    possible_operations = operations.get(opcode, None)\n",
    "    if possible_operations is None:\n",
    "        possible_operations = set(ops)\n",
    "    else:\n",
    "        possible_operations = possible_operations & set(ops)\n",
    "    \n",
    "    operations[opcode] = possible_operations\n",
    "    \n",
    "# display(operations)\n",
    "\n",
    "display(\"We will now reduce this to a simple set through elimination\")\n",
    "\n",
    "while max([len(x) for x in operations.values()]) > 1:\n",
    "    for k, v in operations.items():\n",
    "        if len(v) == 1:\n",
    "            for k2, v2 in operations.items():\n",
    "                if k != k2:\n",
    "                    operations[k2] = v2 - v\n",
    "\n",
    "operations = {k: v.pop() for k,v in operations.items()}\n",
    "operations = {k: opcodes_by_name[v] for k,v in operations.items()}\n",
    "display(operations)"
   ]
  },
  {
   "cell_type": "code",
   "execution_count": null,
   "metadata": {},
   "outputs": [],
   "source": [
    "def execute_line(reg, opcode, A, B, C):\n",
    "    reg = reg.copy()\n",
    "    op = operations[opcode]\n",
    "    op(reg, A, B, C)\n",
    "    return reg\n"
   ]
  },
  {
   "cell_type": "code",
   "execution_count": null,
   "metadata": {},
   "outputs": [],
   "source": [
    "# Let's do a simple test - let's run a simple program. Expect [1,2,3,4] at the end\n",
    "# You may need to adjust the opcodes to match your input\n",
    "reg = [0,0,0,0]\n",
    "reg = execute_line(reg, 5, 1, 0, 0)  # setr(1,0,0) - Value 1 => Register 0\n",
    "reg = execute_line(reg, 1, 0, 1, 1)  # addi(0,1,1) - Register 0 + Value 1 => Register 1\n",
    "reg = execute_line(reg, 12, 0, 1, 2) # addr(0,1,2) - Register 0 + Register 1 => Register 2\n",
    "reg = execute_line(reg, 4, 1, 1, 3)  # mulr(1,1,3) - Register 1 * Register 1 => Register 4\n",
    "\n",
    "reg"
   ]
  },
  {
   "cell_type": "markdown",
   "metadata": {},
   "source": [
    "We can now read the program line by line and execute. We find the start of the program by looking for three blank lines."
   ]
  },
  {
   "cell_type": "code",
   "execution_count": null,
   "metadata": {},
   "outputs": [],
   "source": [
    "program = data[data.index(\"\\n\\n\\n\"):].strip().splitlines()\n",
    "reg = [0,0,0,0]\n",
    "for line in program:\n",
    "    line = [int(x.strip()) for x in line.split(' ')]\n",
    "    reg = execute_line(reg, *line)\n",
    "\n",
    "reg\n"
   ]
  },
  {
   "cell_type": "code",
   "execution_count": null,
   "metadata": {},
   "outputs": [],
   "source": []
  }
 ],
 "metadata": {
  "kernelspec": {
   "display_name": "Python 3",
   "language": "python",
   "name": "python3"
  },
  "language_info": {
   "codemirror_mode": {
    "name": "ipython",
    "version": 3
   },
   "file_extension": ".py",
   "mimetype": "text/x-python",
   "name": "python",
   "nbconvert_exporter": "python",
   "pygments_lexer": "ipython3",
   "version": "3.6.2"
  }
 },
 "nbformat": 4,
 "nbformat_minor": 2
}
