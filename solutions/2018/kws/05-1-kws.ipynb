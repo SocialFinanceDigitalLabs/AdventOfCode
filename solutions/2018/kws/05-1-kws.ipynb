{
 "cells": [
  {
   "cell_type": "code",
   "execution_count": null,
   "metadata": {},
   "outputs": [],
   "source": [
    "data = \"dabAcCaCBAcCcaDA\""
   ]
  },
  {
   "cell_type": "code",
   "execution_count": null,
   "metadata": {},
   "outputs": [],
   "source": [
    "# We're now going to start storing the data in a file to avoid having to paste into the main document\n",
    "# Make sure you create a file with the name below and save the real problem output there. \n",
    "# If you want to run just the sample data, skip this block\n",
    "with open(\"./05-kws.txt\", \"r\") as FILE:\n",
    "    data = FILE.read().strip()"
   ]
  },
  {
   "cell_type": "code",
   "execution_count": null,
   "metadata": {},
   "outputs": [],
   "source": [
    "def retract(data):\n",
    "    \"\"\" Replaces all aA or Aa combinations of any letter within a string. AA or aa is not replaced. \"\"\"\n",
    "    c = list(data)\n",
    "\n",
    "    ix = 0\n",
    "    while ix < len(c)-1:\n",
    "        # If the characters don't match, but their uppercase version do, \n",
    "        # then we have found an aA or Aa combination\n",
    "        if c[ix] != c[ix+1] and c[ix].upper() == c[ix+1].upper():\n",
    "            del c[ix]\n",
    "            del c[ix]\n",
    "            # Go back one as we may have created a new sequence\n",
    "            ix -= 1\n",
    "        else:\n",
    "            # Go forward one\n",
    "            ix += 1\n",
    "\n",
    "    return \"\".join(c)\n",
    "\n",
    "print(\"FINAL STRING of length {}\".format(len(retract(data))))\n",
    "\n"
   ]
  },
  {
   "cell_type": "markdown",
   "metadata": {},
   "source": [
    "# Part 2\n",
    "\n",
    "By replacing a character (both lower and upper-case version) we need to find the character that results in the shortest retracted sequence. "
   ]
  },
  {
   "cell_type": "code",
   "execution_count": null,
   "metadata": {},
   "outputs": [],
   "source": [
    "import regex as re\n",
    "\n",
    "results = dict()\n",
    "for c in \"abcdefghijklmnopqrstuvxyz\":\n",
    "    # Using a regular e\n",
    "    pattern = re.compile(c, re.IGNORECASE)\n",
    "    new_value = pattern.sub(\"\", data)\n",
    "    results[c] = len(retract(new_value))\n",
    "    print(c, results[c])\n",
    "\n"
   ]
  },
  {
   "cell_type": "code",
   "execution_count": null,
   "metadata": {},
   "outputs": [],
   "source": [
    "shortest_polymer = min(results, key=results.get) \n",
    "print(shortest_polymer, results[shortest_polymer])"
   ]
  }
 ],
 "metadata": {
  "kernelspec": {
   "display_name": "Python 3",
   "language": "python",
   "name": "python3"
  },
  "language_info": {
   "codemirror_mode": {
    "name": "ipython",
    "version": 3
   },
   "file_extension": ".py",
   "mimetype": "text/x-python",
   "name": "python",
   "nbconvert_exporter": "python",
   "pygments_lexer": "ipython3",
   "version": "3.7.1"
  }
 },
 "nbformat": 4,
 "nbformat_minor": 2
}
