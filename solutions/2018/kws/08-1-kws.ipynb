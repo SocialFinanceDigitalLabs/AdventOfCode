{
 "cells": [
  {
   "cell_type": "code",
   "execution_count": null,
   "metadata": {},
   "outputs": [],
   "source": [
    "data = \"\"\"\n",
    "2 3 0 3 10 11 12 1 1 0 1 99 2 1 1 2\n",
    "\"\"\".strip()"
   ]
  },
  {
   "cell_type": "code",
   "execution_count": null,
   "metadata": {},
   "outputs": [],
   "source": [
    "# We're now going to start storing the data in a file to avoid having to paste into the main document\n",
    "# Make sure you create a file with the name below and save the real problem output there. \n",
    "# If you want to run just the sample data, skip this block\n",
    "with open(\"./08-input.txt\", \"r\") as FILE:\n",
    "    data = FILE.read().strip()"
   ]
  },
  {
   "cell_type": "code",
   "execution_count": null,
   "metadata": {},
   "outputs": [],
   "source": [
    "data = data.split(\" \")\n",
    "data = [int(x) for x in data]\n",
    "data[:5]"
   ]
  },
  {
   "cell_type": "code",
   "execution_count": null,
   "metadata": {},
   "outputs": [],
   "source": [
    "def parse_entry(values):\n",
    "    if len(values) == 0: return (values, [])\n",
    "    \n",
    "    # Copy the list so we don't modify the original\n",
    "    values = values.copy()\n",
    "    \n",
    "    # Pick the first entry\n",
    "    child_count = values.pop(0)\n",
    "    metadata_count = values.pop(0)\n",
    "\n",
    "    metadata_entries = []\n",
    "    for c in range(0, child_count):\n",
    "        values, child_metadata = parse_entry(values)\n",
    "        metadata_entries += child_metadata\n",
    "    \n",
    "    metadata_entries += values[:metadata_count]\n",
    "    values = values[metadata_count:]\n",
    "    \n",
    "    \n",
    "    return values, metadata_entries\n",
    "    \n",
    "values, metadata_entries = parse_entry(data)\n",
    "sum(metadata_entries)"
   ]
  },
  {
   "cell_type": "markdown",
   "metadata": {},
   "source": [
    "# Part 2\n",
    "\n",
    "For part 2 we want to modify our 'parser' function to return the value for each entry."
   ]
  },
  {
   "cell_type": "code",
   "execution_count": null,
   "metadata": {},
   "outputs": [],
   "source": [
    "def parse_entry(values):\n",
    "    if len(values) == 0: return (values, [])\n",
    "    \n",
    "    # Copy the list so we don't modify the original\n",
    "    values = values.copy()\n",
    "    \n",
    "    # Pick the first entry\n",
    "    child_count = values.pop(0)\n",
    "    metadata_count = values.pop(0)\n",
    "\n",
    "    child_values = []\n",
    "    for c in range(0, child_count):\n",
    "        values, cv = parse_entry(values)\n",
    "        child_values.append(cv)\n",
    "        \n",
    "    metadata_entries = values[:metadata_count]\n",
    "    values = values[metadata_count:]\n",
    "\n",
    "    # Calculate value\n",
    "    if child_count == 0:\n",
    "        entry_value = sum(metadata_entries)\n",
    "    else:\n",
    "        entry_value = 0\n",
    "        for md in metadata_entries:\n",
    "            if md<=len(child_values):\n",
    "                entry_value += child_values[md-1]\n",
    "    \n",
    "    return values, entry_value\n",
    "    \n",
    "parse_entry(data)"
   ]
  },
  {
   "cell_type": "code",
   "execution_count": null,
   "metadata": {},
   "outputs": [],
   "source": []
  }
 ],
 "metadata": {
  "kernelspec": {
   "display_name": "Python 3",
   "language": "python",
   "name": "python3"
  },
  "language_info": {
   "codemirror_mode": {
    "name": "ipython",
    "version": 3
   },
   "file_extension": ".py",
   "mimetype": "text/x-python",
   "name": "python",
   "nbconvert_exporter": "python",
   "pygments_lexer": "ipython3",
   "version": "3.7.1"
  }
 },
 "nbformat": 4,
 "nbformat_minor": 2
}
