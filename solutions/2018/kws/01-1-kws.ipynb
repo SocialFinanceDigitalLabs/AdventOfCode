{
 "cells": [
  {
   "cell_type": "markdown",
   "metadata": {},
   "source": [
    "# December 01 - Puzzle 1\n",
    "\n",
    "https://adventofcode.com/2018/day/1\n",
    "\n",
    "In this first puzzle, we need to intepret a string as a set of numbers (either positive or negative), and then sum them all up."
   ]
  },
  {
   "cell_type": "code",
   "execution_count": null,
   "metadata": {},
   "outputs": [],
   "source": [
    "# Paste your input values between the triple double quotes below - these are the sample values from the puzzle\n",
    "input_value = \"\"\"\n",
    "+1\n",
    "-2\n",
    "+3\n",
    "+1 \n",
    "\"\"\""
   ]
  },
  {
   "cell_type": "markdown",
   "metadata": {},
   "source": [
    "We need to split the input values into separate numbers so we can process them. First of all, let's build a list of all the separate lines"
   ]
  },
  {
   "cell_type": "code",
   "execution_count": null,
   "metadata": {},
   "outputs": [],
   "source": [
    "# Split the numbers\n",
    "numbers = input_value.splitlines()\n",
    "\n",
    "# Let's look at the first five lines to make sure it has worked\n",
    "numbers[:5]"
   ]
  },
  {
   "cell_type": "markdown",
   "metadata": {},
   "source": [
    "We have some empties in there, and some extra whitespace. Let's first clean up this list."
   ]
  },
  {
   "cell_type": "code",
   "execution_count": null,
   "metadata": {},
   "outputs": [],
   "source": [
    "# We want to loop over each entry in the list and remove any whitespace using the strip() command\n",
    "# Python has something called a list comprehension that makes this super easy:\n",
    "# https://www.pythonforbeginners.com/basics/list-comprehensions-in-python\n",
    "# This command calls strip() on every item in the numbers and returns a new list with the stripped values\n",
    "numbers = [x.strip() for x in numbers]\n",
    "\n",
    "# Let's look at the first five lines to make sure it has worked\n",
    "numbers[:5]"
   ]
  },
  {
   "cell_type": "markdown",
   "metadata": {},
   "source": [
    "Next we remove any empty items - these are caused by the newline after the triple quotes and any other empty lines we may have pasted in"
   ]
  },
  {
   "cell_type": "code",
   "execution_count": null,
   "metadata": {},
   "outputs": [],
   "source": [
    "# Again we use a list comprehension with a condition to only keep entries that have a length greater than zero\n",
    "numbers = [x for x in numbers if len(x)>0]\n",
    "\n",
    "# Let's look at the first five lines to make sure it has worked\n",
    "numbers[:5]"
   ]
  },
  {
   "cell_type": "markdown",
   "metadata": {},
   "source": [
    "Finally, we really want to work on numbers, not strings, so let's convert the whole thing to integers"
   ]
  },
  {
   "cell_type": "code",
   "execution_count": null,
   "metadata": {},
   "outputs": [],
   "source": [
    "numbers = [int(x) for x in numbers]\n",
    "\n",
    "# Let's look at the first five lines to make sure it has worked\n",
    "numbers[:5]"
   ]
  },
  {
   "cell_type": "code",
   "execution_count": null,
   "metadata": {},
   "outputs": [],
   "source": [
    "# Print a value so we can see what we read\n",
    "print(\"We read {} numbers\".format(len(numbers)))\n",
    "\n",
    "# We can use the sum() function to sum up all the values in the list\n",
    "total = sum(numbers)\n",
    "\n",
    "# Let's print the result\n",
    "print(\"The sum of all the numbers is\", total)"
   ]
  },
  {
   "cell_type": "markdown",
   "metadata": {},
   "source": [
    "# Part 2\n",
    "\n",
    "\n",
    "The second part of this puzzle starts the same, but then rather than summing the whole list, we need to remember the interim values as we add the frequencies together.\n"
   ]
  },
  {
   "cell_type": "code",
   "execution_count": null,
   "metadata": {},
   "outputs": [],
   "source": [
    "# Having read the numbers in, we're going to create a collection called a 'set' to hold the sums\n",
    "# as we loop through the list of numbers. If the set already holds the number we are looking for\n",
    "# then we can stop\n",
    "\n",
    "total = 0 # Hold the current running total\n",
    "interim_answers=set([0]) # Create our set to hold all the interim values, and also prime this with our starting value\n",
    "final_answer = None # This will hold our final answer once found\n",
    "loop_count = 0 # I'm going to count the loops - just out of interest\n",
    "\n",
    "# We may have to loop multiple times\n",
    "# In this outer loop we go around until we have a value for final_answer\n",
    "while final_answer is None:\n",
    "    \n",
    "    loop_count += 1 # Shorthand for loop_count = loop_count + 1 (i.e. increment)\n",
    "    \n",
    "    # Format statements are good for producing nice output\n",
    "    print(\"Loop {} with a starting frequency of {} \".format(loop_count, total))\n",
    "\n",
    "    # Inner loop over each number\n",
    "    for n in numbers:\n",
    "\n",
    "        total += n # Shorthand for total = total + n\n",
    "        \n",
    "        # Check if we have already seen this value\n",
    "        if total in interim_answers: \n",
    "            # If we have, then set final_answer that will break us out of the outer loop\n",
    "            final_answer = total\n",
    "            \n",
    "            # Stops the inner (for) loop\n",
    "            break \n",
    "        else:\n",
    "            # Don't forget to add our current total to the interim answers\n",
    "            interim_answers.add(total) \n",
    "\n",
    "print(\"The first frequency to be reached twice, is {} in loop {} with {} interim answers\".format( \n",
    "          final_answer, loop_count, len(interim_answers)))\n"
   ]
  },
  {
   "cell_type": "code",
   "execution_count": null,
   "metadata": {},
   "outputs": [],
   "source": []
  }
 ],
 "metadata": {
  "kernelspec": {
   "display_name": "Python 3",
   "language": "python",
   "name": "python3"
  },
  "language_info": {
   "codemirror_mode": {
    "name": "ipython",
    "version": 3
   },
   "file_extension": ".py",
   "mimetype": "text/x-python",
   "name": "python",
   "nbconvert_exporter": "python",
   "pygments_lexer": "ipython3",
   "version": "3.7.1"
  }
 },
 "nbformat": 4,
 "nbformat_minor": 2
}
