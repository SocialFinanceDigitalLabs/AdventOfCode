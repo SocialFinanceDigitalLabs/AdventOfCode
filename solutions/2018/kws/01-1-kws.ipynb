{
  "nbformat": 4,
  "nbformat_minor": 0,
  "metadata": {
    "kernelspec": {
      "display_name": "Python 3",
      "language": "python",
      "name": "python3"
    },
    "language_info": {
      "codemirror_mode": {
        "name": "ipython",
        "version": 3
      },
      "file_extension": ".py",
      "mimetype": "text/x-python",
      "name": "python",
      "nbconvert_exporter": "python",
      "pygments_lexer": "ipython3",
      "version": "3.7.1"
    },
    "colab": {
      "name": "01-1-kws.ipynb",
      "provenance": []
    }
  },
  "cells": [
    {
      "cell_type": "markdown",
      "metadata": {
        "id": "FmbqVpEph21e",
        "colab_type": "text"
      },
      "source": [
        "# December 01 - Puzzle 1\n",
        "\n",
        "https://adventofcode.com/2018/day/1\n",
        "\n",
        "In this first puzzle, we need to intepret a string as a set of numbers (either positive or negative), and then sum them all up.\n",
        "\n",
        "This is a test"
      ]
    },
    {
      "cell_type": "code",
      "metadata": {
        "id": "UE-p6oNXh21k",
        "colab_type": "code",
        "colab": {}
      },
      "source": [
        "# Paste your input values between the triple double quotes below - these are the sample values from the puzzle\n",
        "input_value = \"\"\"\n",
        "+1\n",
        "-2\n",
        "+3\n",
        "+1 \n",
        "\"\"\""
      ],
      "execution_count": 0,
      "outputs": []
    },
    {
      "cell_type": "markdown",
      "metadata": {
        "id": "yTprvCwMh21x",
        "colab_type": "text"
      },
      "source": [
        "We need to split the input values into separate numbers so we can process them. First of all, let's build a list of all the separate lines"
      ]
    },
    {
      "cell_type": "code",
      "metadata": {
        "id": "LTFamkdUh21y",
        "colab_type": "code",
        "colab": {
          "base_uri": "https://localhost:8080/",
          "height": 35
        },
        "outputId": "158e8965-afd9-4341-f546-a01cbf3cfd5e"
      },
      "source": [
        "# Split the numbers\n",
        "numbers = input_value.splitlines()\n",
        "\n",
        "# Let's look at the first five lines to make sure it has worked\n",
        "numbers[:5]"
      ],
      "execution_count": 3,
      "outputs": [
        {
          "output_type": "execute_result",
          "data": {
            "text/plain": [
              "['', '+1', '-2', '+3', '+1 ']"
            ]
          },
          "metadata": {
            "tags": []
          },
          "execution_count": 3
        }
      ]
    },
    {
      "cell_type": "markdown",
      "metadata": {
        "id": "boJUJfo0h215",
        "colab_type": "text"
      },
      "source": [
        "We have some empties in there, and some extra whitespace. Let's first clean up this list."
      ]
    },
    {
      "cell_type": "code",
      "metadata": {
        "id": "Q9cKTnDLh216",
        "colab_type": "code",
        "colab": {
          "base_uri": "https://localhost:8080/",
          "height": 35
        },
        "outputId": "6929afc1-6400-4020-c62a-0110dab9f7b4"
      },
      "source": [
        "# We want to loop over each entry in the list and remove any whitespace using the strip() command\n",
        "# Python has something called a list comprehension that makes this super easy:\n",
        "# https://www.pythonforbeginners.com/basics/list-comprehensions-in-python\n",
        "# This command calls strip() on every item in the numbers and returns a new list with the stripped values\n",
        "numbers = [x.strip() for x in numbers]\n",
        "\n",
        "# Let's look at the first five lines to make sure it has worked\n",
        "numbers[:5]"
      ],
      "execution_count": 4,
      "outputs": [
        {
          "output_type": "execute_result",
          "data": {
            "text/plain": [
              "['', '+1', '-2', '+3', '+1']"
            ]
          },
          "metadata": {
            "tags": []
          },
          "execution_count": 4
        }
      ]
    },
    {
      "cell_type": "markdown",
      "metadata": {
        "id": "8ZA0HERth21-",
        "colab_type": "text"
      },
      "source": [
        "Next we remove any empty items - these are caused by the newline after the triple quotes and any other empty lines we may have pasted in"
      ]
    },
    {
      "cell_type": "code",
      "metadata": {
        "id": "aN6Sk1_ah21_",
        "colab_type": "code",
        "colab": {
          "base_uri": "https://localhost:8080/",
          "height": 35
        },
        "outputId": "1d95c678-c725-43ef-a0ef-bf0e2354cf77"
      },
      "source": [
        "# Again we use a list comprehension with a condition to only keep entries that have a length greater than zero\n",
        "numbers = [x for x in numbers if len(x)>0]\n",
        "\n",
        "# Let's look at the first five lines to make sure it has worked\n",
        "numbers[:5]"
      ],
      "execution_count": 5,
      "outputs": [
        {
          "output_type": "execute_result",
          "data": {
            "text/plain": [
              "['+1', '-2', '+3', '+1']"
            ]
          },
          "metadata": {
            "tags": []
          },
          "execution_count": 5
        }
      ]
    },
    {
      "cell_type": "markdown",
      "metadata": {
        "id": "1_IUNpFkh22C",
        "colab_type": "text"
      },
      "source": [
        "Finally, we really want to work on numbers, not strings, so let's convert the whole thing to integers"
      ]
    },
    {
      "cell_type": "code",
      "metadata": {
        "id": "XqL267j1h22E",
        "colab_type": "code",
        "colab": {
          "base_uri": "https://localhost:8080/",
          "height": 35
        },
        "outputId": "5135f22e-bee9-4e3f-ff56-b55ef1ab44f1"
      },
      "source": [
        "numbers = [int(x) for x in numbers]\n",
        "\n",
        "# Let's look at the first five lines to make sure it has worked\n",
        "numbers[:5]"
      ],
      "execution_count": 6,
      "outputs": [
        {
          "output_type": "execute_result",
          "data": {
            "text/plain": [
              "[1, -2, 3, 1]"
            ]
          },
          "metadata": {
            "tags": []
          },
          "execution_count": 6
        }
      ]
    },
    {
      "cell_type": "code",
      "metadata": {
        "id": "FEqXA6nCh22G",
        "colab_type": "code",
        "colab": {
          "base_uri": "https://localhost:8080/",
          "height": 53
        },
        "outputId": "887fdd2a-0c51-4c22-8b87-e65d291f116f"
      },
      "source": [
        "# Print a value so we can see what we read\n",
        "print(\"We read {} numbers\".format(len(numbers)))\n",
        "\n",
        "# We can use the sum() function to sum up all the values in the list\n",
        "total = sum(numbers)\n",
        "\n",
        "# Let's print the result\n",
        "print(\"The sum of all the numbers is\", total)"
      ],
      "execution_count": 7,
      "outputs": [
        {
          "output_type": "stream",
          "text": [
            "We read 4 numbers\n",
            "The sum of all the numbers is 3\n"
          ],
          "name": "stdout"
        }
      ]
    },
    {
      "cell_type": "markdown",
      "metadata": {
        "id": "jw5iFVJ8h22J",
        "colab_type": "text"
      },
      "source": [
        "# Part 2\n",
        "\n",
        "\n",
        "The second part of this puzzle starts the same, but then rather than summing the whole list, we need to remember the interim values as we add the frequencies together.\n"
      ]
    },
    {
      "cell_type": "code",
      "metadata": {
        "id": "HGvumHlBh22Q",
        "colab_type": "code",
        "colab": {
          "base_uri": "https://localhost:8080/",
          "height": 71
        },
        "outputId": "b5ba65bf-7761-41be-cf94-f9ef0b7a853c"
      },
      "source": [
        "# Having read the numbers in, we're going to create a collection called a 'set' to hold the sums\n",
        "# as we loop through the list of numbers. If the set already holds the number we are looking for\n",
        "# then we can stop\n",
        "\n",
        "total = 0 # Hold the current running total\n",
        "interim_answers=set([0]) # Create our set to hold all the interim values, and also prime this with our starting value\n",
        "final_answer = None # This will hold our final answer once found\n",
        "loop_count = 0 # I'm going to count the loops - just out of interest\n",
        "\n",
        "# We may have to loop multiple times\n",
        "# In this outer loop we go around until we have a value for final_answer\n",
        "while final_answer is None:\n",
        "    \n",
        "    loop_count += 1 # Shorthand for loop_count = loop_count + 1 (i.e. increment)\n",
        "    \n",
        "    # Format statements are good for producing nice output\n",
        "    print(\"Loop {} with a starting frequency of {} \".format(loop_count, total))\n",
        "\n",
        "    # Inner loop over each number\n",
        "    for n in numbers:\n",
        "\n",
        "        total += n # Shorthand for total = total + n\n",
        "        \n",
        "        # Check if we have already seen this value\n",
        "        if total in interim_answers: \n",
        "            # If we have, then set final_answer that will break us out of the outer loop\n",
        "            final_answer = total\n",
        "            \n",
        "            # Stops the inner (for) loop\n",
        "            break \n",
        "        else:\n",
        "            # Don't forget to add our current total to the interim answers\n",
        "            interim_answers.add(total) \n",
        "\n",
        "print(\"The first frequency to be reached twice, is {} in loop {} with {} interim answers\".format( \n",
        "          final_answer, loop_count, len(interim_answers)))\n"
      ],
      "execution_count": 8,
      "outputs": [
        {
          "output_type": "stream",
          "text": [
            "Loop 1 with a starting frequency of 0 \n",
            "Loop 2 with a starting frequency of 3 \n",
            "The first frequency to be reached twice, is 2 in loop 2 with 6 interim answers\n"
          ],
          "name": "stdout"
        }
      ]
    },
    {
      "cell_type": "code",
      "metadata": {
        "id": "tDQkKhAch22R",
        "colab_type": "code",
        "colab": {}
      },
      "source": [
        ""
      ],
      "execution_count": 0,
      "outputs": []
    }
  ]
}