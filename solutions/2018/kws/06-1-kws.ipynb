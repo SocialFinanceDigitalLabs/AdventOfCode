{
 "cells": [
  {
   "cell_type": "code",
   "execution_count": null,
   "metadata": {},
   "outputs": [],
   "source": [
    "import numpy as np"
   ]
  },
  {
   "cell_type": "code",
   "execution_count": null,
   "metadata": {},
   "outputs": [],
   "source": [
    "data = \"\"\"\n",
    "1, 1\n",
    "1, 6\n",
    "8, 3\n",
    "3, 4\n",
    "5, 5\n",
    "8, 9\n",
    "\"\"\".strip().splitlines()"
   ]
  },
  {
   "cell_type": "code",
   "execution_count": null,
   "metadata": {},
   "outputs": [],
   "source": [
    "# We're now going to start storing the data in a file to avoid having to paste into the main document\n",
    "# Make sure you create a file with the name below and save the real problem output there. \n",
    "# If you want to run just the sample data, skip this block\n",
    "with open(\"./06-kws.txt\", \"r\") as FILE:\n",
    "    data = FILE.read().strip().splitlines()"
   ]
  },
  {
   "cell_type": "code",
   "execution_count": null,
   "metadata": {},
   "outputs": [],
   "source": [
    "data = [p.split(\", \") for p in data]\n",
    "data = [(int(x[0]), int(x[1])) for x in data]\n",
    "data[:5]"
   ]
  },
  {
   "cell_type": "code",
   "execution_count": null,
   "metadata": {},
   "outputs": [],
   "source": [
    "class Cell(tuple):\n",
    "    \n",
    "    def __new__(self, x, points):\n",
    "        return tuple.__new__(Cell, x)\n",
    "\n",
    "    def __init__(self, x, points):\n",
    "        self._points = points\n",
    "        self._distances = None\n",
    "        self._closest = None\n",
    "        \n",
    "    def _build_distances(self):\n",
    "        distances = dict()\n",
    "        for p in self._points:\n",
    "            d = abs(self[0] - p[0]) + abs(self[1] - p[1])\n",
    "            distances[p] = d\n",
    "\n",
    "        self._distances = distances\n",
    "\n",
    "        points_by_distance = sorted(distances, key=lambda x: distances[x])\n",
    "        if points_by_distance[0] == points_by_distance[1]:\n",
    "            self._closest = (-1, -1)\n",
    "        else:\n",
    "            self._closest = points_by_distance[0]\n",
    "        \n",
    "    def closest(self):\n",
    "        if (self._closest): return _self._closest\n",
    "        else:\n",
    "            self._build_distances()\n",
    "            return self._closest\n",
    "        \n",
    "    def is_safe(self, distance):\n",
    "        \"\"\" Returns true if the region is within the given distance of all the points \"\"\"\n",
    "        if not (self._distances): self._build_distances()\n",
    "            \n",
    "        return sum(self._distances.values()) < distance\n",
    "                    \n",
    "Cell((5,6), data).closest()"
   ]
  },
  {
   "cell_type": "code",
   "execution_count": null,
   "metadata": {},
   "outputs": [],
   "source": [
    "min_x = min([d[0] for d in data])\n",
    "max_x = max([d[0] for d in data])\n",
    "min_y = min([d[1] for d in data])\n",
    "max_y = max([d[1] for d in data])\n",
    "(min_x, max_x, min_y, max_y)"
   ]
  },
  {
   "cell_type": "code",
   "execution_count": null,
   "metadata": {},
   "outputs": [],
   "source": [
    "matrix = []\n",
    "for x in range(min_x,max_x+1):\n",
    "    for y in range(min_y,max_y+1):\n",
    "        cell = Cell((x,y), data)\n",
    "        matrix.append(cell.closest())\n",
    "\n",
    "matrix_w = max_x-min_x+1\n",
    "matrix_h = max_y-min_y+1\n",
    "        \n",
    "matrix = np.asarray(matrix, np.dtype('int,int')).reshape(matrix_w,matrix_h)\n",
    "print(matrix)\n",
    "\n",
    "# Now remove elements around the edges\n",
    "\n",
    "edges = matrix[0:matrix_w,0:1].flatten().tolist()\n",
    "edges += matrix[0:matrix_w,matrix_h-1:matrix_h].flatten().tolist()\n",
    "edges += matrix[0:1,0:matrix_h].flatten().tolist()\n",
    "edges += matrix[matrix_w-1:matrix_w,0:matrix_h].flatten().tolist()\n",
    "edges = set(edges)\n"
   ]
  },
  {
   "cell_type": "code",
   "execution_count": null,
   "metadata": {},
   "outputs": [],
   "source": [
    "import collections\n",
    "\n",
    "all_elements = matrix.flatten().tolist()\n",
    "all_elements = filter(lambda x: x not in edges, all_elements)\n",
    "collections.Counter(all_elements).most_common(1)"
   ]
  },
  {
   "cell_type": "markdown",
   "metadata": {},
   "source": [
    "# Part 2"
   ]
  },
  {
   "cell_type": "code",
   "execution_count": null,
   "metadata": {},
   "outputs": [],
   "source": [
    "if len(data) == 6:\n",
    "    # Training data\n",
    "    safe_distance = 32\n",
    "else: \n",
    "    safe_distance = 10000\n",
    "\n",
    "# Our region needs to extend to safe_distance in any direction\n",
    "min_x = min([d[0] for d in data])\n",
    "max_x = max([d[0] for d in data])\n",
    "min_y = min([d[1] for d in data])\n",
    "max_y = max([d[1] for d in data])\n",
    "\n",
    "counter = 0\n",
    "\n",
    "# manual checks reveal none outside box\n",
    "for x in range(min_x,max_x+1):\n",
    "    for y in range(min_y, max_y+1):\n",
    "        is_safe = Cell((x,y), data).is_safe(safe_distance)\n",
    "        if is_safe: counter += 1\n",
    "        \n",
    "print(\"For safe distance {} the total number of safe cells is {}\".format(safe_distance, counter))"
   ]
  },
  {
   "cell_type": "code",
   "execution_count": null,
   "metadata": {},
   "outputs": [],
   "source": []
  }
 ],
 "metadata": {
  "kernelspec": {
   "display_name": "Python 3",
   "language": "python",
   "name": "python3"
  },
  "language_info": {
   "codemirror_mode": {
    "name": "ipython",
    "version": 3
   },
   "file_extension": ".py",
   "mimetype": "text/x-python",
   "name": "python",
   "nbconvert_exporter": "python",
   "pygments_lexer": "ipython3",
   "version": "3.7.1"
  }
 },
 "nbformat": 4,
 "nbformat_minor": 2
}
