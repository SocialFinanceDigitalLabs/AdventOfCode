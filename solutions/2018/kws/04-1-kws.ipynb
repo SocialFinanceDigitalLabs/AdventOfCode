{
 "cells": [
  {
   "cell_type": "markdown",
   "metadata": {},
   "source": [
    "# December 04\n",
    "\n",
    "Today's puzzle is very similar to the problem John and Rikk has recently worked on. \n",
    "\n",
    "We need to build a timeline of states, where a Elf is either awake or asleep. "
   ]
  },
  {
   "cell_type": "code",
   "execution_count": null,
   "metadata": {
    "collapsed": true
   },
   "outputs": [],
   "source": [
    "import regex as re\n",
    "import numpy as np\n",
    "import pandas as pd"
   ]
  },
  {
   "cell_type": "code",
   "execution_count": null,
   "metadata": {
    "collapsed": true
   },
   "outputs": [],
   "source": [
    "# Sample data as provided in question\n",
    "data= \"\"\"\n",
    "[1518-11-01 00:00] Guard #10 begins shift\n",
    "[1518-11-01 00:05] falls asleep\n",
    "[1518-11-01 00:25] wakes up\n",
    "[1518-11-01 00:30] falls asleep\n",
    "[1518-11-01 00:55] wakes up\n",
    "[1518-11-01 23:58] Guard #99 begins shift\n",
    "[1518-11-02 00:40] falls asleep\n",
    "[1518-11-02 00:50] wakes up\n",
    "[1518-11-03 00:05] Guard #10 begins shift\n",
    "[1518-11-03 00:24] falls asleep\n",
    "[1518-11-03 00:29] wakes up\n",
    "[1518-11-04 00:02] Guard #99 begins shift\n",
    "[1518-11-04 00:36] falls asleep\n",
    "[1518-11-04 00:46] wakes up\n",
    "[1518-11-05 00:03] Guard #99 begins shift\n",
    "[1518-11-05 00:45] falls asleep\n",
    "[1518-11-05 00:55] wakes up\n",
    "\"\"\".strip().splitlines()"
   ]
  },
  {
   "cell_type": "code",
   "execution_count": null,
   "metadata": {
    "collapsed": true
   },
   "outputs": [],
   "source": [
    "# We're now going to start storing the data in a file to avoid having to paste into the main document\n",
    "# Make sure you create a file with the name below and save the real problem output there. \n",
    "# If you want to run just the sample data, skip this block\n",
    "with open(\"./04-kws.txt\", \"r\") as FILE:\n",
    "    data = FILE.read().strip().splitlines()"
   ]
  },
  {
   "cell_type": "code",
   "execution_count": null,
   "metadata": {
    "collapsed": true
   },
   "outputs": [],
   "source": [
    "data[:5]"
   ]
  },
  {
   "cell_type": "markdown",
   "metadata": {},
   "source": [
    "In the real data the 'events' are not sorted, so before we do anything else, we need to sort the list. The wonderful thing about ISO8601 order date format is that the dates sort alphanumerically. Keep that in mind whenever putting a date in filenames!\n",
    "\n",
    "So to put this in chronological order, we simply need to sort the list."
   ]
  },
  {
   "cell_type": "code",
   "execution_count": null,
   "metadata": {
    "collapsed": true
   },
   "outputs": [],
   "source": [
    "data.sort()\n",
    "data[:5]"
   ]
  },
  {
   "cell_type": "code",
   "execution_count": null,
   "metadata": {
    "collapsed": true
   },
   "outputs": [],
   "source": [
    "guard_on_duty = None\n",
    "\n",
    "sleep_times = dict()\n",
    "\n",
    "pattern_guard_change = re.compile(\".*Guard #(\\d+) begins shift\")\n",
    "pattern_date = re.compile(\"\\[(\\d\\d\\d\\d-\\d\\d-\\d\\d) (\\d\\d):(\\d\\d)\\].*\")\n",
    "for line in data:\n",
    "    # Check if the current line is a guard change\n",
    "    match = pattern_guard_change.match(line)\n",
    "    if match:\n",
    "        guard_on_duty = match[1]\n",
    "        continue\n",
    "        \n",
    "    # If not a guard change, then it has to be an awake or sleep line\n",
    "    match = pattern_date.match(line)\n",
    "    date = match[1]\n",
    "    minutes = int(match[3])\n",
    "    \n",
    "    date_key = \"{}|{}\".format(date,guard_on_duty)\n",
    "    sleep_array = sleep_times.get(date_key, np.zeros(60))\n",
    "        \n",
    "    # If instead it's a guard that falls asleep\n",
    "    if \"asleep\" in line:\n",
    "        sleep_array[minutes:] = 1\n",
    "    elif \"wakes up\" in line:\n",
    "        sleep_array[minutes:] = 0\n",
    "        \n",
    "    sleep_times[date_key] = sleep_array\n",
    "\n",
    "df_sleep = pd.DataFrame.from_dict(sleep_times,orient=\"index\")\n",
    "\n",
    "# Split date and elf into separate index columns\n",
    "df_sleep[\"date\"] = df_sleep.index.map(lambda x: x.split(\"|\")[0])\n",
    "df_sleep[\"elf\"] = df_sleep.index.map(lambda x: x.split(\"|\")[1])\n",
    "df_sleep = df_sleep.set_index([\"date\",\"elf\"])\n",
    "\n",
    "df_sleep"
   ]
  },
  {
   "cell_type": "markdown",
   "metadata": {},
   "source": [
    "First we want to find the elf that falls asleep the most. We first figure out how much each elf slept in total for each minute of the hour."
   ]
  },
  {
   "cell_type": "code",
   "execution_count": null,
   "metadata": {
    "collapsed": true
   },
   "outputs": [],
   "source": [
    "df_total = df_sleep.groupby('elf').sum()\n",
    "df_total.head()"
   ]
  },
  {
   "cell_type": "markdown",
   "metadata": {},
   "source": [
    "Next we want to know how much each elf slept in total"
   ]
  },
  {
   "cell_type": "code",
   "execution_count": null,
   "metadata": {
    "collapsed": true
   },
   "outputs": [],
   "source": [
    "df_total[\"total_min_asleep\"] =  df_total[list(range(0,60))].sum(axis=1)\n",
    "df_total.head()"
   ]
  },
  {
   "cell_type": "markdown",
   "metadata": {},
   "source": [
    "We want to know in which minute each elf is most likely to be asleep. So we're looking for the column with the highest value for each elf.\n",
    "\n",
    "We can use the [idxmax()](https://pandas.pydata.org/pandas-docs/stable/generated/pandas.DataFrame.idxmax.html) function to find the ID of the column with the highest value"
   ]
  },
  {
   "cell_type": "code",
   "execution_count": null,
   "metadata": {
    "collapsed": true
   },
   "outputs": [],
   "source": [
    "df_total[\"most_common_sleep_minute\"] = df_total[list(range(0,60))].idxmax(axis=1)\n",
    "df_total.head()"
   ]
  },
  {
   "cell_type": "markdown",
   "metadata": {},
   "source": [
    "We can use the [max()](https://pandas.pydata.org/pandas-docs/stable/generated/pandas.DataFrame.max.html) function to find the corresponding maximum column value."
   ]
  },
  {
   "cell_type": "code",
   "execution_count": null,
   "metadata": {
    "collapsed": true
   },
   "outputs": [],
   "source": [
    "df_total[\"most_common_sleep_minute_value\"] = df_total[list(range(0,60))].max(axis=1)\n",
    "df_total.head()"
   ]
  },
  {
   "cell_type": "markdown",
   "metadata": {},
   "source": [
    "Finally, the question asks for the product of the minutes asleep in this minute with the ID of the elf, so we also create a `solution` column to hold this value."
   ]
  },
  {
   "cell_type": "code",
   "execution_count": null,
   "metadata": {
    "collapsed": true
   },
   "outputs": [],
   "source": [
    "df_total[\"solution\"] = df_total.index.astype(int) * df_total[\"most_common_sleep_minute\"]\n",
    "df_total.head()"
   ]
  },
  {
   "cell_type": "markdown",
   "metadata": {
    "collapsed": true
   },
   "source": [
    "> Find the guard that has the most minutes asleep. What minute does that guard spend asleep the most?\n",
    "\n",
    "So we just need to look at the highest value of `total_min_asleep`. We can sort and use the [head()](https://pandas.pydata.org/pandas-docs/stable/generated/pandas.DataFrame.head.html) function to find the top row."
   ]
  },
  {
   "cell_type": "code",
   "execution_count": null,
   "metadata": {
    "collapsed": true
   },
   "outputs": [],
   "source": [
    "df_total[[\"total_min_asleep\",\"most_common_sleep_minute\",\"most_common_sleep_minute_value\",\"solution\"]]\\\n",
    "  .sort_values(by=\"total_min_asleep\", ascending=False).head(1)"
   ]
  },
  {
   "cell_type": "markdown",
   "metadata": {},
   "source": [
    "# Part 2\n",
    "\n",
    "> Of all guards, which guard is most frequently asleep on the same minute?\n",
    "\n",
    "We have already answered this above, so we just need to sort by `most_common_sleep_minute_value`"
   ]
  },
  {
   "cell_type": "code",
   "execution_count": null,
   "metadata": {
    "collapsed": true
   },
   "outputs": [],
   "source": [
    "df_total[[\"total_min_asleep\",\"most_common_sleep_minute\",\"most_common_sleep_minute_value\", \"solution\"]]\\\n",
    "  .sort_values(by=\"most_common_sleep_minute_value\", ascending=False).head(1)"
   ]
  },
  {
   "cell_type": "code",
   "execution_count": null,
   "metadata": {
    "collapsed": true
   },
   "outputs": [],
   "source": []
  }
 ],
 "metadata": {
  "kernelspec": {
   "display_name": "Python 3",
   "language": "python",
   "name": "python3"
  },
  "language_info": {
   "codemirror_mode": {
    "name": "ipython",
    "version": 3
   },
   "file_extension": ".py",
   "mimetype": "text/x-python",
   "name": "python",
   "nbconvert_exporter": "python",
   "pygments_lexer": "ipython3",
   "version": "3.6.7"
  }
 },
 "nbformat": 4,
 "nbformat_minor": 2
}
