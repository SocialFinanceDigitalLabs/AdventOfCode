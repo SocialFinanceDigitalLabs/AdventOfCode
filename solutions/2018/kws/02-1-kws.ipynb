{
 "cells": [
  {
   "cell_type": "markdown",
   "metadata": {},
   "source": [
    "# December 02 - Parts 1 and 2\n",
    "\n",
    "https://adventofcode.com/2018/day/2"
   ]
  },
  {
   "cell_type": "code",
   "execution_count": null,
   "metadata": {},
   "outputs": [],
   "source": [
    "input_value = input(\"Please enter the puzzle text here, then press ENTER\")\n",
    "input_words = input_value.split()"
   ]
  },
  {
   "cell_type": "code",
   "execution_count": null,
   "metadata": {},
   "outputs": [],
   "source": [
    "sample_input = [\n",
    "    \"abcdef\",\n",
    "    \"bababc\",\n",
    "    \"abbcde\",\n",
    "    \"abcccd\",\n",
    "    \"aabcdd\",\n",
    "    \"abcdee\",\n",
    "    \"ababab\"\n",
    "]"
   ]
  },
  {
   "cell_type": "code",
   "execution_count": null,
   "metadata": {},
   "outputs": [],
   "source": [
    "# Pick the list you want to work with\n",
    "words = sample_input\n",
    "# words = input_words"
   ]
  },
  {
   "cell_type": "markdown",
   "metadata": {},
   "source": [
    "The puzzle asks us to come up count the number of words where one or more letters occurs twice, and similarly where they appear three times. \n",
    "\n",
    "To do this, we need to count letter frequencies in a word. In python, strings are lists of characters, so this problem is the same as counting occurences of items in lists. A quick google reveals the following suggestions:\n",
    "\n",
    "https://stackoverflow.com/questions/2600191/how-to-count-the-occurrences-of-a-list-item\n",
    "\n",
    "The Counter approach sounds promising"
   ]
  },
  {
   "cell_type": "code",
   "execution_count": null,
   "metadata": {},
   "outputs": [],
   "source": [
    "from collections import Counter # We would normally place imports the top of the document, but they work inline too\n",
    "\n",
    "Counter(\"abbcde\")"
   ]
  },
  {
   "cell_type": "markdown",
   "metadata": {},
   "source": [
    "That's very close to what we need, but we're not so much interested that b occurs twice, but just that there is a two in the values. Counter is a `dict` object - and with any dict we can access the values: "
   ]
  },
  {
   "cell_type": "code",
   "execution_count": null,
   "metadata": {},
   "outputs": [],
   "source": [
    "Counter(\"abbcde\").values()"
   ]
  },
  {
   "cell_type": "markdown",
   "metadata": {},
   "source": [
    "That's perfect - now we just need to see if 2 and 3 occurs in the values. Since it's fun, we're going to make it a bit more generic and sum up all occurences."
   ]
  },
  {
   "cell_type": "code",
   "execution_count": null,
   "metadata": {},
   "outputs": [],
   "source": [
    "multi_char_count = {}\n",
    "for word in words:\n",
    "    # Count how many times characters occur\n",
    "    word_counter = Counter(word).values()\n",
    "    \n",
    "    # Now count how many times single, double, triple etc characters occur:\n",
    "    char_occur_counter = Counter(word_counter)\n",
    "    \n",
    "    for occur, occur_count in char_occur_counter.items():\n",
    "        multi_char_count[occur] = multi_char_count.get(occur, 0) + 1 # Use dict.get() as we can supply default value\n",
    "    \n",
    "for k in multi_char_count.keys():\n",
    "    print(\"{} occurs {} times.\".format(k, multi_char_count[k]))\n",
    "\n",
    "print(\"The checksum product for 2 and 3 is {}.\".format(multi_char_count[2] * multi_char_count[3]))\n",
    "\n"
   ]
  },
  {
   "cell_type": "markdown",
   "metadata": {},
   "source": [
    "# Part 2"
   ]
  },
  {
   "cell_type": "code",
   "execution_count": null,
   "metadata": {},
   "outputs": [],
   "source": [
    "sample_input_part2 = [\n",
    "    \"abcde\",\n",
    "    \"fghij\",\n",
    "    \"klmno\",\n",
    "    \"pqrst\",\n",
    "    \"fguij\",\n",
    "    \"axcye\",\n",
    "    \"wvxyz\"\n",
    "]"
   ]
  },
  {
   "cell_type": "code",
   "execution_count": null,
   "metadata": {},
   "outputs": [],
   "source": [
    "# Pick the list you want to work with\n",
    "words = sample_input_part2\n",
    "# words = input_words"
   ]
  },
  {
   "cell_type": "markdown",
   "metadata": {},
   "source": [
    "In this second part, we need to calculate the differences between words. We will create a helper function to do this.\n",
    "\n",
    "It's also worth noting that position is important: we don't want to remove all 'a's everwhere - we want to remove only if the same characters in the first position, the second position and so on. \n",
    "\n",
    "Let's just loop through the string, character by character, as it is very simple to follow:"
   ]
  },
  {
   "cell_type": "code",
   "execution_count": null,
   "metadata": {},
   "outputs": [],
   "source": [
    "def word_diff(word_1, word_2):\n",
    "    \"\"\" Compare two words and return a word with only the matching characters \"\"\"\n",
    "    \n",
    "    word_result = [] # Will hold the letters that match\n",
    "    # We can loop over strings like we do over lists\n",
    "    for ix, char_1 in enumerate(word_1):\n",
    "        if char_1 == word_2[ix]:\n",
    "            word_result.append(char_1)\n",
    "            \n",
    "    # For the result, we 'join' the array https://docs.python.org/3/library/stdtypes.html#str.join\n",
    "    return \"\".join(word_result)\n",
    "    \n",
    "# Let's test it\n",
    "word_diff(\"fghij\", \"fguij\")"
   ]
  },
  {
   "cell_type": "code",
   "execution_count": null,
   "metadata": {
    "scrolled": true
   },
   "outputs": [],
   "source": [
    "# In the outer loop we enumerate the list, meaning we both get the list index (0,1,2 etc) and the word\n",
    "# We will use this index in the inner loop to avoid double comparisons\n",
    "for ix, word_1 in enumerate(words):\n",
    "    # For the inner list we use the index to slice the word list\n",
    "    # so we don't compare the bits we have done in the outer loop\n",
    "    # words[ix+1:] means only the parts of the list from point ix+1 until the end\n",
    "    # Runing on [a,b,c] means a will be compared to [b,c], b will be compared to [c] \n",
    "    # and c won't be compared to anything as it's already been compared to both a and b\n",
    "    for word_2 in words[ix+1:]: \n",
    "        diff = word_diff(word_1, word_2)\n",
    "        # The word we are looking for should be only one character shorter than the input\n",
    "        if len(diff) == len(word_1) - 1:\n",
    "            print(word_1, word_2, diff)"
   ]
  },
  {
   "cell_type": "code",
   "execution_count": null,
   "metadata": {},
   "outputs": [],
   "source": []
  }
 ],
 "metadata": {
  "kernelspec": {
   "display_name": "Python 3",
   "language": "python",
   "name": "python3"
  },
  "language_info": {
   "codemirror_mode": {
    "name": "ipython",
    "version": 3
   },
   "file_extension": ".py",
   "mimetype": "text/x-python",
   "name": "python",
   "nbconvert_exporter": "python",
   "pygments_lexer": "ipython3",
   "version": "3.7.1"
  }
 },
 "nbformat": 4,
 "nbformat_minor": 2
}
