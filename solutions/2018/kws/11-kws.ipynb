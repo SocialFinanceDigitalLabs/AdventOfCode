{
 "cells": [
  {
   "cell_type": "code",
   "execution_count": null,
   "metadata": {},
   "outputs": [],
   "source": [
    "import numpy as np\n",
    "import pandas as pd"
   ]
  },
  {
   "cell_type": "code",
   "execution_count": null,
   "metadata": {},
   "outputs": [],
   "source": [
    "input_value = input(\"Please enter your puzzle value\")\n",
    "input_value = int(input_value)\n",
    "print(\"You entered\", input_value)"
   ]
  },
  {
   "cell_type": "code",
   "execution_count": null,
   "metadata": {},
   "outputs": [],
   "source": [
    "def power_level(x,y,serial, debug=False):\n",
    "    rack_id = x + 10\n",
    "    power_level = rack_id * y\n",
    "    power_level += serial\n",
    "    power_level *= rack_id\n",
    "    power_level = int(str(power_level)[-3])\n",
    "    power_level -= 5\n",
    "    \n",
    "    if debug: print(\"x={} y={} serial={} gives power level {}\".format(x,y,serial, power_level))\n",
    "    return power_level\n",
    "\n",
    "power_level(3,5,8, debug=True) # Should be 4\n",
    "power_level(122,79,57, debug=True) # Should be -5\n",
    "power_level(217,196,39, debug=True) # Should be 0\n",
    "power_level(101,153,71, debug=True) # Should be 4\n"
   ]
  },
  {
   "cell_type": "code",
   "execution_count": null,
   "metadata": {},
   "outputs": [],
   "source": [
    "def create_grid(serial):\n",
    "    matrix = np.empty((300,300))\n",
    "    for x in range(0,300):\n",
    "        for y in range(0,300):\n",
    "            matrix[x,y] = power_level(x,y,serial)\n",
    "    return matrix\n",
    "\n",
    "create_grid(18)[3:6,3:6]"
   ]
  },
  {
   "cell_type": "code",
   "execution_count": null,
   "metadata": {},
   "outputs": [],
   "source": [
    "def find_maximum(grid, size=3):\n",
    "    dim = 300-size\n",
    "    matrix = np.empty((dim,dim), dtype=\"int\")\n",
    "    for x in range(0,dim):\n",
    "        for y in range(0,dim):\n",
    "              matrix[x,y] = sum(sum(grid[x:x+size,y:y+size]))\n",
    "                \n",
    "    largest = np.where(matrix==matrix.max())\n",
    "    return matrix, matrix.max(), largest\n",
    "\n",
    "find_maximum(create_grid(18))"
   ]
  },
  {
   "cell_type": "code",
   "execution_count": null,
   "metadata": {},
   "outputs": [],
   "source": [
    "find_maximum(create_grid(42))"
   ]
  },
  {
   "cell_type": "code",
   "execution_count": null,
   "metadata": {},
   "outputs": [],
   "source": [
    "find_maximum(create_grid(input_value))"
   ]
  },
  {
   "cell_type": "markdown",
   "metadata": {},
   "source": [
    "# Part 2"
   ]
  },
  {
   "cell_type": "code",
   "execution_count": null,
   "metadata": {},
   "outputs": [],
   "source": [
    "def find_maximum_size(serial, start_size=1, end_size=20):\n",
    "    grid = create_grid(serial)\n",
    "    max_values = []\n",
    "    coordinates = []\n",
    "    for size in range(start_size, end_size):\n",
    "        a,value,coord = find_maximum(grid, size=size)\n",
    "        max_values.append(value)\n",
    "        coordinates.append(coord)\n",
    "    max_value = max(max_values)\n",
    "    max_value_pos = max_values.index(max_value)\n",
    "    return coordinates[max_value_pos], max_value_pos+start_size\n",
    "\n"
   ]
  },
  {
   "cell_type": "code",
   "execution_count": null,
   "metadata": {},
   "outputs": [],
   "source": [
    "find_maximum_size(18)"
   ]
  },
  {
   "cell_type": "code",
   "execution_count": null,
   "metadata": {},
   "outputs": [],
   "source": [
    "find_maximum_size(42)"
   ]
  },
  {
   "cell_type": "code",
   "execution_count": null,
   "metadata": {},
   "outputs": [],
   "source": [
    "find_maximum_size(input_value, 1, 20)"
   ]
  },
  {
   "cell_type": "code",
   "execution_count": null,
   "metadata": {},
   "outputs": [],
   "source": []
  }
 ],
 "metadata": {
  "kernelspec": {
   "display_name": "Python 3",
   "language": "python",
   "name": "python3"
  },
  "language_info": {
   "codemirror_mode": {
    "name": "ipython",
    "version": 3
   },
   "file_extension": ".py",
   "mimetype": "text/x-python",
   "name": "python",
   "nbconvert_exporter": "python",
   "pygments_lexer": "ipython3",
   "version": "3.6.2"
  }
 },
 "nbformat": 4,
 "nbformat_minor": 2
}
