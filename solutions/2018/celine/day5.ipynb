{
 "cells": [
  {
   "cell_type": "code",
   "execution_count": 7,
   "metadata": {},
   "outputs": [],
   "source": [
    "with open(\"input_day5.txt\", \"r\") as infile:\n",
    "    contents = infile.read().strip() # we load the list of characters here and take out the empty spaces with strip"
   ]
  },
  {
   "cell_type": "code",
   "execution_count": 8,
   "metadata": {},
   "outputs": [],
   "source": [
    "polymere = list(contents) # we create a list where each caracter of the polymere is a different element"
   ]
  },
  {
   "cell_type": "code",
   "execution_count": 9,
   "metadata": {},
   "outputs": [
    {
     "data": {
      "text/plain": [
       "50000"
      ]
     },
     "execution_count": 9,
     "metadata": {},
     "output_type": "execute_result"
    }
   ],
   "source": [
    "len(polymere)"
   ]
  },
  {
   "cell_type": "markdown",
   "metadata": {},
   "source": [
    "# Part 1"
   ]
  },
  {
   "cell_type": "code",
   "execution_count": 10,
   "metadata": {},
   "outputs": [],
   "source": [
    "polymere = list(contents)\n",
    "\n",
    "def activate(polymere): \n",
    "    \"\"\"function that returns the length of the polymere once it's been fully activated\"\"\"\n",
    "    final = False \n",
    "    while final == False: \n",
    "        length = len(polymere) \n",
    "        for i in range(len(polymere)-1, -1, -1): \n",
    "            # we create an inner loop that goes from the length of the polymere to zero: from the last element of the polymere to the first;\n",
    "            # the reason for the reverse order is to not mess up the index of the items\n",
    "            if i == len(polymere) - 1: \n",
    "                continue # if i = last item of the polymere, we don't do anything\n",
    "                # because we want to compare each item with the next one (and there is no next one after the last item)\n",
    "            if polymere[i] != polymere[i+1] and polymere[i].capitalize() == polymere[i+1].capitalize():\n",
    "                del polymere[i:i+2] # we delete all the 'letterLETTER' or 'LETTERletter'\n",
    "        if len(polymere) == length: # if the polymere length is the same before and after, it means that no new activation\n",
    "            # was done, so it means that the activation is final\n",
    "            final = True\n",
    "    return len(polymere)"
   ]
  },
  {
   "cell_type": "code",
   "execution_count": 11,
   "metadata": {},
   "outputs": [
    {
     "data": {
      "text/plain": [
       "11042"
      ]
     },
     "execution_count": 11,
     "metadata": {},
     "output_type": "execute_result"
    }
   ],
   "source": [
    "activate(polymere) # we run the function on our polymere"
   ]
  },
  {
   "cell_type": "markdown",
   "metadata": {},
   "source": [
    "# Part 2"
   ]
  },
  {
   "cell_type": "code",
   "execution_count": 12,
   "metadata": {},
   "outputs": [],
   "source": [
    "import string\n",
    "alphabet = string.ascii_uppercase # I create a string with all the alphabet letters"
   ]
  },
  {
   "cell_type": "code",
   "execution_count": 17,
   "metadata": {},
   "outputs": [
    {
     "data": {
      "text/plain": [
       "'ABCDEFGHIJKLMNOPQRSTUVWXYZ'"
      ]
     },
     "execution_count": 17,
     "metadata": {},
     "output_type": "execute_result"
    }
   ],
   "source": [
    "alphabet"
   ]
  },
  {
   "cell_type": "code",
   "execution_count": 14,
   "metadata": {},
   "outputs": [],
   "source": [
    "polymere = list(contents)\n",
    "length = list() # this empty list will hold all the lengths of the different polymeres we're trying\n",
    "\n",
    "for letter in alphabet:\n",
    "    reduced_polymere = list() # for each letter we're trying (e.g. deleting within the polymere), I create an empty list\n",
    "    # that will hold the new 'reduced' polymere\n",
    "    for element in polymere:\n",
    "        if element.capitalize() != letter: \n",
    "            reduced_polymere.append(element) # we go through each element in the polymere - if it is different from\n",
    "            # the letter we are currently trying, we copy it into our new 'reduced' polymere\n",
    "    activated = activate(reduced_polymere) #we calculate the length of the 'reduced' polymere after activating it\n",
    "    length.append(activated) # we store the length in our \"length\" list\n"
   ]
  },
  {
   "cell_type": "code",
   "execution_count": 16,
   "metadata": {},
   "outputs": [
    {
     "data": {
      "text/plain": [
       "6872"
      ]
     },
     "execution_count": 16,
     "metadata": {},
     "output_type": "execute_result"
    }
   ],
   "source": [
    "min(length) # we find the minimum length"
   ]
  }
 ],
 "metadata": {
  "kernelspec": {
   "display_name": "Python 3",
   "language": "python",
   "name": "python3"
  },
  "language_info": {
   "codemirror_mode": {
    "name": "ipython",
    "version": 3
   },
   "file_extension": ".py",
   "mimetype": "text/x-python",
   "name": "python",
   "nbconvert_exporter": "python",
   "pygments_lexer": "ipython3",
   "version": "3.7.0"
  }
 },
 "nbformat": 4,
 "nbformat_minor": 2
}
