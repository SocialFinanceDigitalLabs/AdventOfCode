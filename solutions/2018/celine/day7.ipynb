{
 "cells": [
  {
   "cell_type": "code",
   "execution_count": 182,
   "metadata": {},
   "outputs": [
    {
     "data": {
      "text/plain": [
       "['Step L must be finished before step M can begin.',\n",
       " 'Step B must be finished before step S can begin.',\n",
       " 'Step F must be finished before step M can begin.']"
      ]
     },
     "execution_count": 182,
     "metadata": {},
     "output_type": "execute_result"
    }
   ],
   "source": [
    "with open(\"input_day7.txt\", \"r\") as infile:\n",
    "    contents = infile.read().strip()\n",
    "contents = contents.split(\"\\n\")\n",
    "contents[:3]"
   ]
  },
  {
   "cell_type": "markdown",
   "metadata": {},
   "source": [
    "# Part 1"
   ]
  },
  {
   "cell_type": "code",
   "execution_count": 183,
   "metadata": {},
   "outputs": [],
   "source": [
    "alphabet = \"ABCDEFGHIJKLMNOPQRSTUVWXYZ\"\n",
    "instructions = list()\n",
    "\n",
    "# We create an empty matrix of 26 zeros x 26 zeros that will stock the instructions\n",
    "for letter in alphabet:\n",
    "    instruction = list()\n",
    "    for letter in alphabet:\n",
    "        instruction.append(0)\n",
    "    instructions.append(instruction)"
   ]
  },
  {
   "cell_type": "code",
   "execution_count": 184,
   "metadata": {},
   "outputs": [
    {
     "data": {
      "text/plain": [
       "[('L', 'M'), ('B', 'S'), ('F', 'M')]"
      ]
     },
     "execution_count": 184,
     "metadata": {},
     "output_type": "execute_result"
    }
   ],
   "source": [
    "# We extract from the input 1)the step needed before 2)the letter can be accomplished\n",
    "\n",
    "steps = list()\n",
    "for line in contents:\n",
    "    steps.append((line[5], line[-12]))\n",
    "steps[:3]"
   ]
  },
  {
   "cell_type": "code",
   "execution_count": 185,
   "metadata": {},
   "outputs": [],
   "source": [
    "# We place the information from the steps into the instructions, e.g.:\n",
    "# instructions[0]: [0,0,0,1,1,0] means that A needs to have D and E done first\n",
    "\n",
    "for step in steps:\n",
    "    line = 0\n",
    "    column = 0\n",
    "    for ix, letter in enumerate(alphabet):\n",
    "        if step[0] == letter:\n",
    "            column = ix\n",
    "        if step[1] == letter:\n",
    "            line = ix\n",
    "    instructions[line][column] = 1"
   ]
  },
  {
   "cell_type": "code",
   "execution_count": 186,
   "metadata": {},
   "outputs": [],
   "source": [
    "# We go through the instructions and the collate the letters we accomplish\n",
    "\n",
    "done = \"\"\n",
    "i = 0\n",
    "zeros = [0,0,0,0,0,0,0,0,0,0,0,0,0,0,0,0,0,0,0,0,0,0,0,0,0,0] # An instruction equal to only zeros means the letter can be\n",
    "# done right away, without any other letter being done first\n",
    "\n",
    "while i < len(instructions):\n",
    "    if instructions[i] == zeros and alphabet[i] not in done:\n",
    "        for instruction in instructions:\n",
    "            instruction[i] = 0\n",
    "        done += alphabet[i]\n",
    "        i = 0\n",
    "        continue\n",
    "    else:\n",
    "        i += 1\n"
   ]
  },
  {
   "cell_type": "code",
   "execution_count": 187,
   "metadata": {},
   "outputs": [
    {
     "data": {
      "text/plain": [
       "'BCEFLDMQTXHZGKIASVJYORPUWN'"
      ]
     },
     "execution_count": 187,
     "metadata": {},
     "output_type": "execute_result"
    }
   ],
   "source": [
    "done"
   ]
  },
  {
   "cell_type": "markdown",
   "metadata": {},
   "source": [
    "# Part 2"
   ]
  },
  {
   "cell_type": "code",
   "execution_count": 188,
   "metadata": {},
   "outputs": [
    {
     "data": {
      "text/plain": [
       "26"
      ]
     },
     "execution_count": 188,
     "metadata": {},
     "output_type": "execute_result"
    }
   ],
   "source": [
    "for step in steps:\n",
    "    line = 0\n",
    "    column = 0\n",
    "    for ix, letter in enumerate(alphabet):\n",
    "        if step[0] == letter:\n",
    "            column = ix\n",
    "        if step[1] == letter:\n",
    "            line = ix\n",
    "    instructions[line][column] = 1\n",
    "len(instructions)"
   ]
  },
  {
   "cell_type": "code",
   "execution_count": 189,
   "metadata": {},
   "outputs": [],
   "source": [
    "def prerequisite(instructions, letter):\n",
    "    \"\"\"Function that gives all the letters that must be done first before the letter can be done\"\"\"\n",
    "    \n",
    "    alphabet = \"ABCDEFGHIJKLMNOPQRSTUVWXYZ\"\n",
    "    necessary = ''\n",
    "    \n",
    "    i = alphabet.index(letter)\n",
    "    for ix, instruction in enumerate(instructions[i]):\n",
    "        if instruction == 1:\n",
    "            necessary += alphabet[ix]\n",
    "    \n",
    "    return necessary"
   ]
  },
  {
   "cell_type": "code",
   "execution_count": 190,
   "metadata": {},
   "outputs": [
    {
     "data": {
      "text/plain": [
       "'FL'"
      ]
     },
     "execution_count": 190,
     "metadata": {},
     "output_type": "execute_result"
    }
   ],
   "source": [
    "prerequisite(instructions, 'M') # Test for M"
   ]
  },
  {
   "cell_type": "code",
   "execution_count": 191,
   "metadata": {},
   "outputs": [],
   "source": [
    "# We create a list of 5 [0,0] representing each worker. The first zero will hold the letter currently occupying the worker,\n",
    "# and the second zero the seconds passing by as the task is accomplished.\n",
    "\n",
    "i = 0\n",
    "workers = list()\n",
    "\n",
    "while i < 5:\n",
    "    workers.append([0,0])\n",
    "    i += 1"
   ]
  },
  {
   "cell_type": "code",
   "execution_count": 192,
   "metadata": {},
   "outputs": [
    {
     "data": {
      "text/plain": [
       "[[0, 0], [0, 0], [0, 0], [0, 0], [0, 0]]"
      ]
     },
     "execution_count": 192,
     "metadata": {},
     "output_type": "execute_result"
    }
   ],
   "source": [
    "workers"
   ]
  },
  {
   "cell_type": "code",
   "execution_count": 193,
   "metadata": {},
   "outputs": [],
   "source": [
    "done = list()\n",
    "ongoing = list()\n",
    "seconds = 0\n",
    "prerequisites = list()\n",
    "\n",
    "# We create a list of all the letters required for each letter of the alphabet\n",
    "for letter in alphabet:\n",
    "    prerequisites.append(list(prerequisite(instructions, letter)))\n",
    "\n",
    "while len(done) < 26: # While we have not done all the instructions\n",
    "    \n",
    "    for ix, worker in enumerate(workers):\n",
    "        if workers[ix][1] != 0:\n",
    "            workers[ix][1] -= 1 # One second goes by for all workers doing a letter\n",
    "    \n",
    "    for ix, worker in enumerate(workers):\n",
    "        if workers[ix][1] == 0: # If the worker is done working (second = 0)\n",
    "            if workers[ix][0] != 0: # AND if the worker was doing a letter\n",
    "                done.append(workers[ix][0]) # We pass the letter into 'done'\n",
    "                ongoing.remove(workers[ix][0]) # We remove the letter from 'ongoing'\n",
    "                workers[ix] = [0,0] # We reset the worker to [0,0]\n",
    "    \n",
    "    for ix, worker in enumerate(workers):\n",
    "        if workers[ix][1] == 0: # If the worker is done working = available\n",
    "            for i, needed in enumerate(prerequisites):\n",
    "                if alphabet[i] in done or alphabet[i] in ongoing:\n",
    "                    continue\n",
    "                select = True\n",
    "                for letter in needed:\n",
    "                    if letter not in done: \n",
    "                        select = False\n",
    "                    if letter in ongoing:\n",
    "                        select = False  \n",
    "                if select == True: # We find a letter whose prerequisites are all done already\n",
    "                    next_letter = alphabet[i]\n",
    "                    ongoing.append(next_letter) # We add it to 'ongoing'\n",
    "                    workers[ix][0], workers[ix][1] = next_letter, 61 + alphabet.index(next_letter) # We assign it \n",
    "                    break\n",
    "                                                            \n",
    "    seconds += 1\n",
    "    "
   ]
  },
  {
   "cell_type": "code",
   "execution_count": 194,
   "metadata": {},
   "outputs": [
    {
     "data": {
      "text/plain": [
       "987"
      ]
     },
     "execution_count": 194,
     "metadata": {},
     "output_type": "execute_result"
    }
   ],
   "source": [
    "seconds - 1 # The last step is done before we increment our seconds counter by 1"
   ]
  }
 ],
 "metadata": {
  "kernelspec": {
   "display_name": "Python 3",
   "language": "python",
   "name": "python3"
  },
  "language_info": {
   "codemirror_mode": {
    "name": "ipython",
    "version": 3
   },
   "file_extension": ".py",
   "mimetype": "text/x-python",
   "name": "python",
   "nbconvert_exporter": "python",
   "pygments_lexer": "ipython3",
   "version": "3.7.0"
  }
 },
 "nbformat": 4,
 "nbformat_minor": 2
}
