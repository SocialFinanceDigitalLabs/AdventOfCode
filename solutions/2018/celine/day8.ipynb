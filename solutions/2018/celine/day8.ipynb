{
 "cells": [
  {
   "cell_type": "code",
   "execution_count": 2,
   "metadata": {},
   "outputs": [],
   "source": [
    "with open(\"input_day8.txt\", \"r\") as infile:\n",
    "    contents = infile.read().strip()\n",
    "\n",
    "# We create a list of integers\n",
    "contents = contents.split(\" \")\n",
    "contents = [int(n) for n in contents]"
   ]
  },
  {
   "cell_type": "code",
   "execution_count": 3,
   "metadata": {},
   "outputs": [
    {
     "data": {
      "text/plain": [
       "[7, 11, 7, 3, 5, 3, 3, 4, 1, 9]"
      ]
     },
     "execution_count": 3,
     "metadata": {},
     "output_type": "execute_result"
    }
   ],
   "source": [
    "contents[:10]"
   ]
  },
  {
   "cell_type": "markdown",
   "metadata": {},
   "source": [
    "# Part 1"
   ]
  },
  {
   "cell_type": "code",
   "execution_count": 4,
   "metadata": {},
   "outputs": [],
   "source": [
    "# We order our big list of numbers into a more structured list, where each node is demarcated by brackets, e.g.:\n",
    "# [#children, #metadata, [child 1], [child 2], metadata1, metadata2]\n",
    "# While we structure the list, we add up the metadatas to answer the question\n",
    "\n",
    "def metacount(numbers):\n",
    "    \"\"\"Sums all the metadatas in a list of node information and orders the list in separate brackets for each node\"\"\"\n",
    "    \n",
    "    i = 0\n",
    "    nodes = 0\n",
    "    metas = 0\n",
    "    \n",
    "    while len(numbers) != 2 + numbers[0] + numbers[1]:\n",
    "        # We keep looping until all nodes are demarcated by brackets i.e. until the whole list contains only:\n",
    "        # - the two first elements (# children, # metadata)\n",
    "        # - its children (each one in a separated bracket, so counting as 1)\n",
    "        # - the metadata entries\n",
    "        \n",
    "        nbchildren = numbers[i]\n",
    "        nbmetas = numbers[i+1]\n",
    "        \n",
    "        if type(nbchildren) == int and type(nbmetas) == int:\n",
    "        \n",
    "            # For nodes with no children\n",
    "            if nbchildren == 0 and (i - nodes) % 2 == 0:\n",
    "                metas += sum(numbers[i+2+nbchildren:i+2+nbchildren+nbmetas]) # We sum all the metadata entries\n",
    "                numbers[i:i+nbmetas+2] = [numbers[i:i+nbmetas+2]]\n",
    "                nodes += 1\n",
    "                i = 0\n",
    "\n",
    "            # For nodes with children, whose children we already structured into separate brackets\n",
    "            elif all([type(x) == list for x in numbers[i+2:(i+2)+nbchildren]]):\n",
    "                metas += sum(numbers[i+2+nbchildren:i+2+nbchildren+nbmetas]) # We sum all the metadata entries\n",
    "                numbers[i:i+1+nbchildren+nbmetas+1] = [numbers[i:i+1+nbchildren+nbmetas+1]]\n",
    "                i = 0                \n",
    "\n",
    "            else:\n",
    "                i += 1\n",
    "                \n",
    "        else:\n",
    "            i += 1\n",
    "            \n",
    "    metas += sum(numbers[-numbers[1]:]) # We add at the end the metadata entries of the root node\n",
    "         \n",
    "     \n",
    "    return numbers, metas"
   ]
  },
  {
   "cell_type": "code",
   "execution_count": 5,
   "metadata": {},
   "outputs": [],
   "source": [
    "nodes, count = metacount(contents)"
   ]
  },
  {
   "cell_type": "code",
   "execution_count": 6,
   "metadata": {},
   "outputs": [
    {
     "data": {
      "text/plain": [
       "38780"
      ]
     },
     "execution_count": 6,
     "metadata": {},
     "output_type": "execute_result"
    }
   ],
   "source": [
    "count"
   ]
  },
  {
   "cell_type": "markdown",
   "metadata": {},
   "source": [
    "# Part 2"
   ]
  },
  {
   "cell_type": "code",
   "execution_count": 17,
   "metadata": {},
   "outputs": [],
   "source": [
    "# Recursive function calculating the value of each node based on the rules described in the problem\n",
    "\n",
    "def rootvalue(numbers):\n",
    "    \"\"\"Calculates the root value of an ordered list of node information\"\"\" \n",
    "    # We give our structured list to the function where each node is separated by brackets\n",
    "    \n",
    "    # If no children\n",
    "    if numbers[0] == 0:\n",
    "        return sum(numbers[-numbers[1]:]) # Sum of the metadata entries\n",
    "                   \n",
    "    # If children\n",
    "    else:\n",
    "        children = numbers[2:-numbers[1]] # We slice the children\n",
    "        values = [rootvalue(child) for child in children] # We calculate their value, calling the function within itself\n",
    "        value = 0\n",
    "        metadata = numbers[-numbers[1]:]\n",
    "        for data in metadata:\n",
    "            if data <= len(values): # If the value of the metadata entry is smaller than the number of children\n",
    "                value += values[data-1] \n",
    "        return value\n",
    "        "
   ]
  },
  {
   "cell_type": "code",
   "execution_count": 19,
   "metadata": {},
   "outputs": [
    {
     "data": {
      "text/plain": [
       "18232"
      ]
     },
     "execution_count": 19,
     "metadata": {},
     "output_type": "execute_result"
    }
   ],
   "source": [
    "rootvalue(nodes)"
   ]
  }
 ],
 "metadata": {
  "kernelspec": {
   "display_name": "Python 3",
   "language": "python",
   "name": "python3"
  },
  "language_info": {
   "codemirror_mode": {
    "name": "ipython",
    "version": 3
   },
   "file_extension": ".py",
   "mimetype": "text/x-python",
   "name": "python",
   "nbconvert_exporter": "python",
   "pygments_lexer": "ipython3",
   "version": "3.7.0"
  }
 },
 "nbformat": 4,
 "nbformat_minor": 2
}
