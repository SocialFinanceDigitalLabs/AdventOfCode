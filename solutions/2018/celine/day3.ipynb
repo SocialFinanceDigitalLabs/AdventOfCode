{
 "cells": [
  {
   "cell_type": "code",
   "execution_count": 18,
   "metadata": {},
   "outputs": [],
   "source": [
    "contents = list()\n",
    "with open(\"input_day3.txt\", \"r\") as infile: \n",
    "    contents = infile.read().strip()\n",
    "    contents = contents.split(\"\\n\")"
   ]
  },
  {
   "cell_type": "code",
   "execution_count": 19,
   "metadata": {},
   "outputs": [],
   "source": [
    "claim_ids = []\n",
    "for claim in contents:\n",
    "    clean_claim = claim.split(\" \")[2].replace(\":\", \"\").split(\",\") + claim.split(\" \")[3].split(\"x\") # we clean up the list\n",
    "    clean_claim = [int(x) for x in clean_claim] # we turn all list items into integers\n",
    "    claim_ids.append(clean_claim) # we store all the 'clean items' into the claim_ids list"
   ]
  },
  {
   "cell_type": "markdown",
   "metadata": {},
   "source": [
    "# Part 1"
   ]
  },
  {
   "cell_type": "code",
   "execution_count": 20,
   "metadata": {},
   "outputs": [],
   "source": [
    "matrix = []\n",
    "for r in range(1000):\n",
    "    row = []\n",
    "    for c in range(1000):\n",
    "        row.append(0)\n",
    "    matrix.append(row) # we create 1000 lines of 1000 zeros = our beginner version of a matrix"
   ]
  },
  {
   "cell_type": "code",
   "execution_count": 21,
   "metadata": {},
   "outputs": [],
   "source": [
    "for claim in claim_ids:\n",
    "    for r in range(claim[1], claim[1]+claim[3]):\n",
    "        for c in range(claim[0], claim[0]+claim[2]): #for each row within the claim zone, and for each column within the claim\n",
    "            #zone, we add 1\n",
    "            matrix[r][c] += 1"
   ]
  },
  {
   "cell_type": "code",
   "execution_count": 22,
   "metadata": {},
   "outputs": [
    {
     "name": "stdout",
     "output_type": "stream",
     "text": [
      "113576\n"
     ]
    }
   ],
   "source": [
    "compteur = 0\n",
    "for row in matrix:\n",
    "    for cell in row:\n",
    "        if cell > 1:\n",
    "            compteur += 1\n",
    "print(compteur)"
   ]
  },
  {
   "cell_type": "markdown",
   "metadata": {},
   "source": [
    "## Part 2"
   ]
  },
  {
   "cell_type": "code",
   "execution_count": 23,
   "metadata": {},
   "outputs": [
    {
     "name": "stdout",
     "output_type": "stream",
     "text": [
      "[689, 535, 23, 27]\n"
     ]
    }
   ],
   "source": [
    "for claim in claim_ids:\n",
    "    keep = True\n",
    "    for r in range(claim[1], claim[1]+claim[3]):\n",
    "        for c in range(claim[0], claim[0]+claim[2]):\n",
    "            if matrix[r][c] != 1:\n",
    "                keep = False\n",
    "    if keep == True:  \n",
    "        print(claim)"
   ]
  },
  {
   "cell_type": "code",
   "execution_count": 25,
   "metadata": {},
   "outputs": [
    {
     "name": "stdout",
     "output_type": "stream",
     "text": [
      "825\n"
     ]
    }
   ],
   "source": [
    "for ix, claim in enumerate(claim_ids):\n",
    "    if claim == [689, 535, 23, 27]:\n",
    "        print(ix+1) # The index will be +1 because the claim ids started at 1, whereas our list starts at 0"
   ]
  }
 ],
 "metadata": {
  "kernelspec": {
   "display_name": "Python 3",
   "language": "python",
   "name": "python3"
  },
  "language_info": {
   "codemirror_mode": {
    "name": "ipython",
    "version": 3
   },
   "file_extension": ".py",
   "mimetype": "text/x-python",
   "name": "python",
   "nbconvert_exporter": "python",
   "pygments_lexer": "ipython3",
   "version": "3.7.0"
  }
 },
 "nbformat": 4,
 "nbformat_minor": 2
}
