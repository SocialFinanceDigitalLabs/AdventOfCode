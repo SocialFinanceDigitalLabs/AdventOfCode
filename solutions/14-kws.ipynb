{
 "cells": [
  {
   "cell_type": "code",
   "execution_count": null,
   "metadata": {},
   "outputs": [],
   "source": [
    "from math import floor\n",
    "\n",
    "\n",
    "def make_recipes(turns):\n",
    "    score = \"37\"\n",
    "\n",
    "    elf_1 = 0\n",
    "    elf_2 = 1\n",
    "    \n",
    "    for t in range(0, turns+10):\n",
    "        score += str(int(score[elf_1]) + int(score[elf_2]))\n",
    "        elf_1 = (elf_1 + int(score[elf_1]) + 1) % len(score)\n",
    "        elf_2 = (elf_2 + int(score[elf_2]) + 1) % len(score)\n",
    "\n",
    "    return score, score[turns:turns+10]\n",
    "\n",
    "print(make_recipes(9)[1], \"Expect 5158916779\")\n",
    "print(make_recipes(5)[1], \"Expect 0124515891\")\n",
    "print(make_recipes(18)[1], \"Expect 9251071085\")\n",
    "print(make_recipes(2018)[1], \"Expect 5941429882\")\n"
   ]
  },
  {
   "cell_type": "code",
   "execution_count": null,
   "metadata": {},
   "outputs": [],
   "source": [
    "puzzle_input = input(\"What is your puzzle input?\")\n",
    "make_recipes(int(puzzle_input))[1]"
   ]
  },
  {
   "cell_type": "markdown",
   "metadata": {},
   "source": [
    "# Part 2\n",
    "\n",
    "Simple enough, but I have to rewrite the function"
   ]
  },
  {
   "cell_type": "code",
   "execution_count": null,
   "metadata": {},
   "outputs": [],
   "source": [
    "def find_recipes(expected_sequence):\n",
    "    score = \"37\"\n",
    "    elf_1 = 0\n",
    "    elf_2 = 1\n",
    "    \n",
    "    # Only search the last part of the string to speed things up a bit\n",
    "    while expected_sequence not in score[-len(expected_sequence)-2:]:\n",
    "        score += str(int(score[elf_1]) + int(score[elf_2]))\n",
    "        elf_1 = (elf_1 + int(score[elf_1]) + 1) % len(score)\n",
    "        elf_2 = (elf_2 + int(score[elf_2]) + 1) % len(score)\n",
    "        if len(score) % 5000000 == 0: print(len(score))\n",
    "    return len(score), score.index(expected_sequence)\n",
    "\n",
    "print(find_recipes(\"51589\")[1], \"Expect 9\")\n",
    "print(find_recipes(\"01245\")[1], \"Expect 5\")\n",
    "print(find_recipes(\"92510\")[1], \"Expect 18\")\n",
    "print(find_recipes(\"59414\")[1], \"Expect 2018\")"
   ]
  },
  {
   "cell_type": "code",
   "execution_count": null,
   "metadata": {},
   "outputs": [],
   "source": [
    "find_recipes(puzzle_input)"
   ]
  },
  {
   "cell_type": "code",
   "execution_count": null,
   "metadata": {},
   "outputs": [],
   "source": []
  }
 ],
 "metadata": {
  "kernelspec": {
   "display_name": "Python 3",
   "language": "python",
   "name": "python3"
  },
  "language_info": {
   "codemirror_mode": {
    "name": "ipython",
    "version": 3
   },
   "file_extension": ".py",
   "mimetype": "text/x-python",
   "name": "python",
   "nbconvert_exporter": "python",
   "pygments_lexer": "ipython3",
   "version": "3.6.2"
  }
 },
 "nbformat": 4,
 "nbformat_minor": 2
}
