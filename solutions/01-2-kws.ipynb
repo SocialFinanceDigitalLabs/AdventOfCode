{
 "cells": [
  {
   "cell_type": "markdown",
   "metadata": {},
   "source": [
    "# December 01 - Puzzle 2\n",
    "\n",
    "https://adventofcode.com/2018/day/1\n",
    "\n",
    "The second part of this puzzle starts the same, but then rather than summing the whole list, we need to remember the interim values as we add the frequencies together.\n",
    "\n",
    "I'm going to start by copying the initial part of the puzzle from the previous problem."
   ]
  },
  {
   "cell_type": "code",
   "execution_count": null,
   "metadata": {},
   "outputs": [],
   "source": [
    "import regex as re\n",
    "\n",
    "# Read text from user\n",
    "input_value = input(\"Please enter the puzzle text here, then press ENTER\")\n",
    "\n",
    "# Split string into separate lines - we will use a regular expression to split on any type of whitespace, including newlines\n",
    "numbers = re.compile(\"\\s+\").split(input_value)\n",
    "\n",
    "# Print a value so we can see what we read\n",
    "print(\"We read {} numbers\".format(len(numbers)))\n",
    "\n",
    "# Now we turn the string representation of the numbers into actual numbers\n",
    "# Python has something called a list comprehension that makes this super easy\n",
    "# https://www.pythonforbeginners.com/basics/list-comprehensions-in-python\n",
    "numbers = [int(n) for n in numbers]"
   ]
  },
  {
   "cell_type": "code",
   "execution_count": null,
   "metadata": {},
   "outputs": [],
   "source": [
    "# Having read the numbers in, we're going to create a collection called a 'set' to hold the sums\n",
    "# as we loop through the list of numbers. If the set already holds the number we are looking for\n",
    "# then we can stop\n",
    "\n",
    "total = 0 # Hold the current running total\n",
    "interim_answers=set([0]) # Create our set to hold all the interim values, and also prime this with our starting value\n",
    "final_answer = None # This will hold our final answer once found\n",
    "\n",
    "# We may have to loop multiple times\n",
    "while final_answer is None:\n",
    "    print(\"Looping with a starting frequency of\", total)\n",
    "    for n in numbers:\n",
    "        total += n # Shorthand for total = total + n\n",
    "        if total in interim_answers: # Check if we have already seen this value\n",
    "            final_answer = total\n",
    "            break # Stops the for loop\n",
    "        interim_answers.add(total) # Don't forget to add our current total to the interim answers\n",
    "\n",
    "print(\"The first frequency to be reached twice, is\", final_answer)\n"
   ]
  },
  {
   "cell_type": "code",
   "execution_count": null,
   "metadata": {},
   "outputs": [],
   "source": []
  }
 ],
 "metadata": {
  "kernelspec": {
   "display_name": "Python 3",
   "language": "python",
   "name": "python3"
  },
  "language_info": {
   "codemirror_mode": {
    "name": "ipython",
    "version": 3
   },
   "file_extension": ".py",
   "mimetype": "text/x-python",
   "name": "python",
   "nbconvert_exporter": "python",
   "pygments_lexer": "ipython3",
   "version": "3.7.1"
  }
 },
 "nbformat": 4,
 "nbformat_minor": 2
}
