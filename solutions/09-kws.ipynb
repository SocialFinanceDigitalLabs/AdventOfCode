{
 "cells": [
  {
   "cell_type": "code",
   "execution_count": null,
   "metadata": {},
   "outputs": [],
   "source": [
    "import regex as re\n",
    "from tqdm import tqdm\n",
    "import numpy as np"
   ]
  },
  {
   "cell_type": "code",
   "execution_count": null,
   "metadata": {},
   "outputs": [],
   "source": [
    "testdata = \"\"\"\n",
    "10 players; last marble is worth 1618 points: high score is 8317\n",
    "13 players; last marble is worth 7999 points: high score is 146373\n",
    "17 players; last marble is worth 1104 points: high score is 2764\n",
    "21 players; last marble is worth 6111 points: high score is 54718\n",
    "30 players; last marble is worth 5807 points: high score is 37305\n",
    "\"\"\".strip().splitlines()"
   ]
  },
  {
   "cell_type": "code",
   "execution_count": null,
   "metadata": {},
   "outputs": [],
   "source": [
    "# We're now going to start storing the data in a file to avoid having to paste into the main document\n",
    "# Make sure you create a file with the name below and save the real problem output there. \n",
    "# If you want to run just the sample data, skip this block\n",
    "with open(\"./09-input.txt\", \"r\") as FILE:\n",
    "    data = FILE.read().strip().splitlines()"
   ]
  },
  {
   "cell_type": "code",
   "execution_count": null,
   "metadata": {},
   "outputs": [],
   "source": [
    "pattern_input = re.compile(\"(\\d+) players; last marble is worth (\\d+) points(?:\\: high score is (\\d+))?\")\n",
    "all_data = testdata + data"
   ]
  },
  {
   "cell_type": "code",
   "execution_count": null,
   "metadata": {},
   "outputs": [],
   "source": [
    "all_data"
   ]
  },
  {
   "cell_type": "markdown",
   "metadata": {},
   "source": [
    "# Develop the game rules\n",
    "\n",
    "Here's a simple implementation of the game rules just to verify that we can do the correct placement of the marbles etc"
   ]
  },
  {
   "cell_type": "code",
   "execution_count": null,
   "metadata": {},
   "outputs": [],
   "source": [
    "# We prime the initial Round\n",
    "current_marble = 0\n",
    "board = [0]\n",
    "\n",
    "for round in range(1,28):\n",
    "    current_marble_pos = board.index(current_marble)\n",
    "    current_marble = round\n",
    "\n",
    "    if current_marble % 23 == 0:\n",
    "        print(\"keeping\", current_marble)\n",
    "        new_pos = current_marble_pos - 7\n",
    "        while new_pos<0:\n",
    "            new_pos += len(board) \n",
    "\n",
    "        keep = board.pop(new_pos)\n",
    "        print(\"  and keeping\", keep)\n",
    "        current_marble = board[new_pos]\n",
    "    else:    \n",
    "        new_pos = current_marble_pos + 2\n",
    "        while new_pos>len(board):\n",
    "            new_pos -= len(board) \n",
    "        board.insert(new_pos, round)\n",
    "    \n",
    "    output = \"\".join([\"{0:2d}  \".format(r) for r in board])\n",
    "    output = output.replace(\" {0:2d} \".format(current_marble), \"\\033[1m({0:2d})\\033[0m\".format(current_marble))\n",
    "    print(\"{0:2d}  \".format(round), output)\n",
    "    \n"
   ]
  },
  {
   "cell_type": "markdown",
   "metadata": {},
   "source": [
    "We now implement this as a function that takes number of players and number of marbles as input"
   ]
  },
  {
   "cell_type": "code",
   "execution_count": null,
   "metadata": {},
   "outputs": [],
   "source": [
    "def play_game(players, marbles):\n",
    "    # We prime the initial Round\n",
    "    current_marble = 0\n",
    "    current_marble_pos = 0\n",
    "    board = [0]\n",
    "    \n",
    "    player_scores = dict()\n",
    "    \n",
    "    for round in tqdm(range(1, marbles+1)):\n",
    "        current_marble_pos = board.index(current_marble)\n",
    "        current_marble = round\n",
    "\n",
    "        if current_marble % 23 == 0:\n",
    "            current_player = round % players\n",
    "            current_player_scores = player_scores.get(current_player, [])\n",
    "            if len(current_player_scores) == 0:\n",
    "                player_scores[current_player] = current_player_scores\n",
    "                \n",
    "            current_player_scores.append(current_marble)\n",
    "\n",
    "            current_marble_pos = current_marble_pos - 7\n",
    "            while current_marble_pos<0:\n",
    "                current_marble_pos += len(board) \n",
    "\n",
    "            current_player_scores.append(board.pop(current_marble_pos))\n",
    "            current_marble = board[current_marble_pos]\n",
    "        else:    \n",
    "            current_marble_pos = current_marble_pos + 2\n",
    "            while current_marble_pos>len(board):\n",
    "                current_marble_pos -= len(board) \n",
    "            board.insert(current_marble_pos, round)\n",
    "            \n",
    "    # Now calculate scores\n",
    "    scores = {k: sum(v) for k,v in player_scores.items()}\n",
    "            \n",
    "    return player_scores, max(scores.values()), board\n"
   ]
  },
  {
   "cell_type": "code",
   "execution_count": null,
   "metadata": {},
   "outputs": [],
   "source": [
    "for game in all_data:\n",
    "    m = pattern_input.match(game)\n",
    "    scores, score, board = play_game(int(m[1]), int(m[2]))\n",
    "    print(\"{} players; last marble is worth {} points: high score is {}\".format(m[1], m[2], score))\n",
    "    if m[3] is not None:\n",
    "        if int(m[3]) == score: \n",
    "            print(\" ** CORRECT\")"
   ]
  },
  {
   "cell_type": "markdown",
   "metadata": {},
   "source": [
    "# Part 2\n",
    "\n",
    "This one is easy, but might take some time to run based on the initial implementation. \n",
    "\n",
    "If we want to speed this up, why don't we implement the Marble's as a [doubly-linked list](https://en.wikipedia.org/wiki/Doubly_linked_list) instead? We shall create a Marble class \n",
    "that has a value and pointers to the clockwise and anticlockwise marbles. "
   ]
  },
  {
   "cell_type": "code",
   "execution_count": null,
   "metadata": {},
   "outputs": [],
   "source": [
    "class Marble(object):\n",
    "    def __init__(self, value):\n",
    "        \"\"\" Initialise as a single value-chain \"\"\"\n",
    "        self.__value = value\n",
    "        self.__clockwise = self\n",
    "        self.__anticlockwise = self\n",
    "        \n",
    "    def __str__(self):\n",
    "        \"\"\" String representation simply the value \"\"\"\n",
    "        return str(self.__value)\n",
    "        \n",
    "    def value(self):\n",
    "        \"\"\" Returns the value \"\"\"\n",
    "        return self.__value\n",
    "        \n",
    "    def insert(self, marble):\n",
    "        \"\"\" Inserts a new value clockwise of itself \"\"\"\n",
    "        self.__clockwise.__anticlockwise = marble\n",
    "        marble.__clockwise = self.__clockwise\n",
    "        self.__clockwise = marble\n",
    "        marble.__anticlockwise = self\n",
    "\n",
    "    def delete(self):\n",
    "        \"\"\" \n",
    "            Removes this marble. Marbles to either side will point at eachother instead, and\n",
    "            this marble becomes a self-contained chain\n",
    "        \"\"\"\n",
    "        \n",
    "        self.__clockwise.__anticlockwise = self.__anticlockwise\n",
    "        self.__anticlockwise.__clockwise = self.__clockwise\n",
    "        \n",
    "        self.__clockwise = self\n",
    "        self.__anticlockwise = self\n",
    "        \n",
    "    def clockwise(self):\n",
    "        \"\"\" Returns clockwise marble \"\"\"\n",
    "        return self.__clockwise\n",
    "\n",
    "    def anticlockwise(self):\n",
    "        \"\"\" Returns anticlockwise marble \"\"\"\n",
    "        return self.__anticlockwise\n"
   ]
  },
  {
   "cell_type": "markdown",
   "metadata": {},
   "source": [
    "Create new game implementation using the Marble class"
   ]
  },
  {
   "cell_type": "code",
   "execution_count": null,
   "metadata": {},
   "outputs": [],
   "source": [
    "def play_linked_game(players, marbles, debug=False):\n",
    "    zero_marble = Marble(0)\n",
    "    current_marble = zero_marble\n",
    "    player_scores = dict()\n",
    "    \n",
    "    for round in tqdm(range(1, marbles+1)):\n",
    "        if round % 23 == 0:\n",
    "            current_player = round % players\n",
    "            current_player_scores = player_scores.get(current_player, 0)\n",
    "            current_player_scores += round\n",
    "            \n",
    "            for n in range(0,6):\n",
    "                current_marble = current_marble.anticlockwise()\n",
    "                \n",
    "            delete_marble = current_marble.anticlockwise()\n",
    "            current_player_scores += delete_marble.value()\n",
    "            player_scores[current_player] = current_player_scores\n",
    "            \n",
    "            delete_marble.delete()\n",
    "\n",
    "        else:    \n",
    "            current_marble = current_marble.clockwise()\n",
    "            current_marble.insert(Marble(round))\n",
    "            current_marble = current_marble.clockwise()\n",
    "\n",
    "    if debug:\n",
    "        print_marble = zero_marble.clockwise()\n",
    "        values = \" 0\"\n",
    "        while print_marble != zero_marble:\n",
    "            if print_marble == current_marble:\n",
    "                values += \" ({})\".format(print_marble.value())\n",
    "            else:\n",
    "                values += \" {}\".format(print_marble.value())\n",
    "            print_marble = print_marble.clockwise()\n",
    "        print(values)\n",
    "        \n",
    "    # Now calculate scores\n",
    "    return player_scores, max(player_scores.values())\n",
    "\n",
    "play_linked_game(9, 25, debug=True)"
   ]
  },
  {
   "cell_type": "code",
   "execution_count": null,
   "metadata": {},
   "outputs": [],
   "source": [
    "for game in all_data:\n",
    "    m = pattern_input.match(game)\n",
    "    scores, score = play_linked_game(int(m[1]), int(m[2]))\n",
    "    print(\"{} players; last marble is worth {} points: high score is {}\".format(m[1], m[2], score))\n",
    "    if m[3] is not None:\n",
    "        if int(m[3]) == score: \n",
    "            print(\" ** CORRECT\")"
   ]
  },
  {
   "cell_type": "code",
   "execution_count": null,
   "metadata": {},
   "outputs": [],
   "source": [
    "for game in data:\n",
    "    m = pattern_input.match(game)\n",
    "    scores, score = play_linked_game(int(m[1]), 100 * int(m[2]))\n",
    "    print(\"{} players; last marble is worth {} points: high score is {}\".format(m[1], 100 * int(m[2]), score))"
   ]
  },
  {
   "cell_type": "code",
   "execution_count": null,
   "metadata": {},
   "outputs": [],
   "source": []
  }
 ],
 "metadata": {
  "kernelspec": {
   "display_name": "Python 3",
   "language": "python",
   "name": "python3"
  },
  "language_info": {
   "codemirror_mode": {
    "name": "ipython",
    "version": 3
   },
   "file_extension": ".py",
   "mimetype": "text/x-python",
   "name": "python",
   "nbconvert_exporter": "python",
   "pygments_lexer": "ipython3",
   "version": "3.6.2"
  }
 },
 "nbformat": 4,
 "nbformat_minor": 2
}
