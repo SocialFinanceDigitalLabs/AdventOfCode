{
 "cells": [
  {
   "cell_type": "markdown",
   "metadata": {},
   "source": [
    "# December 03 - Parts 1 and 2\n",
    "\n",
    "https://adventofcode.com/2018/day/2"
   ]
  },
  {
   "cell_type": "code",
   "execution_count": null,
   "metadata": {},
   "outputs": [],
   "source": [
    "input_value = input(\"Please enter the puzzle text here, then press ENTER\")"
   ]
  },
  {
   "cell_type": "code",
   "execution_count": null,
   "metadata": {},
   "outputs": [],
   "source": [
    "# Having problems pasting multiple lines today... not sure why. Cheating a bit.\n",
    "input_words = input_value.split('#')\n",
    "input_words = [\"#\"+x for x in input_words][1:]\n",
    "input_words"
   ]
  },
  {
   "cell_type": "code",
   "execution_count": null,
   "metadata": {},
   "outputs": [],
   "source": [
    "sample_input = [\n",
    "    \"#1 @ 1,3: 4x4\",\n",
    "    \"#2 @ 3,1: 4x4\",\n",
    "    \"#3 @ 5,5: 2x2\"\n",
    "]"
   ]
  },
  {
   "cell_type": "code",
   "execution_count": null,
   "metadata": {},
   "outputs": [],
   "source": [
    "# Pick the list you want to work with\n",
    "use_sample_input = False\n",
    "if use_sample_input:\n",
    "    words = sample_input\n",
    "    dimensions = (10,10)\n",
    "else:\n",
    "    words = input_words\n",
    "    dimensions = (1000,1000)\n"
   ]
  },
  {
   "cell_type": "code",
   "execution_count": null,
   "metadata": {},
   "outputs": [],
   "source": [
    "# We are going to use a regular expression to analyse the input\n",
    "import regex as re\n",
    "pattern = re.compile(\"^#(\\d+) @ (\\d+),(\\d+): (\\d+)x(\\d+)\")\n",
    "\n",
    "def parse_line(line):\n",
    "    matches = pattern.match(line)\n",
    "    return dict(id=int(matches[1]),x=int(matches[2]),y=int(matches[3]),\n",
    "                w=int(matches[4]),h=int(matches[5]),input=matches[0])\n",
    "\n",
    "claims = [parse_line(x) for x in words]\n",
    "claims[:5]"
   ]
  },
  {
   "cell_type": "code",
   "execution_count": null,
   "metadata": {},
   "outputs": [],
   "source": [
    "import numpy as np # We would normally place imports the top of the document, but they work inline too\n",
    "\n",
    "# Create a matrix to hold our results\n",
    "# We create a long list filled with zeros, and then use numpy to reshape it\n",
    "matrix = np.zeros(dimensions[0] * dimensions[1]).reshape(dimensions[0],dimensions[1])\n",
    "matrix"
   ]
  },
  {
   "cell_type": "markdown",
   "metadata": {},
   "source": [
    "We now loop over all the claims, and create a matrix for the claim. We then add that matrix to the big one."
   ]
  },
  {
   "cell_type": "code",
   "execution_count": null,
   "metadata": {},
   "outputs": [],
   "source": [
    "for claim in claims:\n",
    "    claim_matrix = np.ones(claim[\"w\"]*claim[\"h\"]).reshape(claim[\"w\"], claim[\"h\"])\n",
    "    matrix[claim[\"x\"]:claim[\"x\"]+claim[\"w\"], claim[\"y\"]:claim[\"y\"]+claim[\"h\"]] += claim_matrix\n",
    "\n",
    "matrix"
   ]
  },
  {
   "cell_type": "code",
   "execution_count": null,
   "metadata": {},
   "outputs": [],
   "source": [
    "np.sum((matrix>1))"
   ]
  },
  {
   "cell_type": "code",
   "execution_count": null,
   "metadata": {},
   "outputs": [],
   "source": []
  }
 ],
 "metadata": {
  "kernelspec": {
   "display_name": "Python 3",
   "language": "python",
   "name": "python3"
  },
  "language_info": {
   "codemirror_mode": {
    "name": "ipython",
    "version": 3
   },
   "file_extension": ".py",
   "mimetype": "text/x-python",
   "name": "python",
   "nbconvert_exporter": "python",
   "pygments_lexer": "ipython3",
   "version": "3.7.1"
  }
 },
 "nbformat": 4,
 "nbformat_minor": 2
}
