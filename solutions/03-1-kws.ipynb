{
 "cells": [
  {
   "cell_type": "markdown",
   "metadata": {},
   "source": [
    "# December 03 - Parts 1 and 2\n",
    "\n",
    "https://adventofcode.com/2018/day/2"
   ]
  },
  {
   "cell_type": "code",
   "execution_count": null,
   "metadata": {},
   "outputs": [],
   "source": [
    "input_value = input(\"Please enter the puzzle text here, then press ENTER\")"
   ]
  },
  {
   "cell_type": "code",
   "execution_count": null,
   "metadata": {},
   "outputs": [],
   "source": [
    "# Having problems pasting multiple lines today... not sure why. Cheating a bit by splitting on the # character\n",
    "# that appears on every line\n",
    "input_words = input_value.split('#')\n",
    "input_words = [\"#\"+x for x in input_words][1:]\n",
    "input_words"
   ]
  },
  {
   "cell_type": "code",
   "execution_count": null,
   "metadata": {},
   "outputs": [],
   "source": [
    "sample_input = [\n",
    "    \"#1 @ 1,3: 4x4\",\n",
    "    \"#2 @ 3,1: 4x4\",\n",
    "    \"#3 @ 5,5: 2x2\"\n",
    "]"
   ]
  },
  {
   "cell_type": "code",
   "execution_count": null,
   "metadata": {},
   "outputs": [],
   "source": [
    "# Pick the list you want to work with\n",
    "use_sample_input = False\n",
    "if use_sample_input:\n",
    "    words = sample_input\n",
    "    dimensions = (10,10)\n",
    "else:\n",
    "    words = input_words\n",
    "    dimensions = (1000,1000)\n"
   ]
  },
  {
   "cell_type": "markdown",
   "metadata": {},
   "source": [
    "Today's problem is about figuring out how many \"claims\" to a 1000x1000 piece of fabric are overlapping. Each claim is provided in the puzzle input in the following format\n",
    "\n",
    "`#{ID} {x},{y} {w}x{h}`\n",
    "\n",
    "There is a handy format called Regular Expressions that are supported by most programming langagues. It allows you to define formats and sub-parts of a string that you can look for and extract. \n",
    "\n",
    "This is a very useful site for testing your regular expresions:\n",
    "\n",
    "https://regexr.com/\n",
    "\n",
    "In this case I'm going to create a format that matches and extracts the ID, x, y, w, h, and then return these in a dict object so they can easily be access later. "
   ]
  },
  {
   "cell_type": "code",
   "execution_count": null,
   "metadata": {},
   "outputs": [],
   "source": [
    "# We are going to use a regular expression to analyse the input\n",
    "import regex as re\n",
    "pattern = re.compile(\"^#(\\d+) @ (\\d+),(\\d+): (\\d+)x(\\d+)\")\n",
    "\n",
    "def parse_line(line):\n",
    "    matches = pattern.match(line)\n",
    "    return dict(id=int(matches[1]),x=int(matches[2]),y=int(matches[3]),\n",
    "                w=int(matches[4]),h=int(matches[5]),input=matches[0])\n",
    "\n",
    "claims = [parse_line(x) for x in words]\n",
    "claims[:5]"
   ]
  },
  {
   "cell_type": "markdown",
   "metadata": {},
   "source": [
    "There are several ways we could go about solving this problem, but treating the whole piece of fabric as a large matrix would allow us to use some of the mathematical tools we use quite often, in this example a library called numpy.\n",
    "\n",
    "http://www.numpy.org/\n",
    "\n",
    "Numpy is very powerful for working with objects such as arrays and matrices. \n",
    "\n",
    "The sample data matches that in the problem description. It may be helpful to run through with the sample data first as you can easily see what's happening in each step."
   ]
  },
  {
   "cell_type": "code",
   "execution_count": null,
   "metadata": {},
   "outputs": [],
   "source": [
    "import numpy as np # We would normally place imports the top of the document, but they work inline too\n",
    "\n",
    "# We can easily create arrays filled with zeros using numpy\n",
    "np.zeros(100)"
   ]
  },
  {
   "cell_type": "code",
   "execution_count": null,
   "metadata": {},
   "outputs": [],
   "source": [
    "# There are many ways of creating arrays\n",
    "np.arange(100)"
   ]
  },
  {
   "cell_type": "code",
   "execution_count": null,
   "metadata": {},
   "outputs": [],
   "source": [
    "# And we can reshape that array into a matrix of 10x10\n",
    "np.arange(100).reshape(10,10)"
   ]
  },
  {
   "cell_type": "code",
   "execution_count": null,
   "metadata": {},
   "outputs": [],
   "source": [
    "# Matrices can easily be sliced to select a subsection (we will use this below)\n",
    "# Notice how the starting slice is inclusive, but the end one is exclusive - just like in lists\n",
    "np.arange(100).reshape(10,10)[2:5,4:8] "
   ]
  },
  {
   "cell_type": "code",
   "execution_count": null,
   "metadata": {},
   "outputs": [],
   "source": [
    "# You can also do logical operations on matrices to get a new matrix filled with True and False\n",
    "np.arange(100).reshape(10,10) >= 55"
   ]
  },
  {
   "cell_type": "markdown",
   "metadata": {},
   "source": [
    "For this problem, we create a matrix full of zeros to represent the fabric"
   ]
  },
  {
   "cell_type": "code",
   "execution_count": null,
   "metadata": {},
   "outputs": [],
   "source": [
    "# Create a matrix to hold our results\n",
    "# We create a long list filled with zeros, and then use numpy to reshape it\n",
    "matrix = np.zeros(dimensions[0] * dimensions[1]).reshape(dimensions[0],dimensions[1])\n",
    "matrix"
   ]
  },
  {
   "cell_type": "markdown",
   "metadata": {},
   "source": [
    "We now loop over each claim, select that part of the fabric matrix, and increment all the values."
   ]
  },
  {
   "cell_type": "code",
   "execution_count": null,
   "metadata": {},
   "outputs": [],
   "source": [
    "# Loop over each claim \n",
    "for claim in claims:    \n",
    "    # Now create a slice of the main matrix and increment each cell\n",
    "    matrix[claim[\"x\"]:claim[\"x\"]+claim[\"w\"], claim[\"y\"]:claim[\"y\"]+claim[\"h\"]] += 1\n",
    "\n",
    "matrix"
   ]
  },
  {
   "cell_type": "code",
   "execution_count": null,
   "metadata": {},
   "outputs": [],
   "source": [
    "# We now select only cells with a count larger than 1, and count the True values\n",
    "# np.sum will treat False as zero and True as one, so we can simply sum to get the count\n",
    "np.sum((matrix>1))"
   ]
  },
  {
   "cell_type": "markdown",
   "metadata": {},
   "source": [
    "# Part 2\n",
    "\n",
    "In part 2 we have to look for claims that don't overlap any others. Luckily we set this up to be really easy. Using our large matrix, we can loop over each claim and see if the slice of the large matrix that represents the claim only has ones in it. If it does, then only that claim covers that slice. "
   ]
  },
  {
   "cell_type": "code",
   "execution_count": null,
   "metadata": {},
   "outputs": [],
   "source": [
    "for claim in claims:\n",
    "    # Create a slice having True if it contains a value larger other than one, or False otherwise\n",
    "    # Count these values\n",
    "    msum = np.sum(matrix[claim[\"x\"]:claim[\"x\"]+claim[\"w\"], claim[\"y\"]:claim[\"y\"]+claim[\"h\"]] > 1)\n",
    "    \n",
    "    # If the count is zero, then we only have ones (or zeros )\n",
    "    if msum == 0:\n",
    "        print(claim)\n",
    "    "
   ]
  },
  {
   "cell_type": "code",
   "execution_count": null,
   "metadata": {},
   "outputs": [],
   "source": []
  }
 ],
 "metadata": {
  "kernelspec": {
   "display_name": "Python 3",
   "language": "python",
   "name": "python3"
  },
  "language_info": {
   "codemirror_mode": {
    "name": "ipython",
    "version": 3
   },
   "file_extension": ".py",
   "mimetype": "text/x-python",
   "name": "python",
   "nbconvert_exporter": "python",
   "pygments_lexer": "ipython3",
   "version": "3.7.1"
  }
 },
 "nbformat": 4,
 "nbformat_minor": 2
}
