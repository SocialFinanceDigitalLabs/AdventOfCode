{
 "cells": [
  {
   "cell_type": "code",
   "execution_count": null,
   "metadata": {},
   "outputs": [],
   "source": [
    "import regex as re\n",
    "from tqdm import tqdm"
   ]
  },
  {
   "cell_type": "code",
   "execution_count": null,
   "metadata": {},
   "outputs": [],
   "source": [
    "data = \"\"\"\n",
    "initial state: #..#.#..##......###...###\n",
    "\n",
    "...## => #\n",
    "..#.. => #\n",
    ".#... => #\n",
    ".#.#. => #\n",
    ".#.## => #\n",
    ".##.. => #\n",
    ".#### => #\n",
    "#.#.# => #\n",
    "#.### => #\n",
    "##.#. => #\n",
    "##.## => #\n",
    "###.. => #\n",
    "###.# => #\n",
    "####. => #\n",
    "\"\"\".strip().splitlines()\n"
   ]
  },
  {
   "cell_type": "code",
   "execution_count": null,
   "metadata": {},
   "outputs": [],
   "source": [
    "# Make sure you create a file with the name below and save the real problem output there. \n",
    "# If you want to run just the sample data, skip this block\n",
    "with open(\"./12-input.txt\", \"r\") as FILE:\n",
    "    data = FILE.read().strip().splitlines()"
   ]
  },
  {
   "cell_type": "code",
   "execution_count": null,
   "metadata": {},
   "outputs": [],
   "source": [
    "pattern_initial = re.compile(\"initial state: ([\\#\\.]+)\")\n",
    "pattern_rule = re.compile(\"([\\#\\.]{5}) => ([\\#\\.])\")\n",
    "\n",
    "initial_state = pattern_initial.match(data[0])[1]\n",
    "rules = {}\n",
    "for rule_input in data[2:]:\n",
    "    match = pattern_rule.match(rule_input)\n",
    "    rules[match[1]] = match[2]\n",
    "\n",
    "# We always want a string with zero being the centre pot,\n",
    "# i.e. if the string is 20 long, then we want to add 19 empty\n",
    "# pots before so that pot zero is always in the middle\n",
    "initial_state = \".\" * (len(initial_state)-1) + initial_state\n",
    "\n",
    "display(initial_state)\n",
    "display(rules)"
   ]
  },
  {
   "cell_type": "code",
   "execution_count": null,
   "metadata": {},
   "outputs": [],
   "source": [
    "def apply_rules(state):\n",
    "    \"\"\"\n",
    "        Applies the rules to the given state\n",
    "    \"\"\"\n",
    "    # If there is a pot in any of the four 'end' pots, then we need to extend \n",
    "    # the state to ensure we have a full generation\n",
    "    if \"#\" in (state[0:2] + state[-3:-1]):\n",
    "        state =  \"..\" + state + \"..\"\n",
    "    \n",
    "    # To properly consider the 'end' pots, we also have to add empty pots\n",
    "    # but these are for evaluation only\n",
    "    full_state = \"..\" + state + \"..\"\n",
    "    result = []\n",
    "    for pot in range(0, len(state)):\n",
    "        # Assume empty pots either end\n",
    "        segment = full_state[pot:pot+5]\n",
    "        result.append(rules.get(segment,\".\"))\n",
    "        \n",
    "    return \"\".join(result)\n",
    "        \n",
    "apply_rules(initial_state)"
   ]
  },
  {
   "cell_type": "code",
   "execution_count": null,
   "metadata": {},
   "outputs": [],
   "source": [
    "state=initial_state\n",
    "print(state)\n",
    "for gen in range(0,20):\n",
    "    state = apply_rules(state)\n",
    "    print(state)"
   ]
  },
  {
   "cell_type": "code",
   "execution_count": null,
   "metadata": {},
   "outputs": [],
   "source": [
    "# We now score up the state\n",
    "def score_plants(state):\n",
    "    plant_sum = 0 \n",
    "    for ix,pot in enumerate(state):\n",
    "        pot_number = ix - int((len(state)-1)/2)\n",
    "        if pot == \"#\":\n",
    "            plant_sum += pot_number\n",
    "    return plant_sum\n",
    "\n",
    "score_plants(state)  "
   ]
  },
  {
   "cell_type": "markdown",
   "metadata": {},
   "source": [
    "# Part 2\n",
    "\n",
    "This is another optimisation problem. Running this for 50 billion generations would take... a while. \n",
    "\n",
    "Let's assume that since the question is framed like this, there will be a shortcut. Most obvious one, if you've ever programmed [game of life](https://en.wikipedia.org/wiki/Conway%27s_Game_of_Life) is the emergence of [stable patterns](https://en.wikipedia.org/wiki/Still_life_(cellular_automaton)).\n",
    "\n",
    "Let's see if we simply see if any emerging repetitions appear."
   ]
  },
  {
   "cell_type": "code",
   "execution_count": null,
   "metadata": {},
   "outputs": [],
   "source": [
    "state=initial_state\n",
    "\n",
    "# Let's check the first 10000 states to see if we have any\n",
    "# patterns emerging\n",
    "previous_states = set()\n",
    "for gen in tqdm(range(0,100000)):\n",
    "    state = apply_rules(state)\n",
    "    # Remove empty plants from the ends\n",
    "    plant_containing_state = state.strip(\".\")\n",
    "    if plant_containing_state in previous_states:\n",
    "        print(\"LOOP DETECTED IN GENERATION\", gen)\n",
    "        break\n",
    "    else:\n",
    "        previous_states.add(plant_containing_state)"
   ]
  },
  {
   "cell_type": "code",
   "execution_count": null,
   "metadata": {},
   "outputs": [],
   "source": [
    "# So it looks like we have similar states, \n",
    "# are they in subsequent generations?\n",
    "\n",
    "state=initial_state\n",
    "last_state = \"\"\n",
    "for gen in tqdm(range(0,100000)):\n",
    "    state = apply_rules(state)\n",
    "    # Remove empty plants from the ends\n",
    "    plant_containing_state = state.strip(\".\")\n",
    "    if plant_containing_state == last_state:\n",
    "        print(\"LOOP DETECTED IN GENERATION\", gen)\n",
    "        break\n",
    "    else:\n",
    "        last_state = plant_containing_state\n"
   ]
  },
  {
   "cell_type": "markdown",
   "metadata": {},
   "source": [
    "Perfect, in both the sample data, and my data, there are stable patterns emerging. Hopefully in yours as well.\n",
    "\n",
    "Let's assume the patterns are 'drifting', so we just need to understand the drift. \n",
    "\n"
   ]
  },
  {
   "cell_type": "code",
   "execution_count": null,
   "metadata": {},
   "outputs": [],
   "source": [
    "state=initial_state\n",
    "last_state = None\n",
    "last_full_state = None\n",
    "first_repeat_state = None\n",
    "first_repeat_state_gen = None\n",
    "for gen in tqdm(range(0,100000)):\n",
    "    state = apply_rules(state)\n",
    "    # Remove empty plants from the ends\n",
    "    plant_containing_state = state.strip(\".\")\n",
    "    if plant_containing_state == last_state:\n",
    "        first_repeat_state = state\n",
    "        first_repeat_state_gen = gen\n",
    "        print(\"LOOP DETECTED IN GENERATION\", first_repeat_state_gen)\n",
    "        break\n",
    "    else:\n",
    "        last_state = plant_containing_state\n",
    "        last_full_state = state\n",
    "\n",
    "display(last_full_state)\n",
    "display(first_repeat_state)\n",
    "\n",
    "# Calculate the positions of the first plant containing pots for each state\n",
    "state1_pos = last_full_state.index(\"#\") - int((len(last_full_state)-1)/2)\n",
    "state2_pos = first_repeat_state.index(\"#\") - int((len(first_repeat_state)-1)/2)\n",
    "drift = state2_pos - state1_pos\n",
    "\n",
    "print(\"The drift of the plant containing pattern is\", drift)\n",
    "\n",
    "\n"
   ]
  },
  {
   "cell_type": "code",
   "execution_count": null,
   "metadata": {},
   "outputs": [],
   "source": [
    "# We now have what we need to figure out where the plants are going to be after fifty billion (50000000000) generations\n",
    "plant_pattern = first_repeat_state.strip(\".\")\n",
    "plant_pattern_start = state2_pos + (50000000000*drift) - first_repeat_state_gen\n",
    "\n",
    "# Slightly different than before - this \n",
    "def score_plants_with_start_position(state, start_position):\n",
    "    plant_sum = 0 \n",
    "    for ix,pot in enumerate(state):\n",
    "        pot_number = start_position + ix\n",
    "        if pot == \"#\":\n",
    "            plant_sum += pot_number\n",
    "    return plant_sum\n",
    "\n",
    "# To test we score up the full 'first repeat state' and compare it with the 'forwarded score' of just the plant containing part\n",
    "# They should match\n",
    "print(\"Score for first repeat state\",score_plants(first_repeat_state))\n",
    "print(\"Score for repeat pattern at repeat generation\", score_plants_with_start_position(plant_pattern, state2_pos))\n",
    "\n",
    "# The previous generation should have been\n",
    "print(\"Score for original repeat state\",score_plants(last_full_state))\n",
    "print(\"Score for repeat pattern at previous generation\", score_plants_with_start_position(plant_pattern, state2_pos-drift))\n",
    "\n"
   ]
  },
  {
   "cell_type": "code",
   "execution_count": null,
   "metadata": {},
   "outputs": [],
   "source": [
    "# Let's test to make sure it works by playing forward 2500 generations\n",
    "test_generation = 2500\n",
    "state=initial_state\n",
    "for gen in range(0,test_generation):\n",
    "    state = apply_rules(state)\n",
    "score_plants(state)"
   ]
  },
  {
   "cell_type": "code",
   "execution_count": null,
   "metadata": {},
   "outputs": [],
   "source": [
    "# That should match our 'fast forwarded' pattern score\n",
    "target_generation = test_generation - first_repeat_state_gen\n",
    "target_position = state2_pos - 1 + target_generation * drift\n",
    "score_plants_with_start_position(plant_pattern, target_position)"
   ]
  },
  {
   "cell_type": "code",
   "execution_count": null,
   "metadata": {},
   "outputs": [],
   "source": [
    "# We can now calculate score at fifty billion generations\n",
    "target_generation = 50000000000 - first_repeat_state_gen\n",
    "target_position = state2_pos - 1 + target_generation * drift\n",
    "\n",
    "score_plants_with_start_position(plant_pattern, target_position)"
   ]
  },
  {
   "cell_type": "code",
   "execution_count": null,
   "metadata": {},
   "outputs": [],
   "source": []
  }
 ],
 "metadata": {
  "kernelspec": {
   "display_name": "Python 3",
   "language": "python",
   "name": "python3"
  },
  "language_info": {
   "codemirror_mode": {
    "name": "ipython",
    "version": 3
   },
   "file_extension": ".py",
   "mimetype": "text/x-python",
   "name": "python",
   "nbconvert_exporter": "python",
   "pygments_lexer": "ipython3",
   "version": "3.6.2"
  }
 },
 "nbformat": 4,
 "nbformat_minor": 2
}
