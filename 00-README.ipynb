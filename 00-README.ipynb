{
 "cells": [
  {
   "cell_type": "markdown",
   "metadata": {},
   "source": [
    "# Social Finance's Advent of Code\n",
    "\n",
    "Welcome to [Social Finance's](https://www.socialfinance.org.uk) attempts at the [Advent of Code](https://adventofcode.com/).\n",
    "\n",
    "Feel free to clone this repository and submit your solutions as PRs. We will discuss in the slack channel, or during lunch break in the kitchen.\n",
    "\n",
    "Happy Coding!"
   ]
  }
 ],
 "metadata": {
  "kernelspec": {
   "display_name": "Python 3",
   "language": "python",
   "name": "python3"
  },
  "language_info": {
   "codemirror_mode": {
    "name": "ipython",
    "version": 3
   },
   "file_extension": ".py",
   "mimetype": "text/x-python",
   "name": "python",
   "nbconvert_exporter": "python",
   "pygments_lexer": "ipython3",
   "version": "3.7.1"
  }
 },
 "nbformat": 4,
 "nbformat_minor": 2
}
