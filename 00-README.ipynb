{
 "cells": [
  {
   "cell_type": "markdown",
   "metadata": {},
   "source": [
    "# Social Finance's Advent of Code\n",
    "\n",
    "Welcome to [Social Finance's](https://www.socialfinance.org.uk) attempts at the [Advent of Code](https://adventofcode.com/).\n",
    "\n",
    "Feel free to [fork](https://help.github.com/articles/fork-a-repo/) this repository and submit your solutions as [pull requests](https://help.github.com/articles/creating-a-pull-request-from-a-fork/). We will discuss in the slack channel, or during lunch break in the kitchen.\n",
    "\n",
    "Happy Coding!\n",
    "\n",
    "\n",
    "## 2018 Proposed Solutions\n",
    "\n",
    "These are some examples of how the puzzles could be solved. These are not the only or most elegant solutions. They've been written for clarity and occasionally to show techniques or tricks that we may use at Social Finance.\n",
    "\n",
    "* December 1st\n",
    "  * [Kaj](./solutions/01-1-kws.ipynb)\n",
    "* December 2nd\n",
    "  * [Kaj](./solutions/02-1-kws.ipynb)\n",
    "* December 3rd \n",
    "  * [Céline](./solutions/Solutions%20by%20Celine/day3.ipynb)\n",
    "  * [Kaj](./solutions/03-1-kws.ipynb) - uses regular expresions, numpy and matrices\n",
    "* December 4th\n",
    "  * [Céline](./solutions/Solutions%20by%20Celine/day4.ipynb)\n",
    "  * [Kaj](./solutions/04-1-kws.ipynb) - uses pandas\n",
    "* December 5th\n",
    "  * [Céline](./solutions/Solutions%20by%20Celine/day5.ipynb)\n",
    "  * [Kaj](./solutions/05-1-kws.ipynb)\n",
    "* December 6th\n",
    "  * [Céline](./solutions/Solutions%20by%20Celine/day6.ipynb)\n",
    "  * [Kaj](./solutions/06-1-kws.ipynb)\n",
    "* December 7th\n",
    "  * [Kaj](./solutions/07-1-kws.ipynb)\n",
    "* December 8th\n",
    "  * [Kaj](./solutions/08-1-kws.ipynb)\n",
    "* December 9th\n",
    "  * [Kaj](./solutions/09-kws.ipynb)\n",
    "* December 10th\n",
    "  * [Kaj](./solutions/10-kws.ipynb)\n",
    "* December 11th\n",
    "  * [Kaj](./solutions/11-kws.ipynb)\n",
    "* December 12th\n",
    "  * [Kaj](./solutions/12-kws.ipynb)\n",
    "* December 13th\n",
    "  * [Kaj](./solutions/13-kws.ipynb)\n",
    "* December 14th\n",
    "  * [Kaj](./solutions/14-kws.ipynb)\n",
    "* December 15th\n",
    "* December 16th\n",
    "  * [Kaj](./solutions/16-kws.ipynb)\n",
    "\n"
   ]
  },
  {
   "cell_type": "code",
   "execution_count": null,
   "metadata": {
    "collapsed": true
   },
   "outputs": [],
   "source": []
  }
 ],
 "metadata": {
  "kernelspec": {
   "display_name": "Python 3",
   "language": "python",
   "name": "python3"
  },
  "language_info": {
   "codemirror_mode": {
    "name": "ipython",
    "version": 3
   },
   "file_extension": ".py",
   "mimetype": "text/x-python",
   "name": "python",
   "nbconvert_exporter": "python",
   "pygments_lexer": "ipython3",
   "version": "3.6.2"
  }
 },
 "nbformat": 4,
 "nbformat_minor": 2
}
